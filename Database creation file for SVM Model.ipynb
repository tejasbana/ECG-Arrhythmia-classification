{
 "cells": [
  {
   "cell_type": "code",
   "execution_count": 11,
   "metadata": {},
   "outputs": [],
   "source": [
    "import os\n",
    "coll=\"E:/Asad work 15th March/keras CNN practise/Arrhythmia ECG - Copy/Class1_Normal\""
   ]
  },
  {
   "cell_type": "code",
   "execution_count": 9,
   "metadata": {},
   "outputs": [],
   "source": [
    "j=1\n",
    "for i, filename in enumerate(os.listdir(coll)):\n",
    "    os.rename(\"E:/Asad work 15th March/keras CNN practise/Arrrythmia Databse/Class1_Normal/\" + filename, \"E:/Asad work 15th March/keras CNN practise/Arrrythmia Databse/renamed_arrhythmia/\" + \"ECG1.\"+str(j) + \".csv\")\n",
    "    j=j+1"
   ]
  },
  {
   "cell_type": "code",
   "execution_count": 5,
   "metadata": {},
   "outputs": [],
   "source": []
  },
  {
   "cell_type": "code",
   "execution_count": 6,
   "metadata": {},
   "outputs": [],
   "source": [
    "coll=\"E:/Asad work 15th March/keras CNN practise/Arrhythmia ECG - Copy/Class1_Normal\""
   ]
  },
  {
   "cell_type": "code",
   "execution_count": 7,
   "metadata": {},
   "outputs": [],
   "source": [
    "import pandas as pd"
   ]
  },
  {
   "cell_type": "code",
   "execution_count": 3,
   "metadata": {},
   "outputs": [],
   "source": [
    "import os\n",
    "import pandas as pd\n",
    "from scipy.signal import butter, lfilter\n",
    "from scipy.signal import find_peaks\n",
    "from scipy.signal import freqz\n",
    "from scipy.signal import find_peaks"
   ]
  },
  {
   "cell_type": "code",
   "execution_count": 41,
   "metadata": {},
   "outputs": [],
   "source": [
    "df=pd.read_csv(\"E:/Asad work 15th March/keras CNN practise/Arrhythmia ECG - Copy/Class1_Normal/samples.csv\")"
   ]
  },
  {
   "cell_type": "code",
   "execution_count": 2,
   "metadata": {},
   "outputs": [
    {
     "ename": "NameError",
     "evalue": "name 'df' is not defined",
     "output_type": "error",
     "traceback": [
      "\u001b[1;31m---------------------------------------------------------------------------\u001b[0m",
      "\u001b[1;31mNameError\u001b[0m                                 Traceback (most recent call last)",
      "\u001b[1;32m<ipython-input-2-3aed5f69835b>\u001b[0m in \u001b[0;36m<module>\u001b[1;34m\u001b[0m\n\u001b[1;32m----> 1\u001b[1;33m \u001b[0mdf\u001b[0m\u001b[1;33m.\u001b[0m\u001b[0mreset_index\u001b[0m\u001b[1;33m(\u001b[0m\u001b[0minplace\u001b[0m\u001b[1;33m=\u001b[0m\u001b[1;32mTrue\u001b[0m\u001b[1;33m)\u001b[0m\u001b[1;33m\u001b[0m\u001b[1;33m\u001b[0m\u001b[0m\n\u001b[0m",
      "\u001b[1;31mNameError\u001b[0m: name 'df' is not defined"
     ]
    }
   ],
   "source": [
    "df.reset_index(inplace=True)"
   ]
  },
  {
   "cell_type": "code",
   "execution_count": 42,
   "metadata": {},
   "outputs": [
    {
     "data": {
      "text/html": [
       "<div>\n",
       "<style scoped>\n",
       "    .dataframe tbody tr th:only-of-type {\n",
       "        vertical-align: middle;\n",
       "    }\n",
       "\n",
       "    .dataframe tbody tr th {\n",
       "        vertical-align: top;\n",
       "    }\n",
       "\n",
       "    .dataframe thead th {\n",
       "        text-align: right;\n",
       "    }\n",
       "</style>\n",
       "<table border=\"1\" class=\"dataframe\">\n",
       "  <thead>\n",
       "    <tr style=\"text-align: right;\">\n",
       "      <th></th>\n",
       "      <th>'Elapsed time'</th>\n",
       "      <th>'MLII'</th>\n",
       "      <th>'V5'</th>\n",
       "    </tr>\n",
       "  </thead>\n",
       "  <tbody>\n",
       "    <tr>\n",
       "      <th>0</th>\n",
       "      <td>'hh:mm:ss.mmm'</td>\n",
       "      <td>'mV'</td>\n",
       "      <td>'mV'</td>\n",
       "    </tr>\n",
       "    <tr>\n",
       "      <th>1</th>\n",
       "      <td>'0:00.000'</td>\n",
       "      <td>-0.145</td>\n",
       "      <td>-0.065</td>\n",
       "    </tr>\n",
       "    <tr>\n",
       "      <th>2</th>\n",
       "      <td>'0:00.003'</td>\n",
       "      <td>-0.145</td>\n",
       "      <td>-0.065</td>\n",
       "    </tr>\n",
       "    <tr>\n",
       "      <th>3</th>\n",
       "      <td>'0:00.006'</td>\n",
       "      <td>-0.145</td>\n",
       "      <td>-0.065</td>\n",
       "    </tr>\n",
       "    <tr>\n",
       "      <th>4</th>\n",
       "      <td>'0:00.008'</td>\n",
       "      <td>-0.145</td>\n",
       "      <td>-0.065</td>\n",
       "    </tr>\n",
       "  </tbody>\n",
       "</table>\n",
       "</div>"
      ],
      "text/plain": [
       "   'Elapsed time'  'MLII'    'V5'\n",
       "0  'hh:mm:ss.mmm'    'mV'    'mV'\n",
       "1      '0:00.000'  -0.145  -0.065\n",
       "2      '0:00.003'  -0.145  -0.065\n",
       "3      '0:00.006'  -0.145  -0.065\n",
       "4      '0:00.008'  -0.145  -0.065"
      ]
     },
     "execution_count": 42,
     "metadata": {},
     "output_type": "execute_result"
    }
   ],
   "source": [
    "df.head()"
   ]
  },
  {
   "cell_type": "code",
   "execution_count": 3,
   "metadata": {},
   "outputs": [],
   "source": [
    "df4=pd.DataFrame() "
   ]
  },
  {
   "cell_type": "code",
   "execution_count": 4,
   "metadata": {},
   "outputs": [],
   "source": [
    "df4['Lead2']=df.loc[1:]['\\'MLII\\'']"
   ]
  },
  {
   "cell_type": "code",
   "execution_count": 8,
   "metadata": {},
   "outputs": [
    {
     "data": {
      "text/html": [
       "<div>\n",
       "<style scoped>\n",
       "    .dataframe tbody tr th:only-of-type {\n",
       "        vertical-align: middle;\n",
       "    }\n",
       "\n",
       "    .dataframe tbody tr th {\n",
       "        vertical-align: top;\n",
       "    }\n",
       "\n",
       "    .dataframe thead th {\n",
       "        text-align: right;\n",
       "    }\n",
       "</style>\n",
       "<table border=\"1\" class=\"dataframe\">\n",
       "  <thead>\n",
       "    <tr style=\"text-align: right;\">\n",
       "      <th></th>\n",
       "      <th>Lead2</th>\n",
       "    </tr>\n",
       "  </thead>\n",
       "  <tbody>\n",
       "    <tr>\n",
       "      <th>1</th>\n",
       "      <td>-0.145</td>\n",
       "    </tr>\n",
       "    <tr>\n",
       "      <th>2</th>\n",
       "      <td>-0.145</td>\n",
       "    </tr>\n",
       "    <tr>\n",
       "      <th>3</th>\n",
       "      <td>-0.145</td>\n",
       "    </tr>\n",
       "    <tr>\n",
       "      <th>4</th>\n",
       "      <td>-0.145</td>\n",
       "    </tr>\n",
       "    <tr>\n",
       "      <th>5</th>\n",
       "      <td>-0.145</td>\n",
       "    </tr>\n",
       "    <tr>\n",
       "      <th>...</th>\n",
       "      <td>...</td>\n",
       "    </tr>\n",
       "    <tr>\n",
       "      <th>21596</th>\n",
       "      <td>-0.220</td>\n",
       "    </tr>\n",
       "    <tr>\n",
       "      <th>21597</th>\n",
       "      <td>-0.210</td>\n",
       "    </tr>\n",
       "    <tr>\n",
       "      <th>21598</th>\n",
       "      <td>-0.230</td>\n",
       "    </tr>\n",
       "    <tr>\n",
       "      <th>21599</th>\n",
       "      <td>-0.245</td>\n",
       "    </tr>\n",
       "    <tr>\n",
       "      <th>21600</th>\n",
       "      <td>-0.245</td>\n",
       "    </tr>\n",
       "  </tbody>\n",
       "</table>\n",
       "<p>21600 rows × 1 columns</p>\n",
       "</div>"
      ],
      "text/plain": [
       "        Lead2\n",
       "1      -0.145\n",
       "2      -0.145\n",
       "3      -0.145\n",
       "4      -0.145\n",
       "5      -0.145\n",
       "...       ...\n",
       "21596  -0.220\n",
       "21597  -0.210\n",
       "21598  -0.230\n",
       "21599  -0.245\n",
       "21600  -0.245\n",
       "\n",
       "[21600 rows x 1 columns]"
      ]
     },
     "execution_count": 8,
     "metadata": {},
     "output_type": "execute_result"
    }
   ],
   "source": [
    "df4"
   ]
  },
  {
   "cell_type": "code",
   "execution_count": 14,
   "metadata": {},
   "outputs": [],
   "source": [
    "y_sig=df4['Lead2']"
   ]
  },
  {
   "cell_type": "code",
   "execution_count": 19,
   "metadata": {},
   "outputs": [
    {
     "data": {
      "text/plain": [
       "1.05"
      ]
     },
     "execution_count": 19,
     "metadata": {},
     "output_type": "execute_result"
    }
   ],
   "source": [
    "float(max(y_sig))"
   ]
  },
  {
   "cell_type": "code",
   "execution_count": 21,
   "metadata": {},
   "outputs": [
    {
     "data": {
      "text/plain": [
       "1       -0.145\n",
       "2       -0.145\n",
       "3       -0.145\n",
       "4       -0.145\n",
       "5       -0.145\n",
       "         ...  \n",
       "21596   -0.220\n",
       "21597   -0.210\n",
       "21598   -0.230\n",
       "21599   -0.245\n",
       "21600   -0.245\n",
       "Name: Lead2, Length: 21600, dtype: float64"
      ]
     },
     "execution_count": 21,
     "metadata": {},
     "output_type": "execute_result"
    }
   ],
   "source": [
    "y_sig.astype(float)"
   ]
  },
  {
   "cell_type": "code",
   "execution_count": 22,
   "metadata": {},
   "outputs": [],
   "source": [
    "y_sig=y_sig.astype(float)/float(max(y_sig))"
   ]
  },
  {
   "cell_type": "code",
   "execution_count": 23,
   "metadata": {},
   "outputs": [
    {
     "data": {
      "text/plain": [
       "1       -0.138095\n",
       "2       -0.138095\n",
       "3       -0.138095\n",
       "4       -0.138095\n",
       "5       -0.138095\n",
       "           ...   \n",
       "21596   -0.209524\n",
       "21597   -0.200000\n",
       "21598   -0.219048\n",
       "21599   -0.233333\n",
       "21600   -0.233333\n",
       "Name: Lead2, Length: 21600, dtype: float64"
      ]
     },
     "execution_count": 23,
     "metadata": {},
     "output_type": "execute_result"
    }
   ],
   "source": [
    "y_sig"
   ]
  },
  {
   "cell_type": "code",
   "execution_count": 25,
   "metadata": {},
   "outputs": [],
   "source": [
    "fs=128\n",
    "lowcut=5/fs\n",
    "highcut=15/fs\n",
    "b, a = butter(3, [lowcut, highcut], btype=\"band\")\n",
    "y_sig = lfilter(b, a, y_sig)"
   ]
  },
  {
   "cell_type": "code",
   "execution_count": 11,
   "metadata": {},
   "outputs": [],
   "source": [
    "y_sig=df.loc[1:]['\\'MLII\\'']"
   ]
  },
  {
   "cell_type": "code",
   "execution_count": null,
   "metadata": {},
   "outputs": [],
   "source": []
  },
  {
   "cell_type": "code",
   "execution_count": null,
   "metadata": {},
   "outputs": [],
   "source": []
  },
  {
   "cell_type": "code",
   "execution_count": 4,
   "metadata": {},
   "outputs": [
    {
     "data": {
      "text/plain": [
       "'1.050'"
      ]
     },
     "execution_count": 4,
     "metadata": {},
     "output_type": "execute_result"
    }
   ],
   "source": [
    "max(y_sig)"
   ]
  },
  {
   "cell_type": "code",
   "execution_count": 6,
   "metadata": {},
   "outputs": [
    {
     "ename": "TypeError",
     "evalue": "unsupported operand type(s) for /: 'str' and 'str'",
     "output_type": "error",
     "traceback": [
      "\u001b[1;31m---------------------------------------------------------------------------\u001b[0m",
      "\u001b[1;31mTypeError\u001b[0m                                 Traceback (most recent call last)",
      "\u001b[1;32m~\\anaconda3\\lib\\site-packages\\pandas\\core\\ops\\array_ops.py\u001b[0m in \u001b[0;36mna_arithmetic_op\u001b[1;34m(left, right, op, str_rep)\u001b[0m\n\u001b[0;32m    148\u001b[0m     \u001b[1;32mtry\u001b[0m\u001b[1;33m:\u001b[0m\u001b[1;33m\u001b[0m\u001b[1;33m\u001b[0m\u001b[0m\n\u001b[1;32m--> 149\u001b[1;33m         \u001b[0mresult\u001b[0m \u001b[1;33m=\u001b[0m \u001b[0mexpressions\u001b[0m\u001b[1;33m.\u001b[0m\u001b[0mevaluate\u001b[0m\u001b[1;33m(\u001b[0m\u001b[0mop\u001b[0m\u001b[1;33m,\u001b[0m \u001b[0mstr_rep\u001b[0m\u001b[1;33m,\u001b[0m \u001b[0mleft\u001b[0m\u001b[1;33m,\u001b[0m \u001b[0mright\u001b[0m\u001b[1;33m)\u001b[0m\u001b[1;33m\u001b[0m\u001b[1;33m\u001b[0m\u001b[0m\n\u001b[0m\u001b[0;32m    150\u001b[0m     \u001b[1;32mexcept\u001b[0m \u001b[0mTypeError\u001b[0m\u001b[1;33m:\u001b[0m\u001b[1;33m\u001b[0m\u001b[1;33m\u001b[0m\u001b[0m\n",
      "\u001b[1;32m~\\anaconda3\\lib\\site-packages\\pandas\\core\\computation\\expressions.py\u001b[0m in \u001b[0;36mevaluate\u001b[1;34m(op, op_str, a, b, use_numexpr)\u001b[0m\n\u001b[0;32m    207\u001b[0m     \u001b[1;32mif\u001b[0m \u001b[0muse_numexpr\u001b[0m\u001b[1;33m:\u001b[0m\u001b[1;33m\u001b[0m\u001b[1;33m\u001b[0m\u001b[0m\n\u001b[1;32m--> 208\u001b[1;33m         \u001b[1;32mreturn\u001b[0m \u001b[0m_evaluate\u001b[0m\u001b[1;33m(\u001b[0m\u001b[0mop\u001b[0m\u001b[1;33m,\u001b[0m \u001b[0mop_str\u001b[0m\u001b[1;33m,\u001b[0m \u001b[0ma\u001b[0m\u001b[1;33m,\u001b[0m \u001b[0mb\u001b[0m\u001b[1;33m)\u001b[0m\u001b[1;33m\u001b[0m\u001b[1;33m\u001b[0m\u001b[0m\n\u001b[0m\u001b[0;32m    209\u001b[0m     \u001b[1;32mreturn\u001b[0m \u001b[0m_evaluate_standard\u001b[0m\u001b[1;33m(\u001b[0m\u001b[0mop\u001b[0m\u001b[1;33m,\u001b[0m \u001b[0mop_str\u001b[0m\u001b[1;33m,\u001b[0m \u001b[0ma\u001b[0m\u001b[1;33m,\u001b[0m \u001b[0mb\u001b[0m\u001b[1;33m)\u001b[0m\u001b[1;33m\u001b[0m\u001b[1;33m\u001b[0m\u001b[0m\n",
      "\u001b[1;32m~\\anaconda3\\lib\\site-packages\\pandas\\core\\computation\\expressions.py\u001b[0m in \u001b[0;36m_evaluate_numexpr\u001b[1;34m(op, op_str, a, b)\u001b[0m\n\u001b[0;32m    120\u001b[0m     \u001b[1;32mif\u001b[0m \u001b[0mresult\u001b[0m \u001b[1;32mis\u001b[0m \u001b[1;32mNone\u001b[0m\u001b[1;33m:\u001b[0m\u001b[1;33m\u001b[0m\u001b[1;33m\u001b[0m\u001b[0m\n\u001b[1;32m--> 121\u001b[1;33m         \u001b[0mresult\u001b[0m \u001b[1;33m=\u001b[0m \u001b[0m_evaluate_standard\u001b[0m\u001b[1;33m(\u001b[0m\u001b[0mop\u001b[0m\u001b[1;33m,\u001b[0m \u001b[0mop_str\u001b[0m\u001b[1;33m,\u001b[0m \u001b[0ma\u001b[0m\u001b[1;33m,\u001b[0m \u001b[0mb\u001b[0m\u001b[1;33m)\u001b[0m\u001b[1;33m\u001b[0m\u001b[1;33m\u001b[0m\u001b[0m\n\u001b[0m\u001b[0;32m    122\u001b[0m \u001b[1;33m\u001b[0m\u001b[0m\n",
      "\u001b[1;32m~\\anaconda3\\lib\\site-packages\\pandas\\core\\computation\\expressions.py\u001b[0m in \u001b[0;36m_evaluate_standard\u001b[1;34m(op, op_str, a, b)\u001b[0m\n\u001b[0;32m     69\u001b[0m     \u001b[1;32mwith\u001b[0m \u001b[0mnp\u001b[0m\u001b[1;33m.\u001b[0m\u001b[0merrstate\u001b[0m\u001b[1;33m(\u001b[0m\u001b[0mall\u001b[0m\u001b[1;33m=\u001b[0m\u001b[1;34m\"ignore\"\u001b[0m\u001b[1;33m)\u001b[0m\u001b[1;33m:\u001b[0m\u001b[1;33m\u001b[0m\u001b[1;33m\u001b[0m\u001b[0m\n\u001b[1;32m---> 70\u001b[1;33m         \u001b[1;32mreturn\u001b[0m \u001b[0mop\u001b[0m\u001b[1;33m(\u001b[0m\u001b[0ma\u001b[0m\u001b[1;33m,\u001b[0m \u001b[0mb\u001b[0m\u001b[1;33m)\u001b[0m\u001b[1;33m\u001b[0m\u001b[1;33m\u001b[0m\u001b[0m\n\u001b[0m\u001b[0;32m     71\u001b[0m \u001b[1;33m\u001b[0m\u001b[0m\n",
      "\u001b[1;31mTypeError\u001b[0m: unsupported operand type(s) for /: 'str' and 'str'",
      "\nDuring handling of the above exception, another exception occurred:\n",
      "\u001b[1;31mTypeError\u001b[0m                                 Traceback (most recent call last)",
      "\u001b[1;32m<ipython-input-6-e942f0baadb9>\u001b[0m in \u001b[0;36m<module>\u001b[1;34m\u001b[0m\n\u001b[1;32m----> 1\u001b[1;33m \u001b[0mdf\u001b[0m\u001b[1;33m.\u001b[0m\u001b[0mloc\u001b[0m\u001b[1;33m[\u001b[0m\u001b[1;36m1\u001b[0m\u001b[1;33m:\u001b[0m\u001b[1;33m]\u001b[0m\u001b[1;33m[\u001b[0m\u001b[1;34m'\\'MLII\\''\u001b[0m\u001b[1;33m]\u001b[0m\u001b[1;33m/\u001b[0m\u001b[0mmax\u001b[0m\u001b[1;33m(\u001b[0m\u001b[0mdf\u001b[0m\u001b[1;33m.\u001b[0m\u001b[0mloc\u001b[0m\u001b[1;33m[\u001b[0m\u001b[1;36m1\u001b[0m\u001b[1;33m:\u001b[0m\u001b[1;33m]\u001b[0m\u001b[1;33m[\u001b[0m\u001b[1;34m'\\'MLII\\''\u001b[0m\u001b[1;33m]\u001b[0m\u001b[1;33m)\u001b[0m\u001b[1;33m\u001b[0m\u001b[1;33m\u001b[0m\u001b[0m\n\u001b[0m",
      "\u001b[1;32m~\\anaconda3\\lib\\site-packages\\pandas\\core\\ops\\common.py\u001b[0m in \u001b[0;36mnew_method\u001b[1;34m(self, other)\u001b[0m\n\u001b[0;32m     62\u001b[0m         \u001b[0mother\u001b[0m \u001b[1;33m=\u001b[0m \u001b[0mitem_from_zerodim\u001b[0m\u001b[1;33m(\u001b[0m\u001b[0mother\u001b[0m\u001b[1;33m)\u001b[0m\u001b[1;33m\u001b[0m\u001b[1;33m\u001b[0m\u001b[0m\n\u001b[0;32m     63\u001b[0m \u001b[1;33m\u001b[0m\u001b[0m\n\u001b[1;32m---> 64\u001b[1;33m         \u001b[1;32mreturn\u001b[0m \u001b[0mmethod\u001b[0m\u001b[1;33m(\u001b[0m\u001b[0mself\u001b[0m\u001b[1;33m,\u001b[0m \u001b[0mother\u001b[0m\u001b[1;33m)\u001b[0m\u001b[1;33m\u001b[0m\u001b[1;33m\u001b[0m\u001b[0m\n\u001b[0m\u001b[0;32m     65\u001b[0m \u001b[1;33m\u001b[0m\u001b[0m\n\u001b[0;32m     66\u001b[0m     \u001b[1;32mreturn\u001b[0m \u001b[0mnew_method\u001b[0m\u001b[1;33m\u001b[0m\u001b[1;33m\u001b[0m\u001b[0m\n",
      "\u001b[1;32m~\\anaconda3\\lib\\site-packages\\pandas\\core\\ops\\__init__.py\u001b[0m in \u001b[0;36mwrapper\u001b[1;34m(left, right)\u001b[0m\n\u001b[0;32m    498\u001b[0m         \u001b[0mlvalues\u001b[0m \u001b[1;33m=\u001b[0m \u001b[0mextract_array\u001b[0m\u001b[1;33m(\u001b[0m\u001b[0mleft\u001b[0m\u001b[1;33m,\u001b[0m \u001b[0mextract_numpy\u001b[0m\u001b[1;33m=\u001b[0m\u001b[1;32mTrue\u001b[0m\u001b[1;33m)\u001b[0m\u001b[1;33m\u001b[0m\u001b[1;33m\u001b[0m\u001b[0m\n\u001b[0;32m    499\u001b[0m         \u001b[0mrvalues\u001b[0m \u001b[1;33m=\u001b[0m \u001b[0mextract_array\u001b[0m\u001b[1;33m(\u001b[0m\u001b[0mright\u001b[0m\u001b[1;33m,\u001b[0m \u001b[0mextract_numpy\u001b[0m\u001b[1;33m=\u001b[0m\u001b[1;32mTrue\u001b[0m\u001b[1;33m)\u001b[0m\u001b[1;33m\u001b[0m\u001b[1;33m\u001b[0m\u001b[0m\n\u001b[1;32m--> 500\u001b[1;33m         \u001b[0mresult\u001b[0m \u001b[1;33m=\u001b[0m \u001b[0marithmetic_op\u001b[0m\u001b[1;33m(\u001b[0m\u001b[0mlvalues\u001b[0m\u001b[1;33m,\u001b[0m \u001b[0mrvalues\u001b[0m\u001b[1;33m,\u001b[0m \u001b[0mop\u001b[0m\u001b[1;33m,\u001b[0m \u001b[0mstr_rep\u001b[0m\u001b[1;33m)\u001b[0m\u001b[1;33m\u001b[0m\u001b[1;33m\u001b[0m\u001b[0m\n\u001b[0m\u001b[0;32m    501\u001b[0m \u001b[1;33m\u001b[0m\u001b[0m\n\u001b[0;32m    502\u001b[0m         \u001b[1;32mreturn\u001b[0m \u001b[0m_construct_result\u001b[0m\u001b[1;33m(\u001b[0m\u001b[0mleft\u001b[0m\u001b[1;33m,\u001b[0m \u001b[0mresult\u001b[0m\u001b[1;33m,\u001b[0m \u001b[0mindex\u001b[0m\u001b[1;33m=\u001b[0m\u001b[0mleft\u001b[0m\u001b[1;33m.\u001b[0m\u001b[0mindex\u001b[0m\u001b[1;33m,\u001b[0m \u001b[0mname\u001b[0m\u001b[1;33m=\u001b[0m\u001b[0mres_name\u001b[0m\u001b[1;33m)\u001b[0m\u001b[1;33m\u001b[0m\u001b[1;33m\u001b[0m\u001b[0m\n",
      "\u001b[1;32m~\\anaconda3\\lib\\site-packages\\pandas\\core\\ops\\array_ops.py\u001b[0m in \u001b[0;36marithmetic_op\u001b[1;34m(left, right, op, str_rep)\u001b[0m\n\u001b[0;32m    195\u001b[0m     \u001b[1;32melse\u001b[0m\u001b[1;33m:\u001b[0m\u001b[1;33m\u001b[0m\u001b[1;33m\u001b[0m\u001b[0m\n\u001b[0;32m    196\u001b[0m         \u001b[1;32mwith\u001b[0m \u001b[0mnp\u001b[0m\u001b[1;33m.\u001b[0m\u001b[0merrstate\u001b[0m\u001b[1;33m(\u001b[0m\u001b[0mall\u001b[0m\u001b[1;33m=\u001b[0m\u001b[1;34m\"ignore\"\u001b[0m\u001b[1;33m)\u001b[0m\u001b[1;33m:\u001b[0m\u001b[1;33m\u001b[0m\u001b[1;33m\u001b[0m\u001b[0m\n\u001b[1;32m--> 197\u001b[1;33m             \u001b[0mres_values\u001b[0m \u001b[1;33m=\u001b[0m \u001b[0mna_arithmetic_op\u001b[0m\u001b[1;33m(\u001b[0m\u001b[0mlvalues\u001b[0m\u001b[1;33m,\u001b[0m \u001b[0mrvalues\u001b[0m\u001b[1;33m,\u001b[0m \u001b[0mop\u001b[0m\u001b[1;33m,\u001b[0m \u001b[0mstr_rep\u001b[0m\u001b[1;33m)\u001b[0m\u001b[1;33m\u001b[0m\u001b[1;33m\u001b[0m\u001b[0m\n\u001b[0m\u001b[0;32m    198\u001b[0m \u001b[1;33m\u001b[0m\u001b[0m\n\u001b[0;32m    199\u001b[0m     \u001b[1;32mreturn\u001b[0m \u001b[0mres_values\u001b[0m\u001b[1;33m\u001b[0m\u001b[1;33m\u001b[0m\u001b[0m\n",
      "\u001b[1;32m~\\anaconda3\\lib\\site-packages\\pandas\\core\\ops\\array_ops.py\u001b[0m in \u001b[0;36mna_arithmetic_op\u001b[1;34m(left, right, op, str_rep)\u001b[0m\n\u001b[0;32m    149\u001b[0m         \u001b[0mresult\u001b[0m \u001b[1;33m=\u001b[0m \u001b[0mexpressions\u001b[0m\u001b[1;33m.\u001b[0m\u001b[0mevaluate\u001b[0m\u001b[1;33m(\u001b[0m\u001b[0mop\u001b[0m\u001b[1;33m,\u001b[0m \u001b[0mstr_rep\u001b[0m\u001b[1;33m,\u001b[0m \u001b[0mleft\u001b[0m\u001b[1;33m,\u001b[0m \u001b[0mright\u001b[0m\u001b[1;33m)\u001b[0m\u001b[1;33m\u001b[0m\u001b[1;33m\u001b[0m\u001b[0m\n\u001b[0;32m    150\u001b[0m     \u001b[1;32mexcept\u001b[0m \u001b[0mTypeError\u001b[0m\u001b[1;33m:\u001b[0m\u001b[1;33m\u001b[0m\u001b[1;33m\u001b[0m\u001b[0m\n\u001b[1;32m--> 151\u001b[1;33m         \u001b[0mresult\u001b[0m \u001b[1;33m=\u001b[0m \u001b[0mmasked_arith_op\u001b[0m\u001b[1;33m(\u001b[0m\u001b[0mleft\u001b[0m\u001b[1;33m,\u001b[0m \u001b[0mright\u001b[0m\u001b[1;33m,\u001b[0m \u001b[0mop\u001b[0m\u001b[1;33m)\u001b[0m\u001b[1;33m\u001b[0m\u001b[1;33m\u001b[0m\u001b[0m\n\u001b[0m\u001b[0;32m    152\u001b[0m \u001b[1;33m\u001b[0m\u001b[0m\n\u001b[0;32m    153\u001b[0m     \u001b[1;32mreturn\u001b[0m \u001b[0mmissing\u001b[0m\u001b[1;33m.\u001b[0m\u001b[0mdispatch_fill_zeros\u001b[0m\u001b[1;33m(\u001b[0m\u001b[0mop\u001b[0m\u001b[1;33m,\u001b[0m \u001b[0mleft\u001b[0m\u001b[1;33m,\u001b[0m \u001b[0mright\u001b[0m\u001b[1;33m,\u001b[0m \u001b[0mresult\u001b[0m\u001b[1;33m)\u001b[0m\u001b[1;33m\u001b[0m\u001b[1;33m\u001b[0m\u001b[0m\n",
      "\u001b[1;32m~\\anaconda3\\lib\\site-packages\\pandas\\core\\ops\\array_ops.py\u001b[0m in \u001b[0;36mmasked_arith_op\u001b[1;34m(x, y, op)\u001b[0m\n\u001b[0;32m    110\u001b[0m         \u001b[1;32mif\u001b[0m \u001b[0mmask\u001b[0m\u001b[1;33m.\u001b[0m\u001b[0many\u001b[0m\u001b[1;33m(\u001b[0m\u001b[1;33m)\u001b[0m\u001b[1;33m:\u001b[0m\u001b[1;33m\u001b[0m\u001b[1;33m\u001b[0m\u001b[0m\n\u001b[0;32m    111\u001b[0m             \u001b[1;32mwith\u001b[0m \u001b[0mnp\u001b[0m\u001b[1;33m.\u001b[0m\u001b[0merrstate\u001b[0m\u001b[1;33m(\u001b[0m\u001b[0mall\u001b[0m\u001b[1;33m=\u001b[0m\u001b[1;34m\"ignore\"\u001b[0m\u001b[1;33m)\u001b[0m\u001b[1;33m:\u001b[0m\u001b[1;33m\u001b[0m\u001b[1;33m\u001b[0m\u001b[0m\n\u001b[1;32m--> 112\u001b[1;33m                 \u001b[0mresult\u001b[0m\u001b[1;33m[\u001b[0m\u001b[0mmask\u001b[0m\u001b[1;33m]\u001b[0m \u001b[1;33m=\u001b[0m \u001b[0mop\u001b[0m\u001b[1;33m(\u001b[0m\u001b[0mxrav\u001b[0m\u001b[1;33m[\u001b[0m\u001b[0mmask\u001b[0m\u001b[1;33m]\u001b[0m\u001b[1;33m,\u001b[0m \u001b[0my\u001b[0m\u001b[1;33m)\u001b[0m\u001b[1;33m\u001b[0m\u001b[1;33m\u001b[0m\u001b[0m\n\u001b[0m\u001b[0;32m    113\u001b[0m \u001b[1;33m\u001b[0m\u001b[0m\n\u001b[0;32m    114\u001b[0m     \u001b[0mresult\u001b[0m\u001b[1;33m,\u001b[0m \u001b[0m_\u001b[0m \u001b[1;33m=\u001b[0m \u001b[0mmaybe_upcast_putmask\u001b[0m\u001b[1;33m(\u001b[0m\u001b[0mresult\u001b[0m\u001b[1;33m,\u001b[0m \u001b[1;33m~\u001b[0m\u001b[0mmask\u001b[0m\u001b[1;33m,\u001b[0m \u001b[0mnp\u001b[0m\u001b[1;33m.\u001b[0m\u001b[0mnan\u001b[0m\u001b[1;33m)\u001b[0m\u001b[1;33m\u001b[0m\u001b[1;33m\u001b[0m\u001b[0m\n",
      "\u001b[1;31mTypeError\u001b[0m: unsupported operand type(s) for /: 'str' and 'str'"
     ]
    }
   ],
   "source": [
    "df.loc[1:]['\\'MLII\\'']/max(df.loc[1:]['\\'MLII\\''])"
   ]
  },
  {
   "cell_type": "code",
   "execution_count": 30,
   "metadata": {},
   "outputs": [
    {
     "ename": "TypeError",
     "evalue": "can't multiply sequence by non-int of type 'float'",
     "output_type": "error",
     "traceback": [
      "\u001b[1;31m---------------------------------------------------------------------------\u001b[0m",
      "\u001b[1;31mTypeError\u001b[0m                                 Traceback (most recent call last)",
      "\u001b[1;32m<ipython-input-30-77a76030044e>\u001b[0m in \u001b[0;36m<module>\u001b[1;34m\u001b[0m\n\u001b[0;32m      5\u001b[0m \u001b[0mdf1\u001b[0m\u001b[1;33m[\u001b[0m\u001b[1;34m'Lead2'\u001b[0m\u001b[1;33m]\u001b[0m\u001b[1;33m=\u001b[0m\u001b[0my_sig\u001b[0m\u001b[1;33m.\u001b[0m\u001b[0mloc\u001b[0m\u001b[1;33m[\u001b[0m\u001b[1;36m1\u001b[0m\u001b[1;33m:\u001b[0m\u001b[1;33m]\u001b[0m\u001b[1;33m[\u001b[0m\u001b[1;34m'\\'MLII\\''\u001b[0m\u001b[1;33m]\u001b[0m\u001b[1;33m\u001b[0m\u001b[1;33m\u001b[0m\u001b[0m\n\u001b[0;32m      6\u001b[0m \u001b[0mb\u001b[0m\u001b[1;33m,\u001b[0m \u001b[0ma\u001b[0m \u001b[1;33m=\u001b[0m \u001b[0mbutter\u001b[0m\u001b[1;33m(\u001b[0m\u001b[1;36m3\u001b[0m\u001b[1;33m,\u001b[0m \u001b[1;33m[\u001b[0m\u001b[0mlowcut\u001b[0m\u001b[1;33m,\u001b[0m \u001b[0mhighcut\u001b[0m\u001b[1;33m]\u001b[0m\u001b[1;33m,\u001b[0m \u001b[0mbtype\u001b[0m\u001b[1;33m=\u001b[0m\u001b[1;34m\"band\"\u001b[0m\u001b[1;33m)\u001b[0m\u001b[1;33m\u001b[0m\u001b[1;33m\u001b[0m\u001b[0m\n\u001b[1;32m----> 7\u001b[1;33m \u001b[0my_sig\u001b[0m \u001b[1;33m=\u001b[0m \u001b[0mlfilter\u001b[0m\u001b[1;33m(\u001b[0m\u001b[0mb\u001b[0m\u001b[1;33m,\u001b[0m \u001b[0ma\u001b[0m\u001b[1;33m,\u001b[0m \u001b[0mdf1\u001b[0m\u001b[1;33m)\u001b[0m\u001b[1;33m\u001b[0m\u001b[1;33m\u001b[0m\u001b[0m\n\u001b[0m",
      "\u001b[1;32m~\\anaconda3\\lib\\site-packages\\scipy\\signal\\signaltools.py\u001b[0m in \u001b[0;36mlfilter\u001b[1;34m(b, a, x, axis, zi)\u001b[0m\n\u001b[0;32m   1881\u001b[0m     \u001b[1;32melse\u001b[0m\u001b[1;33m:\u001b[0m\u001b[1;33m\u001b[0m\u001b[1;33m\u001b[0m\u001b[0m\n\u001b[0;32m   1882\u001b[0m         \u001b[1;32mif\u001b[0m \u001b[0mzi\u001b[0m \u001b[1;32mis\u001b[0m \u001b[1;32mNone\u001b[0m\u001b[1;33m:\u001b[0m\u001b[1;33m\u001b[0m\u001b[1;33m\u001b[0m\u001b[0m\n\u001b[1;32m-> 1883\u001b[1;33m             \u001b[1;32mreturn\u001b[0m \u001b[0msigtools\u001b[0m\u001b[1;33m.\u001b[0m\u001b[0m_linear_filter\u001b[0m\u001b[1;33m(\u001b[0m\u001b[0mb\u001b[0m\u001b[1;33m,\u001b[0m \u001b[0ma\u001b[0m\u001b[1;33m,\u001b[0m \u001b[0mx\u001b[0m\u001b[1;33m,\u001b[0m \u001b[0maxis\u001b[0m\u001b[1;33m)\u001b[0m\u001b[1;33m\u001b[0m\u001b[1;33m\u001b[0m\u001b[0m\n\u001b[0m\u001b[0;32m   1884\u001b[0m         \u001b[1;32melse\u001b[0m\u001b[1;33m:\u001b[0m\u001b[1;33m\u001b[0m\u001b[1;33m\u001b[0m\u001b[0m\n\u001b[0;32m   1885\u001b[0m             \u001b[1;32mreturn\u001b[0m \u001b[0msigtools\u001b[0m\u001b[1;33m.\u001b[0m\u001b[0m_linear_filter\u001b[0m\u001b[1;33m(\u001b[0m\u001b[0mb\u001b[0m\u001b[1;33m,\u001b[0m \u001b[0ma\u001b[0m\u001b[1;33m,\u001b[0m \u001b[0mx\u001b[0m\u001b[1;33m,\u001b[0m \u001b[0maxis\u001b[0m\u001b[1;33m,\u001b[0m \u001b[0mzi\u001b[0m\u001b[1;33m)\u001b[0m\u001b[1;33m\u001b[0m\u001b[1;33m\u001b[0m\u001b[0m\n",
      "\u001b[1;31mTypeError\u001b[0m: can't multiply sequence by non-int of type 'float'"
     ]
    }
   ],
   "source": [
    "y_sig=pd.read_csv(\"E:/Asad work 15th March/keras CNN practise/Arrhythmia ECG - Copy/Class1_Normal/samples.csv\")\n",
    "lowcut = 5/fs\n",
    "highcut = 15/fs\n",
    "df1=pd.DataFrame()\n",
    "df1['Lead2']=y_sig.loc[1:]['\\'MLII\\'']\n",
    "b, a = butter(3, [lowcut, highcut], btype=\"band\")\n",
    "y_sig = lfilter(b, a, df1)"
   ]
  },
  {
   "cell_type": "code",
   "execution_count": null,
   "metadata": {},
   "outputs": [],
   "source": []
  },
  {
   "cell_type": "code",
   "execution_count": null,
   "metadata": {},
   "outputs": [],
   "source": []
  },
  {
   "cell_type": "code",
   "execution_count": 27,
   "metadata": {},
   "outputs": [
    {
     "name": "stdout",
     "output_type": "stream",
     "text": [
      "E:/Asad work 15th March/keras CNN practise/Arrhythmia ECG - Copy/Class1_Normal\\samples (1).csv\n",
      "1        -0.445\n",
      "2        -0.445\n",
      "3        -0.445\n",
      "4        -0.445\n",
      "5        -0.445\n",
      "          ...  \n",
      "21596    -0.220\n",
      "21597    -0.255\n",
      "21598    -0.275\n",
      "21599    -0.300\n",
      "21600    -0.300\n",
      "Name: Lead2, Length: 21600, dtype: object\n",
      "1.965\n",
      "    Lead2\n",
      "1  -0.445\n",
      "2  -0.445\n",
      "3  -0.445\n",
      "4  -0.445\n",
      "5  -0.445\n"
     ]
    },
    {
     "ename": "TypeError",
     "evalue": "can't multiply sequence by non-int of type 'float'",
     "output_type": "error",
     "traceback": [
      "\u001b[1;31m---------------------------------------------------------------------------\u001b[0m",
      "\u001b[1;31mTypeError\u001b[0m                                 Traceback (most recent call last)",
      "\u001b[1;32m<ipython-input-27-15632e0bc654>\u001b[0m in \u001b[0;36m<module>\u001b[1;34m\u001b[0m\n\u001b[0;32m     17\u001b[0m     \u001b[0mprint\u001b[0m\u001b[1;33m(\u001b[0m\u001b[0mdf1\u001b[0m\u001b[1;33m.\u001b[0m\u001b[0mhead\u001b[0m\u001b[1;33m(\u001b[0m\u001b[1;33m)\u001b[0m\u001b[1;33m)\u001b[0m\u001b[1;33m\u001b[0m\u001b[1;33m\u001b[0m\u001b[0m\n\u001b[0;32m     18\u001b[0m     \u001b[0mb\u001b[0m\u001b[1;33m,\u001b[0m \u001b[0ma\u001b[0m \u001b[1;33m=\u001b[0m \u001b[0mbutter\u001b[0m\u001b[1;33m(\u001b[0m\u001b[1;36m3\u001b[0m\u001b[1;33m,\u001b[0m \u001b[1;33m[\u001b[0m\u001b[0mlowcut\u001b[0m\u001b[1;33m,\u001b[0m \u001b[0mhighcut\u001b[0m\u001b[1;33m]\u001b[0m\u001b[1;33m,\u001b[0m \u001b[0mbtype\u001b[0m\u001b[1;33m=\u001b[0m\u001b[1;34m\"band\"\u001b[0m\u001b[1;33m)\u001b[0m\u001b[1;33m\u001b[0m\u001b[1;33m\u001b[0m\u001b[0m\n\u001b[1;32m---> 19\u001b[1;33m     \u001b[0my_sig\u001b[0m \u001b[1;33m=\u001b[0m \u001b[0mlfilter\u001b[0m\u001b[1;33m(\u001b[0m\u001b[0mb\u001b[0m\u001b[1;33m,\u001b[0m \u001b[0ma\u001b[0m\u001b[1;33m,\u001b[0m \u001b[0mdf1\u001b[0m\u001b[1;33m)\u001b[0m\u001b[1;33m\u001b[0m\u001b[1;33m\u001b[0m\u001b[0m\n\u001b[0m\u001b[0;32m     20\u001b[0m     \u001b[0mprint\u001b[0m\u001b[1;33m(\u001b[0m\u001b[1;34m\"Filter\"\u001b[0m\u001b[1;33m)\u001b[0m\u001b[1;33m\u001b[0m\u001b[1;33m\u001b[0m\u001b[0m\n\u001b[0;32m     21\u001b[0m     \u001b[0mmaxim\u001b[0m\u001b[1;33m=\u001b[0m\u001b[0mmax\u001b[0m\u001b[1;33m(\u001b[0m\u001b[0mdf1\u001b[0m\u001b[1;33m[\u001b[0m\u001b[1;34m'Lead2'\u001b[0m\u001b[1;33m]\u001b[0m\u001b[1;33m)\u001b[0m\u001b[1;33m\u001b[0m\u001b[1;33m\u001b[0m\u001b[0m\n",
      "\u001b[1;32m~\\anaconda3\\lib\\site-packages\\scipy\\signal\\signaltools.py\u001b[0m in \u001b[0;36mlfilter\u001b[1;34m(b, a, x, axis, zi)\u001b[0m\n\u001b[0;32m   1881\u001b[0m     \u001b[1;32melse\u001b[0m\u001b[1;33m:\u001b[0m\u001b[1;33m\u001b[0m\u001b[1;33m\u001b[0m\u001b[0m\n\u001b[0;32m   1882\u001b[0m         \u001b[1;32mif\u001b[0m \u001b[0mzi\u001b[0m \u001b[1;32mis\u001b[0m \u001b[1;32mNone\u001b[0m\u001b[1;33m:\u001b[0m\u001b[1;33m\u001b[0m\u001b[1;33m\u001b[0m\u001b[0m\n\u001b[1;32m-> 1883\u001b[1;33m             \u001b[1;32mreturn\u001b[0m \u001b[0msigtools\u001b[0m\u001b[1;33m.\u001b[0m\u001b[0m_linear_filter\u001b[0m\u001b[1;33m(\u001b[0m\u001b[0mb\u001b[0m\u001b[1;33m,\u001b[0m \u001b[0ma\u001b[0m\u001b[1;33m,\u001b[0m \u001b[0mx\u001b[0m\u001b[1;33m,\u001b[0m \u001b[0maxis\u001b[0m\u001b[1;33m)\u001b[0m\u001b[1;33m\u001b[0m\u001b[1;33m\u001b[0m\u001b[0m\n\u001b[0m\u001b[0;32m   1884\u001b[0m         \u001b[1;32melse\u001b[0m\u001b[1;33m:\u001b[0m\u001b[1;33m\u001b[0m\u001b[1;33m\u001b[0m\u001b[0m\n\u001b[0;32m   1885\u001b[0m             \u001b[1;32mreturn\u001b[0m \u001b[0msigtools\u001b[0m\u001b[1;33m.\u001b[0m\u001b[0m_linear_filter\u001b[0m\u001b[1;33m(\u001b[0m\u001b[0mb\u001b[0m\u001b[1;33m,\u001b[0m \u001b[0ma\u001b[0m\u001b[1;33m,\u001b[0m \u001b[0mx\u001b[0m\u001b[1;33m,\u001b[0m \u001b[0maxis\u001b[0m\u001b[1;33m,\u001b[0m \u001b[0mzi\u001b[0m\u001b[1;33m)\u001b[0m\u001b[1;33m\u001b[0m\u001b[1;33m\u001b[0m\u001b[0m\n",
      "\u001b[1;31mTypeError\u001b[0m: can't multiply sequence by non-int of type 'float'"
     ]
    }
   ],
   "source": [
    "j=1\n",
    "fs=128\n",
    "lowcut = 5/fs\n",
    "highcut = 15/fs\n",
    "for fname in os.listdir(coll):\n",
    "    path=os.path.join(coll,fname)\n",
    "    print(path)\n",
    "    y_sig=pd.read_csv(path)\n",
    "    #print(y_sig.head())\n",
    "    df1=pd.DataFrame()\n",
    "    #df1['index']=df['index']+1\n",
    "    df1['Lead2']=y_sig.loc[1:]['\\'MLII\\'']\n",
    "    #df1['Lead1']=df['I']\n",
    "    print(df1['Lead2'])\n",
    "    print(max(df1['Lead2']))\n",
    "    #df1['Lead2']=df1['Lead2']/max(df1['Lead2'])\n",
    "    print(df1.head())\n",
    "    b, a = butter(3, [lowcut, highcut], btype=\"band\")\n",
    "    y_sig = lfilter(b, a, df1)\n",
    "    print(\"Filter\")\n",
    "    maxim=max(df1['Lead2'])\n",
    "    height=(0+maxim)/2\n",
    "    peaks, peak_heights = find_peaks(df1, distance=0.2*fs,height=height)\n",
    "    peak_heights=list(peak_heights.values())[0]\n",
    "    df2=pd.DataFrame()\n",
    "    df2['R_peaks']=peaks\n",
    "    df2['R_height']=height\n",
    "    path=\"E:/Asad work 15th March/keras CNN practise/Arrrythmia Databse/renamed_arrhythmia/\"+\"R\"+str(j)+\".csv\"\n",
    "    \n",
    "    df2.to_csv(path,encoding='utf-8')\n",
    "    j=j+1"
   ]
  },
  {
   "cell_type": "code",
   "execution_count": 26,
   "metadata": {},
   "outputs": [],
   "source": [
    "coll=\"E:/Asad work 15th March/keras CNN practise/Arrhythmia ECG - Copy/Class1_Normal\""
   ]
  },
  {
   "cell_type": "code",
   "execution_count": 43,
   "metadata": {},
   "outputs": [
    {
     "name": "stdout",
     "output_type": "stream",
     "text": [
      "E:/Asad work 15th March/keras CNN practise/Arrhythmia ECG - Copy/Class1_Normal\\samples (1).csv\n",
      "\n",
      "Filter\n"
     ]
    },
    {
     "ename": "TypeError",
     "evalue": "can't multiply sequence by non-int of type 'float'",
     "output_type": "error",
     "traceback": [
      "\u001b[1;31m---------------------------------------------------------------------------\u001b[0m",
      "\u001b[1;31mTypeError\u001b[0m                                 Traceback (most recent call last)",
      "\u001b[1;32m<ipython-input-43-bc830c817e89>\u001b[0m in \u001b[0;36m<module>\u001b[1;34m\u001b[0m\n\u001b[0;32m     18\u001b[0m     \u001b[0mprint\u001b[0m\u001b[1;33m(\u001b[0m\u001b[1;34m\"Filter\"\u001b[0m\u001b[1;33m)\u001b[0m\u001b[1;33m\u001b[0m\u001b[1;33m\u001b[0m\u001b[0m\n\u001b[0;32m     19\u001b[0m     \u001b[0mb\u001b[0m\u001b[1;33m,\u001b[0m \u001b[0ma\u001b[0m \u001b[1;33m=\u001b[0m \u001b[0mbutter\u001b[0m\u001b[1;33m(\u001b[0m\u001b[1;36m3\u001b[0m\u001b[1;33m,\u001b[0m \u001b[1;33m[\u001b[0m\u001b[0mlowcut\u001b[0m\u001b[1;33m,\u001b[0m \u001b[0mhighcut\u001b[0m\u001b[1;33m]\u001b[0m\u001b[1;33m,\u001b[0m \u001b[0mbtype\u001b[0m\u001b[1;33m=\u001b[0m\u001b[1;34m\"band\"\u001b[0m\u001b[1;33m)\u001b[0m\u001b[1;33m\u001b[0m\u001b[1;33m\u001b[0m\u001b[0m\n\u001b[1;32m---> 20\u001b[1;33m     \u001b[0my_sig\u001b[0m \u001b[1;33m=\u001b[0m \u001b[0mlfilter\u001b[0m\u001b[1;33m(\u001b[0m\u001b[0mb\u001b[0m\u001b[1;33m,\u001b[0m \u001b[0ma\u001b[0m\u001b[1;33m,\u001b[0m \u001b[0my_sig\u001b[0m\u001b[1;33m)\u001b[0m\u001b[1;33m\u001b[0m\u001b[1;33m\u001b[0m\u001b[0m\n\u001b[0m\u001b[0;32m     21\u001b[0m     \u001b[0mprint\u001b[0m\u001b[1;33m(\u001b[0m\u001b[1;34m\"Filter\"\u001b[0m\u001b[1;33m)\u001b[0m\u001b[1;33m\u001b[0m\u001b[1;33m\u001b[0m\u001b[0m\n\u001b[0;32m     22\u001b[0m     \u001b[0mmaxim\u001b[0m\u001b[1;33m=\u001b[0m\u001b[0mmax\u001b[0m\u001b[1;33m(\u001b[0m\u001b[0my_sig\u001b[0m\u001b[1;33m)\u001b[0m\u001b[1;33m\u001b[0m\u001b[1;33m\u001b[0m\u001b[0m\n",
      "\u001b[1;32m~\\anaconda3\\lib\\site-packages\\scipy\\signal\\signaltools.py\u001b[0m in \u001b[0;36mlfilter\u001b[1;34m(b, a, x, axis, zi)\u001b[0m\n\u001b[0;32m   1881\u001b[0m     \u001b[1;32melse\u001b[0m\u001b[1;33m:\u001b[0m\u001b[1;33m\u001b[0m\u001b[1;33m\u001b[0m\u001b[0m\n\u001b[0;32m   1882\u001b[0m         \u001b[1;32mif\u001b[0m \u001b[0mzi\u001b[0m \u001b[1;32mis\u001b[0m \u001b[1;32mNone\u001b[0m\u001b[1;33m:\u001b[0m\u001b[1;33m\u001b[0m\u001b[1;33m\u001b[0m\u001b[0m\n\u001b[1;32m-> 1883\u001b[1;33m             \u001b[1;32mreturn\u001b[0m \u001b[0msigtools\u001b[0m\u001b[1;33m.\u001b[0m\u001b[0m_linear_filter\u001b[0m\u001b[1;33m(\u001b[0m\u001b[0mb\u001b[0m\u001b[1;33m,\u001b[0m \u001b[0ma\u001b[0m\u001b[1;33m,\u001b[0m \u001b[0mx\u001b[0m\u001b[1;33m,\u001b[0m \u001b[0maxis\u001b[0m\u001b[1;33m)\u001b[0m\u001b[1;33m\u001b[0m\u001b[1;33m\u001b[0m\u001b[0m\n\u001b[0m\u001b[0;32m   1884\u001b[0m         \u001b[1;32melse\u001b[0m\u001b[1;33m:\u001b[0m\u001b[1;33m\u001b[0m\u001b[1;33m\u001b[0m\u001b[0m\n\u001b[0;32m   1885\u001b[0m             \u001b[1;32mreturn\u001b[0m \u001b[0msigtools\u001b[0m\u001b[1;33m.\u001b[0m\u001b[0m_linear_filter\u001b[0m\u001b[1;33m(\u001b[0m\u001b[0mb\u001b[0m\u001b[1;33m,\u001b[0m \u001b[0ma\u001b[0m\u001b[1;33m,\u001b[0m \u001b[0mx\u001b[0m\u001b[1;33m,\u001b[0m \u001b[0maxis\u001b[0m\u001b[1;33m,\u001b[0m \u001b[0mzi\u001b[0m\u001b[1;33m)\u001b[0m\u001b[1;33m\u001b[0m\u001b[1;33m\u001b[0m\u001b[0m\n",
      "\u001b[1;31mTypeError\u001b[0m: can't multiply sequence by non-int of type 'float'"
     ]
    }
   ],
   "source": [
    "j=1\n",
    "fs=128\n",
    "lowcut = 5/fs\n",
    "highcut = 15/fs\n",
    "for fname in os.listdir(coll):\n",
    "    path=os.path.join(coll,fname)\n",
    "    print(path)\n",
    "    df=pd.read_csv(path)\n",
    "    #print(df.head())\n",
    "    df1=pd.DataFrame()\n",
    "    #df1['index']=df['index']+1\n",
    "    df1['Lead2']=df.loc[1:]['\\'MLII\\'']\n",
    "    #df1['Lead1']=df['I']\n",
    "    #y_sig.astype(float)/float(max(y_sig))\n",
    "    y_sig=df1['Lead2']\n",
    "    print()\n",
    "    #y_sig=y_sig.astype(float)/float(max(y_sig))\n",
    "    print(\"Filter\")\n",
    "    b, a = butter(3, [lowcut, highcut], btype=\"band\")\n",
    "    y_sig = lfilter(b, a, y_sig)\n",
    "    print(\"Filter\")\n",
    "    maxim=max(y_sig)\n",
    "    height=(0+maxim)/2\n",
    "    peaks, peak_heights = find_peaks(y_sig, distance=0.2*fs,height=height)\n",
    "    peak_heights=list(peak_heights.values())[0]\n",
    "    df2=pd.DataFrame()\n",
    "    df2['R_peaks']=peaks\n",
    "    df2['R_height']=height\n",
    "    path=\"E:/Asad work 15th March/keras CNN practise/Arrrythmia Databse/renamed_arrhythmia/\"+\"RR\"+str(j)+\".csv\"\n",
    "    print(df2.head())\n",
    "    df2.to_csv(path,encoding='utf-8')\n",
    "    j=j+1"
   ]
  },
  {
   "cell_type": "code",
   "execution_count": null,
   "metadata": {},
   "outputs": [],
   "source": [
    "df.loc[i+k]=pd.Series(df1['R_peaks'][strt:stop].values)\n",
    "df1=pd.DataFrame(columns=['R_peaks'])"
   ]
  },
  {
   "cell_type": "code",
   "execution_count": 1,
   "metadata": {},
   "outputs": [],
   "source": [
    "import pandas as pd"
   ]
  },
  {
   "cell_type": "code",
   "execution_count": 2,
   "metadata": {},
   "outputs": [],
   "source": [
    "df1=pd.read_csv(\"E:/Asad work 15th March/keras CNN practise/Arrhythmia ECG - Copy/Class1_Normal/samples.csv\")"
   ]
  },
  {
   "cell_type": "code",
   "execution_count": 3,
   "metadata": {},
   "outputs": [],
   "source": [
    "df2=pd.DataFrame(columns=['l1'])\n",
    "df2['l1']=df1.loc[1:]['\\'MLII\\'']"
   ]
  },
  {
   "cell_type": "code",
   "execution_count": 4,
   "metadata": {},
   "outputs": [
    {
     "data": {
      "text/html": [
       "<div>\n",
       "<style scoped>\n",
       "    .dataframe tbody tr th:only-of-type {\n",
       "        vertical-align: middle;\n",
       "    }\n",
       "\n",
       "    .dataframe tbody tr th {\n",
       "        vertical-align: top;\n",
       "    }\n",
       "\n",
       "    .dataframe thead th {\n",
       "        text-align: right;\n",
       "    }\n",
       "</style>\n",
       "<table border=\"1\" class=\"dataframe\">\n",
       "  <thead>\n",
       "    <tr style=\"text-align: right;\">\n",
       "      <th></th>\n",
       "      <th>l1</th>\n",
       "    </tr>\n",
       "  </thead>\n",
       "  <tbody>\n",
       "    <tr>\n",
       "      <th>1</th>\n",
       "      <td>-0.145</td>\n",
       "    </tr>\n",
       "    <tr>\n",
       "      <th>2</th>\n",
       "      <td>-0.145</td>\n",
       "    </tr>\n",
       "    <tr>\n",
       "      <th>3</th>\n",
       "      <td>-0.145</td>\n",
       "    </tr>\n",
       "    <tr>\n",
       "      <th>4</th>\n",
       "      <td>-0.145</td>\n",
       "    </tr>\n",
       "    <tr>\n",
       "      <th>5</th>\n",
       "      <td>-0.145</td>\n",
       "    </tr>\n",
       "    <tr>\n",
       "      <th>...</th>\n",
       "      <td>...</td>\n",
       "    </tr>\n",
       "    <tr>\n",
       "      <th>21596</th>\n",
       "      <td>-0.220</td>\n",
       "    </tr>\n",
       "    <tr>\n",
       "      <th>21597</th>\n",
       "      <td>-0.210</td>\n",
       "    </tr>\n",
       "    <tr>\n",
       "      <th>21598</th>\n",
       "      <td>-0.230</td>\n",
       "    </tr>\n",
       "    <tr>\n",
       "      <th>21599</th>\n",
       "      <td>-0.245</td>\n",
       "    </tr>\n",
       "    <tr>\n",
       "      <th>21600</th>\n",
       "      <td>-0.245</td>\n",
       "    </tr>\n",
       "  </tbody>\n",
       "</table>\n",
       "<p>21600 rows × 1 columns</p>\n",
       "</div>"
      ],
      "text/plain": [
       "           l1\n",
       "1      -0.145\n",
       "2      -0.145\n",
       "3      -0.145\n",
       "4      -0.145\n",
       "5      -0.145\n",
       "...       ...\n",
       "21596  -0.220\n",
       "21597  -0.210\n",
       "21598  -0.230\n",
       "21599  -0.245\n",
       "21600  -0.245\n",
       "\n",
       "[21600 rows x 1 columns]"
      ]
     },
     "execution_count": 4,
     "metadata": {},
     "output_type": "execute_result"
    }
   ],
   "source": [
    "df2"
   ]
  },
  {
   "cell_type": "code",
   "execution_count": 5,
   "metadata": {},
   "outputs": [],
   "source": [
    "df=pd.DataFrame(columns=['l1'])"
   ]
  },
  {
   "cell_type": "code",
   "execution_count": 6,
   "metadata": {},
   "outputs": [],
   "source": [
    "df.loc[0]=pd.Series(df2['l1'][0:2].values)"
   ]
  },
  {
   "cell_type": "code",
   "execution_count": 7,
   "metadata": {},
   "outputs": [
    {
     "data": {
      "text/html": [
       "<div>\n",
       "<style scoped>\n",
       "    .dataframe tbody tr th:only-of-type {\n",
       "        vertical-align: middle;\n",
       "    }\n",
       "\n",
       "    .dataframe tbody tr th {\n",
       "        vertical-align: top;\n",
       "    }\n",
       "\n",
       "    .dataframe thead th {\n",
       "        text-align: right;\n",
       "    }\n",
       "</style>\n",
       "<table border=\"1\" class=\"dataframe\">\n",
       "  <thead>\n",
       "    <tr style=\"text-align: right;\">\n",
       "      <th></th>\n",
       "      <th>l1</th>\n",
       "    </tr>\n",
       "  </thead>\n",
       "  <tbody>\n",
       "    <tr>\n",
       "      <th>0</th>\n",
       "      <td>NaN</td>\n",
       "    </tr>\n",
       "  </tbody>\n",
       "</table>\n",
       "</div>"
      ],
      "text/plain": [
       "    l1\n",
       "0  NaN"
      ]
     },
     "execution_count": 7,
     "metadata": {},
     "output_type": "execute_result"
    }
   ],
   "source": [
    "df"
   ]
  },
  {
   "cell_type": "code",
   "execution_count": 11,
   "metadata": {},
   "outputs": [
    {
     "ename": "NameError",
     "evalue": "name 'test' is not defined",
     "output_type": "error",
     "traceback": [
      "\u001b[1;31m---------------------------------------------------------------------------\u001b[0m",
      "\u001b[1;31mNameError\u001b[0m                                 Traceback (most recent call last)",
      "\u001b[1;32m<ipython-input-11-fc30e1ea99f8>\u001b[0m in \u001b[0;36m<module>\u001b[1;34m\u001b[0m\n\u001b[0;32m      3\u001b[0m \u001b[0ml1\u001b[0m\u001b[1;33m=\u001b[0m\u001b[1;33m[\u001b[0m\u001b[1;36m1\u001b[0m\u001b[1;33m,\u001b[0m\u001b[1;36m2\u001b[0m\u001b[1;33m,\u001b[0m\u001b[1;36m3\u001b[0m\u001b[1;33m,\u001b[0m\u001b[1;36m4\u001b[0m\u001b[1;33m,\u001b[0m\u001b[1;36m5\u001b[0m\u001b[1;33m,\u001b[0m\u001b[1;36m6\u001b[0m\u001b[1;33m]\u001b[0m\u001b[1;33m\u001b[0m\u001b[1;33m\u001b[0m\u001b[0m\n\u001b[0;32m      4\u001b[0m \u001b[0mdf1\u001b[0m\u001b[1;33m[\u001b[0m\u001b[1;34m'l1'\u001b[0m\u001b[1;33m]\u001b[0m\u001b[1;33m=\u001b[0m\u001b[0ml1\u001b[0m\u001b[1;33m\u001b[0m\u001b[1;33m\u001b[0m\u001b[0m\n\u001b[1;32m----> 5\u001b[1;33m \u001b[0mdf1\u001b[0m\u001b[1;33m.\u001b[0m\u001b[0mto_csv\u001b[0m\u001b[1;33m(\u001b[0m\u001b[0mtest\u001b[0m\u001b[1;33m)\u001b[0m\u001b[1;33m\u001b[0m\u001b[1;33m\u001b[0m\u001b[0m\n\u001b[0m\u001b[0;32m      6\u001b[0m \u001b[0mprint\u001b[0m\u001b[1;33m(\u001b[0m\u001b[0mpd\u001b[0m\u001b[1;33m.\u001b[0m\u001b[0mSeries\u001b[0m\u001b[1;33m(\u001b[0m\u001b[0mdf1\u001b[0m\u001b[1;33m[\u001b[0m\u001b[1;34m'l1'\u001b[0m\u001b[1;33m]\u001b[0m\u001b[1;33m[\u001b[0m\u001b[1;36m0\u001b[0m\u001b[1;33m:\u001b[0m\u001b[1;36m2\u001b[0m\u001b[1;33m]\u001b[0m\u001b[1;33m.\u001b[0m\u001b[0mvalues\u001b[0m\u001b[1;33m)\u001b[0m\u001b[1;33m)\u001b[0m\u001b[1;33m\u001b[0m\u001b[1;33m\u001b[0m\u001b[0m\n\u001b[0;32m      7\u001b[0m \u001b[0mdf\u001b[0m\u001b[1;33m=\u001b[0m\u001b[0mpd\u001b[0m\u001b[1;33m.\u001b[0m\u001b[0mDataFrame\u001b[0m\u001b[1;33m(\u001b[0m\u001b[0mcolumns\u001b[0m\u001b[1;33m=\u001b[0m\u001b[1;33m[\u001b[0m\u001b[1;34m'l1'\u001b[0m\u001b[1;33m]\u001b[0m\u001b[1;33m)\u001b[0m\u001b[1;33m\u001b[0m\u001b[1;33m\u001b[0m\u001b[0m\n",
      "\u001b[1;31mNameError\u001b[0m: name 'test' is not defined"
     ]
    }
   ],
   "source": [
    "import pandas as pd\n",
    "df1=pd.DataFrame(columns=['l1'])\n",
    "l1=[1,2,3,4,5,6]\n",
    "df1['l1']=l1\n",
    "df1.to_csv()\n",
    "print(pd.Series(df1['l1'][0:2].values))\n",
    "df=pd.DataFrame(columns=['l1'])\n",
    "df.loc[0]=pd.Series(df1['l1'][0:2].values)\n",
    "print(df)"
   ]
  },
  {
   "cell_type": "code",
   "execution_count": 6,
   "metadata": {},
   "outputs": [
    {
     "name": "stdout",
     "output_type": "stream",
     "text": [
      "         0         1         2         3         4         5         6   \\\n",
      "0  0.725975  0.704002  0.781551  0.800588  0.844261  0.773219  0.872371   \n",
      "1  0.922465  0.888611  0.879479  0.836283  0.931496  0.838817  0.883663   \n",
      "\n",
      "         7         8         9   ...        31        32        33        34  \\\n",
      "0  0.866218  0.807279  0.822086  ...  0.764403  0.644203  0.731103  0.827403   \n",
      "1  0.832300  0.836232  0.844060  ...       NaN       NaN       NaN       NaN   \n",
      "\n",
      "         35        36        37   38        39   40  \n",
      "0  0.948174  0.925699  0.991393  1.0  0.997524  0.0  \n",
      "1       NaN       NaN       NaN  NaN       NaN  0.0  \n",
      "\n",
      "[2 rows x 41 columns]\n"
     ]
    }
   ],
   "source": [
    "import pandas as pd\n",
    "k=0\n",
    "df=pd.DataFrame(columns=list(range(41)))\n",
    "df2=pd.read_csv(\"E:/Asad work 15th March/keras CNN practise/Arrhythmia ECG1/renamed_database4/ECG1.RSQ1.csv\")\n",
    "    #print(path2)\n",
    "df1=pd.DataFrame(columns=['R_height'])\n",
    "    \n",
    "df1['R_height']=df2['R_height']\n",
    "j=int(len(df1['R_height'])/40)\n",
    "strt=0\n",
    "stop=40\n",
    "for i in range(j+1):\n",
    "    df.loc[i+k]=pd.Series(df1['R_height'][strt:stop].values)\n",
    "        #lbl=get_label(file)\n",
    "    df.loc[i+k][40]=0\n",
    "    strt=stop\n",
    "    stop=stop+40\n",
    "k=k+j+1\n",
    "print(df.head())"
   ]
  },
  {
   "cell_type": "code",
   "execution_count": 33,
   "metadata": {
    "collapsed": true
   },
   "outputs": [
    {
     "ename": "IndexError",
     "evalue": "single positional indexer is out-of-bounds",
     "output_type": "error",
     "traceback": [
      "\u001b[1;31m---------------------------------------------------------------------------\u001b[0m",
      "\u001b[1;31mIndexError\u001b[0m                                Traceback (most recent call last)",
      "\u001b[1;32m<ipython-input-33-b006a3bdda1c>\u001b[0m in \u001b[0;36m<module>\u001b[1;34m\u001b[0m\n\u001b[0;32m     13\u001b[0m \u001b[0mstop\u001b[0m\u001b[1;33m=\u001b[0m\u001b[1;36m40\u001b[0m\u001b[1;33m\u001b[0m\u001b[1;33m\u001b[0m\u001b[0m\n\u001b[0;32m     14\u001b[0m \u001b[0mi\u001b[0m\u001b[1;33m=\u001b[0m\u001b[1;36m0\u001b[0m\u001b[1;33m\u001b[0m\u001b[1;33m\u001b[0m\u001b[0m\n\u001b[1;32m---> 15\u001b[1;33m \u001b[0mdf\u001b[0m\u001b[1;33m.\u001b[0m\u001b[0miloc\u001b[0m\u001b[1;33m[\u001b[0m\u001b[0mi\u001b[0m\u001b[1;33m+\u001b[0m\u001b[0mk\u001b[0m\u001b[1;33m,\u001b[0m\u001b[1;36m0\u001b[0m\u001b[1;33m:\u001b[0m\u001b[1;36m39\u001b[0m\u001b[1;33m]\u001b[0m\u001b[1;33m=\u001b[0m\u001b[0mpd\u001b[0m\u001b[1;33m.\u001b[0m\u001b[0mSeries\u001b[0m\u001b[1;33m(\u001b[0m\u001b[0mdf1\u001b[0m\u001b[1;33m[\u001b[0m\u001b[1;34m'R_height'\u001b[0m\u001b[1;33m]\u001b[0m\u001b[1;33m[\u001b[0m\u001b[0mstrt\u001b[0m\u001b[1;33m:\u001b[0m\u001b[0mstop\u001b[0m\u001b[1;33m]\u001b[0m\u001b[1;33m.\u001b[0m\u001b[0mvalues\u001b[0m\u001b[1;33m)\u001b[0m\u001b[1;33m\u001b[0m\u001b[1;33m\u001b[0m\u001b[0m\n\u001b[0m\u001b[0;32m     16\u001b[0m \u001b[0mdf\u001b[0m\u001b[1;33m.\u001b[0m\u001b[0miloc\u001b[0m\u001b[1;33m[\u001b[0m\u001b[0mi\u001b[0m\u001b[1;33m+\u001b[0m\u001b[0mk\u001b[0m\u001b[1;33m,\u001b[0m\u001b[1;36m40\u001b[0m\u001b[1;33m:\u001b[0m\u001b[1;33m]\u001b[0m\u001b[1;33m=\u001b[0m\u001b[0mpd\u001b[0m\u001b[1;33m.\u001b[0m\u001b[0mSeries\u001b[0m\u001b[1;33m(\u001b[0m\u001b[0mdf1\u001b[0m\u001b[1;33m[\u001b[0m\u001b[1;34m's_pt'\u001b[0m\u001b[1;33m]\u001b[0m\u001b[1;33m[\u001b[0m\u001b[0mstrt\u001b[0m\u001b[1;33m:\u001b[0m\u001b[0mstop\u001b[0m\u001b[1;33m]\u001b[0m\u001b[1;33m.\u001b[0m\u001b[0mvalues\u001b[0m\u001b[1;33m)\u001b[0m\u001b[1;33m\u001b[0m\u001b[1;33m\u001b[0m\u001b[0m\n\u001b[0;32m     17\u001b[0m         \u001b[1;31m#lbl=get_label(file)\u001b[0m\u001b[1;33m\u001b[0m\u001b[1;33m\u001b[0m\u001b[1;33m\u001b[0m\u001b[0m\n",
      "\u001b[1;32m~\\anaconda3\\lib\\site-packages\\pandas\\core\\indexing.py\u001b[0m in \u001b[0;36m__setitem__\u001b[1;34m(self, key, value)\u001b[0m\n\u001b[0;32m    667\u001b[0m         \u001b[1;32melse\u001b[0m\u001b[1;33m:\u001b[0m\u001b[1;33m\u001b[0m\u001b[1;33m\u001b[0m\u001b[0m\n\u001b[0;32m    668\u001b[0m             \u001b[0mkey\u001b[0m \u001b[1;33m=\u001b[0m \u001b[0mcom\u001b[0m\u001b[1;33m.\u001b[0m\u001b[0mapply_if_callable\u001b[0m\u001b[1;33m(\u001b[0m\u001b[0mkey\u001b[0m\u001b[1;33m,\u001b[0m \u001b[0mself\u001b[0m\u001b[1;33m.\u001b[0m\u001b[0mobj\u001b[0m\u001b[1;33m)\u001b[0m\u001b[1;33m\u001b[0m\u001b[1;33m\u001b[0m\u001b[0m\n\u001b[1;32m--> 669\u001b[1;33m         \u001b[0mindexer\u001b[0m \u001b[1;33m=\u001b[0m \u001b[0mself\u001b[0m\u001b[1;33m.\u001b[0m\u001b[0m_get_setitem_indexer\u001b[0m\u001b[1;33m(\u001b[0m\u001b[0mkey\u001b[0m\u001b[1;33m)\u001b[0m\u001b[1;33m\u001b[0m\u001b[1;33m\u001b[0m\u001b[0m\n\u001b[0m\u001b[0;32m    670\u001b[0m         \u001b[0mself\u001b[0m\u001b[1;33m.\u001b[0m\u001b[0m_setitem_with_indexer\u001b[0m\u001b[1;33m(\u001b[0m\u001b[0mindexer\u001b[0m\u001b[1;33m,\u001b[0m \u001b[0mvalue\u001b[0m\u001b[1;33m)\u001b[0m\u001b[1;33m\u001b[0m\u001b[1;33m\u001b[0m\u001b[0m\n\u001b[0;32m    671\u001b[0m \u001b[1;33m\u001b[0m\u001b[0m\n",
      "\u001b[1;32m~\\anaconda3\\lib\\site-packages\\pandas\\core\\indexing.py\u001b[0m in \u001b[0;36m_get_setitem_indexer\u001b[1;34m(self, key)\u001b[0m\n\u001b[0;32m    645\u001b[0m         \u001b[1;32mif\u001b[0m \u001b[0misinstance\u001b[0m\u001b[1;33m(\u001b[0m\u001b[0mkey\u001b[0m\u001b[1;33m,\u001b[0m \u001b[0mtuple\u001b[0m\u001b[1;33m)\u001b[0m\u001b[1;33m:\u001b[0m\u001b[1;33m\u001b[0m\u001b[1;33m\u001b[0m\u001b[0m\n\u001b[0;32m    646\u001b[0m             \u001b[1;32mtry\u001b[0m\u001b[1;33m:\u001b[0m\u001b[1;33m\u001b[0m\u001b[1;33m\u001b[0m\u001b[0m\n\u001b[1;32m--> 647\u001b[1;33m                 \u001b[1;32mreturn\u001b[0m \u001b[0mself\u001b[0m\u001b[1;33m.\u001b[0m\u001b[0m_convert_tuple\u001b[0m\u001b[1;33m(\u001b[0m\u001b[0mkey\u001b[0m\u001b[1;33m)\u001b[0m\u001b[1;33m\u001b[0m\u001b[1;33m\u001b[0m\u001b[0m\n\u001b[0m\u001b[0;32m    648\u001b[0m             \u001b[1;32mexcept\u001b[0m \u001b[0mIndexingError\u001b[0m\u001b[1;33m:\u001b[0m\u001b[1;33m\u001b[0m\u001b[1;33m\u001b[0m\u001b[0m\n\u001b[0;32m    649\u001b[0m                 \u001b[1;32mpass\u001b[0m\u001b[1;33m\u001b[0m\u001b[1;33m\u001b[0m\u001b[0m\n",
      "\u001b[1;32m~\\anaconda3\\lib\\site-packages\\pandas\\core\\indexing.py\u001b[0m in \u001b[0;36m_convert_tuple\u001b[1;34m(self, key)\u001b[0m\n\u001b[0;32m    730\u001b[0m                 \u001b[1;32mif\u001b[0m \u001b[0mi\u001b[0m \u001b[1;33m>=\u001b[0m \u001b[0mself\u001b[0m\u001b[1;33m.\u001b[0m\u001b[0mndim\u001b[0m\u001b[1;33m:\u001b[0m\u001b[1;33m\u001b[0m\u001b[1;33m\u001b[0m\u001b[0m\n\u001b[0;32m    731\u001b[0m                     \u001b[1;32mraise\u001b[0m \u001b[0mIndexingError\u001b[0m\u001b[1;33m(\u001b[0m\u001b[1;34m\"Too many indexers\"\u001b[0m\u001b[1;33m)\u001b[0m\u001b[1;33m\u001b[0m\u001b[1;33m\u001b[0m\u001b[0m\n\u001b[1;32m--> 732\u001b[1;33m                 \u001b[0midx\u001b[0m \u001b[1;33m=\u001b[0m \u001b[0mself\u001b[0m\u001b[1;33m.\u001b[0m\u001b[0m_convert_to_indexer\u001b[0m\u001b[1;33m(\u001b[0m\u001b[0mk\u001b[0m\u001b[1;33m,\u001b[0m \u001b[0maxis\u001b[0m\u001b[1;33m=\u001b[0m\u001b[0mi\u001b[0m\u001b[1;33m)\u001b[0m\u001b[1;33m\u001b[0m\u001b[1;33m\u001b[0m\u001b[0m\n\u001b[0m\u001b[0;32m    733\u001b[0m                 \u001b[0mkeyidx\u001b[0m\u001b[1;33m.\u001b[0m\u001b[0mappend\u001b[0m\u001b[1;33m(\u001b[0m\u001b[0midx\u001b[0m\u001b[1;33m)\u001b[0m\u001b[1;33m\u001b[0m\u001b[1;33m\u001b[0m\u001b[0m\n\u001b[0;32m    734\u001b[0m         \u001b[1;32mreturn\u001b[0m \u001b[0mtuple\u001b[0m\u001b[1;33m(\u001b[0m\u001b[0mkeyidx\u001b[0m\u001b[1;33m)\u001b[0m\u001b[1;33m\u001b[0m\u001b[1;33m\u001b[0m\u001b[0m\n",
      "\u001b[1;32m~\\anaconda3\\lib\\site-packages\\pandas\\core\\indexing.py\u001b[0m in \u001b[0;36m_convert_to_indexer\u001b[1;34m(self, obj, axis, raise_missing)\u001b[0m\n\u001b[0;32m   2152\u001b[0m \u001b[1;33m\u001b[0m\u001b[0m\n\u001b[0;32m   2153\u001b[0m         \u001b[1;32mtry\u001b[0m\u001b[1;33m:\u001b[0m\u001b[1;33m\u001b[0m\u001b[1;33m\u001b[0m\u001b[0m\n\u001b[1;32m-> 2154\u001b[1;33m             \u001b[0mself\u001b[0m\u001b[1;33m.\u001b[0m\u001b[0m_validate_key\u001b[0m\u001b[1;33m(\u001b[0m\u001b[0mobj\u001b[0m\u001b[1;33m,\u001b[0m \u001b[0maxis\u001b[0m\u001b[1;33m)\u001b[0m\u001b[1;33m\u001b[0m\u001b[1;33m\u001b[0m\u001b[0m\n\u001b[0m\u001b[0;32m   2155\u001b[0m             \u001b[1;32mreturn\u001b[0m \u001b[0mobj\u001b[0m\u001b[1;33m\u001b[0m\u001b[1;33m\u001b[0m\u001b[0m\n\u001b[0;32m   2156\u001b[0m         \u001b[1;32mexcept\u001b[0m \u001b[0mValueError\u001b[0m\u001b[1;33m:\u001b[0m\u001b[1;33m\u001b[0m\u001b[1;33m\u001b[0m\u001b[0m\n",
      "\u001b[1;32m~\\anaconda3\\lib\\site-packages\\pandas\\core\\indexing.py\u001b[0m in \u001b[0;36m_validate_key\u001b[1;34m(self, key, axis)\u001b[0m\n\u001b[0;32m   1991\u001b[0m             \u001b[1;32mreturn\u001b[0m\u001b[1;33m\u001b[0m\u001b[1;33m\u001b[0m\u001b[0m\n\u001b[0;32m   1992\u001b[0m         \u001b[1;32melif\u001b[0m \u001b[0mis_integer\u001b[0m\u001b[1;33m(\u001b[0m\u001b[0mkey\u001b[0m\u001b[1;33m)\u001b[0m\u001b[1;33m:\u001b[0m\u001b[1;33m\u001b[0m\u001b[1;33m\u001b[0m\u001b[0m\n\u001b[1;32m-> 1993\u001b[1;33m             \u001b[0mself\u001b[0m\u001b[1;33m.\u001b[0m\u001b[0m_validate_integer\u001b[0m\u001b[1;33m(\u001b[0m\u001b[0mkey\u001b[0m\u001b[1;33m,\u001b[0m \u001b[0maxis\u001b[0m\u001b[1;33m)\u001b[0m\u001b[1;33m\u001b[0m\u001b[1;33m\u001b[0m\u001b[0m\n\u001b[0m\u001b[0;32m   1994\u001b[0m         \u001b[1;32melif\u001b[0m \u001b[0misinstance\u001b[0m\u001b[1;33m(\u001b[0m\u001b[0mkey\u001b[0m\u001b[1;33m,\u001b[0m \u001b[0mtuple\u001b[0m\u001b[1;33m)\u001b[0m\u001b[1;33m:\u001b[0m\u001b[1;33m\u001b[0m\u001b[1;33m\u001b[0m\u001b[0m\n\u001b[0;32m   1995\u001b[0m             \u001b[1;31m# a tuple should already have been caught by this point\u001b[0m\u001b[1;33m\u001b[0m\u001b[1;33m\u001b[0m\u001b[1;33m\u001b[0m\u001b[0m\n",
      "\u001b[1;32m~\\anaconda3\\lib\\site-packages\\pandas\\core\\indexing.py\u001b[0m in \u001b[0;36m_validate_integer\u001b[1;34m(self, key, axis)\u001b[0m\n\u001b[0;32m   2060\u001b[0m         \u001b[0mlen_axis\u001b[0m \u001b[1;33m=\u001b[0m \u001b[0mlen\u001b[0m\u001b[1;33m(\u001b[0m\u001b[0mself\u001b[0m\u001b[1;33m.\u001b[0m\u001b[0mobj\u001b[0m\u001b[1;33m.\u001b[0m\u001b[0m_get_axis\u001b[0m\u001b[1;33m(\u001b[0m\u001b[0maxis\u001b[0m\u001b[1;33m)\u001b[0m\u001b[1;33m)\u001b[0m\u001b[1;33m\u001b[0m\u001b[1;33m\u001b[0m\u001b[0m\n\u001b[0;32m   2061\u001b[0m         \u001b[1;32mif\u001b[0m \u001b[0mkey\u001b[0m \u001b[1;33m>=\u001b[0m \u001b[0mlen_axis\u001b[0m \u001b[1;32mor\u001b[0m \u001b[0mkey\u001b[0m \u001b[1;33m<\u001b[0m \u001b[1;33m-\u001b[0m\u001b[0mlen_axis\u001b[0m\u001b[1;33m:\u001b[0m\u001b[1;33m\u001b[0m\u001b[1;33m\u001b[0m\u001b[0m\n\u001b[1;32m-> 2062\u001b[1;33m             \u001b[1;32mraise\u001b[0m \u001b[0mIndexError\u001b[0m\u001b[1;33m(\u001b[0m\u001b[1;34m\"single positional indexer is out-of-bounds\"\u001b[0m\u001b[1;33m)\u001b[0m\u001b[1;33m\u001b[0m\u001b[1;33m\u001b[0m\u001b[0m\n\u001b[0m\u001b[0;32m   2063\u001b[0m \u001b[1;33m\u001b[0m\u001b[0m\n\u001b[0;32m   2064\u001b[0m     \u001b[1;32mdef\u001b[0m \u001b[0m_getitem_tuple\u001b[0m\u001b[1;33m(\u001b[0m\u001b[0mself\u001b[0m\u001b[1;33m,\u001b[0m \u001b[0mtup\u001b[0m\u001b[1;33m:\u001b[0m \u001b[0mTuple\u001b[0m\u001b[1;33m)\u001b[0m\u001b[1;33m:\u001b[0m\u001b[1;33m\u001b[0m\u001b[1;33m\u001b[0m\u001b[0m\n",
      "\u001b[1;31mIndexError\u001b[0m: single positional indexer is out-of-bounds"
     ]
    }
   ],
   "source": [
    "import pandas as pd\n",
    "k=0\n",
    "df=pd.DataFrame(columns=list(range(81)))\n",
    "df2=pd.read_csv(\"E:/Asad work 15th March/keras CNN practise/Arrhythmia ECG1/renamed_database4/ECG1.RSQ1.csv\")\n",
    "    #print(path2)\n",
    "df1=pd.DataFrame(columns=['R_height','s_pt'])\n",
    "    \n",
    "df1['R_height']=df2['R_height']\n",
    "df1['s_pt']=df2['s_pt']\n",
    "#j=int(len(df1['R_height'])/40)\n",
    "#print(df1)\n",
    "strt=0\n",
    "stop=40\n",
    "i=0\n",
    "df.iloc[i+k,0:39]=pd.Series(df1['R_height'][strt:stop].values)\n",
    "df.iloc[i+k,40:]=pd.Series(df1['s_pt'][strt:stop].values)\n",
    "        #lbl=get_label(file)\n",
    "df.loc[i+k][80]=0\n",
    "strt=stop\n",
    "stop=stop+40\n",
    "k=k+j+1\n",
    "print(df.head())"
   ]
  },
  {
   "cell_type": "code",
   "execution_count": 8,
   "metadata": {},
   "outputs": [
    {
     "data": {
      "text/html": [
       "<div>\n",
       "<style scoped>\n",
       "    .dataframe tbody tr th:only-of-type {\n",
       "        vertical-align: middle;\n",
       "    }\n",
       "\n",
       "    .dataframe tbody tr th {\n",
       "        vertical-align: top;\n",
       "    }\n",
       "\n",
       "    .dataframe thead th {\n",
       "        text-align: right;\n",
       "    }\n",
       "</style>\n",
       "<table border=\"1\" class=\"dataframe\">\n",
       "  <thead>\n",
       "    <tr style=\"text-align: right;\">\n",
       "      <th></th>\n",
       "      <th>Unnamed: 0</th>\n",
       "      <th>q_pt</th>\n",
       "      <th>q_pt_index</th>\n",
       "      <th>R_peaks</th>\n",
       "      <th>R_height</th>\n",
       "      <th>s_pt_index</th>\n",
       "      <th>s_pt</th>\n",
       "      <th>QR</th>\n",
       "      <th>RS</th>\n",
       "    </tr>\n",
       "  </thead>\n",
       "  <tbody>\n",
       "    <tr>\n",
       "      <th>0</th>\n",
       "      <td>0</td>\n",
       "      <td>-1.091479</td>\n",
       "      <td>97</td>\n",
       "      <td>109</td>\n",
       "      <td>0.725975</td>\n",
       "      <td>122</td>\n",
       "      <td>0.056532</td>\n",
       "      <td>-0.365504</td>\n",
       "      <td>0.782507</td>\n",
       "    </tr>\n",
       "    <tr>\n",
       "      <th>1</th>\n",
       "      <td>1</td>\n",
       "      <td>-1.023253</td>\n",
       "      <td>410</td>\n",
       "      <td>423</td>\n",
       "      <td>0.704002</td>\n",
       "      <td>436</td>\n",
       "      <td>0.025954</td>\n",
       "      <td>-0.319252</td>\n",
       "      <td>0.729956</td>\n",
       "    </tr>\n",
       "    <tr>\n",
       "      <th>2</th>\n",
       "      <td>2</td>\n",
       "      <td>-1.143606</td>\n",
       "      <td>725</td>\n",
       "      <td>738</td>\n",
       "      <td>0.781551</td>\n",
       "      <td>751</td>\n",
       "      <td>0.029752</td>\n",
       "      <td>-0.362056</td>\n",
       "      <td>0.811302</td>\n",
       "    </tr>\n",
       "    <tr>\n",
       "      <th>3</th>\n",
       "      <td>3</td>\n",
       "      <td>-1.188530</td>\n",
       "      <td>1046</td>\n",
       "      <td>1059</td>\n",
       "      <td>0.800588</td>\n",
       "      <td>1072</td>\n",
       "      <td>0.050937</td>\n",
       "      <td>-0.387942</td>\n",
       "      <td>0.851524</td>\n",
       "    </tr>\n",
       "    <tr>\n",
       "      <th>4</th>\n",
       "      <td>4</td>\n",
       "      <td>-1.224460</td>\n",
       "      <td>1382</td>\n",
       "      <td>1395</td>\n",
       "      <td>0.844261</td>\n",
       "      <td>1408</td>\n",
       "      <td>0.035011</td>\n",
       "      <td>-0.380199</td>\n",
       "      <td>0.879272</td>\n",
       "    </tr>\n",
       "    <tr>\n",
       "      <th>...</th>\n",
       "      <td>...</td>\n",
       "      <td>...</td>\n",
       "      <td>...</td>\n",
       "      <td>...</td>\n",
       "      <td>...</td>\n",
       "      <td>...</td>\n",
       "      <td>...</td>\n",
       "      <td>...</td>\n",
       "      <td>...</td>\n",
       "    </tr>\n",
       "    <tr>\n",
       "      <th>66</th>\n",
       "      <td>66</td>\n",
       "      <td>-1.067340</td>\n",
       "      <td>20187</td>\n",
       "      <td>20199</td>\n",
       "      <td>0.730300</td>\n",
       "      <td>20212</td>\n",
       "      <td>0.042820</td>\n",
       "      <td>-0.337040</td>\n",
       "      <td>0.773120</td>\n",
       "    </tr>\n",
       "    <tr>\n",
       "      <th>67</th>\n",
       "      <td>67</td>\n",
       "      <td>-1.172320</td>\n",
       "      <td>20507</td>\n",
       "      <td>20520</td>\n",
       "      <td>0.827068</td>\n",
       "      <td>20533</td>\n",
       "      <td>0.011518</td>\n",
       "      <td>-0.345251</td>\n",
       "      <td>0.838586</td>\n",
       "    </tr>\n",
       "    <tr>\n",
       "      <th>68</th>\n",
       "      <td>68</td>\n",
       "      <td>-1.181104</td>\n",
       "      <td>20836</td>\n",
       "      <td>20848</td>\n",
       "      <td>0.802413</td>\n",
       "      <td>20861</td>\n",
       "      <td>0.061669</td>\n",
       "      <td>-0.378691</td>\n",
       "      <td>0.864082</td>\n",
       "    </tr>\n",
       "    <tr>\n",
       "      <th>69</th>\n",
       "      <td>69</td>\n",
       "      <td>-1.117370</td>\n",
       "      <td>21180</td>\n",
       "      <td>21192</td>\n",
       "      <td>0.763071</td>\n",
       "      <td>21205</td>\n",
       "      <td>0.056330</td>\n",
       "      <td>-0.354299</td>\n",
       "      <td>0.819401</td>\n",
       "    </tr>\n",
       "    <tr>\n",
       "      <th>70</th>\n",
       "      <td>70</td>\n",
       "      <td>-1.139324</td>\n",
       "      <td>21512</td>\n",
       "      <td>21525</td>\n",
       "      <td>0.786559</td>\n",
       "      <td>21538</td>\n",
       "      <td>0.017006</td>\n",
       "      <td>-0.352766</td>\n",
       "      <td>0.803564</td>\n",
       "    </tr>\n",
       "  </tbody>\n",
       "</table>\n",
       "<p>71 rows × 9 columns</p>\n",
       "</div>"
      ],
      "text/plain": [
       "    Unnamed: 0      q_pt  q_pt_index  R_peaks  R_height  s_pt_index      s_pt  \\\n",
       "0            0 -1.091479          97      109  0.725975         122  0.056532   \n",
       "1            1 -1.023253         410      423  0.704002         436  0.025954   \n",
       "2            2 -1.143606         725      738  0.781551         751  0.029752   \n",
       "3            3 -1.188530        1046     1059  0.800588        1072  0.050937   \n",
       "4            4 -1.224460        1382     1395  0.844261        1408  0.035011   \n",
       "..         ...       ...         ...      ...       ...         ...       ...   \n",
       "66          66 -1.067340       20187    20199  0.730300       20212  0.042820   \n",
       "67          67 -1.172320       20507    20520  0.827068       20533  0.011518   \n",
       "68          68 -1.181104       20836    20848  0.802413       20861  0.061669   \n",
       "69          69 -1.117370       21180    21192  0.763071       21205  0.056330   \n",
       "70          70 -1.139324       21512    21525  0.786559       21538  0.017006   \n",
       "\n",
       "          QR        RS  \n",
       "0  -0.365504  0.782507  \n",
       "1  -0.319252  0.729956  \n",
       "2  -0.362056  0.811302  \n",
       "3  -0.387942  0.851524  \n",
       "4  -0.380199  0.879272  \n",
       "..       ...       ...  \n",
       "66 -0.337040  0.773120  \n",
       "67 -0.345251  0.838586  \n",
       "68 -0.378691  0.864082  \n",
       "69 -0.354299  0.819401  \n",
       "70 -0.352766  0.803564  \n",
       "\n",
       "[71 rows x 9 columns]"
      ]
     },
     "execution_count": 8,
     "metadata": {},
     "output_type": "execute_result"
    }
   ],
   "source": [
    "df2"
   ]
  },
  {
   "cell_type": "code",
   "execution_count": 20,
   "metadata": {},
   "outputs": [
    {
     "name": "stderr",
     "output_type": "stream",
     "text": [
      "C:\\Users\\NLI\\anaconda3\\lib\\site-packages\\ipykernel_launcher.py:1: SettingWithCopyWarning: \n",
      "A value is trying to be set on a copy of a slice from a DataFrame\n",
      "\n",
      "See the caveats in the documentation: https://pandas.pydata.org/pandas-docs/stable/user_guide/indexing.html#returning-a-view-versus-a-copy\n",
      "  \"\"\"Entry point for launching an IPython kernel.\n"
     ]
    }
   ],
   "source": [
    "df[0][0]=pd.Series(df2['R_height'][1])"
   ]
  },
  {
   "cell_type": "code",
   "execution_count": 21,
   "metadata": {},
   "outputs": [
    {
     "name": "stdout",
     "output_type": "stream",
     "text": [
      "0    0.704002\n",
      "Name: 0, dtype: float64\n"
     ]
    }
   ],
   "source": [
    "print(df[0])"
   ]
  },
  {
   "cell_type": "code",
   "execution_count": 37,
   "metadata": {},
   "outputs": [],
   "source": [
    "lst=df2['R_height']"
   ]
  },
  {
   "cell_type": "code",
   "execution_count": 38,
   "metadata": {},
   "outputs": [
    {
     "data": {
      "text/plain": [
       "0     0.725975\n",
       "1     0.704002\n",
       "2     0.781551\n",
       "3     0.800588\n",
       "4     0.844261\n",
       "        ...   \n",
       "66    0.730300\n",
       "67    0.827068\n",
       "68    0.802413\n",
       "69    0.763071\n",
       "70    0.786559\n",
       "Name: R_height, Length: 71, dtype: float64"
      ]
     },
     "execution_count": 38,
     "metadata": {},
     "output_type": "execute_result"
    }
   ],
   "source": [
    "lst"
   ]
  },
  {
   "cell_type": "code",
   "execution_count": 39,
   "metadata": {},
   "outputs": [],
   "source": [
    "df.loc[0]=lst[0:]"
   ]
  },
  {
   "cell_type": "code",
   "execution_count": 42,
   "metadata": {},
   "outputs": [
    {
     "data": {
      "text/plain": [
       "nan"
      ]
     },
     "execution_count": 42,
     "metadata": {},
     "output_type": "execute_result"
    }
   ],
   "source": [
    "df.loc[0][71]"
   ]
  },
  {
   "cell_type": "code",
   "execution_count": 43,
   "metadata": {},
   "outputs": [],
   "source": [
    "s1=0\n",
    "strt=0\n",
    "stop=0\n",
    "#for l1 in range(strt,stop):\n",
    "    #print(df2['R_height'][l1])\n",
    "lst=df2['R_height']\n",
    "df.loc[0]=lst[strt:stop]\n",
    "#df[0][s1]=pd.Series(df2['R_height'][l1])\n",
    "\n",
    "    #s1=s1+1"
   ]
  },
  {
   "cell_type": "code",
   "execution_count": 29,
   "metadata": {},
   "outputs": [
    {
     "data": {
      "text/html": [
       "<div>\n",
       "<style scoped>\n",
       "    .dataframe tbody tr th:only-of-type {\n",
       "        vertical-align: middle;\n",
       "    }\n",
       "\n",
       "    .dataframe tbody tr th {\n",
       "        vertical-align: top;\n",
       "    }\n",
       "\n",
       "    .dataframe thead th {\n",
       "        text-align: right;\n",
       "    }\n",
       "</style>\n",
       "<table border=\"1\" class=\"dataframe\">\n",
       "  <thead>\n",
       "    <tr style=\"text-align: right;\">\n",
       "      <th></th>\n",
       "      <th>0</th>\n",
       "      <th>1</th>\n",
       "      <th>2</th>\n",
       "      <th>3</th>\n",
       "      <th>4</th>\n",
       "      <th>5</th>\n",
       "      <th>6</th>\n",
       "      <th>7</th>\n",
       "      <th>8</th>\n",
       "      <th>9</th>\n",
       "      <th>...</th>\n",
       "      <th>71</th>\n",
       "      <th>72</th>\n",
       "      <th>73</th>\n",
       "      <th>74</th>\n",
       "      <th>75</th>\n",
       "      <th>76</th>\n",
       "      <th>77</th>\n",
       "      <th>78</th>\n",
       "      <th>79</th>\n",
       "      <th>80</th>\n",
       "    </tr>\n",
       "  </thead>\n",
       "  <tbody>\n",
       "    <tr>\n",
       "      <th>0</th>\n",
       "      <td>0.725975</td>\n",
       "      <td>NaN</td>\n",
       "      <td>NaN</td>\n",
       "      <td>NaN</td>\n",
       "      <td>NaN</td>\n",
       "      <td>NaN</td>\n",
       "      <td>NaN</td>\n",
       "      <td>NaN</td>\n",
       "      <td>NaN</td>\n",
       "      <td>NaN</td>\n",
       "      <td>...</td>\n",
       "      <td>NaN</td>\n",
       "      <td>NaN</td>\n",
       "      <td>NaN</td>\n",
       "      <td>NaN</td>\n",
       "      <td>NaN</td>\n",
       "      <td>NaN</td>\n",
       "      <td>NaN</td>\n",
       "      <td>NaN</td>\n",
       "      <td>NaN</td>\n",
       "      <td>NaN</td>\n",
       "    </tr>\n",
       "  </tbody>\n",
       "</table>\n",
       "<p>1 rows × 81 columns</p>\n",
       "</div>"
      ],
      "text/plain": [
       "         0    1    2    3    4    5    6    7    8    9   ...   71   72   73  \\\n",
       "0  0.725975  NaN  NaN  NaN  NaN  NaN  NaN  NaN  NaN  NaN  ...  NaN  NaN  NaN   \n",
       "\n",
       "    74   75   76   77   78   79   80  \n",
       "0  NaN  NaN  NaN  NaN  NaN  NaN  NaN  \n",
       "\n",
       "[1 rows x 81 columns]"
      ]
     },
     "execution_count": 29,
     "metadata": {},
     "output_type": "execute_result"
    }
   ],
   "source": [
    "df"
   ]
  },
  {
   "cell_type": "code",
   "execution_count": 24,
   "metadata": {
    "collapsed": true
   },
   "outputs": [
    {
     "name": "stderr",
     "output_type": "stream",
     "text": [
      "C:\\Users\\NLI\\anaconda3\\lib\\site-packages\\ipykernel_launcher.py:5: SettingWithCopyWarning: \n",
      "A value is trying to be set on a copy of a slice from a DataFrame\n",
      "\n",
      "See the caveats in the documentation: https://pandas.pydata.org/pandas-docs/stable/user_guide/indexing.html#returning-a-view-versus-a-copy\n",
      "  \"\"\"\n",
      "C:\\Users\\NLI\\anaconda3\\lib\\site-packages\\ipykernel_launcher.py:8: SettingWithCopyWarning: \n",
      "A value is trying to be set on a copy of a slice from a DataFrame\n",
      "\n",
      "See the caveats in the documentation: https://pandas.pydata.org/pandas-docs/stable/user_guide/indexing.html#returning-a-view-versus-a-copy\n",
      "  \n"
     ]
    }
   ],
   "source": [
    "strt=0\n",
    "stop=40\n",
    "s1=0\n",
    "for l1 in range(strt,stop):\n",
    "    df.loc[0][s1]=pd.Series(df2['R_height'][l1])\n",
    "    s1=s1+1\n",
    "for l2 in range(strt,stop):\n",
    "    df.loc[0][s1]=pd.Series(df2['s_pt'][l2])\n",
    "    s1=s1+1 "
   ]
  },
  {
   "cell_type": "code",
   "execution_count": 7,
   "metadata": {},
   "outputs": [
    {
     "ename": "KeyError",
     "evalue": "0",
     "output_type": "error",
     "traceback": [
      "\u001b[1;31m---------------------------------------------------------------------------\u001b[0m",
      "\u001b[1;31mKeyError\u001b[0m                                  Traceback (most recent call last)",
      "\u001b[1;32m~\\anaconda3\\lib\\site-packages\\pandas\\core\\indexes\\base.py\u001b[0m in \u001b[0;36mget_loc\u001b[1;34m(self, key, method, tolerance)\u001b[0m\n\u001b[0;32m   2645\u001b[0m             \u001b[1;32mtry\u001b[0m\u001b[1;33m:\u001b[0m\u001b[1;33m\u001b[0m\u001b[1;33m\u001b[0m\u001b[0m\n\u001b[1;32m-> 2646\u001b[1;33m                 \u001b[1;32mreturn\u001b[0m \u001b[0mself\u001b[0m\u001b[1;33m.\u001b[0m\u001b[0m_engine\u001b[0m\u001b[1;33m.\u001b[0m\u001b[0mget_loc\u001b[0m\u001b[1;33m(\u001b[0m\u001b[0mkey\u001b[0m\u001b[1;33m)\u001b[0m\u001b[1;33m\u001b[0m\u001b[1;33m\u001b[0m\u001b[0m\n\u001b[0m\u001b[0;32m   2647\u001b[0m             \u001b[1;32mexcept\u001b[0m \u001b[0mKeyError\u001b[0m\u001b[1;33m:\u001b[0m\u001b[1;33m\u001b[0m\u001b[1;33m\u001b[0m\u001b[0m\n",
      "\u001b[1;32mpandas\\_libs\\index.pyx\u001b[0m in \u001b[0;36mpandas._libs.index.IndexEngine.get_loc\u001b[1;34m()\u001b[0m\n",
      "\u001b[1;32mpandas\\_libs\\index.pyx\u001b[0m in \u001b[0;36mpandas._libs.index.IndexEngine.get_loc\u001b[1;34m()\u001b[0m\n",
      "\u001b[1;32mpandas\\_libs\\hashtable_class_helper.pxi\u001b[0m in \u001b[0;36mpandas._libs.hashtable.PyObjectHashTable.get_item\u001b[1;34m()\u001b[0m\n",
      "\u001b[1;32mpandas\\_libs\\hashtable_class_helper.pxi\u001b[0m in \u001b[0;36mpandas._libs.hashtable.PyObjectHashTable.get_item\u001b[1;34m()\u001b[0m\n",
      "\u001b[1;31mKeyError\u001b[0m: 0",
      "\nDuring handling of the above exception, another exception occurred:\n",
      "\u001b[1;31mKeyError\u001b[0m                                  Traceback (most recent call last)",
      "\u001b[1;32m<ipython-input-7-e51601df52d6>\u001b[0m in \u001b[0;36m<module>\u001b[1;34m\u001b[0m\n\u001b[0;32m     13\u001b[0m \u001b[0ms1\u001b[0m\u001b[1;33m=\u001b[0m\u001b[1;36m0\u001b[0m\u001b[1;33m\u001b[0m\u001b[1;33m\u001b[0m\u001b[0m\n\u001b[0;32m     14\u001b[0m \u001b[1;32mfor\u001b[0m \u001b[0ml1\u001b[0m \u001b[1;32min\u001b[0m \u001b[0mrange\u001b[0m\u001b[1;33m(\u001b[0m\u001b[0mstrt\u001b[0m\u001b[1;33m,\u001b[0m\u001b[0mstop\u001b[0m\u001b[1;33m)\u001b[0m\u001b[1;33m:\u001b[0m\u001b[1;33m\u001b[0m\u001b[1;33m\u001b[0m\u001b[0m\n\u001b[1;32m---> 15\u001b[1;33m     \u001b[0mdf\u001b[0m\u001b[1;33m.\u001b[0m\u001b[0mloc\u001b[0m\u001b[1;33m[\u001b[0m\u001b[0mi\u001b[0m\u001b[1;33m+\u001b[0m\u001b[0mk\u001b[0m\u001b[1;33m]\u001b[0m\u001b[1;33m[\u001b[0m\u001b[0ms1\u001b[0m\u001b[1;33m]\u001b[0m\u001b[1;33m=\u001b[0m\u001b[0mdf2\u001b[0m\u001b[1;33m[\u001b[0m\u001b[1;34m'R_height'\u001b[0m\u001b[1;33m]\u001b[0m\u001b[1;33m[\u001b[0m\u001b[0ml1\u001b[0m\u001b[1;33m]\u001b[0m\u001b[1;33m\u001b[0m\u001b[1;33m\u001b[0m\u001b[0m\n\u001b[0m\u001b[0;32m     16\u001b[0m     \u001b[0ms1\u001b[0m\u001b[1;33m=\u001b[0m\u001b[0ms1\u001b[0m\u001b[1;33m+\u001b[0m\u001b[1;36m1\u001b[0m\u001b[1;33m\u001b[0m\u001b[1;33m\u001b[0m\u001b[0m\n\u001b[0;32m     17\u001b[0m \u001b[1;32mfor\u001b[0m \u001b[0ml2\u001b[0m \u001b[1;32min\u001b[0m \u001b[0mrange\u001b[0m\u001b[1;33m(\u001b[0m\u001b[0mstrt\u001b[0m\u001b[1;33m,\u001b[0m\u001b[0mstop\u001b[0m\u001b[1;33m)\u001b[0m\u001b[1;33m:\u001b[0m\u001b[1;33m\u001b[0m\u001b[1;33m\u001b[0m\u001b[0m\n",
      "\u001b[1;32m~\\anaconda3\\lib\\site-packages\\pandas\\core\\indexing.py\u001b[0m in \u001b[0;36m__getitem__\u001b[1;34m(self, key)\u001b[0m\n\u001b[0;32m   1765\u001b[0m \u001b[1;33m\u001b[0m\u001b[0m\n\u001b[0;32m   1766\u001b[0m             \u001b[0mmaybe_callable\u001b[0m \u001b[1;33m=\u001b[0m \u001b[0mcom\u001b[0m\u001b[1;33m.\u001b[0m\u001b[0mapply_if_callable\u001b[0m\u001b[1;33m(\u001b[0m\u001b[0mkey\u001b[0m\u001b[1;33m,\u001b[0m \u001b[0mself\u001b[0m\u001b[1;33m.\u001b[0m\u001b[0mobj\u001b[0m\u001b[1;33m)\u001b[0m\u001b[1;33m\u001b[0m\u001b[1;33m\u001b[0m\u001b[0m\n\u001b[1;32m-> 1767\u001b[1;33m             \u001b[1;32mreturn\u001b[0m \u001b[0mself\u001b[0m\u001b[1;33m.\u001b[0m\u001b[0m_getitem_axis\u001b[0m\u001b[1;33m(\u001b[0m\u001b[0mmaybe_callable\u001b[0m\u001b[1;33m,\u001b[0m \u001b[0maxis\u001b[0m\u001b[1;33m=\u001b[0m\u001b[0maxis\u001b[0m\u001b[1;33m)\u001b[0m\u001b[1;33m\u001b[0m\u001b[1;33m\u001b[0m\u001b[0m\n\u001b[0m\u001b[0;32m   1768\u001b[0m \u001b[1;33m\u001b[0m\u001b[0m\n\u001b[0;32m   1769\u001b[0m     \u001b[1;32mdef\u001b[0m \u001b[0m_is_scalar_access\u001b[0m\u001b[1;33m(\u001b[0m\u001b[0mself\u001b[0m\u001b[1;33m,\u001b[0m \u001b[0mkey\u001b[0m\u001b[1;33m:\u001b[0m \u001b[0mTuple\u001b[0m\u001b[1;33m)\u001b[0m\u001b[1;33m:\u001b[0m\u001b[1;33m\u001b[0m\u001b[1;33m\u001b[0m\u001b[0m\n",
      "\u001b[1;32m~\\anaconda3\\lib\\site-packages\\pandas\\core\\indexing.py\u001b[0m in \u001b[0;36m_getitem_axis\u001b[1;34m(self, key, axis)\u001b[0m\n\u001b[0;32m   1962\u001b[0m         \u001b[1;31m# fall thru to straight lookup\u001b[0m\u001b[1;33m\u001b[0m\u001b[1;33m\u001b[0m\u001b[1;33m\u001b[0m\u001b[0m\n\u001b[0;32m   1963\u001b[0m         \u001b[0mself\u001b[0m\u001b[1;33m.\u001b[0m\u001b[0m_validate_key\u001b[0m\u001b[1;33m(\u001b[0m\u001b[0mkey\u001b[0m\u001b[1;33m,\u001b[0m \u001b[0maxis\u001b[0m\u001b[1;33m)\u001b[0m\u001b[1;33m\u001b[0m\u001b[1;33m\u001b[0m\u001b[0m\n\u001b[1;32m-> 1964\u001b[1;33m         \u001b[1;32mreturn\u001b[0m \u001b[0mself\u001b[0m\u001b[1;33m.\u001b[0m\u001b[0m_get_label\u001b[0m\u001b[1;33m(\u001b[0m\u001b[0mkey\u001b[0m\u001b[1;33m,\u001b[0m \u001b[0maxis\u001b[0m\u001b[1;33m=\u001b[0m\u001b[0maxis\u001b[0m\u001b[1;33m)\u001b[0m\u001b[1;33m\u001b[0m\u001b[1;33m\u001b[0m\u001b[0m\n\u001b[0m\u001b[0;32m   1965\u001b[0m \u001b[1;33m\u001b[0m\u001b[0m\n\u001b[0;32m   1966\u001b[0m \u001b[1;33m\u001b[0m\u001b[0m\n",
      "\u001b[1;32m~\\anaconda3\\lib\\site-packages\\pandas\\core\\indexing.py\u001b[0m in \u001b[0;36m_get_label\u001b[1;34m(self, label, axis)\u001b[0m\n\u001b[0;32m    622\u001b[0m             \u001b[1;32mraise\u001b[0m \u001b[0mIndexingError\u001b[0m\u001b[1;33m(\u001b[0m\u001b[1;34m\"no slices here, handle elsewhere\"\u001b[0m\u001b[1;33m)\u001b[0m\u001b[1;33m\u001b[0m\u001b[1;33m\u001b[0m\u001b[0m\n\u001b[0;32m    623\u001b[0m \u001b[1;33m\u001b[0m\u001b[0m\n\u001b[1;32m--> 624\u001b[1;33m         \u001b[1;32mreturn\u001b[0m \u001b[0mself\u001b[0m\u001b[1;33m.\u001b[0m\u001b[0mobj\u001b[0m\u001b[1;33m.\u001b[0m\u001b[0m_xs\u001b[0m\u001b[1;33m(\u001b[0m\u001b[0mlabel\u001b[0m\u001b[1;33m,\u001b[0m \u001b[0maxis\u001b[0m\u001b[1;33m=\u001b[0m\u001b[0maxis\u001b[0m\u001b[1;33m)\u001b[0m\u001b[1;33m\u001b[0m\u001b[1;33m\u001b[0m\u001b[0m\n\u001b[0m\u001b[0;32m    625\u001b[0m \u001b[1;33m\u001b[0m\u001b[0m\n\u001b[0;32m    626\u001b[0m     \u001b[1;32mdef\u001b[0m \u001b[0m_get_loc\u001b[0m\u001b[1;33m(\u001b[0m\u001b[0mself\u001b[0m\u001b[1;33m,\u001b[0m \u001b[0mkey\u001b[0m\u001b[1;33m:\u001b[0m \u001b[0mint\u001b[0m\u001b[1;33m,\u001b[0m \u001b[0maxis\u001b[0m\u001b[1;33m:\u001b[0m \u001b[0mint\u001b[0m\u001b[1;33m)\u001b[0m\u001b[1;33m:\u001b[0m\u001b[1;33m\u001b[0m\u001b[1;33m\u001b[0m\u001b[0m\n",
      "\u001b[1;32m~\\anaconda3\\lib\\site-packages\\pandas\\core\\generic.py\u001b[0m in \u001b[0;36mxs\u001b[1;34m(self, key, axis, level, drop_level)\u001b[0m\n\u001b[0;32m   3535\u001b[0m             \u001b[0mloc\u001b[0m\u001b[1;33m,\u001b[0m \u001b[0mnew_index\u001b[0m \u001b[1;33m=\u001b[0m \u001b[0mself\u001b[0m\u001b[1;33m.\u001b[0m\u001b[0mindex\u001b[0m\u001b[1;33m.\u001b[0m\u001b[0mget_loc_level\u001b[0m\u001b[1;33m(\u001b[0m\u001b[0mkey\u001b[0m\u001b[1;33m,\u001b[0m \u001b[0mdrop_level\u001b[0m\u001b[1;33m=\u001b[0m\u001b[0mdrop_level\u001b[0m\u001b[1;33m)\u001b[0m\u001b[1;33m\u001b[0m\u001b[1;33m\u001b[0m\u001b[0m\n\u001b[0;32m   3536\u001b[0m         \u001b[1;32melse\u001b[0m\u001b[1;33m:\u001b[0m\u001b[1;33m\u001b[0m\u001b[1;33m\u001b[0m\u001b[0m\n\u001b[1;32m-> 3537\u001b[1;33m             \u001b[0mloc\u001b[0m \u001b[1;33m=\u001b[0m \u001b[0mself\u001b[0m\u001b[1;33m.\u001b[0m\u001b[0mindex\u001b[0m\u001b[1;33m.\u001b[0m\u001b[0mget_loc\u001b[0m\u001b[1;33m(\u001b[0m\u001b[0mkey\u001b[0m\u001b[1;33m)\u001b[0m\u001b[1;33m\u001b[0m\u001b[1;33m\u001b[0m\u001b[0m\n\u001b[0m\u001b[0;32m   3538\u001b[0m \u001b[1;33m\u001b[0m\u001b[0m\n\u001b[0;32m   3539\u001b[0m             \u001b[1;32mif\u001b[0m \u001b[0misinstance\u001b[0m\u001b[1;33m(\u001b[0m\u001b[0mloc\u001b[0m\u001b[1;33m,\u001b[0m \u001b[0mnp\u001b[0m\u001b[1;33m.\u001b[0m\u001b[0mndarray\u001b[0m\u001b[1;33m)\u001b[0m\u001b[1;33m:\u001b[0m\u001b[1;33m\u001b[0m\u001b[1;33m\u001b[0m\u001b[0m\n",
      "\u001b[1;32m~\\anaconda3\\lib\\site-packages\\pandas\\core\\indexes\\base.py\u001b[0m in \u001b[0;36mget_loc\u001b[1;34m(self, key, method, tolerance)\u001b[0m\n\u001b[0;32m   2646\u001b[0m                 \u001b[1;32mreturn\u001b[0m \u001b[0mself\u001b[0m\u001b[1;33m.\u001b[0m\u001b[0m_engine\u001b[0m\u001b[1;33m.\u001b[0m\u001b[0mget_loc\u001b[0m\u001b[1;33m(\u001b[0m\u001b[0mkey\u001b[0m\u001b[1;33m)\u001b[0m\u001b[1;33m\u001b[0m\u001b[1;33m\u001b[0m\u001b[0m\n\u001b[0;32m   2647\u001b[0m             \u001b[1;32mexcept\u001b[0m \u001b[0mKeyError\u001b[0m\u001b[1;33m:\u001b[0m\u001b[1;33m\u001b[0m\u001b[1;33m\u001b[0m\u001b[0m\n\u001b[1;32m-> 2648\u001b[1;33m                 \u001b[1;32mreturn\u001b[0m \u001b[0mself\u001b[0m\u001b[1;33m.\u001b[0m\u001b[0m_engine\u001b[0m\u001b[1;33m.\u001b[0m\u001b[0mget_loc\u001b[0m\u001b[1;33m(\u001b[0m\u001b[0mself\u001b[0m\u001b[1;33m.\u001b[0m\u001b[0m_maybe_cast_indexer\u001b[0m\u001b[1;33m(\u001b[0m\u001b[0mkey\u001b[0m\u001b[1;33m)\u001b[0m\u001b[1;33m)\u001b[0m\u001b[1;33m\u001b[0m\u001b[1;33m\u001b[0m\u001b[0m\n\u001b[0m\u001b[0;32m   2649\u001b[0m         \u001b[0mindexer\u001b[0m \u001b[1;33m=\u001b[0m \u001b[0mself\u001b[0m\u001b[1;33m.\u001b[0m\u001b[0mget_indexer\u001b[0m\u001b[1;33m(\u001b[0m\u001b[1;33m[\u001b[0m\u001b[0mkey\u001b[0m\u001b[1;33m]\u001b[0m\u001b[1;33m,\u001b[0m \u001b[0mmethod\u001b[0m\u001b[1;33m=\u001b[0m\u001b[0mmethod\u001b[0m\u001b[1;33m,\u001b[0m \u001b[0mtolerance\u001b[0m\u001b[1;33m=\u001b[0m\u001b[0mtolerance\u001b[0m\u001b[1;33m)\u001b[0m\u001b[1;33m\u001b[0m\u001b[1;33m\u001b[0m\u001b[0m\n\u001b[0;32m   2650\u001b[0m         \u001b[1;32mif\u001b[0m \u001b[0mindexer\u001b[0m\u001b[1;33m.\u001b[0m\u001b[0mndim\u001b[0m \u001b[1;33m>\u001b[0m \u001b[1;36m1\u001b[0m \u001b[1;32mor\u001b[0m \u001b[0mindexer\u001b[0m\u001b[1;33m.\u001b[0m\u001b[0msize\u001b[0m \u001b[1;33m>\u001b[0m \u001b[1;36m1\u001b[0m\u001b[1;33m:\u001b[0m\u001b[1;33m\u001b[0m\u001b[1;33m\u001b[0m\u001b[0m\n",
      "\u001b[1;32mpandas\\_libs\\index.pyx\u001b[0m in \u001b[0;36mpandas._libs.index.IndexEngine.get_loc\u001b[1;34m()\u001b[0m\n",
      "\u001b[1;32mpandas\\_libs\\index.pyx\u001b[0m in \u001b[0;36mpandas._libs.index.IndexEngine.get_loc\u001b[1;34m()\u001b[0m\n",
      "\u001b[1;32mpandas\\_libs\\hashtable_class_helper.pxi\u001b[0m in \u001b[0;36mpandas._libs.hashtable.PyObjectHashTable.get_item\u001b[1;34m()\u001b[0m\n",
      "\u001b[1;32mpandas\\_libs\\hashtable_class_helper.pxi\u001b[0m in \u001b[0;36mpandas._libs.hashtable.PyObjectHashTable.get_item\u001b[1;34m()\u001b[0m\n",
      "\u001b[1;31mKeyError\u001b[0m: 0"
     ]
    }
   ],
   "source": [
    "import pandas as pd\n",
    "k=0\n",
    "df=pd.DataFrame(columns=list(range(81)))\n",
    "df2=pd.read_csv(\"E:/Asad work 15th March/keras CNN practise/Arrhythmia ECG1/renamed_database4/ECG1.RSQ1.csv\")\n",
    "    #print(path2)\n",
    "#df1=pd.DataFrame(columns=['R_height'])\n",
    "    \n",
    "#df1['R_height']=df2['R_height']\n",
    "j=int(len(df2['R_height'])/40)\n",
    "strt=0\n",
    "stop=40\n",
    "i=0\n",
    "s1=0\n",
    "for l1 in range(strt,stop):\n",
    "    df.loc[i+k][s1]=df2['R_height'][l1]\n",
    "    s1=s1+1\n",
    "for l2 in range(strt,stop):\n",
    "    df.loc[i+k][s1]=df2['s_pt'][l2]\n",
    "    s1=s1+1\n",
    "#df.loc[i+k]=pd.Series(df2['R_height'][strt:stop].values)\n",
    "#df.loc[i+k][41:]=pd.Series(df2['s_pt'][strt:stop].values)\n",
    "        #lbl=get_label(file)\n",
    "df.loc[i+k][80]=0\n",
    "strt=stop\n",
    "stop=stop+40\n",
    "k=k+j+1\n",
    "print(df.head())"
   ]
  },
  {
   "cell_type": "code",
   "execution_count": 49,
   "metadata": {},
   "outputs": [
    {
     "data": {
      "text/html": [
       "<div>\n",
       "<style scoped>\n",
       "    .dataframe tbody tr th:only-of-type {\n",
       "        vertical-align: middle;\n",
       "    }\n",
       "\n",
       "    .dataframe tbody tr th {\n",
       "        vertical-align: top;\n",
       "    }\n",
       "\n",
       "    .dataframe thead th {\n",
       "        text-align: right;\n",
       "    }\n",
       "</style>\n",
       "<table border=\"1\" class=\"dataframe\">\n",
       "  <thead>\n",
       "    <tr style=\"text-align: right;\">\n",
       "      <th></th>\n",
       "      <th>0</th>\n",
       "      <th>1</th>\n",
       "      <th>2</th>\n",
       "      <th>3</th>\n",
       "      <th>4</th>\n",
       "      <th>5</th>\n",
       "      <th>6</th>\n",
       "      <th>7</th>\n",
       "      <th>8</th>\n",
       "      <th>9</th>\n",
       "      <th>...</th>\n",
       "      <th>71</th>\n",
       "      <th>72</th>\n",
       "      <th>73</th>\n",
       "      <th>74</th>\n",
       "      <th>75</th>\n",
       "      <th>76</th>\n",
       "      <th>77</th>\n",
       "      <th>78</th>\n",
       "      <th>79</th>\n",
       "      <th>80</th>\n",
       "    </tr>\n",
       "  </thead>\n",
       "  <tbody>\n",
       "    <tr>\n",
       "      <th>0</th>\n",
       "      <td>0.725975</td>\n",
       "      <td>0.704002</td>\n",
       "      <td>0.781551</td>\n",
       "      <td>0.800588</td>\n",
       "      <td>0.844261</td>\n",
       "      <td>0.773219</td>\n",
       "      <td>0.872371</td>\n",
       "      <td>0.866218</td>\n",
       "      <td>0.807279</td>\n",
       "      <td>0.822086</td>\n",
       "      <td>...</td>\n",
       "      <td>0.081397</td>\n",
       "      <td>0.101461</td>\n",
       "      <td>0.048843</td>\n",
       "      <td>0.062198</td>\n",
       "      <td>0.059006</td>\n",
       "      <td>0.055239</td>\n",
       "      <td>-0.016816</td>\n",
       "      <td>0.045746</td>\n",
       "      <td>0.030879</td>\n",
       "      <td>0.0</td>\n",
       "    </tr>\n",
       "  </tbody>\n",
       "</table>\n",
       "<p>1 rows × 81 columns</p>\n",
       "</div>"
      ],
      "text/plain": [
       "         0         1         2         3         4         5         6   \\\n",
       "0  0.725975  0.704002  0.781551  0.800588  0.844261  0.773219  0.872371   \n",
       "\n",
       "         7         8         9   ...        71        72        73        74  \\\n",
       "0  0.866218  0.807279  0.822086  ...  0.081397  0.101461  0.048843  0.062198   \n",
       "\n",
       "         75        76        77        78        79   80  \n",
       "0  0.059006  0.055239 -0.016816  0.045746  0.030879  0.0  \n",
       "\n",
       "[1 rows x 81 columns]"
      ]
     },
     "execution_count": 49,
     "metadata": {},
     "output_type": "execute_result"
    }
   ],
   "source": [
    "df"
   ]
  },
  {
   "cell_type": "code",
   "execution_count": 50,
   "metadata": {},
   "outputs": [
    {
     "data": {
      "text/plain": [
       "0.05653169770105801"
      ]
     },
     "execution_count": 50,
     "metadata": {},
     "output_type": "execute_result"
    }
   ],
   "source": [
    "df.loc[0][41]"
   ]
  },
  {
   "cell_type": "code",
   "execution_count": 51,
   "metadata": {},
   "outputs": [
    {
     "data": {
      "text/plain": [
       "nan"
      ]
     },
     "execution_count": 51,
     "metadata": {},
     "output_type": "execute_result"
    }
   ],
   "source": [
    "df.loc[0][40]"
   ]
  },
  {
   "cell_type": "code",
   "execution_count": 52,
   "metadata": {},
   "outputs": [
    {
     "data": {
      "text/plain": [
       "0.9975235341696534"
      ]
     },
     "execution_count": 52,
     "metadata": {},
     "output_type": "execute_result"
    }
   ],
   "source": [
    "df.loc[0][39]"
   ]
  },
  {
   "cell_type": "code",
   "execution_count": 50,
   "metadata": {},
   "outputs": [
    {
     "data": {
      "text/plain": [
       "array([0.72597546, 0.7040016 , 0.78155072, 0.80058761, 0.84426092,\n",
       "       0.77321856, 0.87237059, 0.86621837, 0.80727922, 0.82208645,\n",
       "       0.75591265, 0.84330889, 0.74797824, 0.69780762, 0.68500591,\n",
       "       0.616053  , 0.7111882 , 0.69806033, 0.64717358, 0.71449709,\n",
       "       0.69303291, 0.69354602, 0.68463307, 0.63264918, 0.62514569,\n",
       "       0.6349352 , 0.82079165, 0.75420281, 0.69009521, 0.71922626,\n",
       "       0.72583237, 0.76440311, 0.64420299, 0.73110335, 0.82740347,\n",
       "       0.94817384, 0.92569936, 0.99139282, 1.        , 0.99752353,\n",
       "       0.92246515, 0.888611  , 0.87947947, 0.83628305, 0.93149553,\n",
       "       0.83881679, 0.88366293, 0.83230049, 0.83623227, 0.84406038,\n",
       "       0.81434963, 0.76440323, 0.7451738 , 0.73742601, 0.76091389,\n",
       "       0.71663056, 0.67037541, 0.67469994, 0.69124246, 0.73405029,\n",
       "       0.70063402, 0.68162391, 0.64387168, 0.67014844, 0.71582009,\n",
       "       0.73561652, 0.73029994, 0.82706841, 0.80241302, 0.76307081,\n",
       "       0.78655861])"
      ]
     },
     "execution_count": 50,
     "metadata": {},
     "output_type": "execute_result"
    }
   ],
   "source": [
    "lst1"
   ]
  },
  {
   "cell_type": "code",
   "execution_count": 52,
   "metadata": {},
   "outputs": [
    {
     "data": {
      "text/plain": [
       "0.7559126536956667"
      ]
     },
     "execution_count": 52,
     "metadata": {},
     "output_type": "execute_result"
    }
   ],
   "source": [
    "lst1[10]"
   ]
  },
  {
   "cell_type": "code",
   "execution_count": 54,
   "metadata": {},
   "outputs": [],
   "source": [
    "demo=[]\n",
    "for x in lst1:\n",
    "    demo.append(x)"
   ]
  },
  {
   "cell_type": "code",
   "execution_count": 55,
   "metadata": {
    "collapsed": true
   },
   "outputs": [
    {
     "data": {
      "text/plain": [
       "[0.7259754563351685,\n",
       " 0.7040015979087855,\n",
       " 0.7815507174819039,\n",
       " 0.8005876101665277,\n",
       " 0.8442609167975451,\n",
       " 0.7732185627281021,\n",
       " 0.8723705921410017,\n",
       " 0.8662183742033019,\n",
       " 0.8072792177202827,\n",
       " 0.8220864478586399,\n",
       " 0.7559126536956667,\n",
       " 0.8433088925960157,\n",
       " 0.7479782394800617,\n",
       " 0.6978076248425722,\n",
       " 0.6850059106134565,\n",
       " 0.6160530028105133,\n",
       " 0.7111882047272967,\n",
       " 0.6980603281955367,\n",
       " 0.6471735802315429,\n",
       " 0.7144970875372472,\n",
       " 0.6930329112866807,\n",
       " 0.6935460178583015,\n",
       " 0.6846330709750353,\n",
       " 0.6326491834614593,\n",
       " 0.6251456887352348,\n",
       " 0.6349351984555665,\n",
       " 0.8207916452898109,\n",
       " 0.7542028148200081,\n",
       " 0.6900952079026031,\n",
       " 0.7192262610008431,\n",
       " 0.7258323663192896,\n",
       " 0.7644031134381036,\n",
       " 0.6442029949464381,\n",
       " 0.731103350073302,\n",
       " 0.8274034686242457,\n",
       " 0.9481738356329028,\n",
       " 0.9256993595605626,\n",
       " 0.9913928182226872,\n",
       " 1.0,\n",
       " 0.9975235341696534,\n",
       " 0.9224651499633671,\n",
       " 0.8886110021259299,\n",
       " 0.879479469636756,\n",
       " 0.8362830517131836,\n",
       " 0.931495532687338,\n",
       " 0.8388167910895856,\n",
       " 0.8836629291672691,\n",
       " 0.8323004910934856,\n",
       " 0.8362322707725215,\n",
       " 0.8440603819782433,\n",
       " 0.8143496321328273,\n",
       " 0.7644032273690078,\n",
       " 0.745173803903697,\n",
       " 0.737426014481577,\n",
       " 0.7609138937382449,\n",
       " 0.7166305587176315,\n",
       " 0.6703754103497584,\n",
       " 0.6746999362914241,\n",
       " 0.6912424611131723,\n",
       " 0.7340502895003175,\n",
       " 0.7006340216152293,\n",
       " 0.6816239097259666,\n",
       " 0.6438716771918371,\n",
       " 0.6701484378935217,\n",
       " 0.7158200902250724,\n",
       " 0.7356165166306601,\n",
       " 0.7302999408303358,\n",
       " 0.8270684099361729,\n",
       " 0.8024130151914548,\n",
       " 0.7630708112556507,\n",
       " 0.7865586142909549]"
      ]
     },
     "execution_count": 55,
     "metadata": {},
     "output_type": "execute_result"
    }
   ],
   "source": [
    "demo"
   ]
  },
  {
   "cell_type": "code",
   "execution_count": 20,
   "metadata": {
    "scrolled": true
   },
   "outputs": [
    {
     "data": {
      "text/plain": [
       "0     0.056532\n",
       "1     0.025954\n",
       "2     0.029752\n",
       "3     0.050937\n",
       "4     0.035011\n",
       "        ...   \n",
       "66    0.042820\n",
       "67    0.011518\n",
       "68    0.061669\n",
       "69    0.056330\n",
       "70    0.017006\n",
       "Name: s_pt, Length: 71, dtype: float64"
      ]
     },
     "execution_count": 20,
     "metadata": {},
     "output_type": "execute_result"
    }
   ],
   "source": [
    "lst2"
   ]
  },
  {
   "cell_type": "code",
   "execution_count": 26,
   "metadata": {},
   "outputs": [
    {
     "name": "stdout",
     "output_type": "stream",
     "text": [
      "[0.05653169770105801, 0.025953924725357336, 0.02975159467467049, 0.050936663469993024, 0.03501095371334287, 0.038267032776607215, 0.011413636028396913, 0.05134914339500533, 0.14531529294137058, 0.07226931539288811, 0.045462245887812634, 0.046025520903056436, 0.06647742644130608, 0.07530255857815424, 0.02492504892306557, 0.043855625654044335, 0.11151201459594368, 0.06651631894708232, 0.04153269176865578, 0.05716625502149378, 0.07405862678047308, 0.07938961718937522, 0.05554229284828497, 0.07222778055954111, 0.0734797285369297, 0.06287334412873849, 0.0422623406344558, 0.05258324445578587, 0.1300915691650575, 0.0821025192360084, 0.08139651335818596, 0.10146147705005996, 0.048842982340937736, 0.06219841853148736, 0.059005679146231275, 0.055239247515135086, -0.016816212505796086, 0.045745570050439416, 0.030878686483953987, 0.056825032392251576, 0.04528417498616071, 0.0679524515717765, 0.04341636567299875, 0.032335836145796236, 0.06985411654301972, 0.09780691072544807, 0.08354349655278956, 0.10246520383732452, 0.06412778246945912, 0.02005101141910993, 0.06468434768737262, 0.07126025394017797, 0.0686185418690927, 0.05607632870714877, 0.06202930822180811, 0.06568211295222598, 0.05349368639932689, 0.03377428382293153, 0.03385391992314552, 0.04913165421931461, 0.04532745499454377, 0.0717058810616755, 0.04138848511445204, 0.04037594846007197, 0.0412960756061288, 0.06962023452109113, 0.04281962899270848, 0.01151762669204348, 0.06166876372548901, 0.05633027940850476, 0.01700561195392191, 0.7259754563351685, 0.7040015979087855, 0.7815507174819039, 0.8005876101665277, 0.8442609167975451, 0.7732185627281021, 0.8723705921410017, 0.8662183742033019, 0.8072792177202827, 0.8220864478586399, 0.7559126536956667, 0.8433088925960157, 0.7479782394800617, 0.6978076248425722, 0.6850059106134565, 0.6160530028105133, 0.7111882047272967, 0.6980603281955367, 0.6471735802315429, 0.7144970875372472, 0.6930329112866807, 0.6935460178583015, 0.6846330709750353, 0.6326491834614593, 0.6251456887352348, 0.6349351984555665, 0.8207916452898109, 0.7542028148200081, 0.6900952079026031, 0.7192262610008431, 0.7258323663192896, 0.7644031134381036, 0.6442029949464381, 0.731103350073302, 0.8274034686242457, 0.9481738356329028, 0.9256993595605626, 0.9913928182226872, 1.0, 0.9975235341696534, 0.9224651499633671, 0.8886110021259299, 0.879479469636756, 0.8362830517131836, 0.931495532687338, 0.8388167910895856, 0.8836629291672691, 0.8323004910934856, 0.8362322707725215, 0.8440603819782433, 0.8143496321328273, 0.7644032273690078, 0.745173803903697, 0.737426014481577, 0.7609138937382449, 0.7166305587176315, 0.6703754103497584, 0.6746999362914241, 0.6912424611131723, 0.7340502895003175, 0.7006340216152293, 0.6816239097259666, 0.6438716771918371, 0.6701484378935217, 0.7158200902250724, 0.7356165166306601, 0.7302999408303358, 0.8270684099361729, 0.8024130151914548, 0.7630708112556507, 0.7865586142909549]\n"
     ]
    }
   ],
   "source": [
    "lst3=[]\n",
    "for x in lst2:\n",
    "    lst3.append(x)\n",
    "for y in lst1:\n",
    "    lst3.append(y)\n",
    "print(lst3)"
   ]
  },
  {
   "cell_type": "code",
   "execution_count": 31,
   "metadata": {},
   "outputs": [],
   "source": [
    "tst=[]\n",
    "tst=lst3[120:160]"
   ]
  },
  {
   "cell_type": "code",
   "execution_count": 33,
   "metadata": {},
   "outputs": [
    {
     "data": {
      "text/plain": [
       "22"
      ]
     },
     "execution_count": 33,
     "metadata": {},
     "output_type": "execute_result"
    }
   ],
   "source": [
    "len(tst)"
   ]
  },
  {
   "cell_type": "code",
   "execution_count": 36,
   "metadata": {},
   "outputs": [
    {
     "name": "stdout",
     "output_type": "stream",
     "text": [
      "18\n"
     ]
    }
   ],
   "source": [
    "if(len(tst)<41):\n",
    "    cnt=40-len(tst)\n",
    "    print(cnt)\n",
    "    for i in range(cnt):\n",
    "        tst.append(0)"
   ]
  },
  {
   "cell_type": "code",
   "execution_count": 37,
   "metadata": {},
   "outputs": [
    {
     "name": "stdout",
     "output_type": "stream",
     "text": [
      "40\n"
     ]
    }
   ],
   "source": [
    "print(len(tst))"
   ]
  },
  {
   "cell_type": "code",
   "execution_count": 13,
   "metadata": {},
   "outputs": [],
   "source": [
    "lst3=[lst1]+[lst2]"
   ]
  },
  {
   "cell_type": "code",
   "execution_count": 18,
   "metadata": {},
   "outputs": [
    {
     "data": {
      "text/plain": [
       "0     0.056532\n",
       "1     0.025954\n",
       "2     0.029752\n",
       "3     0.050937\n",
       "4     0.035011\n",
       "        ...   \n",
       "66    0.042820\n",
       "67    0.011518\n",
       "68    0.061669\n",
       "69    0.056330\n",
       "70    0.017006\n",
       "Name: s_pt, Length: 71, dtype: float64"
      ]
     },
     "execution_count": 18,
     "metadata": {},
     "output_type": "execute_result"
    }
   ],
   "source": [
    "lst3[1]"
   ]
  },
  {
   "cell_type": "code",
   "execution_count": 60,
   "metadata": {},
   "outputs": [],
   "source": [
    "lst1=df2['R_height'].values"
   ]
  },
  {
   "cell_type": "code",
   "execution_count": 61,
   "metadata": {},
   "outputs": [
    {
     "data": {
      "text/plain": [
       "array([0.72597546, 0.7040016 , 0.78155072, 0.80058761, 0.84426092,\n",
       "       0.77321856, 0.87237059, 0.86621837, 0.80727922, 0.82208645,\n",
       "       0.75591265, 0.84330889, 0.74797824, 0.69780762, 0.68500591,\n",
       "       0.616053  , 0.7111882 , 0.69806033, 0.64717358, 0.71449709,\n",
       "       0.69303291, 0.69354602, 0.68463307, 0.63264918, 0.62514569,\n",
       "       0.6349352 , 0.82079165, 0.75420281, 0.69009521, 0.71922626,\n",
       "       0.72583237, 0.76440311, 0.64420299, 0.73110335, 0.82740347,\n",
       "       0.94817384, 0.92569936, 0.99139282, 1.        , 0.99752353,\n",
       "       0.92246515, 0.888611  , 0.87947947, 0.83628305, 0.93149553,\n",
       "       0.83881679, 0.88366293, 0.83230049, 0.83623227, 0.84406038,\n",
       "       0.81434963, 0.76440323, 0.7451738 , 0.73742601, 0.76091389,\n",
       "       0.71663056, 0.67037541, 0.67469994, 0.69124246, 0.73405029,\n",
       "       0.70063402, 0.68162391, 0.64387168, 0.67014844, 0.71582009,\n",
       "       0.73561652, 0.73029994, 0.82706841, 0.80241302, 0.76307081,\n",
       "       0.78655861])"
      ]
     },
     "execution_count": 61,
     "metadata": {},
     "output_type": "execute_result"
    }
   ],
   "source": [
    "lst1"
   ]
  },
  {
   "cell_type": "code",
   "execution_count": null,
   "metadata": {},
   "outputs": [],
   "source": []
  },
  {
   "cell_type": "code",
   "execution_count": null,
   "metadata": {},
   "outputs": [],
   "source": []
  },
  {
   "cell_type": "code",
   "execution_count": 74,
   "metadata": {},
   "outputs": [
    {
     "name": "stdout",
     "output_type": "stream",
     "text": [
      "81\n",
      "[0.7259754563351685, 0.7040015979087855, 0.7815507174819039, 0.8005876101665277, 0.8442609167975451, 0.7732185627281021, 0.8723705921410017, 0.8662183742033019, 0.8072792177202827, 0.8220864478586399, 0.7559126536956667, 0.8433088925960157, 0.7479782394800617, 0.6978076248425722, 0.6850059106134565, 0.6160530028105133, 0.7111882047272967, 0.6980603281955367, 0.6471735802315429, 0.7144970875372472, 0.6930329112866807, 0.6935460178583015, 0.6846330709750353, 0.6326491834614593, 0.6251456887352348, 0.6349351984555665, 0.8207916452898109, 0.7542028148200081, 0.6900952079026031, 0.7192262610008431, 0.7258323663192896, 0.7644031134381036, 0.6442029949464381, 0.731103350073302, 0.8274034686242457, 0.9481738356329028, 0.9256993595605626, 0.9913928182226872, 1.0, 0.9975235341696534, 0.05653169770105801, 0.025953924725357336, 0.02975159467467049, 0.050936663469993024, 0.03501095371334287, 0.038267032776607215, 0.011413636028396913, 0.05134914339500533, 0.14531529294137058, 0.07226931539288811, 0.045462245887812634, 0.046025520903056436, 0.06647742644130608, 0.07530255857815424, 0.02492504892306557, 0.043855625654044335, 0.11151201459594368, 0.06651631894708232, 0.04153269176865578, 0.05716625502149378, 0.07405862678047308, 0.07938961718937522, 0.05554229284828497, 0.07222778055954111, 0.0734797285369297, 0.06287334412873849, 0.0422623406344558, 0.05258324445578587, 0.1300915691650575, 0.0821025192360084, 0.08139651335818596, 0.10146147705005996, 0.048842982340937736, 0.06219841853148736, 0.059005679146231275, 0.055239247515135086, -0.016816212505796086, 0.045745570050439416, 0.030878686483953987, 0.056825032392251576, 0]\n"
     ]
    }
   ],
   "source": [
    "import pandas as pd\n",
    "k=0\n",
    "df=pd.DataFrame(columns=list(range(81)))\n",
    "df2=pd.read_csv(\"E:/Asad work 15th March/keras CNN practise/Arrhythmia ECG1/renamed_database4/ECG1.RSQ1.csv\")\n",
    "    #print(path2)\n",
    "#df1=pd.DataFrame(columns=['R_height'])\n",
    "    \n",
    "#df1['R_height']=df2['R_height']\n",
    "j=int(len(df2['R_height'])/40)\n",
    "strt=0\n",
    "stop=40\n",
    "i=0\n",
    "lst1=[]\n",
    "lst2=[]\n",
    "lst3=[]\n",
    "tst=[]\n",
    "lst1=df2['R_height'].values\n",
    "lst1=lst1[strt:stop]\n",
    "lst2=df2['s_pt'].values\n",
    "lst2=lst2[strt:stop]\n",
    "for x in lst1:\n",
    "    lst3.append(x)\n",
    "for x in lst2:\n",
    "    lst3.append(x)\n",
    "tst=lst3[0:80]\n",
    "if(len(tst)<41):\n",
    "    cnt=40-len(tst)\n",
    "    print(cnt)\n",
    "    for i in range(cnt):\n",
    "        tst.append(0)\n",
    "tst.append(0)\n",
    "print(len(tst))\n",
    "print(tst)\n",
    "#df.loc[i+k]=pd.Series(tst)\n",
    "#df.loc[i+k]=pd.Series(df2['R_height'][strt:stop].values)\n",
    "#df.loc[i+k][41:]=pd.Series(df2['s_pt'][strt:stop].values)\n",
    "        #lbl=get_label(file)\n",
    "#df.loc[i+k][80]=0\n",
    "df.loc[0]=tst\n",
    "strt=stop\n",
    "stop=stop+40\n",
    "k=k+j+1\n",
    "#print(df.head())"
   ]
  },
  {
   "cell_type": "code",
   "execution_count": 73,
   "metadata": {},
   "outputs": [
    {
     "name": "stdout",
     "output_type": "stream",
     "text": [
      "[0.72597546 0.7040016  0.78155072 0.80058761 0.84426092 0.77321856\n",
      " 0.87237059 0.86621837 0.80727922 0.82208645 0.75591265 0.84330889\n",
      " 0.74797824 0.69780762 0.68500591 0.616053   0.7111882  0.69806033\n",
      " 0.64717358 0.71449709 0.69303291 0.69354602 0.68463307 0.63264918\n",
      " 0.62514569 0.6349352  0.82079165 0.75420281 0.69009521 0.71922626\n",
      " 0.72583237 0.76440311 0.64420299 0.73110335 0.82740347 0.94817384\n",
      " 0.92569936 0.99139282 1.         0.99752353 0.92246515 0.888611\n",
      " 0.87947947 0.83628305 0.93149553 0.83881679 0.88366293 0.83230049\n",
      " 0.83623227 0.84406038 0.81434963 0.76440323 0.7451738  0.73742601\n",
      " 0.76091389 0.71663056 0.67037541 0.67469994 0.69124246 0.73405029\n",
      " 0.70063402 0.68162391 0.64387168 0.67014844 0.71582009 0.73561652\n",
      " 0.73029994 0.82706841 0.80241302 0.76307081 0.78655861 0.0565317\n",
      " 0.02595392 0.02975159 0.05093666 0.03501095 0.03826703 0.01141364\n",
      " 0.05134914 0.14531529 0.        ]\n"
     ]
    }
   ],
   "source": [
    "print(df.loc[0].values)"
   ]
  },
  {
   "cell_type": "code",
   "execution_count": 28,
   "metadata": {},
   "outputs": [
    {
     "name": "stdout",
     "output_type": "stream",
     "text": [
      "         0         1         2         3         4         5         6   \\\n",
      "0  0.725975  0.704002  0.781551  0.800588  0.844261  0.773219  0.872371   \n",
      "\n",
      "         7         8         9   ...        71        72        73        74  \\\n",
      "0  0.866218  0.807279  0.822086  ...  0.725832  0.764403  0.644203  0.731103   \n",
      "\n",
      "         75        76        77        78   79        80  \n",
      "0  0.827403  0.948174  0.925699  0.991393  1.0  0.997524  \n",
      "\n",
      "[1 rows x 81 columns]\n"
     ]
    }
   ],
   "source": [
    "print(df)"
   ]
  },
  {
   "cell_type": "code",
   "execution_count": null,
   "metadata": {},
   "outputs": [],
   "source": []
  },
  {
   "cell_type": "code",
   "execution_count": null,
   "metadata": {},
   "outputs": [],
   "source": []
  },
  {
   "cell_type": "code",
   "execution_count": null,
   "metadata": {},
   "outputs": [],
   "source": []
  },
  {
   "cell_type": "code",
   "execution_count": null,
   "metadata": {},
   "outputs": [],
   "source": []
  },
  {
   "cell_type": "code",
   "execution_count": null,
   "metadata": {},
   "outputs": [],
   "source": []
  },
  {
   "cell_type": "code",
   "execution_count": null,
   "metadata": {},
   "outputs": [],
   "source": []
  },
  {
   "cell_type": "code",
   "execution_count": 15,
   "metadata": {},
   "outputs": [
    {
     "data": {
      "text/plain": [
       "['samples (1).csv', 'samples (2).csv', 'samples.csv']"
      ]
     },
     "execution_count": 15,
     "metadata": {},
     "output_type": "execute_result"
    }
   ],
   "source": [
    "os.listdir(coll)"
   ]
  },
  {
   "cell_type": "code",
   "execution_count": 16,
   "metadata": {},
   "outputs": [
    {
     "data": {
      "text/plain": [
       "<enumerate at 0x4e218b8>"
      ]
     },
     "execution_count": 16,
     "metadata": {},
     "output_type": "execute_result"
    }
   ],
   "source": [
    "enumerate(os.listdir(coll))"
   ]
  },
  {
   "cell_type": "code",
   "execution_count": 17,
   "metadata": {},
   "outputs": [
    {
     "data": {
      "text/plain": [
       "[(0, 'samples (1).csv'), (1, 'samples (2).csv'), (2, 'samples.csv')]"
      ]
     },
     "execution_count": 17,
     "metadata": {},
     "output_type": "execute_result"
    }
   ],
   "source": [
    "list(enumerate(os.listdir(coll)))"
   ]
  },
  {
   "cell_type": "code",
   "execution_count": 20,
   "metadata": {},
   "outputs": [
    {
     "name": "stdout",
     "output_type": "stream",
     "text": [
      "0\n",
      "samples (1).csv\n",
      "1\n",
      "samples (2).csv\n",
      "2\n",
      "samples.csv\n"
     ]
    }
   ],
   "source": [
    "for i, filename in enumerate(os.listdir(coll)):\n",
    "    print(i)\n",
    "    print(filename)"
   ]
  },
  {
   "cell_type": "code",
   "execution_count": 12,
   "metadata": {},
   "outputs": [
    {
     "ename": "SyntaxError",
     "evalue": "invalid syntax (<ipython-input-12-fa57fbed3dff>, line 4)",
     "output_type": "error",
     "traceback": [
      "\u001b[1;36m  File \u001b[1;32m\"<ipython-input-12-fa57fbed3dff>\"\u001b[1;36m, line \u001b[1;32m4\u001b[0m\n\u001b[1;33m    os.rename(\"E:/Asad work 15th March/keras CNN practise/Arrhythmia ECG - Copy/Class1_Normal/\" + filename, \"E:/Asad work 15th March/keras CNN practise/Arrhythmia ECG - Copy/renamed_arrhythmia/\" + \"ECG1.\"+str(j) + \".csv\")\u001b[0m\n\u001b[1;37m     ^\u001b[0m\n\u001b[1;31mSyntaxError\u001b[0m\u001b[1;31m:\u001b[0m invalid syntax\n"
     ]
    }
   ],
   "source": [
    "j=1\n",
    "for i, filename in enumerate(os.listdir(coll)):\n",
    "    print(list(enumerate(os.listdir(coll)))\n",
    "    os.rename(\"E:/Asad work 15th March/keras CNN practise/Arrhythmia ECG - Copy/Class1_Normal/\" + filename, \"E:/Asad work 15th March/keras CNN practise/Arrhythmia ECG - Copy/renamed_arrhythmia/\" + \"ECG1.\"+str(j) + \".csv\")\n",
    "    j=j+1"
   ]
  },
  {
   "cell_type": "code",
   "execution_count": 3,
   "metadata": {},
   "outputs": [],
   "source": [
    "coll=\"E:/Asad work 15th March/keras CNN practise/Arrrythmia Databse/Class2_LBB\""
   ]
  },
  {
   "cell_type": "code",
   "execution_count": 4,
   "metadata": {},
   "outputs": [],
   "source": [
    "j=1\n",
    "for i, filename in enumerate(os.listdir(coll)):\n",
    "    os.rename(\"E:/Asad work 15th March/keras CNN practise/Arrrythmia Databse/Class2_LBB/\" + filename, \"E:/Asad work 15th March/keras CNN practise/Arrrythmia Databse/renamed_arrhythmia/\" + \"ECG2.\"+str(j) + \".csv\")\n",
    "    j=j+1"
   ]
  },
  {
   "cell_type": "code",
   "execution_count": 5,
   "metadata": {},
   "outputs": [],
   "source": [
    "coll=\"E:/Asad work 15th March/keras CNN practise/Arrrythmia Databse/Class3_RBB\""
   ]
  },
  {
   "cell_type": "code",
   "execution_count": 6,
   "metadata": {},
   "outputs": [],
   "source": [
    "j=1\n",
    "for i, filename in enumerate(os.listdir(coll)):\n",
    "    os.rename(\"E:/Asad work 15th March/keras CNN practise/Arrrythmia Databse/Class3_RBB/\" + filename, \"E:/Asad work 15th March/keras CNN practise/Arrrythmia Databse/renamed_arrhythmia/\" + \"ECG3.\"+str(j) + \".csv\")\n",
    "    j=j+1"
   ]
  },
  {
   "cell_type": "code",
   "execution_count": 7,
   "metadata": {},
   "outputs": [],
   "source": [
    "coll=\"E:/Asad work 15th March/keras CNN practise/Arrrythmia Databse/Class4_APC\""
   ]
  },
  {
   "cell_type": "code",
   "execution_count": 8,
   "metadata": {},
   "outputs": [],
   "source": [
    "j=1\n",
    "for i, filename in enumerate(os.listdir(coll)):\n",
    "    os.rename(\"E:/Asad work 15th March/keras CNN practise/Arrrythmia Databse/Class4_APC/\" + filename, \"E:/Asad work 15th March/keras CNN practise/Arrrythmia Databse/renamed_arrhythmia/\" + \"ECG4.\"+str(j) + \".csv\")\n",
    "    j=j+1"
   ]
  },
  {
   "cell_type": "code",
   "execution_count": 9,
   "metadata": {},
   "outputs": [],
   "source": [
    "coll=\"E:/Asad work 15th March/keras CNN practise/Arrrythmia Databse/Class5_PVC\""
   ]
  },
  {
   "cell_type": "code",
   "execution_count": 13,
   "metadata": {},
   "outputs": [],
   "source": [
    "j=1\n",
    "for i, filename in enumerate(os.listdir(coll)):\n",
    "    os.rename(\"E:/Asad work 15th March/keras CNN practise/Arrrythmia Databse/Class5_PVC/\" + filename, \"E:/Asad work 15th March/keras CNN practise/Arrrythmia Databse/renamed_arrhythmia/\" + \"ECG5.\"+str(j) + \".csv\")\n",
    "    j=j+1"
   ]
  },
  {
   "cell_type": "code",
   "execution_count": null,
   "metadata": {},
   "outputs": [],
   "source": []
  },
  {
   "cell_type": "code",
   "execution_count": null,
   "metadata": {},
   "outputs": [],
   "source": []
  },
  {
   "cell_type": "code",
   "execution_count": null,
   "metadata": {},
   "outputs": [],
   "source": []
  },
  {
   "cell_type": "code",
   "execution_count": null,
   "metadata": {},
   "outputs": [],
   "source": [
    "maxim=max(y_sig)\n",
    "height=(0+maxim)/2"
   ]
  },
  {
   "cell_type": "code",
   "execution_count": null,
   "metadata": {},
   "outputs": [],
   "source": [
    "peaks, peak_heights = find_peaks(y_sig, distance=0.2*fs,height=height)\n",
    "peak_heights=list(peak_heights.values())[0]"
   ]
  },
  {
   "cell_type": "code",
   "execution_count": null,
   "metadata": {},
   "outputs": [],
   "source": [
    "df=pd.DataFrame(columns=list(range(188)))\n",
    "df_final=pd.DataFrame(columns=list(range(188)))\n",
    "direct=os.listdir('E:/Asad work 15th March/keras CNN practise/Arrrythmia Databse/renamed_arrhythmia')\n",
    "path='E:/Asad work 15th March/keras CNN practise/Arrrythmia Databse/renamed_arrhythmia'\n",
    "k=0\n",
    "for file in direct:\n",
    "    path2=os.path.join(path,file)\n",
    "    df2=pd.read_csv(path2)\n",
    "    print(path2)\n",
    "    df1=pd.DataFrame(columns=['II'])\n",
    "    \n",
    "    df1['II']=df2.loc[1:]['\\'MLII\\'']\n",
    "    maxim=max(df1['II'])\n",
    "    height=(0+maxim)/2\n",
    "    peaks, peak_heights = find_peaks(y_sig, distance=0.2*fs,height=height)\n",
    "    peak_heights=list(peak_heights.values())[0]\n",
    "    df1['R_ht']=peak_heights\n",
    "    df1['R']=peaks\n",
    "    df1.to_csv(r'{}'.format('E:/Asad work 15th March/keras CNN practise/Arrrythmia Databse/peak files/final_file1.csv'),header=False,index=False)"
   ]
  },
  {
   "cell_type": "code",
   "execution_count": null,
   "metadata": {},
   "outputs": [],
   "source": []
  },
  {
   "cell_type": "code",
   "execution_count": null,
   "metadata": {},
   "outputs": [],
   "source": []
  },
  {
   "cell_type": "code",
   "execution_count": null,
   "metadata": {},
   "outputs": [],
   "source": []
  },
  {
   "cell_type": "code",
   "execution_count": null,
   "metadata": {},
   "outputs": [],
   "source": []
  },
  {
   "cell_type": "code",
   "execution_count": null,
   "metadata": {},
   "outputs": [],
   "source": []
  },
  {
   "cell_type": "code",
   "execution_count": 1,
   "metadata": {},
   "outputs": [],
   "source": [
    "import pandas as pd\n",
    "import os"
   ]
  },
  {
   "cell_type": "code",
   "execution_count": 2,
   "metadata": {},
   "outputs": [],
   "source": [
    "def get_label(filename):\n",
    "    if(filename.split('.')[0]=='ECG1'):\n",
    "        return 0\n",
    "    elif(filename.split('.')[0]=='ECG2'):\n",
    "        return 1\n",
    "    elif(filename.split('.')[0]=='ECG3'):\n",
    "        return 2\n",
    "    elif(filename.split('.')[0]=='ECG4'):\n",
    "        return 3\n",
    "    else:\n",
    "        return 4"
   ]
  },
  {
   "cell_type": "code",
   "execution_count": 4,
   "metadata": {},
   "outputs": [
    {
     "name": "stdout",
     "output_type": "stream",
     "text": [
      "E:/Asad work 15th March/keras CNN practise/Arrhythmia ECG - Copy/renamed_arrhythmia\\ECG1.1.csv\n",
      "E:/Asad work 15th March/keras CNN practise/Arrhythmia ECG - Copy/renamed_arrhythmia\\ECG1.2.csv\n",
      "E:/Asad work 15th March/keras CNN practise/Arrhythmia ECG - Copy/renamed_arrhythmia\\ECG1.3.csv\n",
      "E:/Asad work 15th March/keras CNN practise/Arrhythmia ECG - Copy/renamed_arrhythmia\\ECG2.1.csv\n",
      "E:/Asad work 15th March/keras CNN practise/Arrhythmia ECG - Copy/renamed_arrhythmia\\ECG2.2.csv\n",
      "E:/Asad work 15th March/keras CNN practise/Arrhythmia ECG - Copy/renamed_arrhythmia\\ECG2.3.csv\n",
      "E:/Asad work 15th March/keras CNN practise/Arrhythmia ECG - Copy/renamed_arrhythmia\\ECG3.1.csv\n",
      "E:/Asad work 15th March/keras CNN practise/Arrhythmia ECG - Copy/renamed_arrhythmia\\ECG3.2.csv\n",
      "E:/Asad work 15th March/keras CNN practise/Arrhythmia ECG - Copy/renamed_arrhythmia\\ECG3.3.csv\n",
      "E:/Asad work 15th March/keras CNN practise/Arrhythmia ECG - Copy/renamed_arrhythmia\\ECG4.1.csv\n",
      "E:/Asad work 15th March/keras CNN practise/Arrhythmia ECG - Copy/renamed_arrhythmia\\ECG4.2.csv\n",
      "E:/Asad work 15th March/keras CNN practise/Arrhythmia ECG - Copy/renamed_arrhythmia\\ECG4.3.csv\n",
      "E:/Asad work 15th March/keras CNN practise/Arrhythmia ECG - Copy/renamed_arrhythmia\\ECG5.1.csv\n",
      "E:/Asad work 15th March/keras CNN practise/Arrhythmia ECG - Copy/renamed_arrhythmia\\ECG5.2.csv\n"
     ]
    }
   ],
   "source": [
    "df=pd.DataFrame(columns=list(range(188)))\n",
    "df_final=pd.DataFrame(columns=list(range(188)))\n",
    "direct=os.listdir('E:/Asad work 15th March/keras CNN practise/Arrhythmia ECG - Copy/renamed_arrhythmia')\n",
    "path='E:/Asad work 15th March/keras CNN practise/Arrhythmia ECG - Copy/renamed_arrhythmia'\n",
    "k=0\n",
    "for file in direct:\n",
    "    path2=os.path.join(path,file)\n",
    "    df2=pd.read_csv(path2)\n",
    "    print(path2)\n",
    "    df1=pd.DataFrame(columns=['II'])\n",
    "    \n",
    "    df1['II']=df2.loc[1:]['\\'MLII\\'']\n",
    "    j=int(len(df1['II'])/187)\n",
    "    strt=0\n",
    "    stop=187\n",
    "    for i in range(j+1):\n",
    "        df.loc[i+k]=pd.Series(df1['II'][strt:stop].values)\n",
    "        lbl=get_label(file)\n",
    "        df.loc[i+k][187]=lbl\n",
    "        strt=stop\n",
    "        stop=stop+187\n",
    "    k=k+j+1\n",
    "        "
   ]
  },
  {
   "cell_type": "code",
   "execution_count": 5,
   "metadata": {},
   "outputs": [
    {
     "name": "stdout",
     "output_type": "stream",
     "text": [
      "         0       1       2       3       4       5       6       7       8    \\\n",
      "0     -0.445  -0.445  -0.445  -0.445  -0.445  -0.445  -0.445  -0.445  -0.450   \n",
      "1     -0.085   0.050   0.235   0.400   0.590   0.775   0.915   1.025   1.100   \n",
      "2     -0.320  -0.330  -0.360  -0.345  -0.320  -0.320  -0.330  -0.340  -0.355   \n",
      "3     -0.245  -0.260  -0.250  -0.255  -0.250  -0.265  -0.280  -0.300  -0.295   \n",
      "4     -0.545  -0.535  -0.530  -0.530  -0.520  -0.525  -0.535  -0.535  -0.525   \n",
      "...      ...     ...     ...     ...     ...     ...     ...     ...     ...   \n",
      "1619  -0.160  -0.140  -0.135  -0.145  -0.145  -0.135  -0.110  -0.095  -0.110   \n",
      "1620  -0.015   0.015   0.015   0.005   0.015   0.030   0.025   0.015   0.030   \n",
      "1621  -0.100  -0.110  -0.125  -0.135  -0.120  -0.105  -0.110  -0.130  -0.150   \n",
      "1622  -0.215  -0.270  -0.265  -0.270  -0.250  -0.265  -0.290  -0.300  -0.305   \n",
      "1623  -0.205  -0.210  -0.200  -0.200  -0.205  -0.205  -0.220  -0.230  -0.215   \n",
      "\n",
      "         9    ...     178     179     180     181     182     183     184  \\\n",
      "0     -0.430  ...  -0.360  -0.355  -0.355  -0.365  -0.370  -0.370  -0.355   \n",
      "1      1.160  ...  -0.335  -0.325  -0.320  -0.320  -0.325  -0.345  -0.335   \n",
      "2     -0.345  ...  -0.205  -0.190  -0.200  -0.200  -0.220  -0.205  -0.220   \n",
      "3     -0.300  ...  -0.550  -0.545  -0.555  -0.570  -0.560  -0.550  -0.545   \n",
      "4     -0.535  ...  -0.360  -0.365  -0.375  -0.370  -0.355  -0.340  -0.345   \n",
      "...      ...  ...     ...     ...     ...     ...     ...     ...     ...   \n",
      "1619  -0.115  ...  -0.150  -0.145  -0.125  -0.105  -0.105  -0.100  -0.100   \n",
      "1620   0.015  ...  -0.090  -0.080  -0.080  -0.080  -0.115  -0.120  -0.125   \n",
      "1621  -0.150  ...  -0.080  -0.060  -0.095  -0.125  -0.160  -0.185  -0.185   \n",
      "1622  -0.295  ...  -0.175  -0.175  -0.190  -0.200  -0.195  -0.190  -0.175   \n",
      "1623  -0.205  ...     NaN     NaN     NaN     NaN     NaN     NaN     NaN   \n",
      "\n",
      "         185     186 187  \n",
      "0     -0.300  -0.210   0  \n",
      "1     -0.320  -0.320   0  \n",
      "2     -0.205  -0.215   0  \n",
      "3     -0.525  -0.530   0  \n",
      "4     -0.350  -0.345   0  \n",
      "...      ...     ...  ..  \n",
      "1619  -0.085  -0.050   4  \n",
      "1620  -0.125  -0.090   4  \n",
      "1621  -0.190  -0.220   4  \n",
      "1622  -0.170  -0.195   4  \n",
      "1623     NaN     NaN   4  \n",
      "\n",
      "[1624 rows x 188 columns]\n"
     ]
    }
   ],
   "source": [
    "print(df)"
   ]
  },
  {
   "cell_type": "markdown",
   "metadata": {},
   "source": [
    "Think of dropping that row"
   ]
  },
  {
   "cell_type": "code",
   "execution_count": 6,
   "metadata": {},
   "outputs": [],
   "source": [
    "df_4=pd.DataFrame()\n",
    "df_4=df.dropna(axis=0,how='any')"
   ]
  },
  {
   "cell_type": "code",
   "execution_count": 7,
   "metadata": {},
   "outputs": [],
   "source": [
    "df_4.to_csv(r'{}'.format('E:/Asad work 15th March/keras CNN practise/Arrhythmia ECG - Copy/renamed_arrhythmia/final_file1.csv'),header=False,index=False)"
   ]
  },
  {
   "cell_type": "code",
   "execution_count": 8,
   "metadata": {},
   "outputs": [],
   "source": [
    "df=df.fillna(0)"
   ]
  },
  {
   "cell_type": "code",
   "execution_count": 9,
   "metadata": {},
   "outputs": [
    {
     "data": {
      "text/html": [
       "<div>\n",
       "<style scoped>\n",
       "    .dataframe tbody tr th:only-of-type {\n",
       "        vertical-align: middle;\n",
       "    }\n",
       "\n",
       "    .dataframe tbody tr th {\n",
       "        vertical-align: top;\n",
       "    }\n",
       "\n",
       "    .dataframe thead th {\n",
       "        text-align: right;\n",
       "    }\n",
       "</style>\n",
       "<table border=\"1\" class=\"dataframe\">\n",
       "  <thead>\n",
       "    <tr style=\"text-align: right;\">\n",
       "      <th></th>\n",
       "      <th>0</th>\n",
       "      <th>1</th>\n",
       "      <th>2</th>\n",
       "      <th>3</th>\n",
       "      <th>4</th>\n",
       "      <th>5</th>\n",
       "      <th>6</th>\n",
       "      <th>7</th>\n",
       "      <th>8</th>\n",
       "      <th>9</th>\n",
       "      <th>...</th>\n",
       "      <th>178</th>\n",
       "      <th>179</th>\n",
       "      <th>180</th>\n",
       "      <th>181</th>\n",
       "      <th>182</th>\n",
       "      <th>183</th>\n",
       "      <th>184</th>\n",
       "      <th>185</th>\n",
       "      <th>186</th>\n",
       "      <th>187</th>\n",
       "    </tr>\n",
       "  </thead>\n",
       "  <tbody>\n",
       "    <tr>\n",
       "      <th>0</th>\n",
       "      <td>-0.445</td>\n",
       "      <td>-0.445</td>\n",
       "      <td>-0.445</td>\n",
       "      <td>-0.445</td>\n",
       "      <td>-0.445</td>\n",
       "      <td>-0.445</td>\n",
       "      <td>-0.445</td>\n",
       "      <td>-0.445</td>\n",
       "      <td>-0.450</td>\n",
       "      <td>-0.430</td>\n",
       "      <td>...</td>\n",
       "      <td>-0.360</td>\n",
       "      <td>-0.355</td>\n",
       "      <td>-0.355</td>\n",
       "      <td>-0.365</td>\n",
       "      <td>-0.370</td>\n",
       "      <td>-0.370</td>\n",
       "      <td>-0.355</td>\n",
       "      <td>-0.300</td>\n",
       "      <td>-0.210</td>\n",
       "      <td>0</td>\n",
       "    </tr>\n",
       "    <tr>\n",
       "      <th>1</th>\n",
       "      <td>-0.085</td>\n",
       "      <td>0.050</td>\n",
       "      <td>0.235</td>\n",
       "      <td>0.400</td>\n",
       "      <td>0.590</td>\n",
       "      <td>0.775</td>\n",
       "      <td>0.915</td>\n",
       "      <td>1.025</td>\n",
       "      <td>1.100</td>\n",
       "      <td>1.160</td>\n",
       "      <td>...</td>\n",
       "      <td>-0.335</td>\n",
       "      <td>-0.325</td>\n",
       "      <td>-0.320</td>\n",
       "      <td>-0.320</td>\n",
       "      <td>-0.325</td>\n",
       "      <td>-0.345</td>\n",
       "      <td>-0.335</td>\n",
       "      <td>-0.320</td>\n",
       "      <td>-0.320</td>\n",
       "      <td>0</td>\n",
       "    </tr>\n",
       "    <tr>\n",
       "      <th>2</th>\n",
       "      <td>-0.320</td>\n",
       "      <td>-0.330</td>\n",
       "      <td>-0.360</td>\n",
       "      <td>-0.345</td>\n",
       "      <td>-0.320</td>\n",
       "      <td>-0.320</td>\n",
       "      <td>-0.330</td>\n",
       "      <td>-0.340</td>\n",
       "      <td>-0.355</td>\n",
       "      <td>-0.345</td>\n",
       "      <td>...</td>\n",
       "      <td>-0.205</td>\n",
       "      <td>-0.190</td>\n",
       "      <td>-0.200</td>\n",
       "      <td>-0.200</td>\n",
       "      <td>-0.220</td>\n",
       "      <td>-0.205</td>\n",
       "      <td>-0.220</td>\n",
       "      <td>-0.205</td>\n",
       "      <td>-0.215</td>\n",
       "      <td>0</td>\n",
       "    </tr>\n",
       "    <tr>\n",
       "      <th>3</th>\n",
       "      <td>-0.245</td>\n",
       "      <td>-0.260</td>\n",
       "      <td>-0.250</td>\n",
       "      <td>-0.255</td>\n",
       "      <td>-0.250</td>\n",
       "      <td>-0.265</td>\n",
       "      <td>-0.280</td>\n",
       "      <td>-0.300</td>\n",
       "      <td>-0.295</td>\n",
       "      <td>-0.300</td>\n",
       "      <td>...</td>\n",
       "      <td>-0.550</td>\n",
       "      <td>-0.545</td>\n",
       "      <td>-0.555</td>\n",
       "      <td>-0.570</td>\n",
       "      <td>-0.560</td>\n",
       "      <td>-0.550</td>\n",
       "      <td>-0.545</td>\n",
       "      <td>-0.525</td>\n",
       "      <td>-0.530</td>\n",
       "      <td>0</td>\n",
       "    </tr>\n",
       "    <tr>\n",
       "      <th>4</th>\n",
       "      <td>-0.545</td>\n",
       "      <td>-0.535</td>\n",
       "      <td>-0.530</td>\n",
       "      <td>-0.530</td>\n",
       "      <td>-0.520</td>\n",
       "      <td>-0.525</td>\n",
       "      <td>-0.535</td>\n",
       "      <td>-0.535</td>\n",
       "      <td>-0.525</td>\n",
       "      <td>-0.535</td>\n",
       "      <td>...</td>\n",
       "      <td>-0.360</td>\n",
       "      <td>-0.365</td>\n",
       "      <td>-0.375</td>\n",
       "      <td>-0.370</td>\n",
       "      <td>-0.355</td>\n",
       "      <td>-0.340</td>\n",
       "      <td>-0.345</td>\n",
       "      <td>-0.350</td>\n",
       "      <td>-0.345</td>\n",
       "      <td>0</td>\n",
       "    </tr>\n",
       "    <tr>\n",
       "      <th>...</th>\n",
       "      <td>...</td>\n",
       "      <td>...</td>\n",
       "      <td>...</td>\n",
       "      <td>...</td>\n",
       "      <td>...</td>\n",
       "      <td>...</td>\n",
       "      <td>...</td>\n",
       "      <td>...</td>\n",
       "      <td>...</td>\n",
       "      <td>...</td>\n",
       "      <td>...</td>\n",
       "      <td>...</td>\n",
       "      <td>...</td>\n",
       "      <td>...</td>\n",
       "      <td>...</td>\n",
       "      <td>...</td>\n",
       "      <td>...</td>\n",
       "      <td>...</td>\n",
       "      <td>...</td>\n",
       "      <td>...</td>\n",
       "      <td>...</td>\n",
       "    </tr>\n",
       "    <tr>\n",
       "      <th>1619</th>\n",
       "      <td>-0.160</td>\n",
       "      <td>-0.140</td>\n",
       "      <td>-0.135</td>\n",
       "      <td>-0.145</td>\n",
       "      <td>-0.145</td>\n",
       "      <td>-0.135</td>\n",
       "      <td>-0.110</td>\n",
       "      <td>-0.095</td>\n",
       "      <td>-0.110</td>\n",
       "      <td>-0.115</td>\n",
       "      <td>...</td>\n",
       "      <td>-0.150</td>\n",
       "      <td>-0.145</td>\n",
       "      <td>-0.125</td>\n",
       "      <td>-0.105</td>\n",
       "      <td>-0.105</td>\n",
       "      <td>-0.100</td>\n",
       "      <td>-0.100</td>\n",
       "      <td>-0.085</td>\n",
       "      <td>-0.050</td>\n",
       "      <td>4</td>\n",
       "    </tr>\n",
       "    <tr>\n",
       "      <th>1620</th>\n",
       "      <td>-0.015</td>\n",
       "      <td>0.015</td>\n",
       "      <td>0.015</td>\n",
       "      <td>0.005</td>\n",
       "      <td>0.015</td>\n",
       "      <td>0.030</td>\n",
       "      <td>0.025</td>\n",
       "      <td>0.015</td>\n",
       "      <td>0.030</td>\n",
       "      <td>0.015</td>\n",
       "      <td>...</td>\n",
       "      <td>-0.090</td>\n",
       "      <td>-0.080</td>\n",
       "      <td>-0.080</td>\n",
       "      <td>-0.080</td>\n",
       "      <td>-0.115</td>\n",
       "      <td>-0.120</td>\n",
       "      <td>-0.125</td>\n",
       "      <td>-0.125</td>\n",
       "      <td>-0.090</td>\n",
       "      <td>4</td>\n",
       "    </tr>\n",
       "    <tr>\n",
       "      <th>1621</th>\n",
       "      <td>-0.100</td>\n",
       "      <td>-0.110</td>\n",
       "      <td>-0.125</td>\n",
       "      <td>-0.135</td>\n",
       "      <td>-0.120</td>\n",
       "      <td>-0.105</td>\n",
       "      <td>-0.110</td>\n",
       "      <td>-0.130</td>\n",
       "      <td>-0.150</td>\n",
       "      <td>-0.150</td>\n",
       "      <td>...</td>\n",
       "      <td>-0.080</td>\n",
       "      <td>-0.060</td>\n",
       "      <td>-0.095</td>\n",
       "      <td>-0.125</td>\n",
       "      <td>-0.160</td>\n",
       "      <td>-0.185</td>\n",
       "      <td>-0.185</td>\n",
       "      <td>-0.190</td>\n",
       "      <td>-0.220</td>\n",
       "      <td>4</td>\n",
       "    </tr>\n",
       "    <tr>\n",
       "      <th>1622</th>\n",
       "      <td>-0.215</td>\n",
       "      <td>-0.270</td>\n",
       "      <td>-0.265</td>\n",
       "      <td>-0.270</td>\n",
       "      <td>-0.250</td>\n",
       "      <td>-0.265</td>\n",
       "      <td>-0.290</td>\n",
       "      <td>-0.300</td>\n",
       "      <td>-0.305</td>\n",
       "      <td>-0.295</td>\n",
       "      <td>...</td>\n",
       "      <td>-0.175</td>\n",
       "      <td>-0.175</td>\n",
       "      <td>-0.190</td>\n",
       "      <td>-0.200</td>\n",
       "      <td>-0.195</td>\n",
       "      <td>-0.190</td>\n",
       "      <td>-0.175</td>\n",
       "      <td>-0.170</td>\n",
       "      <td>-0.195</td>\n",
       "      <td>4</td>\n",
       "    </tr>\n",
       "    <tr>\n",
       "      <th>1623</th>\n",
       "      <td>-0.205</td>\n",
       "      <td>-0.210</td>\n",
       "      <td>-0.200</td>\n",
       "      <td>-0.200</td>\n",
       "      <td>-0.205</td>\n",
       "      <td>-0.205</td>\n",
       "      <td>-0.220</td>\n",
       "      <td>-0.230</td>\n",
       "      <td>-0.215</td>\n",
       "      <td>-0.205</td>\n",
       "      <td>...</td>\n",
       "      <td>0</td>\n",
       "      <td>0</td>\n",
       "      <td>0</td>\n",
       "      <td>0</td>\n",
       "      <td>0</td>\n",
       "      <td>0</td>\n",
       "      <td>0</td>\n",
       "      <td>0</td>\n",
       "      <td>0</td>\n",
       "      <td>4</td>\n",
       "    </tr>\n",
       "  </tbody>\n",
       "</table>\n",
       "<p>1624 rows × 188 columns</p>\n",
       "</div>"
      ],
      "text/plain": [
       "         0       1       2       3       4       5       6       7       8    \\\n",
       "0     -0.445  -0.445  -0.445  -0.445  -0.445  -0.445  -0.445  -0.445  -0.450   \n",
       "1     -0.085   0.050   0.235   0.400   0.590   0.775   0.915   1.025   1.100   \n",
       "2     -0.320  -0.330  -0.360  -0.345  -0.320  -0.320  -0.330  -0.340  -0.355   \n",
       "3     -0.245  -0.260  -0.250  -0.255  -0.250  -0.265  -0.280  -0.300  -0.295   \n",
       "4     -0.545  -0.535  -0.530  -0.530  -0.520  -0.525  -0.535  -0.535  -0.525   \n",
       "...      ...     ...     ...     ...     ...     ...     ...     ...     ...   \n",
       "1619  -0.160  -0.140  -0.135  -0.145  -0.145  -0.135  -0.110  -0.095  -0.110   \n",
       "1620  -0.015   0.015   0.015   0.005   0.015   0.030   0.025   0.015   0.030   \n",
       "1621  -0.100  -0.110  -0.125  -0.135  -0.120  -0.105  -0.110  -0.130  -0.150   \n",
       "1622  -0.215  -0.270  -0.265  -0.270  -0.250  -0.265  -0.290  -0.300  -0.305   \n",
       "1623  -0.205  -0.210  -0.200  -0.200  -0.205  -0.205  -0.220  -0.230  -0.215   \n",
       "\n",
       "         9    ...     178     179     180     181     182     183     184  \\\n",
       "0     -0.430  ...  -0.360  -0.355  -0.355  -0.365  -0.370  -0.370  -0.355   \n",
       "1      1.160  ...  -0.335  -0.325  -0.320  -0.320  -0.325  -0.345  -0.335   \n",
       "2     -0.345  ...  -0.205  -0.190  -0.200  -0.200  -0.220  -0.205  -0.220   \n",
       "3     -0.300  ...  -0.550  -0.545  -0.555  -0.570  -0.560  -0.550  -0.545   \n",
       "4     -0.535  ...  -0.360  -0.365  -0.375  -0.370  -0.355  -0.340  -0.345   \n",
       "...      ...  ...     ...     ...     ...     ...     ...     ...     ...   \n",
       "1619  -0.115  ...  -0.150  -0.145  -0.125  -0.105  -0.105  -0.100  -0.100   \n",
       "1620   0.015  ...  -0.090  -0.080  -0.080  -0.080  -0.115  -0.120  -0.125   \n",
       "1621  -0.150  ...  -0.080  -0.060  -0.095  -0.125  -0.160  -0.185  -0.185   \n",
       "1622  -0.295  ...  -0.175  -0.175  -0.190  -0.200  -0.195  -0.190  -0.175   \n",
       "1623  -0.205  ...       0       0       0       0       0       0       0   \n",
       "\n",
       "         185     186 187  \n",
       "0     -0.300  -0.210   0  \n",
       "1     -0.320  -0.320   0  \n",
       "2     -0.205  -0.215   0  \n",
       "3     -0.525  -0.530   0  \n",
       "4     -0.350  -0.345   0  \n",
       "...      ...     ...  ..  \n",
       "1619  -0.085  -0.050   4  \n",
       "1620  -0.125  -0.090   4  \n",
       "1621  -0.190  -0.220   4  \n",
       "1622  -0.170  -0.195   4  \n",
       "1623       0       0   4  \n",
       "\n",
       "[1624 rows x 188 columns]"
      ]
     },
     "execution_count": 9,
     "metadata": {},
     "output_type": "execute_result"
    }
   ],
   "source": [
    "df"
   ]
  },
  {
   "cell_type": "code",
   "execution_count": 11,
   "metadata": {},
   "outputs": [],
   "source": [
    "df.to_csv(r'{}'.format('E:/Asad work 15th March/keras CNN practise/Arrhythmia ECG - Copy/renamed_arrhythmia/final_file.csv'),header=False,index=False)"
   ]
  },
  {
   "cell_type": "code",
   "execution_count": 25,
   "metadata": {},
   "outputs": [
    {
     "ename": "IndexError",
     "evalue": "Too many levels: Index has only 1 level, not 2",
     "output_type": "error",
     "traceback": [
      "\u001b[1;31m---------------------------------------------------------------------------\u001b[0m",
      "\u001b[1;31mIndexError\u001b[0m                                Traceback (most recent call last)",
      "\u001b[1;32m<ipython-input-25-4ea542cef732>\u001b[0m in \u001b[0;36m<module>\u001b[1;34m\u001b[0m\n\u001b[1;32m----> 1\u001b[1;33m \u001b[0mdf\u001b[0m\u001b[1;33m.\u001b[0m\u001b[0mdroplevel\u001b[0m\u001b[1;33m(\u001b[0m\u001b[0mlist\u001b[0m\u001b[1;33m(\u001b[0m\u001b[0mrange\u001b[0m\u001b[1;33m(\u001b[0m\u001b[1;36m188\u001b[0m\u001b[1;33m)\u001b[0m\u001b[1;33m)\u001b[0m\u001b[1;33m,\u001b[0m\u001b[0maxis\u001b[0m\u001b[1;33m=\u001b[0m\u001b[1;36m1\u001b[0m\u001b[1;33m)\u001b[0m\u001b[1;33m\u001b[0m\u001b[1;33m\u001b[0m\u001b[0m\n\u001b[0m",
      "\u001b[1;32m~\\anaconda3\\lib\\site-packages\\pandas\\core\\generic.py\u001b[0m in \u001b[0;36mdroplevel\u001b[1;34m(self, level, axis)\u001b[0m\n\u001b[0;32m    743\u001b[0m         \"\"\"\n\u001b[0;32m    744\u001b[0m         \u001b[0mlabels\u001b[0m \u001b[1;33m=\u001b[0m \u001b[0mself\u001b[0m\u001b[1;33m.\u001b[0m\u001b[0m_get_axis\u001b[0m\u001b[1;33m(\u001b[0m\u001b[0maxis\u001b[0m\u001b[1;33m)\u001b[0m\u001b[1;33m\u001b[0m\u001b[1;33m\u001b[0m\u001b[0m\n\u001b[1;32m--> 745\u001b[1;33m         \u001b[0mnew_labels\u001b[0m \u001b[1;33m=\u001b[0m \u001b[0mlabels\u001b[0m\u001b[1;33m.\u001b[0m\u001b[0mdroplevel\u001b[0m\u001b[1;33m(\u001b[0m\u001b[0mlevel\u001b[0m\u001b[1;33m)\u001b[0m\u001b[1;33m\u001b[0m\u001b[1;33m\u001b[0m\u001b[0m\n\u001b[0m\u001b[0;32m    746\u001b[0m         \u001b[0mresult\u001b[0m \u001b[1;33m=\u001b[0m \u001b[0mself\u001b[0m\u001b[1;33m.\u001b[0m\u001b[0mset_axis\u001b[0m\u001b[1;33m(\u001b[0m\u001b[0mnew_labels\u001b[0m\u001b[1;33m,\u001b[0m \u001b[0maxis\u001b[0m\u001b[1;33m=\u001b[0m\u001b[0maxis\u001b[0m\u001b[1;33m,\u001b[0m \u001b[0minplace\u001b[0m\u001b[1;33m=\u001b[0m\u001b[1;32mFalse\u001b[0m\u001b[1;33m)\u001b[0m\u001b[1;33m\u001b[0m\u001b[1;33m\u001b[0m\u001b[0m\n\u001b[0;32m    747\u001b[0m         \u001b[1;32mreturn\u001b[0m \u001b[0mresult\u001b[0m\u001b[1;33m\u001b[0m\u001b[1;33m\u001b[0m\u001b[0m\n",
      "\u001b[1;32m~\\anaconda3\\lib\\site-packages\\pandas\\core\\indexes\\base.py\u001b[0m in \u001b[0;36mdroplevel\u001b[1;34m(self, level)\u001b[0m\n\u001b[0;32m   1504\u001b[0m             \u001b[0mlevel\u001b[0m \u001b[1;33m=\u001b[0m \u001b[1;33m[\u001b[0m\u001b[0mlevel\u001b[0m\u001b[1;33m]\u001b[0m\u001b[1;33m\u001b[0m\u001b[1;33m\u001b[0m\u001b[0m\n\u001b[0;32m   1505\u001b[0m \u001b[1;33m\u001b[0m\u001b[0m\n\u001b[1;32m-> 1506\u001b[1;33m         \u001b[0mlevnums\u001b[0m \u001b[1;33m=\u001b[0m \u001b[0msorted\u001b[0m\u001b[1;33m(\u001b[0m\u001b[0mself\u001b[0m\u001b[1;33m.\u001b[0m\u001b[0m_get_level_number\u001b[0m\u001b[1;33m(\u001b[0m\u001b[0mlev\u001b[0m\u001b[1;33m)\u001b[0m \u001b[1;32mfor\u001b[0m \u001b[0mlev\u001b[0m \u001b[1;32min\u001b[0m \u001b[0mlevel\u001b[0m\u001b[1;33m)\u001b[0m\u001b[1;33m[\u001b[0m\u001b[1;33m:\u001b[0m\u001b[1;33m:\u001b[0m\u001b[1;33m-\u001b[0m\u001b[1;36m1\u001b[0m\u001b[1;33m]\u001b[0m\u001b[1;33m\u001b[0m\u001b[1;33m\u001b[0m\u001b[0m\n\u001b[0m\u001b[0;32m   1507\u001b[0m \u001b[1;33m\u001b[0m\u001b[0m\n\u001b[0;32m   1508\u001b[0m         \u001b[1;32mif\u001b[0m \u001b[0mlen\u001b[0m\u001b[1;33m(\u001b[0m\u001b[0mlevel\u001b[0m\u001b[1;33m)\u001b[0m \u001b[1;33m==\u001b[0m \u001b[1;36m0\u001b[0m\u001b[1;33m:\u001b[0m\u001b[1;33m\u001b[0m\u001b[1;33m\u001b[0m\u001b[0m\n",
      "\u001b[1;32m~\\anaconda3\\lib\\site-packages\\pandas\\core\\indexes\\base.py\u001b[0m in \u001b[0;36m<genexpr>\u001b[1;34m(.0)\u001b[0m\n\u001b[0;32m   1504\u001b[0m             \u001b[0mlevel\u001b[0m \u001b[1;33m=\u001b[0m \u001b[1;33m[\u001b[0m\u001b[0mlevel\u001b[0m\u001b[1;33m]\u001b[0m\u001b[1;33m\u001b[0m\u001b[1;33m\u001b[0m\u001b[0m\n\u001b[0;32m   1505\u001b[0m \u001b[1;33m\u001b[0m\u001b[0m\n\u001b[1;32m-> 1506\u001b[1;33m         \u001b[0mlevnums\u001b[0m \u001b[1;33m=\u001b[0m \u001b[0msorted\u001b[0m\u001b[1;33m(\u001b[0m\u001b[0mself\u001b[0m\u001b[1;33m.\u001b[0m\u001b[0m_get_level_number\u001b[0m\u001b[1;33m(\u001b[0m\u001b[0mlev\u001b[0m\u001b[1;33m)\u001b[0m \u001b[1;32mfor\u001b[0m \u001b[0mlev\u001b[0m \u001b[1;32min\u001b[0m \u001b[0mlevel\u001b[0m\u001b[1;33m)\u001b[0m\u001b[1;33m[\u001b[0m\u001b[1;33m:\u001b[0m\u001b[1;33m:\u001b[0m\u001b[1;33m-\u001b[0m\u001b[1;36m1\u001b[0m\u001b[1;33m]\u001b[0m\u001b[1;33m\u001b[0m\u001b[1;33m\u001b[0m\u001b[0m\n\u001b[0m\u001b[0;32m   1507\u001b[0m \u001b[1;33m\u001b[0m\u001b[0m\n\u001b[0;32m   1508\u001b[0m         \u001b[1;32mif\u001b[0m \u001b[0mlen\u001b[0m\u001b[1;33m(\u001b[0m\u001b[0mlevel\u001b[0m\u001b[1;33m)\u001b[0m \u001b[1;33m==\u001b[0m \u001b[1;36m0\u001b[0m\u001b[1;33m:\u001b[0m\u001b[1;33m\u001b[0m\u001b[1;33m\u001b[0m\u001b[0m\n",
      "\u001b[1;32m~\\anaconda3\\lib\\site-packages\\pandas\\core\\indexes\\base.py\u001b[0m in \u001b[0;36m_get_level_number\u001b[1;34m(self, level)\u001b[0m\n\u001b[0;32m   1418\u001b[0m \u001b[1;33m\u001b[0m\u001b[0m\n\u001b[0;32m   1419\u001b[0m     \u001b[1;32mdef\u001b[0m \u001b[0m_get_level_number\u001b[0m\u001b[1;33m(\u001b[0m\u001b[0mself\u001b[0m\u001b[1;33m,\u001b[0m \u001b[0mlevel\u001b[0m\u001b[1;33m)\u001b[0m\u001b[1;33m:\u001b[0m\u001b[1;33m\u001b[0m\u001b[1;33m\u001b[0m\u001b[0m\n\u001b[1;32m-> 1420\u001b[1;33m         \u001b[0mself\u001b[0m\u001b[1;33m.\u001b[0m\u001b[0m_validate_index_level\u001b[0m\u001b[1;33m(\u001b[0m\u001b[0mlevel\u001b[0m\u001b[1;33m)\u001b[0m\u001b[1;33m\u001b[0m\u001b[1;33m\u001b[0m\u001b[0m\n\u001b[0m\u001b[0;32m   1421\u001b[0m         \u001b[1;32mreturn\u001b[0m \u001b[1;36m0\u001b[0m\u001b[1;33m\u001b[0m\u001b[1;33m\u001b[0m\u001b[0m\n\u001b[0;32m   1422\u001b[0m \u001b[1;33m\u001b[0m\u001b[0m\n",
      "\u001b[1;32m~\\anaconda3\\lib\\site-packages\\pandas\\core\\indexes\\base.py\u001b[0m in \u001b[0;36m_validate_index_level\u001b[1;34m(self, level)\u001b[0m\n\u001b[0;32m   1410\u001b[0m             \u001b[1;32melif\u001b[0m \u001b[0mlevel\u001b[0m \u001b[1;33m>\u001b[0m \u001b[1;36m0\u001b[0m\u001b[1;33m:\u001b[0m\u001b[1;33m\u001b[0m\u001b[1;33m\u001b[0m\u001b[0m\n\u001b[0;32m   1411\u001b[0m                 raise IndexError(\n\u001b[1;32m-> 1412\u001b[1;33m                     \u001b[1;34mf\"Too many levels: Index has only 1 level, not {level + 1}\"\u001b[0m\u001b[1;33m\u001b[0m\u001b[1;33m\u001b[0m\u001b[0m\n\u001b[0m\u001b[0;32m   1413\u001b[0m                 )\n\u001b[0;32m   1414\u001b[0m         \u001b[1;32melif\u001b[0m \u001b[0mlevel\u001b[0m \u001b[1;33m!=\u001b[0m \u001b[0mself\u001b[0m\u001b[1;33m.\u001b[0m\u001b[0mname\u001b[0m\u001b[1;33m:\u001b[0m\u001b[1;33m\u001b[0m\u001b[1;33m\u001b[0m\u001b[0m\n",
      "\u001b[1;31mIndexError\u001b[0m: Too many levels: Index has only 1 level, not 2"
     ]
    }
   ],
   "source": [
    "df.droplevel(list(range(188)),axis=1)"
   ]
  },
  {
   "cell_type": "markdown",
   "metadata": {},
   "source": [
    "bbbbrrrreeeeeeaaaaakkkkkkk"
   ]
  },
  {
   "cell_type": "code",
   "execution_count": 1,
   "metadata": {},
   "outputs": [],
   "source": [
    "import os\n",
    "import pandas as pd\n",
    "from scipy.signal import butter, lfilter\n",
    "from scipy.signal import find_peaks\n",
    "from scipy.signal import freqz\n",
    "from scipy.signal import find_peaks"
   ]
  },
  {
   "cell_type": "code",
   "execution_count": 2,
   "metadata": {},
   "outputs": [],
   "source": [
    "coll=\"E:/Asad work 15th March/keras CNN practise/Arrhythmia ECG - Copy/Class1_Normal\""
   ]
  },
  {
   "cell_type": "code",
   "execution_count": 3,
   "metadata": {},
   "outputs": [
    {
     "name": "stdout",
     "output_type": "stream",
     "text": [
      "E:/Asad work 15th March/keras CNN practise/Arrhythmia ECG - Copy/Class1_Normal\\samples (1).csv\n",
      "Filter\n",
      "Filter\n",
      "   R_peaks  R_height\n",
      "0      225  0.484826\n",
      "1      488  0.484826\n",
      "2      737  0.484826\n",
      "3      993  0.484826\n",
      "4     1250  0.484826\n",
      "E:/Asad work 15th March/keras CNN practise/Arrhythmia ECG - Copy/Class1_Normal\\samples (2).csv\n",
      "Filter\n",
      "Filter\n",
      "   R_peaks  R_height\n",
      "0     6455   0.70984\n",
      "1     9131   0.70984\n",
      "2     9242   0.70984\n",
      "3    10518   0.70984\n",
      "4    14164   0.70984\n",
      "E:/Asad work 15th March/keras CNN practise/Arrhythmia ECG - Copy/Class1_Normal\\samples.csv\n",
      "Filter\n",
      "Filter\n",
      "   R_peaks  R_height\n",
      "0      102  0.295812\n",
      "1      396  0.295812\n",
      "2      688  0.295812\n",
      "3      972  0.295812\n",
      "4     1257  0.295812\n"
     ]
    }
   ],
   "source": [
    "j=1\n",
    "fs=128\n",
    "lowcut = 5/fs\n",
    "highcut = 15/fs\n",
    "for fname in os.listdir(coll):\n",
    "    path=os.path.join(coll,fname)\n",
    "    print(path)\n",
    "    df=pd.read_csv(path)\n",
    "    #print(df.head())\n",
    "    df1=pd.DataFrame()\n",
    "    #df1['index']=df['index']+1\n",
    "    df1['Lead2']=df.loc[1:]['\\'MLII\\'']\n",
    "    #df1['Lead1']=df['I']\n",
    "    #y_sig.astype(float)/float(max(y_sig))\n",
    "    y_sig=df1['Lead2']\n",
    "    y_sig=y_sig.astype(float)\n",
    "    #print()\n",
    "    #y_sig=y_sig.astype(float)/float(max(y_sig))\n",
    "    print(\"Filter\")\n",
    "    b, a = butter(3, [lowcut, highcut], btype=\"band\")\n",
    "    y_sig = lfilter(b, a, y_sig)\n",
    "    print(\"Filter\")\n",
    "    maxim=max(y_sig)\n",
    "    height=(0+maxim)/2\n",
    "    peaks, peak_heights = find_peaks(y_sig, distance=0.2*fs,height=height)\n",
    "    peak_heights=list(peak_heights.values())[0]\n",
    "    df2=pd.DataFrame()\n",
    "    df2['R_peaks']=peaks\n",
    "    df2['R_height']=height\n",
    "    path=\"E:/Asad work 15th March/keras CNN practise/Arrhythmia ECG - Copy/renamed_database/\"+\"ECG1.R\"+str(j)+\".csv\"\n",
    "    print(df2.head())\n",
    "    df2.to_csv(path,encoding='utf-8')\n",
    "    j=j+1"
   ]
  },
  {
   "cell_type": "code",
   "execution_count": 6,
   "metadata": {},
   "outputs": [],
   "source": [
    "coll=\"E:/Asad work 15th March/keras CNN practise/Arrhythmia ECG - Copy/Class2_LBB\""
   ]
  },
  {
   "cell_type": "code",
   "execution_count": 7,
   "metadata": {},
   "outputs": [
    {
     "name": "stdout",
     "output_type": "stream",
     "text": [
      "E:/Asad work 15th March/keras CNN practise/Arrhythmia ECG - Copy/Class2_LBB\\samples (1).csv\n",
      "Filter\n",
      "Filter\n",
      "   R_peaks  R_height\n",
      "0      224  0.265229\n",
      "1      516  0.265229\n",
      "2      831  0.265229\n",
      "3     1155  0.265229\n",
      "4     1458  0.265229\n",
      "E:/Asad work 15th March/keras CNN practise/Arrhythmia ECG - Copy/Class2_LBB\\samples (2).csv\n",
      "Filter\n",
      "Filter\n",
      "   R_peaks  R_height\n",
      "0      373  0.435523\n",
      "1      602  0.435523\n",
      "2      840  0.435523\n",
      "3     1079  0.435523\n",
      "4     1318  0.435523\n",
      "E:/Asad work 15th March/keras CNN practise/Arrhythmia ECG - Copy/Class2_LBB\\samples.csv\n",
      "Filter\n",
      "Filter\n",
      "   R_peaks  R_height\n",
      "0       85  0.570274\n",
      "1      373  0.570274\n",
      "2      688  0.570274\n",
      "3     1002  0.570274\n",
      "4     1318  0.570274\n"
     ]
    }
   ],
   "source": [
    "j=1\n",
    "fs=128\n",
    "lowcut = 5/fs\n",
    "highcut = 15/fs\n",
    "for fname in os.listdir(coll):\n",
    "    path=os.path.join(coll,fname)\n",
    "    print(path)\n",
    "    df=pd.read_csv(path)\n",
    "    #print(df.head())\n",
    "    df1=pd.DataFrame()\n",
    "    #df1['index']=df['index']+1\n",
    "    df1['Lead2']=df.loc[1:]['\\'MLII\\'']\n",
    "    #df1['Lead1']=df['I']\n",
    "    #y_sig.astype(float)/float(max(y_sig))\n",
    "    y_sig=df1['Lead2']\n",
    "    y_sig=y_sig.astype(float)\n",
    "    #print()\n",
    "    #y_sig=y_sig.astype(float)/float(max(y_sig))\n",
    "    print(\"Filter\")\n",
    "    b, a = butter(3, [lowcut, highcut], btype=\"band\")\n",
    "    y_sig = lfilter(b, a, y_sig)\n",
    "    print(\"Filter\")\n",
    "    maxim=max(y_sig)\n",
    "    height=(0+maxim)/2\n",
    "    peaks, peak_heights = find_peaks(y_sig, distance=0.2*fs,height=height)\n",
    "    peak_heights=list(peak_heights.values())[0]\n",
    "    df2=pd.DataFrame()\n",
    "    df2['R_peaks']=peaks\n",
    "    df2['R_height']=height\n",
    "    path=\"E:/Asad work 15th March/keras CNN practise/Arrhythmia ECG - Copy/renamed_database/\"+\"ECG2.R\"+str(j)+\".csv\"\n",
    "    print(df2.head())\n",
    "    df2.to_csv(path,encoding='utf-8')\n",
    "    j=j+1"
   ]
  },
  {
   "cell_type": "code",
   "execution_count": 8,
   "metadata": {},
   "outputs": [],
   "source": [
    "coll=\"E:/Asad work 15th March/keras CNN practise/Arrhythmia ECG - Copy/Class3_RBB\""
   ]
  },
  {
   "cell_type": "code",
   "execution_count": 9,
   "metadata": {},
   "outputs": [
    {
     "name": "stdout",
     "output_type": "stream",
     "text": [
      "E:/Asad work 15th March/keras CNN practise/Arrhythmia ECG - Copy/Class3_RBB\\samples (1).csv\n",
      "Filter\n",
      "Filter\n",
      "   R_peaks  R_height\n",
      "0      272  0.548052\n",
      "1      721  0.548052\n",
      "2     1147  0.548052\n",
      "3     1581  0.548052\n",
      "4     2017  0.548052\n",
      "E:/Asad work 15th March/keras CNN practise/Arrhythmia ECG - Copy/Class3_RBB\\samples (2).csv\n",
      "Filter\n",
      "Filter\n",
      "   R_peaks  R_height\n",
      "0      240  0.368526\n",
      "1      478  0.368526\n",
      "2      722  0.368526\n",
      "3      950  0.368526\n",
      "4     1195  0.368526\n",
      "E:/Asad work 15th March/keras CNN practise/Arrhythmia ECG - Copy/Class3_RBB\\samples.csv\n",
      "Filter\n",
      "Filter\n",
      "   R_peaks  R_height\n",
      "0       95  0.594104\n",
      "1      397  0.594104\n",
      "2      702  0.594104\n",
      "3     1007  0.594104\n",
      "4     1311  0.594104\n"
     ]
    }
   ],
   "source": [
    "j=1\n",
    "fs=128\n",
    "lowcut = 5/fs\n",
    "highcut = 15/fs\n",
    "for fname in os.listdir(coll):\n",
    "    path=os.path.join(coll,fname)\n",
    "    print(path)\n",
    "    df=pd.read_csv(path)\n",
    "    #print(df.head())\n",
    "    df1=pd.DataFrame()\n",
    "    #df1['index']=df['index']+1\n",
    "    df1['Lead2']=df.loc[1:]['\\'MLII\\'']\n",
    "    #df1['Lead1']=df['I']\n",
    "    #y_sig.astype(float)/float(max(y_sig))\n",
    "    y_sig=df1['Lead2']\n",
    "    y_sig=y_sig.astype(float)\n",
    "    #print()\n",
    "    #y_sig=y_sig.astype(float)/float(max(y_sig))\n",
    "    print(\"Filter\")\n",
    "    b, a = butter(3, [lowcut, highcut], btype=\"band\")\n",
    "    y_sig = lfilter(b, a, y_sig)\n",
    "    print(\"Filter\")\n",
    "    maxim=max(y_sig)\n",
    "    height=(0+maxim)/2\n",
    "    peaks, peak_heights = find_peaks(y_sig, distance=0.2*fs,height=height)\n",
    "    peak_heights=list(peak_heights.values())[0]\n",
    "    df2=pd.DataFrame()\n",
    "    df2['R_peaks']=peaks\n",
    "    df2['R_height']=height\n",
    "    path=\"E:/Asad work 15th March/keras CNN practise/Arrhythmia ECG - Copy/renamed_database/\"+\"ECG3.R\"+str(j)+\".csv\"\n",
    "    print(df2.head())\n",
    "    df2.to_csv(path,encoding='utf-8')\n",
    "    j=j+1"
   ]
  },
  {
   "cell_type": "code",
   "execution_count": 10,
   "metadata": {},
   "outputs": [],
   "source": [
    "coll=\"E:/Asad work 15th March/keras CNN practise/Arrhythmia ECG - Copy/Class4_APC\""
   ]
  },
  {
   "cell_type": "code",
   "execution_count": 11,
   "metadata": {},
   "outputs": [
    {
     "name": "stdout",
     "output_type": "stream",
     "text": [
      "E:/Asad work 15th March/keras CNN practise/Arrhythmia ECG - Copy/Class4_APC\\samples (1).csv\n",
      "Filter\n",
      "Filter\n",
      "   R_peaks  R_height\n",
      "0       79  0.292143\n",
      "1      327  0.292143\n",
      "2      864  0.292143\n",
      "3     1092  0.292143\n",
      "4     1616  0.292143\n",
      "E:/Asad work 15th March/keras CNN practise/Arrhythmia ECG - Copy/Class4_APC\\samples (2).csv\n",
      "Filter\n",
      "Filter\n",
      "   R_peaks  R_height\n",
      "0      215  0.385891\n",
      "1      450  0.385891\n",
      "2      685  0.385891\n",
      "3      915  0.385891\n",
      "4     1139  0.385891\n",
      "E:/Asad work 15th March/keras CNN practise/Arrhythmia ECG - Copy/Class4_APC\\samples.csv\n",
      "Filter\n",
      "Filter\n",
      "   R_peaks  R_height\n",
      "0      517  0.223304\n",
      "1      763  0.223304\n",
      "2     1026  0.223304\n",
      "3     1685  0.223304\n",
      "4     1929  0.223304\n"
     ]
    }
   ],
   "source": [
    "j=1\n",
    "fs=128\n",
    "lowcut = 5/fs\n",
    "highcut = 15/fs\n",
    "for fname in os.listdir(coll):\n",
    "    path=os.path.join(coll,fname)\n",
    "    print(path)\n",
    "    df=pd.read_csv(path)\n",
    "    #print(df.head())\n",
    "    df1=pd.DataFrame()\n",
    "    #df1['index']=df['index']+1\n",
    "    df1['Lead2']=df.loc[1:]['\\'MLII\\'']\n",
    "    #df1['Lead1']=df['I']\n",
    "    #y_sig.astype(float)/float(max(y_sig))\n",
    "    y_sig=df1['Lead2']\n",
    "    y_sig=y_sig.astype(float)\n",
    "    #print()\n",
    "    #y_sig=y_sig.astype(float)/float(max(y_sig))\n",
    "    print(\"Filter\")\n",
    "    b, a = butter(3, [lowcut, highcut], btype=\"band\")\n",
    "    y_sig = lfilter(b, a, y_sig)\n",
    "    print(\"Filter\")\n",
    "    maxim=max(y_sig)\n",
    "    height=(0+maxim)/2\n",
    "    peaks, peak_heights = find_peaks(y_sig, distance=0.2*fs,height=height)\n",
    "    peak_heights=list(peak_heights.values())[0]\n",
    "    df2=pd.DataFrame()\n",
    "    df2['R_peaks']=peaks\n",
    "    df2['R_height']=height\n",
    "    path=\"E:/Asad work 15th March/keras CNN practise/Arrhythmia ECG - Copy/renamed_database/\"+\"ECG4.R\"+str(j)+\".csv\"\n",
    "    print(df2.head())\n",
    "    df2.to_csv(path,encoding='utf-8')\n",
    "    j=j+1"
   ]
  },
  {
   "cell_type": "code",
   "execution_count": 12,
   "metadata": {},
   "outputs": [],
   "source": [
    "coll=\"E:/Asad work 15th March/keras CNN practise/Arrhythmia ECG - Copy/Class5_PVC\""
   ]
  },
  {
   "cell_type": "code",
   "execution_count": 13,
   "metadata": {},
   "outputs": [
    {
     "name": "stdout",
     "output_type": "stream",
     "text": [
      "E:/Asad work 15th March/keras CNN practise/Arrhythmia ECG - Copy/Class5_PVC\\samples (1).csv\n",
      "Filter\n",
      "Filter\n",
      "   R_peaks  R_height\n",
      "0       56  0.720629\n",
      "1      347  0.720629\n",
      "2      524  0.720629\n",
      "3      777  0.720629\n",
      "4      991  0.720629\n",
      "E:/Asad work 15th March/keras CNN practise/Arrhythmia ECG - Copy/Class5_PVC\\samples.csv\n",
      "Filter\n",
      "Filter\n",
      "   R_peaks  R_height\n",
      "0      377  0.572727\n",
      "1      751  0.572727\n",
      "2     1112  0.572727\n",
      "3     1474  0.572727\n",
      "4     1855  0.572727\n"
     ]
    }
   ],
   "source": [
    "j=1\n",
    "fs=128\n",
    "lowcut = 5/fs\n",
    "highcut = 15/fs\n",
    "for fname in os.listdir(coll):\n",
    "    path=os.path.join(coll,fname)\n",
    "    print(path)\n",
    "    df=pd.read_csv(path)\n",
    "    #print(df.head())\n",
    "    df1=pd.DataFrame()\n",
    "    #df1['index']=df['index']+1\n",
    "    df1['Lead2']=df.loc[1:]['\\'MLII\\'']\n",
    "    #df1['Lead1']=df['I']\n",
    "    #y_sig.astype(float)/float(max(y_sig))\n",
    "    y_sig=df1['Lead2']\n",
    "    y_sig=y_sig.astype(float)\n",
    "    #print()\n",
    "    #y_sig=y_sig.astype(float)/float(max(y_sig))\n",
    "    print(\"Filter\")\n",
    "    b, a = butter(3, [lowcut, highcut], btype=\"band\")\n",
    "    y_sig = lfilter(b, a, y_sig)\n",
    "    print(\"Filter\")\n",
    "    maxim=max(y_sig)\n",
    "    height=(0+maxim)/2\n",
    "    peaks, peak_heights = find_peaks(y_sig, distance=0.2*fs,height=height)\n",
    "    peak_heights=list(peak_heights.values())[0]\n",
    "    df2=pd.DataFrame()\n",
    "    df2['R_peaks']=peaks\n",
    "    df2['R_height']=height\n",
    "    path=\"E:/Asad work 15th March/keras CNN practise/Arrhythmia ECG - Copy/renamed_database/\"+\"ECG5.R\"+str(j)+\".csv\"\n",
    "    print(df2.head())\n",
    "    df2.to_csv(path,encoding='utf-8')\n",
    "    j=j+1"
   ]
  },
  {
   "cell_type": "code",
   "execution_count": 24,
   "metadata": {},
   "outputs": [],
   "source": [
    "def get_label(filename):\n",
    "    if(filename.split('.')[0]=='ECG1'):\n",
    "        return 0\n",
    "    elif(filename.split('.')[0]=='ECG2'):\n",
    "        return 1\n",
    "    elif(filename.split('.')[0]=='ECG3'):\n",
    "        return 2\n",
    "    elif(filename.split('.')[0]=='ECG4'):\n",
    "        return 3\n",
    "    else:\n",
    "        return 4"
   ]
  },
  {
   "cell_type": "code",
   "execution_count": 15,
   "metadata": {},
   "outputs": [
    {
     "name": "stdout",
     "output_type": "stream",
     "text": [
      "E:/Asad work 15th March/keras CNN practise/Arrhythmia ECG - Copy/renamed_database\\ECG1.R1.csv\n",
      "E:/Asad work 15th March/keras CNN practise/Arrhythmia ECG - Copy/renamed_database\\ECG1.R2.csv\n",
      "E:/Asad work 15th March/keras CNN practise/Arrhythmia ECG - Copy/renamed_database\\ECG1.R3.csv\n",
      "E:/Asad work 15th March/keras CNN practise/Arrhythmia ECG - Copy/renamed_database\\ECG2.R1.csv\n",
      "E:/Asad work 15th March/keras CNN practise/Arrhythmia ECG - Copy/renamed_database\\ECG2.R2.csv\n",
      "E:/Asad work 15th March/keras CNN practise/Arrhythmia ECG - Copy/renamed_database\\ECG2.R3.csv\n",
      "E:/Asad work 15th March/keras CNN practise/Arrhythmia ECG - Copy/renamed_database\\ECG3.R1.csv\n",
      "E:/Asad work 15th March/keras CNN practise/Arrhythmia ECG - Copy/renamed_database\\ECG3.R2.csv\n",
      "E:/Asad work 15th March/keras CNN practise/Arrhythmia ECG - Copy/renamed_database\\ECG3.R3.csv\n",
      "E:/Asad work 15th March/keras CNN practise/Arrhythmia ECG - Copy/renamed_database\\ECG4.R1.csv\n",
      "E:/Asad work 15th March/keras CNN practise/Arrhythmia ECG - Copy/renamed_database\\ECG4.R2.csv\n",
      "E:/Asad work 15th March/keras CNN practise/Arrhythmia ECG - Copy/renamed_database\\ECG4.R3.csv\n",
      "E:/Asad work 15th March/keras CNN practise/Arrhythmia ECG - Copy/renamed_database\\ECG5.R1.csv\n",
      "E:/Asad work 15th March/keras CNN practise/Arrhythmia ECG - Copy/renamed_database\\ECG5.R2.csv\n"
     ]
    }
   ],
   "source": [
    "df=pd.DataFrame(columns=list(range(40)))\n",
    "df_final=pd.DataFrame(columns=list(range(40)))\n",
    "direct=os.listdir('E:/Asad work 15th March/keras CNN practise/Arrhythmia ECG - Copy/renamed_database')\n",
    "path='E:/Asad work 15th March/keras CNN practise/Arrhythmia ECG - Copy/renamed_database'\n",
    "k=0\n",
    "for file in direct:\n",
    "    path2=os.path.join(path,file)\n",
    "    df2=pd.read_csv(path2)\n",
    "    print(path2)\n",
    "    df1=pd.DataFrame(columns=['R_peaks'])\n",
    "    \n",
    "    df1['R_peaks']=df2['R_peaks']\n",
    "    j=int(len(df1['R_peaks'])/40)\n",
    "    strt=0\n",
    "    stop=40\n",
    "    for i in range(j+1):\n",
    "        df.loc[i+k]=pd.Series(df1['R_peaks'][strt:stop].values)\n",
    "        lbl=get_label(file)\n",
    "        df.loc[i+k][40]=lbl\n",
    "        strt=stop\n",
    "        stop=stop+40\n",
    "    k=k+j+1\n",
    "        "
   ]
  },
  {
   "cell_type": "code",
   "execution_count": 18,
   "metadata": {},
   "outputs": [],
   "source": [
    "df=df.fillna(0)"
   ]
  },
  {
   "cell_type": "code",
   "execution_count": 19,
   "metadata": {},
   "outputs": [],
   "source": [
    "df.to_csv(r'{}'.format('E:/Asad work 15th March/keras CNN practise/Arrhythmia ECG - Copy/renamed_database/final_file.csv'),header=False,index=False)"
   ]
  },
  {
   "cell_type": "markdown",
   "metadata": {},
   "source": [
    "Database for R_peak_height"
   ]
  },
  {
   "cell_type": "code",
   "execution_count": 29,
   "metadata": {},
   "outputs": [
    {
     "name": "stdout",
     "output_type": "stream",
     "text": [
      "E:/Asad work 15th March/keras CNN practise/Arrhythmia ECG - Copy/renamed_database\\ECG1.R1.csv\n",
      "E:/Asad work 15th March/keras CNN practise/Arrhythmia ECG - Copy/renamed_database\\ECG1.R2.csv\n",
      "E:/Asad work 15th March/keras CNN practise/Arrhythmia ECG - Copy/renamed_database\\ECG1.R3.csv\n",
      "E:/Asad work 15th March/keras CNN practise/Arrhythmia ECG - Copy/renamed_database\\ECG2.R1.csv\n",
      "E:/Asad work 15th March/keras CNN practise/Arrhythmia ECG - Copy/renamed_database\\ECG2.R2.csv\n",
      "E:/Asad work 15th March/keras CNN practise/Arrhythmia ECG - Copy/renamed_database\\ECG2.R3.csv\n",
      "E:/Asad work 15th March/keras CNN practise/Arrhythmia ECG - Copy/renamed_database\\ECG3.R1.csv\n",
      "E:/Asad work 15th March/keras CNN practise/Arrhythmia ECG - Copy/renamed_database\\ECG3.R2.csv\n",
      "E:/Asad work 15th March/keras CNN practise/Arrhythmia ECG - Copy/renamed_database\\ECG3.R3.csv\n",
      "E:/Asad work 15th March/keras CNN practise/Arrhythmia ECG - Copy/renamed_database\\ECG4.R1.csv\n",
      "E:/Asad work 15th March/keras CNN practise/Arrhythmia ECG - Copy/renamed_database\\ECG4.R2.csv\n",
      "E:/Asad work 15th March/keras CNN practise/Arrhythmia ECG - Copy/renamed_database\\ECG4.R3.csv\n",
      "E:/Asad work 15th March/keras CNN practise/Arrhythmia ECG - Copy/renamed_database\\ECG5.R1.csv\n",
      "E:/Asad work 15th March/keras CNN practise/Arrhythmia ECG - Copy/renamed_database\\ECG5.R2.csv\n"
     ]
    }
   ],
   "source": [
    "df=pd.DataFrame(columns=list(range(41)))\n",
    "df_final=pd.DataFrame(columns=list(range(41)))\n",
    "direct=os.listdir('E:/Asad work 15th March/keras CNN practise/Arrhythmia ECG - Copy/renamed_database')\n",
    "path='E:/Asad work 15th March/keras CNN practise/Arrhythmia ECG - Copy/renamed_database'\n",
    "k=0\n",
    "for file in direct:\n",
    "    path2=os.path.join(path,file)\n",
    "    df2=pd.read_csv(path2)\n",
    "    print(path2)\n",
    "    df1=pd.DataFrame(columns=['R_height'])\n",
    "    \n",
    "    df1['R_height']=df2['R_height']\n",
    "    j=int(len(df1['R_height'])/40)\n",
    "    strt=0\n",
    "    stop=40\n",
    "    for i in range(j+1):\n",
    "        df.loc[i+k]=pd.Series(df1['R_height'][strt:stop].values)\n",
    "        lbl=get_label(file)\n",
    "        df.loc[i+k][40]=lbl\n",
    "        strt=stop\n",
    "        stop=stop+40\n",
    "    k=k+j+1\n",
    "        "
   ]
  },
  {
   "cell_type": "code",
   "execution_count": 30,
   "metadata": {},
   "outputs": [],
   "source": [
    "df=df.fillna(0)"
   ]
  },
  {
   "cell_type": "code",
   "execution_count": 31,
   "metadata": {},
   "outputs": [
    {
     "data": {
      "text/html": [
       "<div>\n",
       "<style scoped>\n",
       "    .dataframe tbody tr th:only-of-type {\n",
       "        vertical-align: middle;\n",
       "    }\n",
       "\n",
       "    .dataframe tbody tr th {\n",
       "        vertical-align: top;\n",
       "    }\n",
       "\n",
       "    .dataframe thead th {\n",
       "        text-align: right;\n",
       "    }\n",
       "</style>\n",
       "<table border=\"1\" class=\"dataframe\">\n",
       "  <thead>\n",
       "    <tr style=\"text-align: right;\">\n",
       "      <th></th>\n",
       "      <th>0</th>\n",
       "      <th>1</th>\n",
       "      <th>2</th>\n",
       "      <th>3</th>\n",
       "      <th>4</th>\n",
       "      <th>5</th>\n",
       "      <th>6</th>\n",
       "      <th>7</th>\n",
       "      <th>8</th>\n",
       "      <th>9</th>\n",
       "      <th>...</th>\n",
       "      <th>31</th>\n",
       "      <th>32</th>\n",
       "      <th>33</th>\n",
       "      <th>34</th>\n",
       "      <th>35</th>\n",
       "      <th>36</th>\n",
       "      <th>37</th>\n",
       "      <th>38</th>\n",
       "      <th>39</th>\n",
       "      <th>40</th>\n",
       "    </tr>\n",
       "  </thead>\n",
       "  <tbody>\n",
       "    <tr>\n",
       "      <th>0</th>\n",
       "      <td>0.484826</td>\n",
       "      <td>0.484826</td>\n",
       "      <td>0.484826</td>\n",
       "      <td>0.484826</td>\n",
       "      <td>0.484826</td>\n",
       "      <td>0.484826</td>\n",
       "      <td>0.484826</td>\n",
       "      <td>0.484826</td>\n",
       "      <td>0.484826</td>\n",
       "      <td>0.484826</td>\n",
       "      <td>...</td>\n",
       "      <td>0.484826</td>\n",
       "      <td>0.484826</td>\n",
       "      <td>0.484826</td>\n",
       "      <td>0.484826</td>\n",
       "      <td>0.484826</td>\n",
       "      <td>0.484826</td>\n",
       "      <td>0.484826</td>\n",
       "      <td>0.484826</td>\n",
       "      <td>0.484826</td>\n",
       "      <td>0.0</td>\n",
       "    </tr>\n",
       "    <tr>\n",
       "      <th>1</th>\n",
       "      <td>0.484826</td>\n",
       "      <td>0.484826</td>\n",
       "      <td>0.484826</td>\n",
       "      <td>0.484826</td>\n",
       "      <td>0.484826</td>\n",
       "      <td>0.484826</td>\n",
       "      <td>0.484826</td>\n",
       "      <td>0.484826</td>\n",
       "      <td>0.484826</td>\n",
       "      <td>0.484826</td>\n",
       "      <td>...</td>\n",
       "      <td>0.484826</td>\n",
       "      <td>0.484826</td>\n",
       "      <td>0.484826</td>\n",
       "      <td>0.484826</td>\n",
       "      <td>0.484826</td>\n",
       "      <td>0.484826</td>\n",
       "      <td>0.484826</td>\n",
       "      <td>0.484826</td>\n",
       "      <td>0.484826</td>\n",
       "      <td>0.0</td>\n",
       "    </tr>\n",
       "    <tr>\n",
       "      <th>2</th>\n",
       "      <td>0.484826</td>\n",
       "      <td>0.484826</td>\n",
       "      <td>0.000000</td>\n",
       "      <td>0.000000</td>\n",
       "      <td>0.000000</td>\n",
       "      <td>0.000000</td>\n",
       "      <td>0.000000</td>\n",
       "      <td>0.000000</td>\n",
       "      <td>0.000000</td>\n",
       "      <td>0.000000</td>\n",
       "      <td>...</td>\n",
       "      <td>0.000000</td>\n",
       "      <td>0.000000</td>\n",
       "      <td>0.000000</td>\n",
       "      <td>0.000000</td>\n",
       "      <td>0.000000</td>\n",
       "      <td>0.000000</td>\n",
       "      <td>0.000000</td>\n",
       "      <td>0.000000</td>\n",
       "      <td>0.000000</td>\n",
       "      <td>0.0</td>\n",
       "    </tr>\n",
       "    <tr>\n",
       "      <th>3</th>\n",
       "      <td>0.709840</td>\n",
       "      <td>0.709840</td>\n",
       "      <td>0.709840</td>\n",
       "      <td>0.709840</td>\n",
       "      <td>0.709840</td>\n",
       "      <td>0.709840</td>\n",
       "      <td>0.709840</td>\n",
       "      <td>0.709840</td>\n",
       "      <td>0.709840</td>\n",
       "      <td>0.000000</td>\n",
       "      <td>...</td>\n",
       "      <td>0.000000</td>\n",
       "      <td>0.000000</td>\n",
       "      <td>0.000000</td>\n",
       "      <td>0.000000</td>\n",
       "      <td>0.000000</td>\n",
       "      <td>0.000000</td>\n",
       "      <td>0.000000</td>\n",
       "      <td>0.000000</td>\n",
       "      <td>0.000000</td>\n",
       "      <td>0.0</td>\n",
       "    </tr>\n",
       "    <tr>\n",
       "      <th>4</th>\n",
       "      <td>0.295812</td>\n",
       "      <td>0.295812</td>\n",
       "      <td>0.295812</td>\n",
       "      <td>0.295812</td>\n",
       "      <td>0.295812</td>\n",
       "      <td>0.295812</td>\n",
       "      <td>0.295812</td>\n",
       "      <td>0.295812</td>\n",
       "      <td>0.295812</td>\n",
       "      <td>0.295812</td>\n",
       "      <td>...</td>\n",
       "      <td>0.295812</td>\n",
       "      <td>0.295812</td>\n",
       "      <td>0.295812</td>\n",
       "      <td>0.295812</td>\n",
       "      <td>0.295812</td>\n",
       "      <td>0.295812</td>\n",
       "      <td>0.295812</td>\n",
       "      <td>0.295812</td>\n",
       "      <td>0.295812</td>\n",
       "      <td>0.0</td>\n",
       "    </tr>\n",
       "  </tbody>\n",
       "</table>\n",
       "<p>5 rows × 41 columns</p>\n",
       "</div>"
      ],
      "text/plain": [
       "         0         1         2         3         4         5         6   \\\n",
       "0  0.484826  0.484826  0.484826  0.484826  0.484826  0.484826  0.484826   \n",
       "1  0.484826  0.484826  0.484826  0.484826  0.484826  0.484826  0.484826   \n",
       "2  0.484826  0.484826  0.000000  0.000000  0.000000  0.000000  0.000000   \n",
       "3  0.709840  0.709840  0.709840  0.709840  0.709840  0.709840  0.709840   \n",
       "4  0.295812  0.295812  0.295812  0.295812  0.295812  0.295812  0.295812   \n",
       "\n",
       "         7         8         9   ...        31        32        33        34  \\\n",
       "0  0.484826  0.484826  0.484826  ...  0.484826  0.484826  0.484826  0.484826   \n",
       "1  0.484826  0.484826  0.484826  ...  0.484826  0.484826  0.484826  0.484826   \n",
       "2  0.000000  0.000000  0.000000  ...  0.000000  0.000000  0.000000  0.000000   \n",
       "3  0.709840  0.709840  0.000000  ...  0.000000  0.000000  0.000000  0.000000   \n",
       "4  0.295812  0.295812  0.295812  ...  0.295812  0.295812  0.295812  0.295812   \n",
       "\n",
       "         35        36        37        38        39   40  \n",
       "0  0.484826  0.484826  0.484826  0.484826  0.484826  0.0  \n",
       "1  0.484826  0.484826  0.484826  0.484826  0.484826  0.0  \n",
       "2  0.000000  0.000000  0.000000  0.000000  0.000000  0.0  \n",
       "3  0.000000  0.000000  0.000000  0.000000  0.000000  0.0  \n",
       "4  0.295812  0.295812  0.295812  0.295812  0.295812  0.0  \n",
       "\n",
       "[5 rows x 41 columns]"
      ]
     },
     "execution_count": 31,
     "metadata": {},
     "output_type": "execute_result"
    }
   ],
   "source": [
    "df.head()"
   ]
  },
  {
   "cell_type": "code",
   "execution_count": 32,
   "metadata": {},
   "outputs": [],
   "source": [
    "df.to_csv(r'{}'.format('E:/Asad work 15th March/keras CNN practise/Arrhythmia ECG - Copy/renamed_database/final_file1.csv'),header=False,index=False)"
   ]
  },
  {
   "cell_type": "code",
   "execution_count": null,
   "metadata": {},
   "outputs": [],
   "source": []
  },
  {
   "cell_type": "code",
   "execution_count": null,
   "metadata": {},
   "outputs": [],
   "source": []
  },
  {
   "cell_type": "code",
   "execution_count": null,
   "metadata": {},
   "outputs": [],
   "source": []
  },
  {
   "cell_type": "code",
   "execution_count": null,
   "metadata": {},
   "outputs": [],
   "source": []
  },
  {
   "cell_type": "code",
   "execution_count": null,
   "metadata": {},
   "outputs": [],
   "source": []
  },
  {
   "cell_type": "code",
   "execution_count": 1,
   "metadata": {},
   "outputs": [],
   "source": [
    "import os\n",
    "import pandas as pd\n",
    "from scipy.signal import butter, lfilter\n",
    "from scipy.signal import find_peaks\n",
    "from scipy.signal import freqz\n",
    "from scipy.signal import find_peaks"
   ]
  },
  {
   "cell_type": "code",
   "execution_count": 2,
   "metadata": {},
   "outputs": [],
   "source": [
    "coll=\"E:/Asad work 15th March/keras CNN practise/Arrhythmia ECG - Copy/Class1_Normal\""
   ]
  },
  {
   "cell_type": "code",
   "execution_count": 4,
   "metadata": {},
   "outputs": [],
   "source": [
    "import numpy as np"
   ]
  },
  {
   "cell_type": "code",
   "execution_count": 6,
   "metadata": {},
   "outputs": [
    {
     "name": "stdout",
     "output_type": "stream",
     "text": [
      "E:/Asad work 15th March/keras CNN practise/Arrhythmia ECG - Copy/Class1_Normal\\samples (1).csv\n",
      "Filter\n",
      "Filter\n",
      "   R_peaks  R_height  s_pt_index      s_pt\n",
      "0      225  0.484826         238  0.008719\n",
      "1      488  0.484826         501 -0.001492\n",
      "2      737  0.484826         750 -0.010609\n",
      "3      993  0.484826        1006  0.004199\n",
      "4     1250  0.484826        1263  0.009105\n",
      "E:/Asad work 15th March/keras CNN practise/Arrhythmia ECG - Copy/Class1_Normal\\samples (2).csv\n",
      "Filter\n",
      "Filter\n",
      "   R_peaks  R_height  s_pt_index      s_pt\n",
      "0     6455   0.70984        6468 -0.196579\n",
      "1     9131   0.70984        9144 -0.269208\n",
      "2     9242   0.70984        9255  0.003267\n",
      "3    10518   0.70984       10531 -0.223077\n",
      "4    14164   0.70984       14177 -0.150394\n",
      "E:/Asad work 15th March/keras CNN practise/Arrhythmia ECG - Copy/Class1_Normal\\samples.csv\n",
      "Filter\n",
      "Filter\n",
      "   R_peaks  R_height  s_pt_index      s_pt\n",
      "0      102  0.295812         115  0.006833\n",
      "1      396  0.295812         409 -0.008153\n",
      "2      688  0.295812         701  0.003639\n",
      "3      972  0.295812         985  0.015709\n",
      "4     1257  0.295812        1270 -0.014309\n"
     ]
    }
   ],
   "source": [
    "k=1\n",
    "fs=128\n",
    "lowcut = 5/fs\n",
    "highcut = 15/fs\n",
    "for fname in os.listdir(coll):\n",
    "    path=os.path.join(coll,fname)\n",
    "    print(path)\n",
    "    df=pd.read_csv(path)\n",
    "    #print(df.head())\n",
    "    df1=pd.DataFrame()\n",
    "    #df1['index']=df['index']+1\n",
    "    df1['Lead2']=df.loc[1:]['\\'MLII\\'']\n",
    "    #df1['Lead1']=df['I']\n",
    "    #y_sig.astype(float)/float(max(y_sig))\n",
    "    y_sig=df1['Lead2']\n",
    "    y_sig=y_sig.astype(float)\n",
    "    #print()\n",
    "    #y_sig=y_sig.astype(float)/float(max(y_sig))\n",
    "    print(\"Filter\")\n",
    "    b, a = butter(3, [lowcut, highcut], btype=\"band\")\n",
    "    y_sig = lfilter(b, a, y_sig)\n",
    "    print(\"Filter\")\n",
    "    maxim=max(y_sig)\n",
    "    height=(0+maxim)/2\n",
    "    peaks, peak_heights = find_peaks(y_sig, distance=0.2*fs,height=height)\n",
    "    peak_heights=list(peak_heights.values())[0]\n",
    "    llp=len(peak_heights)\n",
    "    start=0\n",
    "    subs=0\n",
    "    s_pt=[]\n",
    "    s_pt_index=[]\n",
    "    for j in range(llp):\n",
    "        if np.logical_and(int(round(peaks[j]+0.055*fs))>len(y_sig),j==llp-1):\n",
    "            slice=list((y_sig[peaks[j]:len(y_sig)]==np.amin(y_sig[peaks[j]:len(y_sig)])).astype(int))\n",
    "            start=peaks[j]\n",
    "            for i in range(len(slice)):\n",
    "                if slice[i]==1:\n",
    "                    subs=i+start\n",
    "                    s1_pt_index=subs\n",
    "                    s1_pt=y_sig[subs]\n",
    "                    s2_pt_index=subs\n",
    "                    s2_pt=y_sig[subs]\n",
    "                    break\n",
    "        elif np.logical_and(int(round(peaks[j]+0.1111*fs))>len(y_sig),j==llp-1):\n",
    "            slice=list((y_sig[peaks[j]:len(y_sig)]==np.amin(y_sig[peaks[j]:len(y_sig)])).astype(int))\n",
    "            start=peaks[j]\n",
    "            for i in range(len(slice)):\n",
    "                if slice[i]==1:\n",
    "                    subs=i+start\n",
    "                    s2_pt_index=subs\n",
    "                    s2_pt=y_sig[subs]\n",
    "                    break\n",
    "            slice=list((y_sig[peaks[j]:int(round(peaks[j]+0.055*fs))]==np.amin(y_sig[peaks[j]:int(round(peaks[j]+0.055*fs))])).astype(int))\n",
    "            start=peaks[j]\n",
    "            for i in range(len(slice)):\n",
    "                if slice[i]==1:\n",
    "                    subs=i+start\n",
    "                    s1_pt_index=subs\n",
    "                    s1_pt=y_sig[subs]\n",
    "                    break\n",
    "        else:\n",
    "            slice=list((y_sig[peaks[j]:int(round(peaks[j]+0.055*fs))]==np.amin(y_sig[peaks[j]:int(round(peaks[j]+0.055*fs))])).astype(int))\n",
    "            start=peaks[j]\n",
    "            for i in range(len(slice)):\n",
    "                if slice[i]==1:\n",
    "                    subs=i+start\n",
    "                    s1_pt_index=subs\n",
    "                    s1_pt=y_sig[subs]\n",
    "                    break\n",
    "            slice=list((y_sig[peaks[j]:int(round(peaks[j]+0.1111*fs))]==np.amin(y_sig[peaks[j]:int(round(peaks[j]+0.1111*fs))])).astype(int))\n",
    "            start=peaks[j]\n",
    "            for i in range(len(slice)):\n",
    "                if slice[i]==1:\n",
    "                    subs=i+start\n",
    "                    s2_pt_index=subs\n",
    "                    s2_pt=y_sig[subs]\n",
    "                    break\n",
    "        if(s1_pt_index==s2_pt_index):\n",
    "            s_pt_index.append(s1_pt_index)\n",
    "            s_pt.append(s1_pt)\n",
    "        elif s1_pt>s2_pt:\n",
    "            s_pt_index.append(s2_pt_index)\n",
    "            s_pt.append(s2_pt)\n",
    "        else:\n",
    "            s_pt_index.append(s1_pt_index)\n",
    "            s_pt.append(s1_pt)\n",
    "                    \n",
    "    df2=pd.DataFrame()\n",
    "    df2['R_peaks']=peaks\n",
    "    df2['R_height']=height\n",
    "    df2['s_pt_index']=s_pt_index\n",
    "    df2['s_pt']=s_pt\n",
    "    path=\"E:/Asad work 15th March/keras CNN practise/Arrhythmia ECG - Copy/renamed_database/\"+\"ECG5.RS\"+str(j)+\".csv\"\n",
    "    print(df2.head())\n",
    "    df2.to_csv(path,encoding='utf-8')\n",
    "    k=k+1"
   ]
  },
  {
   "cell_type": "code",
   "execution_count": 5,
   "metadata": {},
   "outputs": [],
   "source": [
    "l1=[3,5,6]\n",
    "l2=[3,7,2]"
   ]
  },
  {
   "cell_type": "code",
   "execution_count": 6,
   "metadata": {},
   "outputs": [
    {
     "data": {
      "text/plain": [
       "[0, -2, 4]"
      ]
     },
     "execution_count": 6,
     "metadata": {},
     "output_type": "execute_result"
    }
   ],
   "source": [
    "[x1 - x2 for (x1, x2) in zip(l1,l2)]"
   ]
  },
  {
   "cell_type": "code",
   "execution_count": null,
   "metadata": {},
   "outputs": [],
   "source": []
  },
  {
   "cell_type": "markdown",
   "metadata": {},
   "source": [
    "breeeeeaaaaaakkkk"
   ]
  },
  {
   "cell_type": "code",
   "execution_count": null,
   "metadata": {},
   "outputs": [],
   "source": []
  },
  {
   "cell_type": "code",
   "execution_count": 13,
   "metadata": {},
   "outputs": [],
   "source": [
    "coll=\"E:/Asad work 15th March/keras CNN practise/Arrhythmia ECG1/Class3_RBB\""
   ]
  },
  {
   "cell_type": "code",
   "execution_count": 14,
   "metadata": {},
   "outputs": [
    {
     "name": "stdout",
     "output_type": "stream",
     "text": [
      "E:/Asad work 15th March/keras CNN practise/Arrhythmia ECG1/Class3_RBB\\samples (1).csv\n",
      "Filter\n",
      "Filter\n",
      "       q_pt  q_pt_index  R_peaks  R_height  s_pt_index      s_pt       QRS\n",
      "0 -0.576040         258      272  0.580335         285 -0.110212  1.156374\n",
      "1 -0.646047         707      721  0.635458         734 -0.100738  1.281505\n",
      "2 -0.577806        1133     1147  0.570399        1160 -0.087589  1.148205\n",
      "3 -0.554765        1567     1581  0.590428        1594 -0.117516  1.145193\n",
      "4 -0.544894        2003     2017  0.542085        2030 -0.076192  1.086979\n",
      "E:/Asad work 15th March/keras CNN practise/Arrhythmia ECG1/Class3_RBB\\samples (2).csv\n",
      "Filter\n",
      "Filter\n",
      "       q_pt  q_pt_index  R_peaks  R_height  s_pt_index      s_pt       QRS\n",
      "0 -0.554827         228      240  0.455344         253  0.031477  1.010171\n",
      "1 -0.517538         465      478  0.413801         491  0.026992  0.931340\n",
      "2 -0.486847         710      722  0.396671         735  0.044348  0.883518\n",
      "3 -0.504090         938      950  0.403138         963  0.052853  0.907228\n",
      "4 -0.551167        1182     1195  0.472996        1208  0.027949  1.024164\n",
      "E:/Asad work 15th March/keras CNN practise/Arrhythmia ECG1/Class3_RBB\\samples (3).csv\n",
      "Filter\n",
      "Filter\n",
      "       q_pt  q_pt_index  R_peaks  R_height  s_pt_index      s_pt       QRS\n",
      "0 -0.508633         194      208  0.418614         221 -0.116433  0.927246\n",
      "1 -0.498604         541      555  0.433730         568 -0.143061  0.932334\n",
      "2 -0.468859         861      874  0.412464         887 -0.112408  0.881323\n",
      "3 -0.504169        1180     1194  0.452068        1207 -0.157168  0.956237\n",
      "4 -0.510836        1526     1540  0.415079        1553 -0.121081  0.925915\n",
      "E:/Asad work 15th March/keras CNN practise/Arrhythmia ECG1/Class3_RBB\\samples.csv\n",
      "Filter\n",
      "Filter\n",
      "       q_pt  q_pt_index  R_peaks  R_height  s_pt_index      s_pt       QRS\n",
      "0 -0.904575          82       95  1.094574         108 -0.307880  1.999149\n",
      "1 -0.860242         384      397  0.995639         410 -0.189848  1.855881\n",
      "2 -0.893764         689      702  0.998028         715 -0.184946  1.891791\n",
      "3 -0.844919         994     1007  0.985772        1020 -0.156446  1.830691\n",
      "4 -0.811234        1298     1311  1.018377        1324 -0.069530  1.829611\n"
     ]
    }
   ],
   "source": [
    "k=1\n",
    "fs=128\n",
    "lowcut = 5/fs\n",
    "highcut = 15/fs\n",
    "for fname in os.listdir(coll):\n",
    "    path=os.path.join(coll,fname)\n",
    "    print(path)\n",
    "    df=pd.read_csv(path)\n",
    "    #print(df.head())\n",
    "    df1=pd.DataFrame()\n",
    "    #df1['index']=df['index']+1\n",
    "    df1['Lead2']=df.loc[1:]['\\'MLII\\'']\n",
    "    #df1['Lead1']=df['I']\n",
    "    #y_sig.astype(float)/float(max(y_sig))\n",
    "    y_sig=df1['Lead2']\n",
    "    y_sig=y_sig.astype(float)\n",
    "    y_sig=y_sig/max(y_sig)\n",
    "    #print()\n",
    "    #y_sig=y_sig.astype(float)/float(max(y_sig))\n",
    "    print(\"Filter\")\n",
    "    b, a = butter(3, [lowcut, highcut], btype=\"band\")\n",
    "    y_sig = lfilter(b, a, y_sig)\n",
    "    print(\"Filter\")\n",
    "    maxim=max(y_sig)\n",
    "    height=(0+maxim)/2\n",
    "    peaks, peak_heights = find_peaks(y_sig, distance=0.2*fs,height=height)\n",
    "    peak_heights=list(peak_heights.values())[0]\n",
    "    llp=len(peak_heights)\n",
    "    start=0\n",
    "    subs=0\n",
    "    s_pt=[]\n",
    "    s_pt_index=[]\n",
    "    for j in range(llp):\n",
    "        if np.logical_and(int(round(peaks[j]+0.055*fs))>len(y_sig),j==llp-1):\n",
    "            slice=list((y_sig[peaks[j]:len(y_sig)]==np.amin(y_sig[peaks[j]:len(y_sig)])).astype(int))\n",
    "            start=peaks[j]\n",
    "            for i in range(len(slice)):\n",
    "                if slice[i]==1:\n",
    "                    subs=i+start\n",
    "                    s1_pt_index=subs\n",
    "                    s1_pt=y_sig[subs]\n",
    "                    s2_pt_index=subs\n",
    "                    s2_pt=y_sig[subs]\n",
    "                    break\n",
    "        elif np.logical_and(int(round(peaks[j]+0.1111*fs))>len(y_sig),j==llp-1):\n",
    "            slice=list((y_sig[peaks[j]:len(y_sig)]==np.amin(y_sig[peaks[j]:len(y_sig)])).astype(int))\n",
    "            start=peaks[j]\n",
    "            for i in range(len(slice)):\n",
    "                if slice[i]==1:\n",
    "                    subs=i+start\n",
    "                    s2_pt_index=subs\n",
    "                    s2_pt=y_sig[subs]\n",
    "                    break\n",
    "            slice=list((y_sig[peaks[j]:int(round(peaks[j]+0.055*fs))]==np.amin(y_sig[peaks[j]:int(round(peaks[j]+0.055*fs))])).astype(int))\n",
    "            start=peaks[j]\n",
    "            for i in range(len(slice)):\n",
    "                if slice[i]==1:\n",
    "                    subs=i+start\n",
    "                    s1_pt_index=subs\n",
    "                    s1_pt=y_sig[subs]\n",
    "                    break\n",
    "        else:\n",
    "            slice=list((y_sig[peaks[j]:int(round(peaks[j]+0.055*fs))]==np.amin(y_sig[peaks[j]:int(round(peaks[j]+0.055*fs))])).astype(int))\n",
    "            start=peaks[j]\n",
    "            for i in range(len(slice)):\n",
    "                if slice[i]==1:\n",
    "                    subs=i+start\n",
    "                    s1_pt_index=subs\n",
    "                    s1_pt=y_sig[subs]\n",
    "                    break\n",
    "            slice=list((y_sig[peaks[j]:int(round(peaks[j]+0.1111*fs))]==np.amin(y_sig[peaks[j]:int(round(peaks[j]+0.1111*fs))])).astype(int))\n",
    "            start=peaks[j]\n",
    "            for i in range(len(slice)):\n",
    "                if slice[i]==1:\n",
    "                    subs=i+start\n",
    "                    s2_pt_index=subs\n",
    "                    s2_pt=y_sig[subs]\n",
    "                    break\n",
    "        if(s1_pt_index==s2_pt_index):\n",
    "            s_pt_index.append(s1_pt_index)\n",
    "            s_pt.append(s1_pt)\n",
    "        elif s1_pt>s2_pt:\n",
    "            s_pt_index.append(s2_pt_index)\n",
    "            s_pt.append(s2_pt)\n",
    "        else:\n",
    "            s_pt_index.append(s1_pt_index)\n",
    "            s_pt.append(s1_pt)\n",
    "    MVq=0\n",
    "    q_pt=[]\n",
    "    q_pt_index=[]\n",
    "    start=0\n",
    "    subs=0\n",
    "    for j in range(llp):\n",
    "        if np.logical_and(int(round(peaks[j]-0.055*fs))<0,j==0):\n",
    "            slice=list((y_sig[0:peaks[j]]==np.amin(y_sig[0:peaks[j]])).astype(int))\n",
    "            start=0\n",
    "            for i in range(len(slice)):\n",
    "                if slice[i]==1:\n",
    "                    subs=i+start\n",
    "                    q1_pt_index=subs\n",
    "                    q1_pt=y_sig[subs]\n",
    "                    q2_pt_index=subs\n",
    "                    q2_pt=y_sig[subs]\n",
    "                    break\n",
    "        elif np.logical_and(int(round(peaks[j]-0.1111*fs))<0,j==0):\n",
    "            slice=list((y_sig[0:peaks[j]]==np.amin(y_sig[0:peaks[j]])).astype(int))\n",
    "            start=0\n",
    "            for i in range(len(slice)):\n",
    "                if slice[i]==1:\n",
    "                    subs=i+start\n",
    "                    q2_pt_index=subs\n",
    "                    q2_pt=y_sig[subs]\n",
    "                    break\n",
    "            slice=list((y_sig[int(round(peaks[j]-0.0555*fs)):peaks[j]]==np.amin(y_sig[int(round(peaks[j]-0.0555*fs)):peaks[j]])).astype(int))\n",
    "            start=int(round(peaks[j]-0.0555*fs))\n",
    "            for i in range(len(slice)):\n",
    "                if slice[i]==1:\n",
    "                    subs=i+start\n",
    "                    q1_pt_index=subs\n",
    "                    q1_pt=y_sig[subs]\n",
    "                    break\n",
    "        else:\n",
    "            slice=list((y_sig[int(round(peaks[j]-0.0555*fs)):peaks[j]]==np.amin(y_sig[int(round(peaks[j]-0.0555*fs)):peaks[j]])).astype(int))\n",
    "            start=int(round(peaks[j]-0.0555*fs))\n",
    "            for i in range(len(slice)):\n",
    "                if slice[i]==1:\n",
    "                    subs=i+start\n",
    "                    q1_pt_index=subs\n",
    "                    q1_pt=y_sig[subs]\n",
    "                    break\n",
    "            slice=list((y_sig[int(round(peaks[j]-0.1111*fs)):peaks[j]]==np.amin(y_sig[int(round(peaks[j]-0.1111*fs)):peaks[j]])).astype(int))\n",
    "            start=int(round(peaks[j]-0.1111*fs))\n",
    "            for i in range(len(slice)):\n",
    "                if slice[i]==1:\n",
    "                    subs=i+start\n",
    "                    q2_pt_index=subs\n",
    "                    q2_pt=y_sig[subs]\n",
    "                    break\n",
    "        if(q1_pt_index==q2_pt_index):\n",
    "            q_pt_index.append(q1_pt_index)\n",
    "            q_pt.append(q1_pt)\n",
    "        else:\n",
    "            strt=q2_pt_index\n",
    "            stp=q1_pt_index\n",
    "            MVq=np.amax(y_sig[strt:stp])\n",
    "            if(MVq>q1_pt+0.00018):\n",
    "                q_pt_index.append(q2_pt_index)\n",
    "                q_pt.append(q2_pt)\n",
    "            else:\n",
    "                q_pt.append(min(q1_pt,q2_pt))\n",
    "                if (q_pt[j]==q1_pt):\n",
    "                    q_pt_index.append(q1_pt_index)\n",
    "                else:\n",
    "                    q_pt_index.append(q2_pt_index)\n",
    "                    \n",
    "    df2=pd.DataFrame()\n",
    "    df2['q_pt']=q_pt\n",
    "    df2['q_pt_index']=q_pt_index\n",
    "    \n",
    "    df2['R_peaks']=peaks\n",
    "    df2['R_height']=peak_heights\n",
    "    df2['s_pt_index']=s_pt_index\n",
    "    df2['s_pt']=s_pt\n",
    "    qrs=[]\n",
    "    for t in range(llp):\n",
    "        qrs.append(peak_heights[t]-q_pt[t])\n",
    "    #qrs=list(set(q_pt_index)-set(s_pt_index))\n",
    "    #qrs=[[x1 - x2 for (x1, x2) in zip(q_pt_index,s_pt_index)]]\n",
    "    df2['QRS']=qrs\n",
    "    path=\"E:/Asad work 15th March/keras CNN practise/Arrhythmia ECG1/renamed_database2/\"+\"ECG3.RSQ\"+str(k)+\".csv\"\n",
    "    print(df2.head())\n",
    "    df2.to_csv(path,encoding='utf-8')\n",
    "    k=k+1\n"
   ]
  },
  {
   "cell_type": "code",
   "execution_count": 61,
   "metadata": {},
   "outputs": [],
   "source": [
    "import os\n",
    "import pandas as pd"
   ]
  },
  {
   "cell_type": "code",
   "execution_count": null,
   "metadata": {},
   "outputs": [],
   "source": [
    "import pandas as pd\n",
    "k=0\n",
    "df=pd.DataFrame(columns=list(range(121)))\n",
    "df2=pd.read_csv(\"E:/Asad work 15th March/keras CNN practise/Arrhythmia ECG1/renamed_database5/ECG1.RSQ1.csv\")\n",
    "    #print(path2)\n",
    "#df1=pd.DataFrame(columns=['R_height'])\n",
    "    \n",
    "#df1['R_height']=df2['R_height']\n",
    "j=int(len(df1['R_height'])/40)\n",
    "strt=0\n",
    "stop=40\n",
    "i=0\n",
    "s1=0\n",
    "for l1 in range(strt,stop):\n",
    "    df\n",
    "#df.loc[i+k]=pd.Series(df2['R_height'][strt:stop].values)\n",
    "#df.loc[i+k][41:]=pd.Series(df2['s_pt'][strt:stop].values)\n",
    "        #lbl=get_label(file)\n",
    "df.loc[i+k][80]=0\n",
    "strt=stop\n",
    "stop=stop+40\n",
    "k=k+j+1\n",
    "print(df.head())"
   ]
  },
  {
   "cell_type": "code",
   "execution_count": 68,
   "metadata": {
    "collapsed": true
   },
   "outputs": [
    {
     "name": "stdout",
     "output_type": "stream",
     "text": [
      "E:/Asad work 15th March/keras CNN practise/Arrhythmia ECG1/renamed_database4\\ECG1.RSQ1.csv\n"
     ]
    },
    {
     "ename": "ValueError",
     "evalue": "cannot set using a slice indexer with a different length than the value",
     "output_type": "error",
     "traceback": [
      "\u001b[1;31m---------------------------------------------------------------------------\u001b[0m",
      "\u001b[1;31mTypeError\u001b[0m                                 Traceback (most recent call last)",
      "\u001b[1;32m~\\anaconda3\\lib\\site-packages\\pandas\\core\\series.py\u001b[0m in \u001b[0;36m__setitem__\u001b[1;34m(self, key, value)\u001b[0m\n\u001b[0;32m   1013\u001b[0m         \u001b[1;32mtry\u001b[0m\u001b[1;33m:\u001b[0m\u001b[1;33m\u001b[0m\u001b[1;33m\u001b[0m\u001b[0m\n\u001b[1;32m-> 1014\u001b[1;33m             \u001b[0mself\u001b[0m\u001b[1;33m.\u001b[0m\u001b[0m_set_with_engine\u001b[0m\u001b[1;33m(\u001b[0m\u001b[0mkey\u001b[0m\u001b[1;33m,\u001b[0m \u001b[0mvalue\u001b[0m\u001b[1;33m)\u001b[0m\u001b[1;33m\u001b[0m\u001b[1;33m\u001b[0m\u001b[0m\n\u001b[0m\u001b[0;32m   1015\u001b[0m         \u001b[1;32mexcept\u001b[0m \u001b[0mcom\u001b[0m\u001b[1;33m.\u001b[0m\u001b[0mSettingWithCopyError\u001b[0m\u001b[1;33m:\u001b[0m\u001b[1;33m\u001b[0m\u001b[1;33m\u001b[0m\u001b[0m\n",
      "\u001b[1;32m~\\anaconda3\\lib\\site-packages\\pandas\\core\\series.py\u001b[0m in \u001b[0;36m_set_with_engine\u001b[1;34m(self, key, value)\u001b[0m\n\u001b[0;32m   1053\u001b[0m         \u001b[1;32mtry\u001b[0m\u001b[1;33m:\u001b[0m\u001b[1;33m\u001b[0m\u001b[1;33m\u001b[0m\u001b[0m\n\u001b[1;32m-> 1054\u001b[1;33m             \u001b[0mself\u001b[0m\u001b[1;33m.\u001b[0m\u001b[0mindex\u001b[0m\u001b[1;33m.\u001b[0m\u001b[0m_engine\u001b[0m\u001b[1;33m.\u001b[0m\u001b[0mset_value\u001b[0m\u001b[1;33m(\u001b[0m\u001b[0mvalues\u001b[0m\u001b[1;33m,\u001b[0m \u001b[0mkey\u001b[0m\u001b[1;33m,\u001b[0m \u001b[0mvalue\u001b[0m\u001b[1;33m)\u001b[0m\u001b[1;33m\u001b[0m\u001b[1;33m\u001b[0m\u001b[0m\n\u001b[0m\u001b[0;32m   1055\u001b[0m             \u001b[1;32mreturn\u001b[0m\u001b[1;33m\u001b[0m\u001b[1;33m\u001b[0m\u001b[0m\n",
      "\u001b[1;32mpandas\\_libs\\index.pyx\u001b[0m in \u001b[0;36mpandas._libs.index.IndexEngine.set_value\u001b[1;34m()\u001b[0m\n",
      "\u001b[1;32mpandas\\_libs\\index.pyx\u001b[0m in \u001b[0;36mpandas._libs.index.IndexEngine.set_value\u001b[1;34m()\u001b[0m\n",
      "\u001b[1;32mpandas\\_libs\\index.pyx\u001b[0m in \u001b[0;36mpandas._libs.index.IndexEngine.get_loc\u001b[1;34m()\u001b[0m\n",
      "\u001b[1;31mTypeError\u001b[0m: 'slice(41, None, None)' is an invalid key",
      "\nDuring handling of the above exception, another exception occurred:\n",
      "\u001b[1;31mValueError\u001b[0m                                Traceback (most recent call last)",
      "\u001b[1;32m<ipython-input-68-5176fd6aeb27>\u001b[0m in \u001b[0;36m<module>\u001b[1;34m\u001b[0m\n\u001b[0;32m     15\u001b[0m     \u001b[1;32mfor\u001b[0m \u001b[0mi\u001b[0m \u001b[1;32min\u001b[0m \u001b[0mrange\u001b[0m\u001b[1;33m(\u001b[0m\u001b[0mj\u001b[0m\u001b[1;33m+\u001b[0m\u001b[1;36m1\u001b[0m\u001b[1;33m)\u001b[0m\u001b[1;33m:\u001b[0m\u001b[1;33m\u001b[0m\u001b[1;33m\u001b[0m\u001b[0m\n\u001b[0;32m     16\u001b[0m         \u001b[0mdf\u001b[0m\u001b[1;33m.\u001b[0m\u001b[0mloc\u001b[0m\u001b[1;33m[\u001b[0m\u001b[0mi\u001b[0m\u001b[1;33m+\u001b[0m\u001b[0mk\u001b[0m\u001b[1;33m]\u001b[0m\u001b[1;33m=\u001b[0m\u001b[0mpd\u001b[0m\u001b[1;33m.\u001b[0m\u001b[0mSeries\u001b[0m\u001b[1;33m(\u001b[0m\u001b[0mdf2\u001b[0m\u001b[1;33m[\u001b[0m\u001b[1;34m'R_height'\u001b[0m\u001b[1;33m]\u001b[0m\u001b[1;33m[\u001b[0m\u001b[0mstrt\u001b[0m\u001b[1;33m:\u001b[0m\u001b[0mstop\u001b[0m\u001b[1;33m]\u001b[0m\u001b[1;33m.\u001b[0m\u001b[0mvalues\u001b[0m\u001b[1;33m)\u001b[0m\u001b[1;33m\u001b[0m\u001b[1;33m\u001b[0m\u001b[0m\n\u001b[1;32m---> 17\u001b[1;33m         \u001b[0mdf\u001b[0m\u001b[1;33m.\u001b[0m\u001b[0mloc\u001b[0m\u001b[1;33m[\u001b[0m\u001b[0mi\u001b[0m\u001b[1;33m+\u001b[0m\u001b[0mk\u001b[0m\u001b[1;33m]\u001b[0m\u001b[1;33m[\u001b[0m\u001b[1;36m41\u001b[0m\u001b[1;33m:\u001b[0m\u001b[1;33m]\u001b[0m\u001b[1;33m=\u001b[0m\u001b[0mpd\u001b[0m\u001b[1;33m.\u001b[0m\u001b[0mSeries\u001b[0m\u001b[1;33m(\u001b[0m\u001b[0mdf2\u001b[0m\u001b[1;33m[\u001b[0m\u001b[1;34m's_pt'\u001b[0m\u001b[1;33m]\u001b[0m\u001b[1;33m[\u001b[0m\u001b[0mstrt\u001b[0m\u001b[1;33m:\u001b[0m\u001b[0mstop\u001b[0m\u001b[1;33m]\u001b[0m\u001b[1;33m.\u001b[0m\u001b[0mvalues\u001b[0m\u001b[1;33m)\u001b[0m\u001b[1;33m\u001b[0m\u001b[1;33m\u001b[0m\u001b[0m\n\u001b[0m\u001b[0;32m     18\u001b[0m         \u001b[1;31m#print(\"Valuei+k\")\u001b[0m\u001b[1;33m\u001b[0m\u001b[1;33m\u001b[0m\u001b[1;33m\u001b[0m\u001b[0m\n\u001b[0;32m     19\u001b[0m         \u001b[1;31m#print(i+k)\u001b[0m\u001b[1;33m\u001b[0m\u001b[1;33m\u001b[0m\u001b[1;33m\u001b[0m\u001b[0m\n",
      "\u001b[1;32m~\\anaconda3\\lib\\site-packages\\pandas\\core\\series.py\u001b[0m in \u001b[0;36m__setitem__\u001b[1;34m(self, key, value)\u001b[0m\n\u001b[0;32m   1040\u001b[0m                     \u001b[1;32mpass\u001b[0m\u001b[1;33m\u001b[0m\u001b[1;33m\u001b[0m\u001b[0m\n\u001b[0;32m   1041\u001b[0m \u001b[1;33m\u001b[0m\u001b[0m\n\u001b[1;32m-> 1042\u001b[1;33m             \u001b[0mself\u001b[0m\u001b[1;33m.\u001b[0m\u001b[0m_set_with\u001b[0m\u001b[1;33m(\u001b[0m\u001b[0mkey\u001b[0m\u001b[1;33m,\u001b[0m \u001b[0mvalue\u001b[0m\u001b[1;33m)\u001b[0m\u001b[1;33m\u001b[0m\u001b[1;33m\u001b[0m\u001b[0m\n\u001b[0m\u001b[0;32m   1043\u001b[0m \u001b[1;33m\u001b[0m\u001b[0m\n\u001b[0;32m   1044\u001b[0m         \u001b[1;32mif\u001b[0m \u001b[0mcacher_needs_updating\u001b[0m\u001b[1;33m:\u001b[0m\u001b[1;33m\u001b[0m\u001b[1;33m\u001b[0m\u001b[0m\n",
      "\u001b[1;32m~\\anaconda3\\lib\\site-packages\\pandas\\core\\series.py\u001b[0m in \u001b[0;36m_set_with\u001b[1;34m(self, key, value)\u001b[0m\n\u001b[0;32m   1062\u001b[0m         \u001b[1;32mif\u001b[0m \u001b[0misinstance\u001b[0m\u001b[1;33m(\u001b[0m\u001b[0mkey\u001b[0m\u001b[1;33m,\u001b[0m \u001b[0mslice\u001b[0m\u001b[1;33m)\u001b[0m\u001b[1;33m:\u001b[0m\u001b[1;33m\u001b[0m\u001b[1;33m\u001b[0m\u001b[0m\n\u001b[0;32m   1063\u001b[0m             \u001b[0mindexer\u001b[0m \u001b[1;33m=\u001b[0m \u001b[0mself\u001b[0m\u001b[1;33m.\u001b[0m\u001b[0mindex\u001b[0m\u001b[1;33m.\u001b[0m\u001b[0m_convert_slice_indexer\u001b[0m\u001b[1;33m(\u001b[0m\u001b[0mkey\u001b[0m\u001b[1;33m,\u001b[0m \u001b[0mkind\u001b[0m\u001b[1;33m=\u001b[0m\u001b[1;34m\"getitem\"\u001b[0m\u001b[1;33m)\u001b[0m\u001b[1;33m\u001b[0m\u001b[1;33m\u001b[0m\u001b[0m\n\u001b[1;32m-> 1064\u001b[1;33m             \u001b[1;32mreturn\u001b[0m \u001b[0mself\u001b[0m\u001b[1;33m.\u001b[0m\u001b[0m_set_values\u001b[0m\u001b[1;33m(\u001b[0m\u001b[0mindexer\u001b[0m\u001b[1;33m,\u001b[0m \u001b[0mvalue\u001b[0m\u001b[1;33m)\u001b[0m\u001b[1;33m\u001b[0m\u001b[1;33m\u001b[0m\u001b[0m\n\u001b[0m\u001b[0;32m   1065\u001b[0m \u001b[1;33m\u001b[0m\u001b[0m\n\u001b[0;32m   1066\u001b[0m         \u001b[1;32melif\u001b[0m \u001b[0mis_scalar\u001b[0m\u001b[1;33m(\u001b[0m\u001b[0mkey\u001b[0m\u001b[1;33m)\u001b[0m \u001b[1;32mand\u001b[0m \u001b[1;32mnot\u001b[0m \u001b[0mis_integer\u001b[0m\u001b[1;33m(\u001b[0m\u001b[0mkey\u001b[0m\u001b[1;33m)\u001b[0m \u001b[1;32mand\u001b[0m \u001b[0mkey\u001b[0m \u001b[1;32mnot\u001b[0m \u001b[1;32min\u001b[0m \u001b[0mself\u001b[0m\u001b[1;33m.\u001b[0m\u001b[0mindex\u001b[0m\u001b[1;33m:\u001b[0m\u001b[1;33m\u001b[0m\u001b[1;33m\u001b[0m\u001b[0m\n",
      "\u001b[1;32m~\\anaconda3\\lib\\site-packages\\pandas\\core\\series.py\u001b[0m in \u001b[0;36m_set_values\u001b[1;34m(self, key, value)\u001b[0m\n\u001b[0;32m   1109\u001b[0m         \u001b[1;32mif\u001b[0m \u001b[0misinstance\u001b[0m\u001b[1;33m(\u001b[0m\u001b[0mkey\u001b[0m\u001b[1;33m,\u001b[0m \u001b[0mSeries\u001b[0m\u001b[1;33m)\u001b[0m\u001b[1;33m:\u001b[0m\u001b[1;33m\u001b[0m\u001b[1;33m\u001b[0m\u001b[0m\n\u001b[0;32m   1110\u001b[0m             \u001b[0mkey\u001b[0m \u001b[1;33m=\u001b[0m \u001b[0mkey\u001b[0m\u001b[1;33m.\u001b[0m\u001b[0m_values\u001b[0m\u001b[1;33m\u001b[0m\u001b[1;33m\u001b[0m\u001b[0m\n\u001b[1;32m-> 1111\u001b[1;33m         \u001b[0mself\u001b[0m\u001b[1;33m.\u001b[0m\u001b[0m_data\u001b[0m \u001b[1;33m=\u001b[0m \u001b[0mself\u001b[0m\u001b[1;33m.\u001b[0m\u001b[0m_data\u001b[0m\u001b[1;33m.\u001b[0m\u001b[0msetitem\u001b[0m\u001b[1;33m(\u001b[0m\u001b[0mindexer\u001b[0m\u001b[1;33m=\u001b[0m\u001b[0mkey\u001b[0m\u001b[1;33m,\u001b[0m \u001b[0mvalue\u001b[0m\u001b[1;33m=\u001b[0m\u001b[0mvalue\u001b[0m\u001b[1;33m)\u001b[0m\u001b[1;33m\u001b[0m\u001b[1;33m\u001b[0m\u001b[0m\n\u001b[0m\u001b[0;32m   1112\u001b[0m         \u001b[0mself\u001b[0m\u001b[1;33m.\u001b[0m\u001b[0m_maybe_update_cacher\u001b[0m\u001b[1;33m(\u001b[0m\u001b[1;33m)\u001b[0m\u001b[1;33m\u001b[0m\u001b[1;33m\u001b[0m\u001b[0m\n\u001b[0;32m   1113\u001b[0m \u001b[1;33m\u001b[0m\u001b[0m\n",
      "\u001b[1;32m~\\anaconda3\\lib\\site-packages\\pandas\\core\\internals\\managers.py\u001b[0m in \u001b[0;36msetitem\u001b[1;34m(self, **kwargs)\u001b[0m\n\u001b[0;32m    559\u001b[0m \u001b[1;33m\u001b[0m\u001b[0m\n\u001b[0;32m    560\u001b[0m     \u001b[1;32mdef\u001b[0m \u001b[0msetitem\u001b[0m\u001b[1;33m(\u001b[0m\u001b[0mself\u001b[0m\u001b[1;33m,\u001b[0m \u001b[1;33m**\u001b[0m\u001b[0mkwargs\u001b[0m\u001b[1;33m)\u001b[0m\u001b[1;33m:\u001b[0m\u001b[1;33m\u001b[0m\u001b[1;33m\u001b[0m\u001b[0m\n\u001b[1;32m--> 561\u001b[1;33m         \u001b[1;32mreturn\u001b[0m \u001b[0mself\u001b[0m\u001b[1;33m.\u001b[0m\u001b[0mapply\u001b[0m\u001b[1;33m(\u001b[0m\u001b[1;34m\"setitem\"\u001b[0m\u001b[1;33m,\u001b[0m \u001b[1;33m**\u001b[0m\u001b[0mkwargs\u001b[0m\u001b[1;33m)\u001b[0m\u001b[1;33m\u001b[0m\u001b[1;33m\u001b[0m\u001b[0m\n\u001b[0m\u001b[0;32m    562\u001b[0m \u001b[1;33m\u001b[0m\u001b[0m\n\u001b[0;32m    563\u001b[0m     \u001b[1;32mdef\u001b[0m \u001b[0mputmask\u001b[0m\u001b[1;33m(\u001b[0m\u001b[0mself\u001b[0m\u001b[1;33m,\u001b[0m \u001b[1;33m**\u001b[0m\u001b[0mkwargs\u001b[0m\u001b[1;33m)\u001b[0m\u001b[1;33m:\u001b[0m\u001b[1;33m\u001b[0m\u001b[1;33m\u001b[0m\u001b[0m\n",
      "\u001b[1;32m~\\anaconda3\\lib\\site-packages\\pandas\\core\\internals\\managers.py\u001b[0m in \u001b[0;36mapply\u001b[1;34m(self, f, filter, **kwargs)\u001b[0m\n\u001b[0;32m    440\u001b[0m                 \u001b[0mapplied\u001b[0m \u001b[1;33m=\u001b[0m \u001b[0mb\u001b[0m\u001b[1;33m.\u001b[0m\u001b[0mapply\u001b[0m\u001b[1;33m(\u001b[0m\u001b[0mf\u001b[0m\u001b[1;33m,\u001b[0m \u001b[1;33m**\u001b[0m\u001b[0mkwargs\u001b[0m\u001b[1;33m)\u001b[0m\u001b[1;33m\u001b[0m\u001b[1;33m\u001b[0m\u001b[0m\n\u001b[0;32m    441\u001b[0m             \u001b[1;32melse\u001b[0m\u001b[1;33m:\u001b[0m\u001b[1;33m\u001b[0m\u001b[1;33m\u001b[0m\u001b[0m\n\u001b[1;32m--> 442\u001b[1;33m                 \u001b[0mapplied\u001b[0m \u001b[1;33m=\u001b[0m \u001b[0mgetattr\u001b[0m\u001b[1;33m(\u001b[0m\u001b[0mb\u001b[0m\u001b[1;33m,\u001b[0m \u001b[0mf\u001b[0m\u001b[1;33m)\u001b[0m\u001b[1;33m(\u001b[0m\u001b[1;33m**\u001b[0m\u001b[0mkwargs\u001b[0m\u001b[1;33m)\u001b[0m\u001b[1;33m\u001b[0m\u001b[1;33m\u001b[0m\u001b[0m\n\u001b[0m\u001b[0;32m    443\u001b[0m             \u001b[0mresult_blocks\u001b[0m \u001b[1;33m=\u001b[0m \u001b[0m_extend_blocks\u001b[0m\u001b[1;33m(\u001b[0m\u001b[0mapplied\u001b[0m\u001b[1;33m,\u001b[0m \u001b[0mresult_blocks\u001b[0m\u001b[1;33m)\u001b[0m\u001b[1;33m\u001b[0m\u001b[1;33m\u001b[0m\u001b[0m\n\u001b[0;32m    444\u001b[0m \u001b[1;33m\u001b[0m\u001b[0m\n",
      "\u001b[1;32m~\\anaconda3\\lib\\site-packages\\pandas\\core\\internals\\blocks.py\u001b[0m in \u001b[0;36msetitem\u001b[1;34m(self, indexer, value)\u001b[0m\n\u001b[0;32m    875\u001b[0m \u001b[1;33m\u001b[0m\u001b[0m\n\u001b[0;32m    876\u001b[0m         \u001b[1;31m# length checking\u001b[0m\u001b[1;33m\u001b[0m\u001b[1;33m\u001b[0m\u001b[1;33m\u001b[0m\u001b[0m\n\u001b[1;32m--> 877\u001b[1;33m         \u001b[0mcheck_setitem_lengths\u001b[0m\u001b[1;33m(\u001b[0m\u001b[0mindexer\u001b[0m\u001b[1;33m,\u001b[0m \u001b[0mvalue\u001b[0m\u001b[1;33m,\u001b[0m \u001b[0mvalues\u001b[0m\u001b[1;33m)\u001b[0m\u001b[1;33m\u001b[0m\u001b[1;33m\u001b[0m\u001b[0m\n\u001b[0m\u001b[0;32m    878\u001b[0m         exact_match = (\n\u001b[0;32m    879\u001b[0m             \u001b[0mlen\u001b[0m\u001b[1;33m(\u001b[0m\u001b[0marr_value\u001b[0m\u001b[1;33m.\u001b[0m\u001b[0mshape\u001b[0m\u001b[1;33m)\u001b[0m\u001b[1;33m\u001b[0m\u001b[1;33m\u001b[0m\u001b[0m\n",
      "\u001b[1;32m~\\anaconda3\\lib\\site-packages\\pandas\\core\\indexers.py\u001b[0m in \u001b[0;36mcheck_setitem_lengths\u001b[1;34m(indexer, value, values)\u001b[0m\n\u001b[0;32m    121\u001b[0m             \u001b[1;32mif\u001b[0m \u001b[0mlen\u001b[0m\u001b[1;33m(\u001b[0m\u001b[0mvalue\u001b[0m\u001b[1;33m)\u001b[0m \u001b[1;33m!=\u001b[0m \u001b[0mlength_of_indexer\u001b[0m\u001b[1;33m(\u001b[0m\u001b[0mindexer\u001b[0m\u001b[1;33m,\u001b[0m \u001b[0mvalues\u001b[0m\u001b[1;33m)\u001b[0m\u001b[1;33m:\u001b[0m\u001b[1;33m\u001b[0m\u001b[1;33m\u001b[0m\u001b[0m\n\u001b[0;32m    122\u001b[0m                 raise ValueError(\n\u001b[1;32m--> 123\u001b[1;33m                     \u001b[1;34m\"cannot set using a slice indexer with a \"\u001b[0m\u001b[1;33m\u001b[0m\u001b[1;33m\u001b[0m\u001b[0m\n\u001b[0m\u001b[0;32m    124\u001b[0m                     \u001b[1;34m\"different length than the value\"\u001b[0m\u001b[1;33m\u001b[0m\u001b[1;33m\u001b[0m\u001b[0m\n\u001b[0;32m    125\u001b[0m                 )\n",
      "\u001b[1;31mValueError\u001b[0m: cannot set using a slice indexer with a different length than the value"
     ]
    }
   ],
   "source": [
    "df=pd.DataFrame(columns=list(range(81)))\n",
    "direct=os.listdir('E:/Asad work 15th March/keras CNN practise/Arrhythmia ECG1/renamed_database4')\n",
    "path='E:/Asad work 15th March/keras CNN practise/Arrhythmia ECG1/renamed_database4'\n",
    "k=0\n",
    "for file in direct:\n",
    "    path2=os.path.join(path,file)\n",
    "    df2=pd.read_csv(path2)\n",
    "    print(path2)\n",
    "    #df1=pd.DataFrame(columns=['R_peaks'])\n",
    "    \n",
    "    #df1['R_peaks']=df2['QR']\n",
    "    j=int(len(df2['R_height'])/40)\n",
    "    strt=0\n",
    "    stop=40\n",
    "    for i in range(j+1):\n",
    "        df.loc[i+k]=pd.Series(df2['R_height'][strt:stop].values)\n",
    "        df.loc[i+k][41:]=pd.Series(df2['s_pt'][strt:stop].values)\n",
    "        #print(\"Valuei+k\")\n",
    "        #print(i+k)\n",
    "        lbl=get_label(file)\n",
    "        df.loc[i+k][80]=lbl\n",
    "        strt=stop\n",
    "        stop=stop+40\n",
    "    k=k+j+1\n",
    "    #print(k)\n",
    "    #print(\"Value of k\")\n",
    "        "
   ]
  },
  {
   "cell_type": "code",
   "execution_count": 17,
   "metadata": {},
   "outputs": [],
   "source": [
    "df=df.fillna(0)"
   ]
  },
  {
   "cell_type": "code",
   "execution_count": 19,
   "metadata": {},
   "outputs": [],
   "source": [
    "#df=df.fillna(0)\n",
    "df.to_csv(r'{}'.format('E:/Asad work 15th March/keras CNN practise/Arrhythmia ECG1/renamed_database4/final_file1.csv'),header=False,index=False)"
   ]
  },
  {
   "cell_type": "code",
   "execution_count": null,
   "metadata": {},
   "outputs": [],
   "source": []
  },
  {
   "cell_type": "code",
   "execution_count": 77,
   "metadata": {},
   "outputs": [],
   "source": [
    "import os\n",
    "import pandas as pd"
   ]
  },
  {
   "cell_type": "code",
   "execution_count": 75,
   "metadata": {},
   "outputs": [],
   "source": [
    "def get_label(filename):\n",
    "    if(filename.split('.')[0]=='ECG1'):\n",
    "        return 0\n",
    "    elif(filename.split('.')[0]=='ECG2'):\n",
    "        return 1\n",
    "    elif(filename.split('.')[0]=='ECG3'):\n",
    "        return 2\n",
    "    elif(filename.split('.')[0]=='ECG4'):\n",
    "        return 1\n",
    "    else:\n",
    "        return 4"
   ]
  },
  {
   "cell_type": "code",
   "execution_count": 4,
   "metadata": {
    "collapsed": true
   },
   "outputs": [
    {
     "name": "stdout",
     "output_type": "stream",
     "text": [
      "E:/Asad work 15th March/keras CNN practise/Arrhythmia ECG1/renamed_database4\\ECG1.RSQ1.csv\n"
     ]
    },
    {
     "ename": "KeyError",
     "evalue": "0",
     "output_type": "error",
     "traceback": [
      "\u001b[1;31m---------------------------------------------------------------------------\u001b[0m",
      "\u001b[1;31mKeyError\u001b[0m                                  Traceback (most recent call last)",
      "\u001b[1;32m~\\anaconda3\\lib\\site-packages\\pandas\\core\\indexes\\base.py\u001b[0m in \u001b[0;36mget_loc\u001b[1;34m(self, key, method, tolerance)\u001b[0m\n\u001b[0;32m   2645\u001b[0m             \u001b[1;32mtry\u001b[0m\u001b[1;33m:\u001b[0m\u001b[1;33m\u001b[0m\u001b[1;33m\u001b[0m\u001b[0m\n\u001b[1;32m-> 2646\u001b[1;33m                 \u001b[1;32mreturn\u001b[0m \u001b[0mself\u001b[0m\u001b[1;33m.\u001b[0m\u001b[0m_engine\u001b[0m\u001b[1;33m.\u001b[0m\u001b[0mget_loc\u001b[0m\u001b[1;33m(\u001b[0m\u001b[0mkey\u001b[0m\u001b[1;33m)\u001b[0m\u001b[1;33m\u001b[0m\u001b[1;33m\u001b[0m\u001b[0m\n\u001b[0m\u001b[0;32m   2647\u001b[0m             \u001b[1;32mexcept\u001b[0m \u001b[0mKeyError\u001b[0m\u001b[1;33m:\u001b[0m\u001b[1;33m\u001b[0m\u001b[1;33m\u001b[0m\u001b[0m\n",
      "\u001b[1;32mpandas\\_libs\\index.pyx\u001b[0m in \u001b[0;36mpandas._libs.index.IndexEngine.get_loc\u001b[1;34m()\u001b[0m\n",
      "\u001b[1;32mpandas\\_libs\\index.pyx\u001b[0m in \u001b[0;36mpandas._libs.index.IndexEngine.get_loc\u001b[1;34m()\u001b[0m\n",
      "\u001b[1;32mpandas\\_libs\\hashtable_class_helper.pxi\u001b[0m in \u001b[0;36mpandas._libs.hashtable.PyObjectHashTable.get_item\u001b[1;34m()\u001b[0m\n",
      "\u001b[1;32mpandas\\_libs\\hashtable_class_helper.pxi\u001b[0m in \u001b[0;36mpandas._libs.hashtable.PyObjectHashTable.get_item\u001b[1;34m()\u001b[0m\n",
      "\u001b[1;31mKeyError\u001b[0m: 0",
      "\nDuring handling of the above exception, another exception occurred:\n",
      "\u001b[1;31mKeyError\u001b[0m                                  Traceback (most recent call last)",
      "\u001b[1;32m<ipython-input-4-7718a1f08fd9>\u001b[0m in \u001b[0;36m<module>\u001b[1;34m\u001b[0m\n\u001b[0;32m     16\u001b[0m         \u001b[0ms1\u001b[0m\u001b[1;33m=\u001b[0m\u001b[1;36m0\u001b[0m\u001b[1;33m\u001b[0m\u001b[1;33m\u001b[0m\u001b[0m\n\u001b[0;32m     17\u001b[0m         \u001b[1;32mfor\u001b[0m \u001b[0ml1\u001b[0m \u001b[1;32min\u001b[0m \u001b[0mrange\u001b[0m\u001b[1;33m(\u001b[0m\u001b[0mstrt\u001b[0m\u001b[1;33m,\u001b[0m\u001b[0mstop\u001b[0m\u001b[1;33m)\u001b[0m\u001b[1;33m:\u001b[0m\u001b[1;33m\u001b[0m\u001b[1;33m\u001b[0m\u001b[0m\n\u001b[1;32m---> 18\u001b[1;33m             \u001b[0mdf\u001b[0m\u001b[1;33m.\u001b[0m\u001b[0mloc\u001b[0m\u001b[1;33m[\u001b[0m\u001b[0mi\u001b[0m\u001b[1;33m+\u001b[0m\u001b[0mk\u001b[0m\u001b[1;33m]\u001b[0m\u001b[1;33m[\u001b[0m\u001b[0ms1\u001b[0m\u001b[1;33m]\u001b[0m\u001b[1;33m=\u001b[0m\u001b[0mdf2\u001b[0m\u001b[1;33m[\u001b[0m\u001b[1;34m'R_height'\u001b[0m\u001b[1;33m]\u001b[0m\u001b[1;33m[\u001b[0m\u001b[0ml1\u001b[0m\u001b[1;33m]\u001b[0m\u001b[1;33m\u001b[0m\u001b[1;33m\u001b[0m\u001b[0m\n\u001b[0m\u001b[0;32m     19\u001b[0m             \u001b[0ms1\u001b[0m\u001b[1;33m=\u001b[0m\u001b[0ms1\u001b[0m\u001b[1;33m+\u001b[0m\u001b[1;36m1\u001b[0m\u001b[1;33m\u001b[0m\u001b[1;33m\u001b[0m\u001b[0m\n\u001b[0;32m     20\u001b[0m         \u001b[1;32mfor\u001b[0m \u001b[0ml2\u001b[0m \u001b[1;32min\u001b[0m \u001b[0mrange\u001b[0m\u001b[1;33m(\u001b[0m\u001b[0mstrt\u001b[0m\u001b[1;33m,\u001b[0m\u001b[0mstop\u001b[0m\u001b[1;33m)\u001b[0m\u001b[1;33m:\u001b[0m\u001b[1;33m\u001b[0m\u001b[1;33m\u001b[0m\u001b[0m\n",
      "\u001b[1;32m~\\anaconda3\\lib\\site-packages\\pandas\\core\\indexing.py\u001b[0m in \u001b[0;36m__getitem__\u001b[1;34m(self, key)\u001b[0m\n\u001b[0;32m   1765\u001b[0m \u001b[1;33m\u001b[0m\u001b[0m\n\u001b[0;32m   1766\u001b[0m             \u001b[0mmaybe_callable\u001b[0m \u001b[1;33m=\u001b[0m \u001b[0mcom\u001b[0m\u001b[1;33m.\u001b[0m\u001b[0mapply_if_callable\u001b[0m\u001b[1;33m(\u001b[0m\u001b[0mkey\u001b[0m\u001b[1;33m,\u001b[0m \u001b[0mself\u001b[0m\u001b[1;33m.\u001b[0m\u001b[0mobj\u001b[0m\u001b[1;33m)\u001b[0m\u001b[1;33m\u001b[0m\u001b[1;33m\u001b[0m\u001b[0m\n\u001b[1;32m-> 1767\u001b[1;33m             \u001b[1;32mreturn\u001b[0m \u001b[0mself\u001b[0m\u001b[1;33m.\u001b[0m\u001b[0m_getitem_axis\u001b[0m\u001b[1;33m(\u001b[0m\u001b[0mmaybe_callable\u001b[0m\u001b[1;33m,\u001b[0m \u001b[0maxis\u001b[0m\u001b[1;33m=\u001b[0m\u001b[0maxis\u001b[0m\u001b[1;33m)\u001b[0m\u001b[1;33m\u001b[0m\u001b[1;33m\u001b[0m\u001b[0m\n\u001b[0m\u001b[0;32m   1768\u001b[0m \u001b[1;33m\u001b[0m\u001b[0m\n\u001b[0;32m   1769\u001b[0m     \u001b[1;32mdef\u001b[0m \u001b[0m_is_scalar_access\u001b[0m\u001b[1;33m(\u001b[0m\u001b[0mself\u001b[0m\u001b[1;33m,\u001b[0m \u001b[0mkey\u001b[0m\u001b[1;33m:\u001b[0m \u001b[0mTuple\u001b[0m\u001b[1;33m)\u001b[0m\u001b[1;33m:\u001b[0m\u001b[1;33m\u001b[0m\u001b[1;33m\u001b[0m\u001b[0m\n",
      "\u001b[1;32m~\\anaconda3\\lib\\site-packages\\pandas\\core\\indexing.py\u001b[0m in \u001b[0;36m_getitem_axis\u001b[1;34m(self, key, axis)\u001b[0m\n\u001b[0;32m   1962\u001b[0m         \u001b[1;31m# fall thru to straight lookup\u001b[0m\u001b[1;33m\u001b[0m\u001b[1;33m\u001b[0m\u001b[1;33m\u001b[0m\u001b[0m\n\u001b[0;32m   1963\u001b[0m         \u001b[0mself\u001b[0m\u001b[1;33m.\u001b[0m\u001b[0m_validate_key\u001b[0m\u001b[1;33m(\u001b[0m\u001b[0mkey\u001b[0m\u001b[1;33m,\u001b[0m \u001b[0maxis\u001b[0m\u001b[1;33m)\u001b[0m\u001b[1;33m\u001b[0m\u001b[1;33m\u001b[0m\u001b[0m\n\u001b[1;32m-> 1964\u001b[1;33m         \u001b[1;32mreturn\u001b[0m \u001b[0mself\u001b[0m\u001b[1;33m.\u001b[0m\u001b[0m_get_label\u001b[0m\u001b[1;33m(\u001b[0m\u001b[0mkey\u001b[0m\u001b[1;33m,\u001b[0m \u001b[0maxis\u001b[0m\u001b[1;33m=\u001b[0m\u001b[0maxis\u001b[0m\u001b[1;33m)\u001b[0m\u001b[1;33m\u001b[0m\u001b[1;33m\u001b[0m\u001b[0m\n\u001b[0m\u001b[0;32m   1965\u001b[0m \u001b[1;33m\u001b[0m\u001b[0m\n\u001b[0;32m   1966\u001b[0m \u001b[1;33m\u001b[0m\u001b[0m\n",
      "\u001b[1;32m~\\anaconda3\\lib\\site-packages\\pandas\\core\\indexing.py\u001b[0m in \u001b[0;36m_get_label\u001b[1;34m(self, label, axis)\u001b[0m\n\u001b[0;32m    622\u001b[0m             \u001b[1;32mraise\u001b[0m \u001b[0mIndexingError\u001b[0m\u001b[1;33m(\u001b[0m\u001b[1;34m\"no slices here, handle elsewhere\"\u001b[0m\u001b[1;33m)\u001b[0m\u001b[1;33m\u001b[0m\u001b[1;33m\u001b[0m\u001b[0m\n\u001b[0;32m    623\u001b[0m \u001b[1;33m\u001b[0m\u001b[0m\n\u001b[1;32m--> 624\u001b[1;33m         \u001b[1;32mreturn\u001b[0m \u001b[0mself\u001b[0m\u001b[1;33m.\u001b[0m\u001b[0mobj\u001b[0m\u001b[1;33m.\u001b[0m\u001b[0m_xs\u001b[0m\u001b[1;33m(\u001b[0m\u001b[0mlabel\u001b[0m\u001b[1;33m,\u001b[0m \u001b[0maxis\u001b[0m\u001b[1;33m=\u001b[0m\u001b[0maxis\u001b[0m\u001b[1;33m)\u001b[0m\u001b[1;33m\u001b[0m\u001b[1;33m\u001b[0m\u001b[0m\n\u001b[0m\u001b[0;32m    625\u001b[0m \u001b[1;33m\u001b[0m\u001b[0m\n\u001b[0;32m    626\u001b[0m     \u001b[1;32mdef\u001b[0m \u001b[0m_get_loc\u001b[0m\u001b[1;33m(\u001b[0m\u001b[0mself\u001b[0m\u001b[1;33m,\u001b[0m \u001b[0mkey\u001b[0m\u001b[1;33m:\u001b[0m \u001b[0mint\u001b[0m\u001b[1;33m,\u001b[0m \u001b[0maxis\u001b[0m\u001b[1;33m:\u001b[0m \u001b[0mint\u001b[0m\u001b[1;33m)\u001b[0m\u001b[1;33m:\u001b[0m\u001b[1;33m\u001b[0m\u001b[1;33m\u001b[0m\u001b[0m\n",
      "\u001b[1;32m~\\anaconda3\\lib\\site-packages\\pandas\\core\\generic.py\u001b[0m in \u001b[0;36mxs\u001b[1;34m(self, key, axis, level, drop_level)\u001b[0m\n\u001b[0;32m   3535\u001b[0m             \u001b[0mloc\u001b[0m\u001b[1;33m,\u001b[0m \u001b[0mnew_index\u001b[0m \u001b[1;33m=\u001b[0m \u001b[0mself\u001b[0m\u001b[1;33m.\u001b[0m\u001b[0mindex\u001b[0m\u001b[1;33m.\u001b[0m\u001b[0mget_loc_level\u001b[0m\u001b[1;33m(\u001b[0m\u001b[0mkey\u001b[0m\u001b[1;33m,\u001b[0m \u001b[0mdrop_level\u001b[0m\u001b[1;33m=\u001b[0m\u001b[0mdrop_level\u001b[0m\u001b[1;33m)\u001b[0m\u001b[1;33m\u001b[0m\u001b[1;33m\u001b[0m\u001b[0m\n\u001b[0;32m   3536\u001b[0m         \u001b[1;32melse\u001b[0m\u001b[1;33m:\u001b[0m\u001b[1;33m\u001b[0m\u001b[1;33m\u001b[0m\u001b[0m\n\u001b[1;32m-> 3537\u001b[1;33m             \u001b[0mloc\u001b[0m \u001b[1;33m=\u001b[0m \u001b[0mself\u001b[0m\u001b[1;33m.\u001b[0m\u001b[0mindex\u001b[0m\u001b[1;33m.\u001b[0m\u001b[0mget_loc\u001b[0m\u001b[1;33m(\u001b[0m\u001b[0mkey\u001b[0m\u001b[1;33m)\u001b[0m\u001b[1;33m\u001b[0m\u001b[1;33m\u001b[0m\u001b[0m\n\u001b[0m\u001b[0;32m   3538\u001b[0m \u001b[1;33m\u001b[0m\u001b[0m\n\u001b[0;32m   3539\u001b[0m             \u001b[1;32mif\u001b[0m \u001b[0misinstance\u001b[0m\u001b[1;33m(\u001b[0m\u001b[0mloc\u001b[0m\u001b[1;33m,\u001b[0m \u001b[0mnp\u001b[0m\u001b[1;33m.\u001b[0m\u001b[0mndarray\u001b[0m\u001b[1;33m)\u001b[0m\u001b[1;33m:\u001b[0m\u001b[1;33m\u001b[0m\u001b[1;33m\u001b[0m\u001b[0m\n",
      "\u001b[1;32m~\\anaconda3\\lib\\site-packages\\pandas\\core\\indexes\\base.py\u001b[0m in \u001b[0;36mget_loc\u001b[1;34m(self, key, method, tolerance)\u001b[0m\n\u001b[0;32m   2646\u001b[0m                 \u001b[1;32mreturn\u001b[0m \u001b[0mself\u001b[0m\u001b[1;33m.\u001b[0m\u001b[0m_engine\u001b[0m\u001b[1;33m.\u001b[0m\u001b[0mget_loc\u001b[0m\u001b[1;33m(\u001b[0m\u001b[0mkey\u001b[0m\u001b[1;33m)\u001b[0m\u001b[1;33m\u001b[0m\u001b[1;33m\u001b[0m\u001b[0m\n\u001b[0;32m   2647\u001b[0m             \u001b[1;32mexcept\u001b[0m \u001b[0mKeyError\u001b[0m\u001b[1;33m:\u001b[0m\u001b[1;33m\u001b[0m\u001b[1;33m\u001b[0m\u001b[0m\n\u001b[1;32m-> 2648\u001b[1;33m                 \u001b[1;32mreturn\u001b[0m \u001b[0mself\u001b[0m\u001b[1;33m.\u001b[0m\u001b[0m_engine\u001b[0m\u001b[1;33m.\u001b[0m\u001b[0mget_loc\u001b[0m\u001b[1;33m(\u001b[0m\u001b[0mself\u001b[0m\u001b[1;33m.\u001b[0m\u001b[0m_maybe_cast_indexer\u001b[0m\u001b[1;33m(\u001b[0m\u001b[0mkey\u001b[0m\u001b[1;33m)\u001b[0m\u001b[1;33m)\u001b[0m\u001b[1;33m\u001b[0m\u001b[1;33m\u001b[0m\u001b[0m\n\u001b[0m\u001b[0;32m   2649\u001b[0m         \u001b[0mindexer\u001b[0m \u001b[1;33m=\u001b[0m \u001b[0mself\u001b[0m\u001b[1;33m.\u001b[0m\u001b[0mget_indexer\u001b[0m\u001b[1;33m(\u001b[0m\u001b[1;33m[\u001b[0m\u001b[0mkey\u001b[0m\u001b[1;33m]\u001b[0m\u001b[1;33m,\u001b[0m \u001b[0mmethod\u001b[0m\u001b[1;33m=\u001b[0m\u001b[0mmethod\u001b[0m\u001b[1;33m,\u001b[0m \u001b[0mtolerance\u001b[0m\u001b[1;33m=\u001b[0m\u001b[0mtolerance\u001b[0m\u001b[1;33m)\u001b[0m\u001b[1;33m\u001b[0m\u001b[1;33m\u001b[0m\u001b[0m\n\u001b[0;32m   2650\u001b[0m         \u001b[1;32mif\u001b[0m \u001b[0mindexer\u001b[0m\u001b[1;33m.\u001b[0m\u001b[0mndim\u001b[0m \u001b[1;33m>\u001b[0m \u001b[1;36m1\u001b[0m \u001b[1;32mor\u001b[0m \u001b[0mindexer\u001b[0m\u001b[1;33m.\u001b[0m\u001b[0msize\u001b[0m \u001b[1;33m>\u001b[0m \u001b[1;36m1\u001b[0m\u001b[1;33m:\u001b[0m\u001b[1;33m\u001b[0m\u001b[1;33m\u001b[0m\u001b[0m\n",
      "\u001b[1;32mpandas\\_libs\\index.pyx\u001b[0m in \u001b[0;36mpandas._libs.index.IndexEngine.get_loc\u001b[1;34m()\u001b[0m\n",
      "\u001b[1;32mpandas\\_libs\\index.pyx\u001b[0m in \u001b[0;36mpandas._libs.index.IndexEngine.get_loc\u001b[1;34m()\u001b[0m\n",
      "\u001b[1;32mpandas\\_libs\\hashtable_class_helper.pxi\u001b[0m in \u001b[0;36mpandas._libs.hashtable.PyObjectHashTable.get_item\u001b[1;34m()\u001b[0m\n",
      "\u001b[1;32mpandas\\_libs\\hashtable_class_helper.pxi\u001b[0m in \u001b[0;36mpandas._libs.hashtable.PyObjectHashTable.get_item\u001b[1;34m()\u001b[0m\n",
      "\u001b[1;31mKeyError\u001b[0m: 0"
     ]
    }
   ],
   "source": [
    "df5=pd.DataFrame(columns=list(range(81)))\n",
    "df6=pd.DataFrame(columns=list(range(81)))\n",
    "df=pd.DataFrame(columns=list(range(81)))\n",
    "direct=os.listdir('E:/Asad work 15th March/keras CNN practise/Arrhythmia ECG1/renamed_database4')\n",
    "path='E:/Asad work 15th March/keras CNN practise/Arrhythmia ECG1/renamed_database4'\n",
    "k=0\n",
    "for file in direct:\n",
    "    path2=os.path.join(path,file)\n",
    "    df2=pd.read_csv(path2)\n",
    "    print(path2)\n",
    "    #df1=pd.DataFrame(columns=['R_peaks'])\n",
    "    \n",
    "    #df1['R_peaks']=df2['QR']\n",
    "    j=int(len(df2['R_height'])/40)\n",
    "    strt=0\n",
    "    stop=40\n",
    "    /*#for i in range(j+1):\n",
    "       # s1=0\n",
    "       # for l1 in range(strt,stop):\n",
    "        #    df.loc[i+k][s1]=df2['R_height'][l1]\n",
    "        #    s1=s1+1\n",
    "       # for l2 in range(strt,stop):\n",
    "          #  df.loc[i+k][s1]=df2['s_pt'][l1]\n",
    "            #s1=s1+1\n",
    "        #df.loc[i+k]=pd.Series(df2['R_height'][strt:stop].values)\n",
    "        #df.loc[i+k][41:]=pd.Series(df2['s_pt'][strt:stop].values)\n",
    "        #print(\"Valuei+k\")\n",
    "        #print(i+k)\n",
    "        lbl=get_label(file)\n",
    "        df.loc[i+k][80]=lbl\n",
    "        strt=stop\n",
    "        stop=stop+40\n",
    "    k=k+j+1\n",
    "    #print(k)\n",
    "    #print(\"Value of k\")"
   ]
  },
  {
   "cell_type": "markdown",
   "metadata": {},
   "source": [
    "##### Database code"
   ]
  },
  {
   "cell_type": "code",
   "execution_count": 36,
   "metadata": {
    "collapsed": true
   },
   "outputs": [
    {
     "data": {
      "text/plain": [
       "[0.9224651499633671,\n",
       " 0.8886110021259299,\n",
       " 0.879479469636756,\n",
       " 0.8362830517131836,\n",
       " 0.931495532687338,\n",
       " 0.8388167910895856,\n",
       " 0.8836629291672691,\n",
       " 0.8323004910934856,\n",
       " 0.8362322707725215,\n",
       " 0.8440603819782433,\n",
       " 0.8143496321328273,\n",
       " 0.7644032273690078,\n",
       " 0.745173803903697,\n",
       " 0.737426014481577,\n",
       " 0.7609138937382449,\n",
       " 0.7166305587176315,\n",
       " 0.6703754103497584,\n",
       " 0.6746999362914241,\n",
       " 0.6912424611131723,\n",
       " 0.7340502895003175,\n",
       " 0.7006340216152293,\n",
       " 0.6816239097259666,\n",
       " 0.6438716771918371,\n",
       " 0.6701484378935217,\n",
       " 0.7158200902250724,\n",
       " 0.7356165166306601,\n",
       " 0.7302999408303358,\n",
       " 0.8270684099361729,\n",
       " 0.8024130151914548,\n",
       " 0.7630708112556507,\n",
       " 0.7865586142909549]"
      ]
     },
     "execution_count": 36,
     "metadata": {},
     "output_type": "execute_result"
    }
   ],
   "source": [
    "lst1.tolist()"
   ]
  },
  {
   "cell_type": "markdown",
   "metadata": {},
   "source": [
    "Don't run below one line for Database creation"
   ]
  },
  {
   "cell_type": "code",
   "execution_count": 83,
   "metadata": {},
   "outputs": [
    {
     "name": "stdout",
     "output_type": "stream",
     "text": [
      "E:/Asad work 15th March/keras CNN practise/Arrhythmia ECG1/renamed_database4\\ECG1.RSQ1.csv\n",
      "E:/Asad work 15th March/keras CNN practise/Arrhythmia ECG1/renamed_database4\\ECG1.RSQ2.csv\n",
      "E:/Asad work 15th March/keras CNN practise/Arrhythmia ECG1/renamed_database4\\ECG1.RSQ3.csv\n",
      "E:/Asad work 15th March/keras CNN practise/Arrhythmia ECG1/renamed_database4\\ECG1.RSQ4.csv\n",
      "E:/Asad work 15th March/keras CNN practise/Arrhythmia ECG1/renamed_database4\\ECG1.RSQ5.csv\n",
      "E:/Asad work 15th March/keras CNN practise/Arrhythmia ECG1/renamed_database4\\ECG1.RSQ6.csv\n",
      "E:/Asad work 15th March/keras CNN practise/Arrhythmia ECG1/renamed_database4\\ECG4.RSQ1.csv\n",
      "E:/Asad work 15th March/keras CNN practise/Arrhythmia ECG1/renamed_database4\\ECG4.RSQ2.csv\n",
      "E:/Asad work 15th March/keras CNN practise/Arrhythmia ECG1/renamed_database4\\ECG4.RSQ3.csv\n",
      "E:/Asad work 15th March/keras CNN practise/Arrhythmia ECG1/renamed_database4\\ECG4.RSQ4.csv\n"
     ]
    }
   ],
   "source": [
    "df=pd.DataFrame(columns=list(range(121)))\n",
    "direct=os.listdir('E:/Asad work 15th March/keras CNN practise/Arrhythmia ECG1/renamed_database5')\n",
    "path='E:/Asad work 15th March/keras CNN practise/Arrhythmia ECG1/renamed_database5'\n",
    "k=0\n",
    "for file in direct:\n",
    "    path2=os.path.join(path,file)\n",
    "    df2=pd.read_csv(path2)\n",
    "    print(path2)\n",
    "    #df1=pd.DataFrame(columns=['R_peaks'])\n",
    "    \n",
    "    #df1['R_peaks']=df2['QR']\n",
    "    j=int(len(df2['R_height'])/40)\n",
    "    strt=0\n",
    "    stop=40\n",
    "    \n",
    "    for i in range(j+1):\n",
    "        lst1=[]\n",
    "        lst2=[]\n",
    "        lst4=[]\n",
    "        ls3=[]\n",
    "        tst=[]\n",
    "        lst1=(df2['R_height'].values)[strt:stop]\n",
    "        #lst1=lst1[strt:stop]\n",
    "        lst2=(df2['s_pt'].values)[strt:stop]\n",
    "        #lst2=lst2[strt:stop]\n",
    "        for x in lst1:\n",
    "            lst3.append(x)\n",
    "        for x in lst2:\n",
    "            lst3.append(x)\n",
    "        for x in lst:\n",
    "            lst3.append(x)\n",
    "        tst=lst3[0:80]\n",
    "        if(len(tst)<41):\n",
    "            cnt=40-len(tst)\n",
    "            for i in range(cnt):\n",
    "                tst.append(0)\n",
    "        lbl=get_label(file)\n",
    "        tst.append(lbl)\n",
    "        df.loc[i+k]=tst\n",
    "        strt=stop\n",
    "        stop=stop+40\n",
    "    k=k+j+1"
   ]
  },
  {
   "cell_type": "code",
   "execution_count": null,
   "metadata": {},
   "outputs": [],
   "source": [
    "import pandas as pd\n",
    "k=0\n",
    "df=pd.DataFrame(columns=list(range(81)))\n",
    "df2=pd.read_csv(\"E:/Asad work 15th March/keras CNN practise/Arrhythmia ECG1/renamed_database4/ECG1.RSQ1.csv\")\n",
    "    #print(path2)\n",
    "#df1=pd.DataFrame(columns=['R_height'])\n",
    "    \n",
    "#df1['R_height']=df2['R_height']\n",
    "j=int(len(df2['R_height'])/40)\n",
    "strt=0\n",
    "stop=40\n",
    "i=0\n",
    "lst1=[]\n",
    "lst2=[]\n",
    "lst3=[]\n",
    "tst=[]\n",
    "lst1=df2['R_height'].values\n",
    "lst1=lst1[strt:stop]\n",
    "lst2=df2['s_pt'].values\n",
    "lst2=lst2[strt:stop]\n",
    "for x in lst1:\n",
    "    lst3.append(x)\n",
    "for x in lst2:\n",
    "    lst3.append(x)\n",
    "tst=lst3[0:80]\n",
    "if(len(tst)<41):\n",
    "    cnt=40-len(tst)\n",
    "    print(cnt)\n",
    "    for i in range(cnt):\n",
    "        tst.append(0)\n",
    "tst.append(0)\n",
    "print(len(tst))\n",
    "print(tst)\n",
    "#df.loc[i+k]=pd.Series(tst)\n",
    "#df.loc[i+k]=pd.Series(df2['R_height'][strt:stop].values)\n",
    "#df.loc[i+k][41:]=pd.Series(df2['s_pt'][strt:stop].values)\n",
    "        #lbl=get_label(file)\n",
    "#df.loc[i+k][80]=0\n",
    "df.loc[0]=tst\n",
    "strt=stop\n",
    "stop=stop+40\n",
    "k=k+j+1\n",
    "#print(df.head())"
   ]
  },
  {
   "cell_type": "code",
   "execution_count": null,
   "metadata": {},
   "outputs": [],
   "source": [
    "df=pd.DataFrame(columns=list(range(81)))\n",
    "direct=os.listdir('E:/Asad work 15th March/keras CNN practise/Arrhythmia ECG1/renamed_database4')\n",
    "path='E:/Asad work 15th March/keras CNN practise/Arrhythmia ECG1/renamed_database4'\n",
    "k=0\n",
    "for file in direct:\n",
    "    path2=os.path.join(path,file)\n",
    "    df2=pd.read_csv(path2)\n",
    "    print(path2)\n",
    "    #df1=pd.DataFrame(columns=['R_peaks'])\n",
    "    \n",
    "    #df1['R_peaks']=df2['QR']\n",
    "    j=int(len(df2['R_height'])/40)\n",
    "    strt=0\n",
    "    stop=40\n",
    "    /*#for i in range(j+1):\n",
    "       # s1=0\n",
    "       # for l1 in range(strt,stop):\n",
    "        #    df.loc[i+k][s1]=df2['R_height'][l1]\n",
    "        #    s1=s1+1\n",
    "       # for l2 in range(strt,stop):\n",
    "          #  df.loc[i+k][s1]=df2['s_pt'][l1]\n",
    "            #s1=s1+1\n",
    "        #df.loc[i+k]=pd.Series(df2['R_height'][strt:stop].values)\n",
    "        #df.loc[i+k][41:]=pd.Series(df2['s_pt'][strt:stop].values)\n",
    "        #print(\"Valuei+k\")\n",
    "        #print(i+k)\n",
    "        lbl=get_label(file)\n",
    "        df.loc[i+k][80]=lbl\n",
    "        strt=stop\n",
    "        stop=stop+40\n",
    "    k=k+j+1\n",
    "    #print(k)\n",
    "    #print(\"Value of k\")"
   ]
  },
  {
   "cell_type": "code",
   "execution_count": null,
   "metadata": {},
   "outputs": [],
   "source": []
  },
  {
   "cell_type": "code",
   "execution_count": null,
   "metadata": {},
   "outputs": [],
   "source": []
  },
  {
   "cell_type": "code",
   "execution_count": 79,
   "metadata": {},
   "outputs": [],
   "source": [
    "df7=pd.read_csv(\"E:/Asad work 15th March/keras CNN practise/Arrhythmia ECG1/renamed_database4/ECG1.RSQ1.csv\")\n",
    "lst=[]\n"
   ]
  },
  {
   "cell_type": "code",
   "execution_count": 80,
   "metadata": {},
   "outputs": [],
   "source": [
    "\n",
    "lst=(df7['R_height'].values)[10:20]"
   ]
  },
  {
   "cell_type": "code",
   "execution_count": 81,
   "metadata": {},
   "outputs": [
    {
     "data": {
      "text/plain": [
       "array([0.75591265, 0.84330889, 0.74797824, 0.69780762, 0.68500591,\n",
       "       0.616053  , 0.7111882 , 0.69806033, 0.64717358, 0.71449709])"
      ]
     },
     "execution_count": 81,
     "metadata": {},
     "output_type": "execute_result"
    }
   ],
   "source": [
    "lst"
   ]
  },
  {
   "cell_type": "markdown",
   "metadata": {},
   "source": [
    "### Final Database"
   ]
  },
  {
   "cell_type": "code",
   "execution_count": 17,
   "metadata": {},
   "outputs": [],
   "source": [
    "import os\n",
    "import pandas as pd\n",
    "import numpy as np\n",
    "from scipy.signal import butter, lfilter\n",
    "from scipy.signal import find_peaks\n",
    "from scipy.signal import freqz\n",
    "from scipy.signal import find_peaks\n",
    "\n",
    "coll=\"E:/Asad work 15th March/keras CNN practise/Arrhythmia ECG1/Class1_Normal\""
   ]
  },
  {
   "cell_type": "code",
   "execution_count": 19,
   "metadata": {},
   "outputs": [
    {
     "name": "stdout",
     "output_type": "stream",
     "text": [
      "E:/Asad work 15th March/keras CNN practise/Arrhythmia ECG1/Class1_Normal\\samples (1).csv\n",
      "Filter\n",
      "Filter\n",
      "       q_pt  q_pt_index  R_peaks  R_height  s_pt_index      s_pt        QR  \\\n",
      "0 -1.091479          97      109  0.725975         122  0.056532 -0.365504   \n",
      "1 -1.023253         410      423  0.704002         436  0.025954 -0.319252   \n",
      "2 -1.143606         725      738  0.781551         751  0.029752 -0.362056   \n",
      "3 -1.188530        1046     1059  0.800588        1072  0.050937 -0.387942   \n",
      "4 -1.224460        1382     1395  0.844261        1408  0.035011 -0.380199   \n",
      "\n",
      "         RS   qs_diff  \n",
      "0  0.782507 -1.034947  \n",
      "1  0.729956 -0.997299  \n",
      "2  0.811302 -1.113855  \n",
      "3  0.851524 -1.137593  \n",
      "4  0.879272 -1.189449  \n",
      "E:/Asad work 15th March/keras CNN practise/Arrhythmia ECG1/Class1_Normal\\samples (2).csv\n",
      "Filter\n",
      "Filter\n",
      "       q_pt  q_pt_index  R_peaks  R_height  s_pt_index      s_pt        QR  \\\n",
      "0 -1.342310         279      291  0.948090         304  0.004774 -0.394221   \n",
      "1 -1.301196         590      601  0.902889         614  0.032524 -0.398307   \n",
      "2 -1.226376         890      902  0.852686         915  0.016605 -0.373690   \n",
      "3 -1.267240        1194     1206  0.877060        1219  0.023257 -0.390180   \n",
      "4 -1.300408        1496     1508  0.900237        1521  0.022770 -0.400171   \n",
      "\n",
      "         RS   qs_diff  \n",
      "0  0.952863 -1.337537  \n",
      "1  0.935413 -1.268672  \n",
      "2  0.869291 -1.209771  \n",
      "3  0.900317 -1.243983  \n",
      "4  0.923007 -1.277638  \n",
      "E:/Asad work 15th March/keras CNN practise/Arrhythmia ECG1/Class1_Normal\\samples (3).csv\n",
      "Filter\n",
      "Filter\n",
      "       q_pt  q_pt_index  R_peaks  R_height  s_pt_index      s_pt        QR  \\\n",
      "0 -0.691763         211      225  0.576592         238  0.008992 -0.115171   \n",
      "1 -0.657400         474      488  0.534480         501 -0.001538 -0.122920   \n",
      "2 -0.697818         723      737  0.596486         750 -0.010941 -0.101331   \n",
      "3 -0.698166         979      993  0.588167        1006  0.004330 -0.109999   \n",
      "4 -0.714837        1236     1250  0.591527        1263  0.009390 -0.123310   \n",
      "\n",
      "         RS   qs_diff  \n",
      "0  0.585584 -0.682772  \n",
      "1  0.532942 -0.658939  \n",
      "2  0.585545 -0.708759  \n",
      "3  0.592497 -0.693836  \n",
      "4  0.600917 -0.705446  \n",
      "E:/Asad work 15th March/keras CNN practise/Arrhythmia ECG1/Class1_Normal\\samples (4).csv\n",
      "Filter\n",
      "Filter\n",
      "       q_pt  q_pt_index  R_peaks  R_height  s_pt_index      s_pt        QR  \\\n",
      "0 -0.639639        4120     4132  0.682336        4145 -0.095564  0.042697   \n",
      "1 -1.205963       10891    10905  1.000000       10918  0.015131 -0.205963   \n",
      "2 -0.141390       18328    18342  0.547488       18355 -0.551594  0.406098   \n",
      "3 -0.248435       18687    18699  0.718727       18712 -0.398322  0.470292   \n",
      "4 -0.246382       19047    19060  0.644510       19073 -0.430175  0.398128   \n",
      "\n",
      "         RS   qs_diff  \n",
      "0  0.586772 -0.735203  \n",
      "1  1.015131 -1.190831  \n",
      "2 -0.004105 -0.692984  \n",
      "3  0.320405 -0.646757  \n",
      "4  0.214335 -0.676557  \n",
      "E:/Asad work 15th March/keras CNN practise/Arrhythmia ECG1/Class1_Normal\\samples (6).csv\n",
      "Filter\n",
      "Filter\n",
      "       q_pt  q_pt_index  R_peaks  R_height  s_pt_index      s_pt        QR  \\\n",
      "0 -1.245208         185      196  0.972730         209 -0.091920 -0.272478   \n",
      "1 -1.232039         597      608  0.954703         621 -0.085676 -0.277336   \n",
      "2 -1.093130         980      992  0.844944        1005 -0.085352 -0.248186   \n",
      "3 -1.205941        1341     1352  0.935918        1365 -0.084725 -0.270022   \n",
      "4 -1.213892        1718     1730  0.920887        1743 -0.083354 -0.293005   \n",
      "\n",
      "         RS   qs_diff  \n",
      "0  0.880810 -1.337128  \n",
      "1  0.869027 -1.317715  \n",
      "2  0.759592 -1.178482  \n",
      "3  0.851194 -1.290665  \n",
      "4  0.837532 -1.297246  \n",
      "E:/Asad work 15th March/keras CNN practise/Arrhythmia ECG1/Class1_Normal\\samples.csv\n",
      "Filter\n",
      "Filter\n",
      "       q_pt  q_pt_index  R_peaks  R_height  s_pt_index      s_pt        QR  \\\n",
      "0 -0.981777          91      102  0.639579         115  0.011550 -0.342199   \n",
      "1 -1.190940         384      396  0.847924         409 -0.013781 -0.343016   \n",
      "2 -1.084905         677      688  0.723428         701  0.006151 -0.361477   \n",
      "3 -1.081741         961      972  0.692853         985  0.026552 -0.388887   \n",
      "4 -0.953814        1245     1257  0.636949        1270 -0.024185 -0.316865   \n",
      "\n",
      "         RS   qs_diff  \n",
      "0  0.651129 -0.970227  \n",
      "1  0.834143 -1.204721  \n",
      "2  0.729579 -1.078753  \n",
      "3  0.719406 -1.055189  \n",
      "4  0.612764 -0.977999  \n"
     ]
    }
   ],
   "source": [
    "k=1\n",
    "fs=128\n",
    "lowcut = 5/fs\n",
    "highcut = 15/fs\n",
    "for fname in os.listdir(coll):\n",
    "    path=os.path.join(coll,fname)\n",
    "    print(path)\n",
    "    df=pd.read_csv(path)\n",
    "    #print(df.head())\n",
    "    df1=pd.DataFrame()\n",
    "    #df1['index']=df['index']+1\n",
    "    df1['Lead2']=df.loc[1:]['\\'MLII\\'']\n",
    "    #df1['Lead1']=df['I']\n",
    "    #y_sig.astype(float)/float(max(y_sig))\n",
    "    y_sig=df1['Lead2']\n",
    "    y_sig=y_sig.astype(float)\n",
    "    \n",
    "    #print()\n",
    "    #y_sig=y_sig.astype(float)/float(max(y_sig))\n",
    "    print(\"Filter\")\n",
    "    b, a = butter(3, [lowcut, highcut], btype=\"band\")\n",
    "    y_sig = lfilter(b, a, y_sig)\n",
    "    y_sig=y_sig/max(y_sig)\n",
    "    print(\"Filter\")\n",
    "    maxim=max(y_sig)\n",
    "    height=(0+maxim)/2\n",
    "    peaks, peak_heights = find_peaks(y_sig, distance=0.2*fs,height=height)\n",
    "    peak_heights=list(peak_heights.values())[0]\n",
    "    llp=len(peak_heights)\n",
    "    start=0\n",
    "    subs=0\n",
    "    s_pt=[]\n",
    "    s_pt_index=[]\n",
    "    for j in range(llp):\n",
    "        if np.logical_and(int(round(peaks[j]+0.055*fs))>len(y_sig),j==llp-1):\n",
    "            slice=list((y_sig[peaks[j]:len(y_sig)]==np.amin(y_sig[peaks[j]:len(y_sig)])).astype(int))\n",
    "            start=peaks[j]\n",
    "            for i in range(len(slice)):\n",
    "                if slice[i]==1:\n",
    "                    subs=i+start\n",
    "                    s1_pt_index=subs\n",
    "                    s1_pt=y_sig[subs]\n",
    "                    s2_pt_index=subs\n",
    "                    s2_pt=y_sig[subs]\n",
    "                    break\n",
    "        elif np.logical_and(int(round(peaks[j]+0.1111*fs))>len(y_sig),j==llp-1):\n",
    "            slice=list((y_sig[peaks[j]:len(y_sig)]==np.amin(y_sig[peaks[j]:len(y_sig)])).astype(int))\n",
    "            start=peaks[j]\n",
    "            for i in range(len(slice)):\n",
    "                if slice[i]==1:\n",
    "                    subs=i+start\n",
    "                    s2_pt_index=subs\n",
    "                    s2_pt=y_sig[subs]\n",
    "                    break\n",
    "            slice=list((y_sig[peaks[j]:int(round(peaks[j]+0.055*fs))]==np.amin(y_sig[peaks[j]:int(round(peaks[j]+0.055*fs))])).astype(int))\n",
    "            start=peaks[j]\n",
    "            for i in range(len(slice)):\n",
    "                if slice[i]==1:\n",
    "                    subs=i+start\n",
    "                    s1_pt_index=subs\n",
    "                    s1_pt=y_sig[subs]\n",
    "                    break\n",
    "        else:\n",
    "            slice=list((y_sig[peaks[j]:int(round(peaks[j]+0.055*fs))]==np.amin(y_sig[peaks[j]:int(round(peaks[j]+0.055*fs))])).astype(int))\n",
    "            start=peaks[j]\n",
    "            for i in range(len(slice)):\n",
    "                if slice[i]==1:\n",
    "                    subs=i+start\n",
    "                    s1_pt_index=subs\n",
    "                    s1_pt=y_sig[subs]\n",
    "                    break\n",
    "            slice=list((y_sig[peaks[j]:int(round(peaks[j]+0.1111*fs))]==np.amin(y_sig[peaks[j]:int(round(peaks[j]+0.1111*fs))])).astype(int))\n",
    "            start=peaks[j]\n",
    "            for i in range(len(slice)):\n",
    "                if slice[i]==1:\n",
    "                    subs=i+start\n",
    "                    s2_pt_index=subs\n",
    "                    s2_pt=y_sig[subs]\n",
    "                    break\n",
    "        if(s1_pt_index==s2_pt_index):\n",
    "            s_pt_index.append(s1_pt_index)\n",
    "            s_pt.append(s1_pt)\n",
    "        elif s1_pt>s2_pt:\n",
    "            s_pt_index.append(s2_pt_index)\n",
    "            s_pt.append(s2_pt)\n",
    "        else:\n",
    "            s_pt_index.append(s1_pt_index)\n",
    "            s_pt.append(s1_pt)\n",
    "    MVq=0\n",
    "    q_pt=[]\n",
    "    q_pt_index=[]\n",
    "    start=0\n",
    "    subs=0\n",
    "    for j in range(llp):\n",
    "        if np.logical_and(int(round(peaks[j]-0.055*fs))<0,j==0):\n",
    "            slice=list((y_sig[0:peaks[j]]==np.amin(y_sig[0:peaks[j]])).astype(int))\n",
    "            start=0\n",
    "            for i in range(len(slice)):\n",
    "                if slice[i]==1:\n",
    "                    subs=i+start\n",
    "                    q1_pt_index=subs\n",
    "                    q1_pt=y_sig[subs]\n",
    "                    q2_pt_index=subs\n",
    "                    q2_pt=y_sig[subs]\n",
    "                    break\n",
    "        elif np.logical_and(int(round(peaks[j]-0.1111*fs))<0,j==0):\n",
    "            slice=list((y_sig[0:peaks[j]]==np.amin(y_sig[0:peaks[j]])).astype(int))\n",
    "            start=0\n",
    "            for i in range(len(slice)):\n",
    "                if slice[i]==1:\n",
    "                    subs=i+start\n",
    "                    q2_pt_index=subs\n",
    "                    q2_pt=y_sig[subs]\n",
    "                    break\n",
    "            slice=list((y_sig[int(round(peaks[j]-0.0555*fs)):peaks[j]]==np.amin(y_sig[int(round(peaks[j]-0.0555*fs)):peaks[j]])).astype(int))\n",
    "            start=int(round(peaks[j]-0.0555*fs))\n",
    "            for i in range(len(slice)):\n",
    "                if slice[i]==1:\n",
    "                    subs=i+start\n",
    "                    q1_pt_index=subs\n",
    "                    q1_pt=y_sig[subs]\n",
    "                    break\n",
    "        else:\n",
    "            slice=list((y_sig[int(round(peaks[j]-0.0555*fs)):peaks[j]]==np.amin(y_sig[int(round(peaks[j]-0.0555*fs)):peaks[j]])).astype(int))\n",
    "            start=int(round(peaks[j]-0.0555*fs))\n",
    "            for i in range(len(slice)):\n",
    "                if slice[i]==1:\n",
    "                    subs=i+start\n",
    "                    q1_pt_index=subs\n",
    "                    q1_pt=y_sig[subs]\n",
    "                    break\n",
    "            slice=list((y_sig[int(round(peaks[j]-0.1111*fs)):peaks[j]]==np.amin(y_sig[int(round(peaks[j]-0.1111*fs)):peaks[j]])).astype(int))\n",
    "            start=int(round(peaks[j]-0.1111*fs))\n",
    "            for i in range(len(slice)):\n",
    "                if slice[i]==1:\n",
    "                    subs=i+start\n",
    "                    q2_pt_index=subs\n",
    "                    q2_pt=y_sig[subs]\n",
    "                    break\n",
    "        if(q1_pt_index==q2_pt_index):\n",
    "            q_pt_index.append(q1_pt_index)\n",
    "            q_pt.append(q1_pt)\n",
    "        else:\n",
    "            strt=q2_pt_index\n",
    "            stp=q1_pt_index\n",
    "            MVq=np.amax(y_sig[strt:stp])\n",
    "            if(MVq>q1_pt+0.00018):\n",
    "                q_pt_index.append(q2_pt_index)\n",
    "                q_pt.append(q2_pt)\n",
    "            else:\n",
    "                q_pt.append(min(q1_pt,q2_pt))\n",
    "                if (q_pt[j]==q1_pt):\n",
    "                    q_pt_index.append(q1_pt_index)\n",
    "                else:\n",
    "                    q_pt_index.append(q2_pt_index)\n",
    "                    \n",
    "    df2=pd.DataFrame()\n",
    "    df2['q_pt']=q_pt\n",
    "    df2['q_pt_index']=q_pt_index\n",
    "    \n",
    "    df2['R_peaks']=peaks\n",
    "    df2['R_height']=peak_heights\n",
    "    df2['s_pt_index']=s_pt_index\n",
    "    df2['s_pt']=s_pt\n",
    "    qr=[]\n",
    "    rs=[]\n",
    "    qs_diff=[]\n",
    "    for t in range(llp):\n",
    "        qr.append(peak_heights[t]+q_pt[t])\n",
    "        rs.append(s_pt[t]+peak_heights[t])\n",
    "        qs_diff.append(s_pt[t]+q_pt[t])\n",
    "    #qrs=list(set(q_pt_index)-set(s_pt_index))\n",
    "    #qrs=[[x1 - x2 for (x1, x2) in zip(q_pt_index,s_pt_index)]]\n",
    "    df2['QR']=qr\n",
    "    df2['RS']=rs\n",
    "    df2['qs_diff']=qs_diff\n",
    "    path=\"E:/Asad work 15th March/keras CNN practise/Arrhythmia ECG1/renamed_database5/\"+\"ECG1.RSQ\"+str(k)+\".csv\"\n",
    "    print(df2.head())\n",
    "    df2.to_csv(path,encoding='utf-8')\n",
    "    k=k+1\n"
   ]
  },
  {
   "cell_type": "code",
   "execution_count": 14,
   "metadata": {},
   "outputs": [
    {
     "name": "stdout",
     "output_type": "stream",
     "text": [
      "E:/Asad work 15th March/keras CNN practise/Arrhythmia ECG1/Class4_APC\\samples (1).csv\n",
      "Filter\n",
      "Filter\n",
      "       q_pt  q_pt_index  R_peaks  R_height  s_pt_index      s_pt        QR  \\\n",
      "0 -1.066272          31       42  0.717731          55 -0.066298 -0.348540   \n",
      "1 -1.021673         327      338  0.776276         351 -0.060223 -0.245397   \n",
      "2 -1.085188         627      638  0.871290         651 -0.096484 -0.213897   \n",
      "3 -1.071379         930      941  0.852598         954 -0.101363 -0.218781   \n",
      "4 -1.035747        1228     1239  0.822404        1252 -0.098115 -0.213343   \n",
      "\n",
      "         RS   qs_diff  \n",
      "0  0.651433 -1.132570  \n",
      "1  0.716053 -1.081896  \n",
      "2  0.774807 -1.181671  \n",
      "3  0.751235 -1.172743  \n",
      "4  0.724289 -1.133862  \n",
      "E:/Asad work 15th March/keras CNN practise/Arrhythmia ECG1/Class4_APC\\samples (3).csv\n",
      "Filter\n",
      "Filter\n",
      "       q_pt  q_pt_index  R_peaks  R_height  s_pt_index      s_pt        QR  \\\n",
      "0 -0.971872         219      231  0.963490         244 -0.108036 -0.008382   \n",
      "1 -0.889520         495      508  0.966621         521 -0.146788  0.077102   \n",
      "2 -0.919084         774      786  0.931577         799 -0.097325  0.012493   \n",
      "3 -0.958352        1049     1061  0.934060        1074 -0.092502 -0.024292   \n",
      "4 -0.979757        1321     1333  0.946828        1346 -0.092195 -0.032929   \n",
      "\n",
      "         RS   qs_diff  \n",
      "0  0.855454 -1.079908  \n",
      "1  0.819833 -1.036308  \n",
      "2  0.834253 -1.016408  \n",
      "3  0.841558 -1.050854  \n",
      "4  0.854633 -1.071951  \n",
      "E:/Asad work 15th March/keras CNN practise/Arrhythmia ECG1/Class4_APC\\samples (4).csv\n",
      "Filter\n",
      "Filter\n",
      "       q_pt  q_pt_index  R_peaks  R_height  s_pt_index      s_pt        QR  \\\n",
      "0 -0.654616         505      517  0.638744         530 -0.156029 -0.015872   \n",
      "1 -0.738731         751      763  0.659687         774 -0.044885 -0.079045   \n",
      "2 -0.911831        1015     1026  0.783240        1039 -0.084420 -0.128590   \n",
      "3 -1.038593        1673     1685  0.935714        1698 -0.203404 -0.102880   \n",
      "4 -0.962476        1917     1929  0.867223        1942 -0.094532 -0.095253   \n",
      "\n",
      "         RS   qs_diff  \n",
      "0  0.482715 -0.810645  \n",
      "1  0.614802 -0.783616  \n",
      "2  0.698821 -0.996250  \n",
      "3  0.732309 -1.241998  \n",
      "4  0.772690 -1.057008  \n",
      "E:/Asad work 15th March/keras CNN practise/Arrhythmia ECG1/Class4_APC\\samples.csv\n",
      "Filter\n",
      "Filter\n",
      "       q_pt  q_pt_index  R_peaks  R_height  s_pt_index      s_pt        QR  \\\n",
      "0 -0.989872         204      215  0.853646         228 -0.161308 -0.136225   \n",
      "1 -1.016019         439      450  0.904081         463 -0.180628 -0.111938   \n",
      "2 -0.985776         674      685  0.876592         698 -0.184065 -0.109184   \n",
      "3 -1.030076         904      915  0.869647         928 -0.135655 -0.160428   \n",
      "4 -1.057046        1128     1139  0.961210        1152 -0.175314 -0.095836   \n",
      "\n",
      "         RS   qs_diff  \n",
      "0  0.692338 -1.151180  \n",
      "1  0.723453 -1.196647  \n",
      "2  0.692527 -1.169841  \n",
      "3  0.733992 -1.165731  \n",
      "4  0.785896 -1.232360  \n"
     ]
    }
   ],
   "source": [
    "coll=\"E:/Asad work 15th March/keras CNN practise/Arrhythmia ECG1/Class4_APC\"\n",
    "\n",
    "k=1\n",
    "fs=128\n",
    "lowcut = 5/fs\n",
    "highcut = 15/fs\n",
    "for fname in os.listdir(coll):\n",
    "    path=os.path.join(coll,fname)\n",
    "    print(path)\n",
    "    df=pd.read_csv(path)\n",
    "    #print(df.head())\n",
    "    df1=pd.DataFrame()\n",
    "    #df1['index']=df['index']+1\n",
    "    df1['Lead2']=df.loc[1:]['\\'MLII\\'']\n",
    "    #df1['Lead1']=df['I']\n",
    "    #y_sig.astype(float)/float(max(y_sig))\n",
    "    y_sig=df1['Lead2']\n",
    "    y_sig=y_sig.astype(float)\n",
    "    \n",
    "    #print()\n",
    "    #y_sig=y_sig.astype(float)/float(max(y_sig))\n",
    "    print(\"Filter\")\n",
    "    b, a = butter(3, [lowcut, highcut], btype=\"band\")\n",
    "    y_sig = lfilter(b, a, y_sig)\n",
    "    y_sig=y_sig/max(y_sig)\n",
    "    print(\"Filter\")\n",
    "    maxim=max(y_sig)\n",
    "    height=(0+maxim)/2\n",
    "    peaks, peak_heights = find_peaks(y_sig, distance=0.2*fs,height=height)\n",
    "    peak_heights=list(peak_heights.values())[0]\n",
    "    llp=len(peak_heights)\n",
    "    start=0\n",
    "    subs=0\n",
    "    s_pt=[]\n",
    "    s_pt_index=[]\n",
    "    for j in range(llp):\n",
    "        if np.logical_and(int(round(peaks[j]+0.055*fs))>len(y_sig),j==llp-1):\n",
    "            slice=list((y_sig[peaks[j]:len(y_sig)]==np.amin(y_sig[peaks[j]:len(y_sig)])).astype(int))\n",
    "            start=peaks[j]\n",
    "            for i in range(len(slice)):\n",
    "                if slice[i]==1:\n",
    "                    subs=i+start\n",
    "                    s1_pt_index=subs\n",
    "                    s1_pt=y_sig[subs]\n",
    "                    s2_pt_index=subs\n",
    "                    s2_pt=y_sig[subs]\n",
    "                    break\n",
    "        elif np.logical_and(int(round(peaks[j]+0.1111*fs))>len(y_sig),j==llp-1):\n",
    "            slice=list((y_sig[peaks[j]:len(y_sig)]==np.amin(y_sig[peaks[j]:len(y_sig)])).astype(int))\n",
    "            start=peaks[j]\n",
    "            for i in range(len(slice)):\n",
    "                if slice[i]==1:\n",
    "                    subs=i+start\n",
    "                    s2_pt_index=subs\n",
    "                    s2_pt=y_sig[subs]\n",
    "                    break\n",
    "            slice=list((y_sig[peaks[j]:int(round(peaks[j]+0.055*fs))]==np.amin(y_sig[peaks[j]:int(round(peaks[j]+0.055*fs))])).astype(int))\n",
    "            start=peaks[j]\n",
    "            for i in range(len(slice)):\n",
    "                if slice[i]==1:\n",
    "                    subs=i+start\n",
    "                    s1_pt_index=subs\n",
    "                    s1_pt=y_sig[subs]\n",
    "                    break\n",
    "        else:\n",
    "            slice=list((y_sig[peaks[j]:int(round(peaks[j]+0.055*fs))]==np.amin(y_sig[peaks[j]:int(round(peaks[j]+0.055*fs))])).astype(int))\n",
    "            start=peaks[j]\n",
    "            for i in range(len(slice)):\n",
    "                if slice[i]==1:\n",
    "                    subs=i+start\n",
    "                    s1_pt_index=subs\n",
    "                    s1_pt=y_sig[subs]\n",
    "                    break\n",
    "            slice=list((y_sig[peaks[j]:int(round(peaks[j]+0.1111*fs))]==np.amin(y_sig[peaks[j]:int(round(peaks[j]+0.1111*fs))])).astype(int))\n",
    "            start=peaks[j]\n",
    "            for i in range(len(slice)):\n",
    "                if slice[i]==1:\n",
    "                    subs=i+start\n",
    "                    s2_pt_index=subs\n",
    "                    s2_pt=y_sig[subs]\n",
    "                    break\n",
    "        if(s1_pt_index==s2_pt_index):\n",
    "            s_pt_index.append(s1_pt_index)\n",
    "            s_pt.append(s1_pt)\n",
    "        elif s1_pt>s2_pt:\n",
    "            s_pt_index.append(s2_pt_index)\n",
    "            s_pt.append(s2_pt)\n",
    "        else:\n",
    "            s_pt_index.append(s1_pt_index)\n",
    "            s_pt.append(s1_pt)\n",
    "    MVq=0\n",
    "    q_pt=[]\n",
    "    q_pt_index=[]\n",
    "    start=0\n",
    "    subs=0\n",
    "    for j in range(llp):\n",
    "        if np.logical_and(int(round(peaks[j]-0.055*fs))<0,j==0):\n",
    "            slice=list((y_sig[0:peaks[j]]==np.amin(y_sig[0:peaks[j]])).astype(int))\n",
    "            start=0\n",
    "            for i in range(len(slice)):\n",
    "                if slice[i]==1:\n",
    "                    subs=i+start\n",
    "                    q1_pt_index=subs\n",
    "                    q1_pt=y_sig[subs]\n",
    "                    q2_pt_index=subs\n",
    "                    q2_pt=y_sig[subs]\n",
    "                    break\n",
    "        elif np.logical_and(int(round(peaks[j]-0.1111*fs))<0,j==0):\n",
    "            slice=list((y_sig[0:peaks[j]]==np.amin(y_sig[0:peaks[j]])).astype(int))\n",
    "            start=0\n",
    "            for i in range(len(slice)):\n",
    "                if slice[i]==1:\n",
    "                    subs=i+start\n",
    "                    q2_pt_index=subs\n",
    "                    q2_pt=y_sig[subs]\n",
    "                    break\n",
    "            slice=list((y_sig[int(round(peaks[j]-0.0555*fs)):peaks[j]]==np.amin(y_sig[int(round(peaks[j]-0.0555*fs)):peaks[j]])).astype(int))\n",
    "            start=int(round(peaks[j]-0.0555*fs))\n",
    "            for i in range(len(slice)):\n",
    "                if slice[i]==1:\n",
    "                    subs=i+start\n",
    "                    q1_pt_index=subs\n",
    "                    q1_pt=y_sig[subs]\n",
    "                    break\n",
    "        else:\n",
    "            slice=list((y_sig[int(round(peaks[j]-0.0555*fs)):peaks[j]]==np.amin(y_sig[int(round(peaks[j]-0.0555*fs)):peaks[j]])).astype(int))\n",
    "            start=int(round(peaks[j]-0.0555*fs))\n",
    "            for i in range(len(slice)):\n",
    "                if slice[i]==1:\n",
    "                    subs=i+start\n",
    "                    q1_pt_index=subs\n",
    "                    q1_pt=y_sig[subs]\n",
    "                    break\n",
    "            slice=list((y_sig[int(round(peaks[j]-0.1111*fs)):peaks[j]]==np.amin(y_sig[int(round(peaks[j]-0.1111*fs)):peaks[j]])).astype(int))\n",
    "            start=int(round(peaks[j]-0.1111*fs))\n",
    "            for i in range(len(slice)):\n",
    "                if slice[i]==1:\n",
    "                    subs=i+start\n",
    "                    q2_pt_index=subs\n",
    "                    q2_pt=y_sig[subs]\n",
    "                    break\n",
    "        if(q1_pt_index==q2_pt_index):\n",
    "            q_pt_index.append(q1_pt_index)\n",
    "            q_pt.append(q1_pt)\n",
    "        else:\n",
    "            strt=q2_pt_index\n",
    "            stp=q1_pt_index\n",
    "            MVq=np.amax(y_sig[strt:stp])\n",
    "            if(MVq>q1_pt+0.00018):\n",
    "                q_pt_index.append(q2_pt_index)\n",
    "                q_pt.append(q2_pt)\n",
    "            else:\n",
    "                q_pt.append(min(q1_pt,q2_pt))\n",
    "                if (q_pt[j]==q1_pt):\n",
    "                    q_pt_index.append(q1_pt_index)\n",
    "                else:\n",
    "                    q_pt_index.append(q2_pt_index)\n",
    "                    \n",
    "    df2=pd.DataFrame()\n",
    "    df2['q_pt']=q_pt\n",
    "    df2['q_pt_index']=q_pt_index\n",
    "    \n",
    "    df2['R_peaks']=peaks\n",
    "    df2['R_height']=peak_heights\n",
    "    df2['s_pt_index']=s_pt_index\n",
    "    df2['s_pt']=s_pt\n",
    "    qs_diff=[]\n",
    "    qr=[]\n",
    "    rs=[]\n",
    "    for t in range(llp):\n",
    "        qr.append(peak_heights[t]+q_pt[t])\n",
    "        rs.append(peak_heights[t]+s_pt[t])\n",
    "        qs_diff.append(s_pt[t]+q_pt[t])\n",
    "    #qrs=list(set(q_pt_index)-set(s_pt_index))\n",
    "    #qrs=[[x1 - x2 for (x1, x2) in zip(q_pt_index,s_pt_index)]]\n",
    "    df2['QR']=qr\n",
    "    df2['RS']=rs\n",
    "    df2['qs_diff']=qs_diff\n",
    "    path=\"E:/Asad work 15th March/keras CNN practise/Arrhythmia ECG1/renamed_database5/\"+\"ECG4.RSQ\"+str(k)+\".csv\"\n",
    "    print(df2.head())\n",
    "    df2.to_csv(path,encoding='utf-8')\n",
    "    k=k+1\n"
   ]
  },
  {
   "cell_type": "code",
   "execution_count": 20,
   "metadata": {},
   "outputs": [],
   "source": [
    "def get_label(filename):\n",
    "    if(filename.split('.')[0]=='ECG1'):\n",
    "        return 0\n",
    "    elif(filename.split('.')[0]=='ECG2'):\n",
    "        return 1\n",
    "    elif(filename.split('.')[0]=='ECG3'):\n",
    "        return 2\n",
    "    elif(filename.split('.')[0]=='ECG4'):\n",
    "        return 1\n",
    "    else:\n",
    "        return 4"
   ]
  },
  {
   "cell_type": "code",
   "execution_count": 37,
   "metadata": {},
   "outputs": [
    {
     "name": "stdout",
     "output_type": "stream",
     "text": [
      "E:/Asad work 15th March/keras CNN practise/Arrhythmia ECG1/renamed_database5\\ECG1.RSQ1.csv\n",
      "E:/Asad work 15th March/keras CNN practise/Arrhythmia ECG1/renamed_database5\\ECG1.RSQ2.csv\n",
      "E:/Asad work 15th March/keras CNN practise/Arrhythmia ECG1/renamed_database5\\ECG1.RSQ3.csv\n",
      "E:/Asad work 15th March/keras CNN practise/Arrhythmia ECG1/renamed_database5\\ECG1.RSQ4.csv\n",
      "E:/Asad work 15th March/keras CNN practise/Arrhythmia ECG1/renamed_database5\\ECG1.RSQ5.csv\n",
      "E:/Asad work 15th March/keras CNN practise/Arrhythmia ECG1/renamed_database5\\ECG1.RSQ6.csv\n",
      "E:/Asad work 15th March/keras CNN practise/Arrhythmia ECG1/renamed_database5\\ECG4.RSQ1.csv\n",
      "E:/Asad work 15th March/keras CNN practise/Arrhythmia ECG1/renamed_database5\\ECG4.RSQ2.csv\n",
      "E:/Asad work 15th March/keras CNN practise/Arrhythmia ECG1/renamed_database5\\ECG4.RSQ3.csv\n",
      "E:/Asad work 15th March/keras CNN practise/Arrhythmia ECG1/renamed_database5\\ECG4.RSQ4.csv\n"
     ]
    }
   ],
   "source": [
    "df=pd.DataFrame(columns=list(range(121)))\n",
    "direct=os.listdir('E:/Asad work 15th March/keras CNN practise/Arrhythmia ECG1/renamed_database5')\n",
    "path='E:/Asad work 15th March/keras CNN practise/Arrhythmia ECG1/renamed_database5'\n",
    "k=0\n",
    "for file in direct:\n",
    "    path2=os.path.join(path,file)\n",
    "    df2=pd.read_csv(path2)\n",
    "    print(path2)\n",
    "    #df1=pd.DataFrame(columns=['R_peaks'])\n",
    "    \n",
    "    #df1['R_peaks']=df2['QR']\n",
    "    j=int(len(df2['R_height'])/40)\n",
    "    strt=0\n",
    "    stop=40\n",
    "    \n",
    "    for i in range(j+1):\n",
    "        lst1=[]\n",
    "        lst2=[]\n",
    "        lst4=[]\n",
    "        lst3=[]\n",
    "        tst=[]\n",
    "        lst1=((df2['R_height'].values)[strt:stop]).tolist()\n",
    "        if(len(lst1)<40):\n",
    "            cnt=41-len(lst1)\n",
    "            for i in range(cnt):\n",
    "                lst1.append(0)\n",
    "        #lst1=lst1[strt:stop]\n",
    "        lst2=((df2['s_pt'].values)[strt:stop]).tolist()\n",
    "        if(len(lst2)<40):\n",
    "            cnt=41-len(lst2)\n",
    "            for i in range(cnt):\n",
    "                lst2.append(0)\n",
    "        #lst2=lst2[strt:stop]\n",
    "        lst4=((df2['qs_diff'].values)[strt:stop]).tolist()\n",
    "       \n",
    "        if(len(lst4)<40):\n",
    "            cnt=41-len(lst4)\n",
    "            for i in range(cnt):\n",
    "                lst4.append(0)\n",
    "        for x in lst1:\n",
    "            lst3.append(x)\n",
    "         \n",
    "        for x in lst2:\n",
    "            lst3.append(x)\n",
    "        for x in lst4:\n",
    "            lst3.append(x)\n",
    "        tst=lst3[0:120]\n",
    "        lbl=get_label(file)\n",
    "        tst.append(lbl)\n",
    "        df.loc[i+k]=tst\n",
    "        strt=stop\n",
    "        stop=stop+40\n",
    "    k=k+j+1"
   ]
  },
  {
   "cell_type": "code",
   "execution_count": 38,
   "metadata": {},
   "outputs": [],
   "source": [
    "df=df.fillna(0)\n",
    "df.to_csv(r'{}'.format('E:/Asad work 15th March/keras CNN practise/Arrhythmia ECG1/renamed_database5/final_file1.csv'),header=False,index=False)"
   ]
  }
 ],
 "metadata": {
  "kernelspec": {
   "display_name": "Python 3",
   "language": "python",
   "name": "python3"
  },
  "language_info": {
   "codemirror_mode": {
    "name": "ipython",
    "version": 3
   },
   "file_extension": ".py",
   "mimetype": "text/x-python",
   "name": "python",
   "nbconvert_exporter": "python",
   "pygments_lexer": "ipython3",
   "version": "3.7.3"
  }
 },
 "nbformat": 4,
 "nbformat_minor": 4
}
