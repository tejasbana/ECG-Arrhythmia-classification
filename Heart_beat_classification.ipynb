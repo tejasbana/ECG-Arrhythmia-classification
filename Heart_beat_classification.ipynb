{
  "nbformat": 4,
  "nbformat_minor": 0,
  "metadata": {
    "colab": {
      "name": "ECG_classification.ipynb",
      "provenance": [],
      "collapsed_sections": [
        "QpH3QQUuNII4",
        "eZKs14vtr9jz",
        "1MciwboXmPHH"
      ]
    },
    "kernelspec": {
      "name": "python3",
      "display_name": "Python 3"
    },
    "language_info": {
      "name": "python"
    },
    "accelerator": "GPU"
  },
  "cells": [
    {
      "cell_type": "code",
      "metadata": {
        "colab": {
          "base_uri": "https://localhost:8080/"
        },
        "id": "9V3qrI4ue2M9",
        "outputId": "66e705b7-bb99-475a-f92c-f22d0d32a6c7"
      },
      "source": [
        "# # Training - Testing splite shape\n",
        "# df_train = pd.read_csv(\"/content/mitbih.csv\", header=None)\n",
        "# df_train.shape\n",
        "# df_test = df_train.iloc[87554:,:]\n",
        "# df_train = df_train.iloc[:87554,:]\n",
        "# df_test.shape, df_train.shape"
      ],
      "execution_count": 15,
      "outputs": [
        {
          "output_type": "execute_result",
          "data": {
            "text/plain": [
              "((21893, 188), (87554, 188))"
            ]
          },
          "metadata": {
            "tags": []
          },
          "execution_count": 15
        }
      ]
    },
    {
      "cell_type": "code",
      "metadata": {
        "colab": {
          "base_uri": "https://localhost:8080/"
        },
        "id": "-GvePkLxe3lF",
        "outputId": "a307407d-5193-4c32-f493-cc5775894195"
      },
      "source": [
        "import pandas as pd\n",
        "import numpy as np\n",
        "\n",
        "from keras import optimizers, losses, activations, models\n",
        "from keras.callbacks import ModelCheckpoint, EarlyStopping, LearningRateScheduler, ReduceLROnPlateau\n",
        "from keras.layers import Dense, Input, Dropout, Convolution1D, MaxPool1D, GlobalMaxPool1D, GlobalAveragePooling1D, \\\n",
        "    concatenate, BatchNormalization\n",
        "from sklearn.metrics import f1_score, accuracy_score\n",
        "\n",
        "# Training - Testing splite\n",
        "df_train = pd.read_csv(\"/content/heartbeat/mitbih_train.csv\", header=None)\n",
        "df_train = df_train.sample(frac=1)\n",
        "df_test = pd.read_csv(\"/content/heartbeat/mitbih_test.csv\", header=None)\n",
        "\n",
        "\n",
        "# Training inputes and target\n",
        "Y = np.array(df_train[187].values).astype(np.int8)\n",
        "X = np.array(df_train[list(range(187))].values)[..., np.newaxis]\n",
        "\n",
        "# Testing inputes and target\n",
        "Y_test = np.array(df_test[187].values).astype(np.int8)\n",
        "X_test = np.array(df_test[list(range(187))].values)[..., np.newaxis]\n",
        "\n",
        "# Model architecture\n",
        "def get_model():\n",
        "    nclass = 5\n",
        "    inp = Input(shape=(187, 1))\n",
        "    img_1 = Convolution1D(256, kernel_size=5, activation=activations.relu, padding=\"valid\")(inp)\n",
        "    img_1 = BatchNormalization()(img_1)\n",
        "    img_1 = Convolution1D(256, kernel_size=5, activation=activations.relu, padding=\"valid\")(img_1)\n",
        "    img_1 = BatchNormalization()(img_1)\n",
        "    img_1 = MaxPool1D(pool_size=2)(img_1)\n",
        "    img_1 = Dropout(rate=0.1)(img_1)\n",
        "    img_1 = Convolution1D(512, kernel_size=3, activation=activations.relu, padding=\"valid\")(img_1)\n",
        "    img_1 = BatchNormalization()(img_1)\n",
        "    img_1 = Convolution1D(512, kernel_size=3, activation=activations.relu, padding=\"valid\")(img_1)\n",
        "    img_1 = BatchNormalization()(img_1)\n",
        "    img_1 = MaxPool1D(pool_size=2)(img_1)\n",
        "    img_1 = Dropout(rate=0.1)(img_1)\n",
        "    img_1 = Convolution1D(128, kernel_size=3, activation=activations.relu, padding=\"valid\")(img_1)\n",
        "    img_1 = BatchNormalization()(img_1)\n",
        "    img_1 = Convolution1D(128, kernel_size=3, activation=activations.relu, padding=\"valid\")(img_1)\n",
        "    img_1 = BatchNormalization()(img_1)\n",
        "    img_1 = MaxPool1D(pool_size=2)(img_1)\n",
        "    img_1 = Dropout(rate=0.1)(img_1)\n",
        "    img_1 = Convolution1D(512, kernel_size=3, activation=activations.relu, padding=\"valid\")(img_1)\n",
        "    img_1 = BatchNormalization()(img_1)\n",
        "    img_1 = Convolution1D(512, kernel_size=3, activation=activations.relu, padding=\"valid\")(img_1)\n",
        "    img_1 = BatchNormalization()(img_1)\n",
        "    img_1 = GlobalMaxPool1D()(img_1)\n",
        "    img_1 = Dropout(rate=0.2)(img_1)\n",
        "\n",
        "    dense_1 = Dense(256, activation=activations.relu, name=\"dense_1\")(img_1)\n",
        "    dense_1 = BatchNormalization()(dense_1)\n",
        "    dense_1 = Dropout(rate=0.5)(dense_1)\n",
        "    dense_1 = Dense(128, activation=activations.relu, name=\"dense_2\")(dense_1)\n",
        "    dense_1 = Dense(nclass, activation=activations.softmax, name=\"dense_3_mitbih\")(dense_1)\n",
        "\n",
        "    model = models.Model(inputs=inp, outputs=dense_1)\n",
        "    opt = optimizers.Adam(0.001)\n",
        "\n",
        "    model.compile(optimizer=opt, loss=losses.sparse_categorical_crossentropy, metrics=['acc'])\n",
        "    model.summary()\n",
        "    return model\n",
        "\n",
        "# Load Model\n",
        "model = get_model()\n",
        "\n",
        "# Saving model checkpoints\n",
        "file_path = \"ecg_classification_model.h5\"\n",
        "checkpoint = ModelCheckpoint(file_path, monitor='val_acc', verbose=1, save_best_only=True, mode='max')\n",
        "early = EarlyStopping(monitor=\"val_acc\", mode=\"max\", patience=5, verbose=1)\n",
        "redonplat = ReduceLROnPlateau(monitor=\"val_acc\", mode=\"max\", patience=3, verbose=2)\n",
        "\n",
        "# early stopping \n",
        "callbacks_list = [checkpoint, early, redonplat]  \n",
        "\n",
        "# Model training\n",
        "model.fit(X, Y, epochs=100, verbose=2, callbacks=callbacks_list, validation_split=0.1)\n",
        "model.load_weights(file_path)\n",
        "\n",
        "pred_test = model.predict(X_test)\n",
        "pred_test = np.argmax(pred_test, axis=-1)\n",
        "\n",
        "f1 = f1_score(Y_test, pred_test, average=\"macro\")\n",
        "\n",
        "print(\"Test f1 score : %s \"% f1)\n",
        "\n",
        "acc = accuracy_score(Y_test, pred_test)\n",
        "\n",
        "print(\"Test accuracy score : %s \"% acc)"
      ],
      "execution_count": 18,
      "outputs": [
        {
          "output_type": "stream",
          "text": [
            "Model: \"model_2\"\n",
            "_________________________________________________________________\n",
            "Layer (type)                 Output Shape              Param #   \n",
            "=================================================================\n",
            "input_3 (InputLayer)         [(None, 187, 1)]          0         \n",
            "_________________________________________________________________\n",
            "conv1d_16 (Conv1D)           (None, 183, 256)          1536      \n",
            "_________________________________________________________________\n",
            "batch_normalization_18 (Batc (None, 183, 256)          1024      \n",
            "_________________________________________________________________\n",
            "conv1d_17 (Conv1D)           (None, 179, 256)          327936    \n",
            "_________________________________________________________________\n",
            "batch_normalization_19 (Batc (None, 179, 256)          1024      \n",
            "_________________________________________________________________\n",
            "max_pooling1d_6 (MaxPooling1 (None, 89, 256)           0         \n",
            "_________________________________________________________________\n",
            "dropout_10 (Dropout)         (None, 89, 256)           0         \n",
            "_________________________________________________________________\n",
            "conv1d_18 (Conv1D)           (None, 87, 512)           393728    \n",
            "_________________________________________________________________\n",
            "batch_normalization_20 (Batc (None, 87, 512)           2048      \n",
            "_________________________________________________________________\n",
            "conv1d_19 (Conv1D)           (None, 85, 512)           786944    \n",
            "_________________________________________________________________\n",
            "batch_normalization_21 (Batc (None, 85, 512)           2048      \n",
            "_________________________________________________________________\n",
            "max_pooling1d_7 (MaxPooling1 (None, 42, 512)           0         \n",
            "_________________________________________________________________\n",
            "dropout_11 (Dropout)         (None, 42, 512)           0         \n",
            "_________________________________________________________________\n",
            "conv1d_20 (Conv1D)           (None, 40, 128)           196736    \n",
            "_________________________________________________________________\n",
            "batch_normalization_22 (Batc (None, 40, 128)           512       \n",
            "_________________________________________________________________\n",
            "conv1d_21 (Conv1D)           (None, 38, 128)           49280     \n",
            "_________________________________________________________________\n",
            "batch_normalization_23 (Batc (None, 38, 128)           512       \n",
            "_________________________________________________________________\n",
            "max_pooling1d_8 (MaxPooling1 (None, 19, 128)           0         \n",
            "_________________________________________________________________\n",
            "dropout_12 (Dropout)         (None, 19, 128)           0         \n",
            "_________________________________________________________________\n",
            "conv1d_22 (Conv1D)           (None, 17, 512)           197120    \n",
            "_________________________________________________________________\n",
            "batch_normalization_24 (Batc (None, 17, 512)           2048      \n",
            "_________________________________________________________________\n",
            "conv1d_23 (Conv1D)           (None, 15, 512)           786944    \n",
            "_________________________________________________________________\n",
            "batch_normalization_25 (Batc (None, 15, 512)           2048      \n",
            "_________________________________________________________________\n",
            "global_max_pooling1d_2 (Glob (None, 512)               0         \n",
            "_________________________________________________________________\n",
            "dropout_13 (Dropout)         (None, 512)               0         \n",
            "_________________________________________________________________\n",
            "dense_1 (Dense)              (None, 256)               131328    \n",
            "_________________________________________________________________\n",
            "batch_normalization_26 (Batc (None, 256)               1024      \n",
            "_________________________________________________________________\n",
            "dropout_14 (Dropout)         (None, 256)               0         \n",
            "_________________________________________________________________\n",
            "dense_2 (Dense)              (None, 128)               32896     \n",
            "_________________________________________________________________\n",
            "dense_3_mitbih (Dense)       (None, 5)                 645       \n",
            "=================================================================\n",
            "Total params: 2,917,381\n",
            "Trainable params: 2,911,237\n",
            "Non-trainable params: 6,144\n",
            "_________________________________________________________________\n",
            "Epoch 1/100\n",
            "2463/2463 - 40s - loss: 0.2582 - acc: 0.9276 - val_loss: 0.1633 - val_acc: 0.9596\n",
            "\n",
            "Epoch 00001: val_acc improved from -inf to 0.95957, saving model to ecg_classification_model.h5\n",
            "Epoch 2/100\n",
            "2463/2463 - 38s - loss: 0.1420 - acc: 0.9612 - val_loss: 0.1411 - val_acc: 0.9627\n",
            "\n",
            "Epoch 00002: val_acc improved from 0.95957 to 0.96265, saving model to ecg_classification_model.h5\n",
            "Epoch 3/100\n",
            "2463/2463 - 38s - loss: 0.1135 - acc: 0.9684 - val_loss: 0.1137 - val_acc: 0.9667\n",
            "\n",
            "Epoch 00003: val_acc improved from 0.96265 to 0.96665, saving model to ecg_classification_model.h5\n",
            "Epoch 4/100\n",
            "2463/2463 - 38s - loss: 0.0976 - acc: 0.9724 - val_loss: 0.2377 - val_acc: 0.9243\n",
            "\n",
            "Epoch 00004: val_acc did not improve from 0.96665\n",
            "Epoch 5/100\n",
            "2463/2463 - 38s - loss: 0.0880 - acc: 0.9750 - val_loss: 0.0704 - val_acc: 0.9792\n",
            "\n",
            "Epoch 00005: val_acc improved from 0.96665 to 0.97921, saving model to ecg_classification_model.h5\n",
            "Epoch 6/100\n",
            "2463/2463 - 38s - loss: 0.0750 - acc: 0.9783 - val_loss: 0.0867 - val_acc: 0.9751\n",
            "\n",
            "Epoch 00006: val_acc did not improve from 0.97921\n",
            "Epoch 7/100\n",
            "2463/2463 - 38s - loss: 0.0679 - acc: 0.9810 - val_loss: 0.0659 - val_acc: 0.9828\n",
            "\n",
            "Epoch 00007: val_acc improved from 0.97921 to 0.98275, saving model to ecg_classification_model.h5\n",
            "Epoch 8/100\n",
            "2463/2463 - 38s - loss: 0.0618 - acc: 0.9822 - val_loss: 0.1790 - val_acc: 0.9399\n",
            "\n",
            "Epoch 00008: val_acc did not improve from 0.98275\n",
            "Epoch 9/100\n",
            "2463/2463 - 38s - loss: 0.0549 - acc: 0.9842 - val_loss: 0.0669 - val_acc: 0.9831\n",
            "\n",
            "Epoch 00009: val_acc improved from 0.98275 to 0.98310, saving model to ecg_classification_model.h5\n",
            "Epoch 10/100\n",
            "2463/2463 - 38s - loss: 0.0508 - acc: 0.9850 - val_loss: 0.2579 - val_acc: 0.9186\n",
            "\n",
            "Epoch 00010: val_acc did not improve from 0.98310\n",
            "Epoch 11/100\n",
            "2463/2463 - 38s - loss: 0.0469 - acc: 0.9863 - val_loss: 0.1161 - val_acc: 0.9794\n",
            "\n",
            "Epoch 00011: val_acc did not improve from 0.98310\n",
            "Epoch 12/100\n",
            "2463/2463 - 38s - loss: 0.0448 - acc: 0.9868 - val_loss: 0.0470 - val_acc: 0.9880\n",
            "\n",
            "Epoch 00012: val_acc improved from 0.98310 to 0.98801, saving model to ecg_classification_model.h5\n",
            "Epoch 13/100\n",
            "2463/2463 - 38s - loss: 0.0410 - acc: 0.9877 - val_loss: 0.2316 - val_acc: 0.9087\n",
            "\n",
            "Epoch 00013: val_acc did not improve from 0.98801\n",
            "Epoch 14/100\n",
            "2463/2463 - 38s - loss: 0.0386 - acc: 0.9884 - val_loss: 0.2976 - val_acc: 0.9372\n",
            "\n",
            "Epoch 00014: val_acc did not improve from 0.98801\n",
            "Epoch 15/100\n",
            "2463/2463 - 38s - loss: 0.0352 - acc: 0.9887 - val_loss: 0.0480 - val_acc: 0.9886\n",
            "\n",
            "Epoch 00015: val_acc improved from 0.98801 to 0.98858, saving model to ecg_classification_model.h5\n",
            "Epoch 16/100\n",
            "2463/2463 - 38s - loss: 0.0357 - acc: 0.9889 - val_loss: 0.0512 - val_acc: 0.9865\n",
            "\n",
            "Epoch 00016: val_acc did not improve from 0.98858\n",
            "Epoch 17/100\n",
            "2463/2463 - 38s - loss: 0.0327 - acc: 0.9904 - val_loss: 0.0659 - val_acc: 0.9838\n",
            "\n",
            "Epoch 00017: val_acc did not improve from 0.98858\n",
            "Epoch 18/100\n",
            "2463/2463 - 38s - loss: 0.0318 - acc: 0.9898 - val_loss: 0.1059 - val_acc: 0.9791\n",
            "\n",
            "Epoch 00018: val_acc did not improve from 0.98858\n",
            "\n",
            "Epoch 00018: ReduceLROnPlateau reducing learning rate to 0.00010000000474974513.\n",
            "Epoch 19/100\n",
            "2463/2463 - 38s - loss: 0.0242 - acc: 0.9927 - val_loss: 0.0459 - val_acc: 0.9893\n",
            "\n",
            "Epoch 00019: val_acc improved from 0.98858 to 0.98926, saving model to ecg_classification_model.h5\n",
            "Epoch 20/100\n",
            "2463/2463 - 38s - loss: 0.0172 - acc: 0.9943 - val_loss: 0.0442 - val_acc: 0.9896\n",
            "\n",
            "Epoch 00020: val_acc improved from 0.98926 to 0.98961, saving model to ecg_classification_model.h5\n",
            "Epoch 21/100\n",
            "2463/2463 - 38s - loss: 0.0153 - acc: 0.9952 - val_loss: 0.0494 - val_acc: 0.9901\n",
            "\n",
            "Epoch 00021: val_acc improved from 0.98961 to 0.99006, saving model to ecg_classification_model.h5\n",
            "Epoch 22/100\n",
            "2463/2463 - 38s - loss: 0.0142 - acc: 0.9953 - val_loss: 0.0482 - val_acc: 0.9895\n",
            "\n",
            "Epoch 00022: val_acc did not improve from 0.99006\n",
            "Epoch 23/100\n",
            "2463/2463 - 38s - loss: 0.0134 - acc: 0.9955 - val_loss: 0.0521 - val_acc: 0.9905\n",
            "\n",
            "Epoch 00023: val_acc improved from 0.99006 to 0.99052, saving model to ecg_classification_model.h5\n",
            "Epoch 24/100\n",
            "2463/2463 - 38s - loss: 0.0117 - acc: 0.9960 - val_loss: 0.0521 - val_acc: 0.9896\n",
            "\n",
            "Epoch 00024: val_acc did not improve from 0.99052\n",
            "Epoch 25/100\n",
            "2463/2463 - 38s - loss: 0.0108 - acc: 0.9966 - val_loss: 0.0514 - val_acc: 0.9902\n",
            "\n",
            "Epoch 00025: val_acc did not improve from 0.99052\n",
            "Epoch 26/100\n",
            "2463/2463 - 38s - loss: 0.0111 - acc: 0.9963 - val_loss: 0.0495 - val_acc: 0.9903\n",
            "\n",
            "Epoch 00026: val_acc did not improve from 0.99052\n",
            "\n",
            "Epoch 00026: ReduceLROnPlateau reducing learning rate to 1.0000000474974514e-05.\n",
            "Epoch 27/100\n",
            "2463/2463 - 38s - loss: 0.0104 - acc: 0.9965 - val_loss: 0.0487 - val_acc: 0.9903\n",
            "\n",
            "Epoch 00027: val_acc did not improve from 0.99052\n",
            "Epoch 28/100\n",
            "2463/2463 - 38s - loss: 0.0088 - acc: 0.9971 - val_loss: 0.0509 - val_acc: 0.9905\n",
            "\n",
            "Epoch 00028: val_acc did not improve from 0.99052\n",
            "Epoch 00028: early stopping\n",
            "Test f1 score : 0.9346838170319565 \n",
            "Test accuracy score : 0.9891741275351726 \n"
          ],
          "name": "stdout"
        }
      ]
    },
    {
      "cell_type": "markdown",
      "metadata": {
        "id": "QpH3QQUuNII4"
      },
      "source": [
        "# Kera"
      ]
    },
    {
      "cell_type": "code",
      "metadata": {
        "id": "LS4Wf2-YsExX"
      },
      "source": [
        "# import torch\n",
        "# import torchvision\n",
        "import sklearn\n",
        "import os\n",
        "import pandas as pd\n",
        "import numpy as np\n",
        "import matplotlib.pyplot as plt\n",
        "# import torch.nn.functional as F\n",
        "from sklearn.utils import resample\n",
        "from sklearn.metrics import f1_score, accuracy_score\n",
        "import tensorflow as tf\n",
        "from keras import optimizers, losses, activations, models\n",
        "from keras.callbacks import ModelCheckpoint, EarlyStopping, LearningRateScheduler, ReduceLROnPlateau\n",
        "from keras.layers import Dense, Input, Convolution1D, Dropout, MaxPool1D, GlobalAveragePooling1D, GlobalMaxPool1D, concatenate\n",
        "# from torch.utils.data import DataLoader, TensorDataset, random_split"
      ],
      "execution_count": 1,
      "outputs": []
    },
    {
      "cell_type": "code",
      "metadata": {
        "id": "ZRCYovxEtdfm"
      },
      "source": [
        "!pip install opendatasets --upgrade --quiet"
      ],
      "execution_count": 2,
      "outputs": []
    },
    {
      "cell_type": "code",
      "metadata": {
        "colab": {
          "base_uri": "https://localhost:8080/"
        },
        "id": "fi91xqMvtpXS",
        "outputId": "f2878664-91e6-4509-e16c-8ad18f5be9fb"
      },
      "source": [
        "import opendatasets as od\n",
        "od.download(\"https://www.kaggle.com/shayanfazeli/heartbeat\")"
      ],
      "execution_count": 4,
      "outputs": [
        {
          "output_type": "stream",
          "text": [
            "  5%|▌         | 5.00M/98.8M [00:00<00:03, 26.8MB/s]"
          ],
          "name": "stderr"
        },
        {
          "output_type": "stream",
          "text": [
            "Downloading heartbeat.zip to ./heartbeat\n"
          ],
          "name": "stdout"
        },
        {
          "output_type": "stream",
          "text": [
            "100%|██████████| 98.8M/98.8M [00:01<00:00, 71.1MB/s]\n"
          ],
          "name": "stderr"
        },
        {
          "output_type": "stream",
          "text": [
            "\n"
          ],
          "name": "stdout"
        }
      ]
    },
    {
      "cell_type": "code",
      "metadata": {
        "id": "DYx16a30tNKi"
      },
      "source": [
        "train_path = \"/content/heartbeat/mitbih_train.csv\"\n",
        "test_path  = \"/content/heartbeat/mitbih_test.csv\"\n",
        "train_df = pd.read_csv(train_path, header=None).sample(frac=1).reset_index(drop=True)\n",
        "test_df  = pd.read_csv(test_path , header=None).sample(frac=1).reset_index(drop=True)"
      ],
      "execution_count": 13,
      "outputs": []
    },
    {
      "cell_type": "code",
      "metadata": {
        "id": "76x4vu2UeicV"
      },
      "source": [
        "pd.concat([train_df,test_df]).to_csv(\"mitbih.csv\",index=False)"
      ],
      "execution_count": 14,
      "outputs": []
    },
    {
      "cell_type": "code",
      "metadata": {
        "colab": {
          "base_uri": "https://localhost:8080/"
        },
        "id": "ds36U87VuI_X",
        "outputId": "863ed63f-a056-4fb7-9824-275e63bbb41e"
      },
      "source": [
        "train_df.shape, test_df.shape, pd.concat([train_df,test_df])."
      ],
      "execution_count": 7,
      "outputs": [
        {
          "output_type": "execute_result",
          "data": {
            "text/plain": [
              "((87554, 188), (21892, 188), (109446, 188))"
            ]
          },
          "metadata": {
            "tags": []
          },
          "execution_count": 7
        }
      ]
    },
    {
      "cell_type": "code",
      "metadata": {
        "colab": {
          "base_uri": "https://localhost:8080/"
        },
        "id": "HTUjPTz8uPYZ",
        "outputId": "4ead5790-06e2-4c6a-8abd-519a7d992e1d"
      },
      "source": [
        "train_df[187] = train_df[187].astype(int)\n",
        "equilibre = train_df[187].value_counts()\n",
        "print(equilibre)"
      ],
      "execution_count": 84,
      "outputs": [
        {
          "output_type": "stream",
          "text": [
            "0    90589\n",
            "4     8039\n",
            "2     7236\n",
            "1     2779\n",
            "3      803\n",
            "Name: 187, dtype: int64\n"
          ],
          "name": "stdout"
        }
      ]
    },
    {
      "cell_type": "code",
      "metadata": {
        "id": "lTFcIfq6B3aM"
      },
      "source": [
        "class_weight = {0: 0.01,\n",
        "                4: 0.1,\n",
        "                2: 0.11,\n",
        "                1: 0.2,\n",
        "                3: 0.58}"
      ],
      "execution_count": 28,
      "outputs": []
    },
    {
      "cell_type": "code",
      "metadata": {
        "id": "r0MZvcLr0iBP"
      },
      "source": [
        "# Balancing Out the Samples ratio\n",
        "df_0 = train_df[ train_df[187]==0 ].sample(n=10000, random_state=42)\n",
        "df_1 = train_df[ train_df[187]==1 ]\n",
        "df_2 = train_df[ train_df[187]==2 ]\n",
        "df_3 = train_df[ train_df[187]==3 ]\n",
        "df_4 = train_df[ train_df[187]==4 ]\n",
        "\n",
        "df_1_upsample = resample(df_1, n_samples=10000, replace=True, random_state=123)\n",
        "df_2_upsample = resample(df_2, n_samples=10000, replace=True, random_state=123)\n",
        "df_3_upsample = resample(df_3, n_samples=10000, replace=True, random_state=123)\n",
        "df_4_upsample = resample(df_4, n_samples=10000, replace=True, random_state=123)\n",
        "\n",
        "train_df = pd.concat([df_0, df_1_upsample, df_2_upsample, df_3_upsample, df_4_upsample])\n"
      ],
      "execution_count": 26,
      "outputs": []
    },
    {
      "cell_type": "code",
      "metadata": {
        "colab": {
          "base_uri": "https://localhost:8080/"
        },
        "id": "VcQA4Fst3f4e",
        "outputId": "b03ad527-8131-4f8a-c637-77e1c0ffa1f0"
      },
      "source": [
        "equilibre = train_df[187].value_counts()\n",
        "print(equilibre)"
      ],
      "execution_count": 27,
      "outputs": [
        {
          "output_type": "stream",
          "text": [
            "4    10000\n",
            "3    10000\n",
            "2    10000\n",
            "1    10000\n",
            "0    10000\n",
            "Name: 187, dtype: int64\n"
          ],
          "name": "stdout"
        }
      ]
    },
    {
      "cell_type": "code",
      "metadata": {
        "colab": {
          "base_uri": "https://localhost:8080/"
        },
        "id": "MO5EmHe2-DBr",
        "outputId": "27490b6b-277f-48ab-df4c-9269211683e9"
      },
      "source": [
        "train_df.shape"
      ],
      "execution_count": 13,
      "outputs": [
        {
          "output_type": "execute_result",
          "data": {
            "text/plain": [
              "(3205, 188)"
            ]
          },
          "metadata": {
            "tags": []
          },
          "execution_count": 13
        }
      ]
    },
    {
      "cell_type": "code",
      "metadata": {
        "id": "xli-tzUh8bMU"
      },
      "source": [
        "Y = np.array( train_df[187].values ).astype(np.int8)\n",
        "X = np.array( train_df[ list(range(187)) ].values)[..., np.newaxis]\n",
        "\n",
        "Y_test = np.array( test_df[187].values ).astype(np.int8)\n",
        "X_test = np.array( test_df[ list(range(187)) ].values ).astype(np.int8)[..., np.newaxis]"
      ],
      "execution_count": 86,
      "outputs": []
    },
    {
      "cell_type": "code",
      "metadata": {
        "colab": {
          "base_uri": "https://localhost:8080/"
        },
        "id": "WudXQQNw-fBH",
        "outputId": "0431f9aa-456e-42a7-e8c7-4076d061afa6"
      },
      "source": [
        "np.unique(Y_test, return_counts=True)"
      ],
      "execution_count": 87,
      "outputs": [
        {
          "output_type": "execute_result",
          "data": {
            "text/plain": [
              "(array([0, 1, 2, 3, 4], dtype=int8),\n",
              " array([18118,   556,  1448,   162,  1608]))"
            ]
          },
          "metadata": {
            "tags": []
          },
          "execution_count": 87
        }
      ]
    },
    {
      "cell_type": "code",
      "metadata": {
        "colab": {
          "base_uri": "https://localhost:8080/"
        },
        "id": "zp1FKj30ANOu",
        "outputId": "a0c65063-a72d-4068-8a1d-9a8204438aab"
      },
      "source": [
        "X_test.shape"
      ],
      "execution_count": 10,
      "outputs": [
        {
          "output_type": "execute_result",
          "data": {
            "text/plain": [
              "(21892, 187, 1)"
            ]
          },
          "metadata": {
            "tags": []
          },
          "execution_count": 10
        }
      ]
    },
    {
      "cell_type": "code",
      "metadata": {
        "colab": {
          "base_uri": "https://localhost:8080/"
        },
        "id": "oRzdECbK4kgB",
        "outputId": "2362ce3e-a6e5-4a9c-a199-d8ab168aad8a"
      },
      "source": [
        "\n",
        "def get_model():\n",
        "    nclass = 5\n",
        "    inp = Input(shape=(187, 1))\n",
        "    img_1 = Convolution1D(16, kernel_size=3, activation=activations.relu, padding=\"valid\")(inp)\n",
        "    img_1 = Convolution1D(16, kernel_size=3, activation=activations.relu, padding=\"valid\")(img_1)\n",
        "    img_1 = MaxPool1D(pool_size=2)(img_1)\n",
        "    img_1 = Dropout(rate=0.5)(img_1)\n",
        "    img_1 = Convolution1D(32, kernel_size=3, activation=activations.relu, padding=\"valid\")(img_1)\n",
        "    img_1 = Convolution1D(32, kernel_size=3, activation=activations.relu, padding=\"valid\")(img_1)\n",
        "    img_1 = MaxPool1D(pool_size=2)(img_1)\n",
        "    img_1 = Dropout(rate=0.5)(img_1)\n",
        "    img_1 = Convolution1D(32, kernel_size=2, activation=activations.relu, padding=\"valid\")(img_1)\n",
        "    img_1 = Convolution1D(32, kernel_size=2, activation=activations.relu, padding=\"valid\")(img_1)\n",
        "    img_1 = MaxPool1D(pool_size=2)(img_1)\n",
        "    img_1 = Dropout(rate=0.5)(img_1)\n",
        "    img_1 = Convolution1D(256, kernel_size=2, activation=activations.relu, padding=\"valid\")(img_1)\n",
        "    img_1 = Convolution1D(256, kernel_size=2, activation=activations.relu, padding=\"valid\")(img_1)\n",
        "    img_1 = GlobalMaxPool1D()(img_1)\n",
        "    img_1 = Dropout(rate=0.5)(img_1)\n",
        "\n",
        "    dense_1 = Dense(512, activation=activations.relu, name=\"dense_1\")(img_1)\n",
        "    dense_1   = Dropout(rate=0.5)(dense_1)\n",
        "    dense_1 = Dense(64, activation=activations.relu, name=\"dense_2\")(dense_1)\n",
        "    dense_1   = Dropout(rate=0.5)(dense_1)\n",
        "    dense_1 = Dense(512, activation=activations.relu, name=\"dense_3\")(dense_1)\n",
        "    dense_1   = Dropout(rate=0.5)(dense_1)\n",
        "    dense_1 = Dense(64, activation=activations.relu, name=\"dense_4\")(dense_1)\n",
        "    dense_1   = Dropout(rate=0.5)(dense_1)\n",
        "    dense_1 = Dense(nclass, activation=activations.softmax, name=\"dense_5_mitbih\")(dense_1)\n",
        "\n",
        "    model = models.Model(inputs=inp, outputs=dense_1)\n",
        "    opt = optimizers.Adam(0.0001)\n",
        "\n",
        "    model.compile(optimizer=opt, loss=losses.sparse_categorical_crossentropy, metrics=['acc'])\n",
        "    model.summary()\n",
        "    return model\n",
        "\n",
        "model = get_model()\n",
        "file_path = \"ecg.h5\"\n",
        "checkpoint = ModelCheckpoint(file_path, monitor='val_acc', verbose=1, save_best_only=True, mode='max')\n",
        "early = EarlyStopping(monitor=\"val_acc\", mode=\"max\", patience=5, verbose=1)\n",
        "redonplat = ReduceLROnPlateau(monitor=\"val_acc\", mode=\"max\", patience=3, verbose=2)\n",
        "callbacks_list = [checkpoint, early, redonplat]  # early\n",
        "\n"
      ],
      "execution_count": 92,
      "outputs": [
        {
          "output_type": "stream",
          "text": [
            "Model: \"model_7\"\n",
            "_________________________________________________________________\n",
            "Layer (type)                 Output Shape              Param #   \n",
            "=================================================================\n",
            "input_8 (InputLayer)         [(None, 187, 1)]          0         \n",
            "_________________________________________________________________\n",
            "conv1d_56 (Conv1D)           (None, 185, 16)           64        \n",
            "_________________________________________________________________\n",
            "conv1d_57 (Conv1D)           (None, 183, 16)           784       \n",
            "_________________________________________________________________\n",
            "max_pooling1d_21 (MaxPooling (None, 91, 16)            0         \n",
            "_________________________________________________________________\n",
            "dropout_46 (Dropout)         (None, 91, 16)            0         \n",
            "_________________________________________________________________\n",
            "conv1d_58 (Conv1D)           (None, 89, 32)            1568      \n",
            "_________________________________________________________________\n",
            "conv1d_59 (Conv1D)           (None, 87, 32)            3104      \n",
            "_________________________________________________________________\n",
            "max_pooling1d_22 (MaxPooling (None, 43, 32)            0         \n",
            "_________________________________________________________________\n",
            "dropout_47 (Dropout)         (None, 43, 32)            0         \n",
            "_________________________________________________________________\n",
            "conv1d_60 (Conv1D)           (None, 42, 32)            2080      \n",
            "_________________________________________________________________\n",
            "conv1d_61 (Conv1D)           (None, 41, 32)            2080      \n",
            "_________________________________________________________________\n",
            "max_pooling1d_23 (MaxPooling (None, 20, 32)            0         \n",
            "_________________________________________________________________\n",
            "dropout_48 (Dropout)         (None, 20, 32)            0         \n",
            "_________________________________________________________________\n",
            "conv1d_62 (Conv1D)           (None, 19, 256)           16640     \n",
            "_________________________________________________________________\n",
            "conv1d_63 (Conv1D)           (None, 18, 256)           131328    \n",
            "_________________________________________________________________\n",
            "global_max_pooling1d_7 (Glob (None, 256)               0         \n",
            "_________________________________________________________________\n",
            "dropout_49 (Dropout)         (None, 256)               0         \n",
            "_________________________________________________________________\n",
            "dense_1 (Dense)              (None, 512)               131584    \n",
            "_________________________________________________________________\n",
            "dropout_50 (Dropout)         (None, 512)               0         \n",
            "_________________________________________________________________\n",
            "dense_2 (Dense)              (None, 64)                32832     \n",
            "_________________________________________________________________\n",
            "dropout_51 (Dropout)         (None, 64)                0         \n",
            "_________________________________________________________________\n",
            "dense_3 (Dense)              (None, 512)               33280     \n",
            "_________________________________________________________________\n",
            "dropout_52 (Dropout)         (None, 512)               0         \n",
            "_________________________________________________________________\n",
            "dense_4 (Dense)              (None, 64)                32832     \n",
            "_________________________________________________________________\n",
            "dropout_53 (Dropout)         (None, 64)                0         \n",
            "_________________________________________________________________\n",
            "dense_5_mitbih (Dense)       (None, 5)                 325       \n",
            "=================================================================\n",
            "Total params: 388,501\n",
            "Trainable params: 388,501\n",
            "Non-trainable params: 0\n",
            "_________________________________________________________________\n"
          ],
          "name": "stdout"
        }
      ]
    },
    {
      "cell_type": "code",
      "metadata": {
        "colab": {
          "base_uri": "https://localhost:8080/"
        },
        "id": "5pwyabslC9hr",
        "outputId": "57d14070-3c5d-42a6-e4e8-3c417e3d6cc4"
      },
      "source": [
        "sess = tf.compat.v1.Session(config=tf.compat.v1.ConfigProto(log_device_placement=True))"
      ],
      "execution_count": 18,
      "outputs": [
        {
          "output_type": "stream",
          "text": [
            "Device mapping:\n",
            "/job:localhost/replica:0/task:0/device:GPU:0 -> device: 0, name: Tesla P100-PCIE-16GB, pci bus id: 0000:00:04.0, compute capability: 6.0\n",
            "\n"
          ],
          "name": "stdout"
        }
      ]
    },
    {
      "cell_type": "code",
      "metadata": {
        "id": "P7oOfoJvDOTZ"
      },
      "source": [
        "from tensorflow.python.client import device_lib\n",
        "print(device_lib.list_local_devices())"
      ],
      "execution_count": null,
      "outputs": []
    },
    {
      "cell_type": "code",
      "metadata": {
        "id": "_ywY_PKlD7NI"
      },
      "source": [
        "# For training on GPUs\n",
        "import tensorflow as tf\n",
        "from tensorflow.python.keras import backend as K\n",
        "\n",
        "# adjust values to your needs\n",
        "config = tf.compat.v1.ConfigProto( device_count = {'GPU': 1 , 'CPU': 8} )\n",
        "sess = tf.compat.v1.Session(config=config) \n",
        "K.set_session(sess)"
      ],
      "execution_count": 30,
      "outputs": []
    },
    {
      "cell_type": "code",
      "metadata": {
        "colab": {
          "base_uri": "https://localhost:8080/"
        },
        "id": "4mbfekDr8-0S",
        "outputId": "f41379c5-30e1-4d68-bb7c-a2f7869e4009"
      },
      "source": [
        "model.fit(X, Y, epochs=100, verbose=2, callbacks=callbacks_list, validation_data=(X_test,Y_test))\n",
        "model.load_weights(file_path)\n",
        "\n"
      ],
      "execution_count": 93,
      "outputs": [
        {
          "output_type": "stream",
          "text": [
            "Epoch 1/100\n",
            "3421/3421 - 27s - loss: 0.6633 - acc: 0.8261 - val_loss: 0.9469 - val_acc: 0.8276\n",
            "\n",
            "Epoch 00001: val_acc improved from -inf to 0.82761, saving model to ecg.h5\n",
            "Epoch 2/100\n",
            "3421/3421 - 25s - loss: 0.5249 - acc: 0.8300 - val_loss: 0.9576 - val_acc: 0.4289\n",
            "\n",
            "Epoch 00002: val_acc did not improve from 0.82761\n",
            "Epoch 3/100\n",
            "3421/3421 - 25s - loss: 0.4818 - acc: 0.8430 - val_loss: 1.1239 - val_acc: 0.4290\n",
            "\n",
            "Epoch 00003: val_acc did not improve from 0.82761\n",
            "Epoch 4/100\n",
            "3421/3421 - 25s - loss: 0.4528 - acc: 0.8642 - val_loss: 1.0638 - val_acc: 0.4515\n",
            "\n",
            "Epoch 00004: val_acc did not improve from 0.82761\n",
            "\n",
            "Epoch 00004: ReduceLROnPlateau reducing learning rate to 9.999999747378752e-06.\n",
            "Epoch 5/100\n",
            "3421/3421 - 25s - loss: 0.4307 - acc: 0.8746 - val_loss: 0.9162 - val_acc: 0.8271\n",
            "\n",
            "Epoch 00005: val_acc did not improve from 0.82761\n",
            "Epoch 6/100\n",
            "3421/3421 - 25s - loss: 0.4263 - acc: 0.8758 - val_loss: 0.9102 - val_acc: 0.8271\n",
            "\n",
            "Epoch 00006: val_acc did not improve from 0.82761\n",
            "Epoch 00006: early stopping\n"
          ],
          "name": "stdout"
        }
      ]
    },
    {
      "cell_type": "code",
      "metadata": {
        "colab": {
          "base_uri": "https://localhost:8080/"
        },
        "id": "Xd8mNo9j9AkD",
        "outputId": "13417729-110e-4cc3-c807-25596d915e43"
      },
      "source": [
        "pred_test = model.predict(X)\n",
        "pred_test = np.argmax(pred_test, axis=-1)\n",
        "\n",
        "f1 = f1_score(Y, pred_test, average=\"macro\")\n",
        "\n",
        "print(\"Test f1 score : %s \"% f1)\n",
        "\n",
        "acc = accuracy_score(Y, pred_test)\n",
        "\n",
        "print(\"Test accuracy score : %s \"% acc)"
      ],
      "execution_count": 25,
      "outputs": [
        {
          "output_type": "stream",
          "text": [
            "Test f1 score : 0.18114919543821278 \n",
            "Test accuracy score : 0.8277291728533248 \n"
          ],
          "name": "stdout"
        }
      ]
    },
    {
      "cell_type": "markdown",
      "metadata": {
        "id": "eZKs14vtr9jz"
      },
      "source": [
        "# Noraml vs Abnormal autoencoders mlp\n"
      ]
    },
    {
      "cell_type": "code",
      "metadata": {
        "id": "xZEkllpAeGBo"
      },
      "source": [
        "# Imports\n",
        "import torch\n",
        "import torchvision\n",
        "import torch.nn as nn\n",
        "import pandas as pd\n",
        "import matplotlib.pyplot as plt\n",
        "import torch.nn.functional as F\n",
        "from torch.utils.data import DataLoader, TensorDataset, random_split"
      ],
      "execution_count": null,
      "outputs": []
    },
    {
      "cell_type": "code",
      "metadata": {
        "id": "yTPqKsXgfWNL"
      },
      "source": [
        "# Hyperparameters\n",
        "batch_size=64\n",
        "\n",
        "\n",
        "# Other constants\n",
        "DATA_FILENAME_nor = \"Features.csv\"\n",
        "DATA_FILENAME_ab  = \"Features_ab.csv\"\n",
        "TARGET_COLUMN = 'class'\n",
        "output_size=1"
      ],
      "execution_count": null,
      "outputs": []
    },
    {
      "cell_type": "code",
      "metadata": {
        "colab": {
          "base_uri": "https://localhost:8080/",
          "height": 226
        },
        "id": "u7xS_tz-fiYW",
        "outputId": "98cf2be9-cf49-4407-9890-e0a79338aaa8"
      },
      "source": [
        "# Read csv abnormal\n",
        "dataframe_ab = pd.read_csv(DATA_FILENAME_ab)\n",
        "dataframe_ab.head()"
      ],
      "execution_count": null,
      "outputs": [
        {
          "output_type": "execute_result",
          "data": {
            "text/html": [
              "<div>\n",
              "<style scoped>\n",
              "    .dataframe tbody tr th:only-of-type {\n",
              "        vertical-align: middle;\n",
              "    }\n",
              "\n",
              "    .dataframe tbody tr th {\n",
              "        vertical-align: top;\n",
              "    }\n",
              "\n",
              "    .dataframe thead th {\n",
              "        text-align: right;\n",
              "    }\n",
              "</style>\n",
              "<table border=\"1\" class=\"dataframe\">\n",
              "  <thead>\n",
              "    <tr style=\"text-align: right;\">\n",
              "      <th></th>\n",
              "      <th>a1_mean</th>\n",
              "      <th>a1_var</th>\n",
              "      <th>a1_std</th>\n",
              "      <th>a2_mean</th>\n",
              "      <th>a2_var</th>\n",
              "      <th>a2_std</th>\n",
              "      <th>a3_mean</th>\n",
              "      <th>a3_var</th>\n",
              "      <th>a3_std</th>\n",
              "      <th>a4_mean</th>\n",
              "      <th>a4_var</th>\n",
              "      <th>a4_std</th>\n",
              "      <th>d3_mean</th>\n",
              "      <th>d3_var</th>\n",
              "      <th>d3_std</th>\n",
              "      <th>d4_mean</th>\n",
              "      <th>d4_var</th>\n",
              "      <th>d4_std</th>\n",
              "      <th>d5_mean</th>\n",
              "      <th>d5_var</th>\n",
              "      <th>d5_std</th>\n",
              "      <th>x_den_mean</th>\n",
              "      <th>x_den_var</th>\n",
              "      <th>x_den_std</th>\n",
              "      <th>RRavg</th>\n",
              "      <th>Class</th>\n",
              "    </tr>\n",
              "  </thead>\n",
              "  <tbody>\n",
              "    <tr>\n",
              "      <th>0</th>\n",
              "      <td>0.671785</td>\n",
              "      <td>0.283216</td>\n",
              "      <td>0.532181</td>\n",
              "      <td>0.946525</td>\n",
              "      <td>0.569203</td>\n",
              "      <td>0.754455</td>\n",
              "      <td>1.331620</td>\n",
              "      <td>1.148890</td>\n",
              "      <td>1.071863</td>\n",
              "      <td>1.851390</td>\n",
              "      <td>2.283045</td>\n",
              "      <td>1.510975</td>\n",
              "      <td>0.070535</td>\n",
              "      <td>0.004975</td>\n",
              "      <td>0.044549</td>\n",
              "      <td>0.168456</td>\n",
              "      <td>0.070517</td>\n",
              "      <td>0.265550</td>\n",
              "      <td>0.639755</td>\n",
              "      <td>0.932176</td>\n",
              "      <td>0.965493</td>\n",
              "      <td>0.240984</td>\n",
              "      <td>0.104556</td>\n",
              "      <td>0.323351</td>\n",
              "      <td>0.622396</td>\n",
              "      <td>0</td>\n",
              "    </tr>\n",
              "    <tr>\n",
              "      <th>1</th>\n",
              "      <td>0.591014</td>\n",
              "      <td>0.287352</td>\n",
              "      <td>0.536052</td>\n",
              "      <td>0.839874</td>\n",
              "      <td>0.576531</td>\n",
              "      <td>0.759296</td>\n",
              "      <td>1.200872</td>\n",
              "      <td>1.157578</td>\n",
              "      <td>1.075908</td>\n",
              "      <td>1.718517</td>\n",
              "      <td>2.226492</td>\n",
              "      <td>1.492143</td>\n",
              "      <td>0.065039</td>\n",
              "      <td>0.004230</td>\n",
              "      <td>0.035147</td>\n",
              "      <td>0.215432</td>\n",
              "      <td>0.120501</td>\n",
              "      <td>0.347132</td>\n",
              "      <td>0.831853</td>\n",
              "      <td>1.531993</td>\n",
              "      <td>1.237737</td>\n",
              "      <td>0.281985</td>\n",
              "      <td>0.148716</td>\n",
              "      <td>0.385637</td>\n",
              "      <td>0.613715</td>\n",
              "      <td>0</td>\n",
              "    </tr>\n",
              "    <tr>\n",
              "      <th>2</th>\n",
              "      <td>0.584377</td>\n",
              "      <td>0.354287</td>\n",
              "      <td>0.595220</td>\n",
              "      <td>0.827524</td>\n",
              "      <td>0.706405</td>\n",
              "      <td>0.840479</td>\n",
              "      <td>1.179446</td>\n",
              "      <td>1.404367</td>\n",
              "      <td>1.185060</td>\n",
              "      <td>1.670605</td>\n",
              "      <td>2.618803</td>\n",
              "      <td>1.618272</td>\n",
              "      <td>0.053585</td>\n",
              "      <td>0.002871</td>\n",
              "      <td>0.030339</td>\n",
              "      <td>0.221322</td>\n",
              "      <td>0.162561</td>\n",
              "      <td>0.403188</td>\n",
              "      <td>0.801195</td>\n",
              "      <td>1.537100</td>\n",
              "      <td>1.239798</td>\n",
              "      <td>0.297270</td>\n",
              "      <td>0.177098</td>\n",
              "      <td>0.420830</td>\n",
              "      <td>0.633333</td>\n",
              "      <td>0</td>\n",
              "    </tr>\n",
              "    <tr>\n",
              "      <th>3</th>\n",
              "      <td>0.490090</td>\n",
              "      <td>0.351750</td>\n",
              "      <td>0.593085</td>\n",
              "      <td>0.692508</td>\n",
              "      <td>0.700777</td>\n",
              "      <td>0.837124</td>\n",
              "      <td>0.987181</td>\n",
              "      <td>1.389320</td>\n",
              "      <td>1.178694</td>\n",
              "      <td>1.401660</td>\n",
              "      <td>2.564609</td>\n",
              "      <td>1.601440</td>\n",
              "      <td>0.065972</td>\n",
              "      <td>0.004352</td>\n",
              "      <td>0.034596</td>\n",
              "      <td>0.217990</td>\n",
              "      <td>0.179694</td>\n",
              "      <td>0.423903</td>\n",
              "      <td>0.867769</td>\n",
              "      <td>1.814878</td>\n",
              "      <td>1.347174</td>\n",
              "      <td>0.282788</td>\n",
              "      <td>0.171519</td>\n",
              "      <td>0.414148</td>\n",
              "      <td>0.631852</td>\n",
              "      <td>0</td>\n",
              "    </tr>\n",
              "    <tr>\n",
              "      <th>4</th>\n",
              "      <td>0.622163</td>\n",
              "      <td>0.374982</td>\n",
              "      <td>0.612358</td>\n",
              "      <td>0.879827</td>\n",
              "      <td>0.745877</td>\n",
              "      <td>0.863642</td>\n",
              "      <td>1.248550</td>\n",
              "      <td>1.476280</td>\n",
              "      <td>1.215022</td>\n",
              "      <td>1.746414</td>\n",
              "      <td>2.692138</td>\n",
              "      <td>1.640774</td>\n",
              "      <td>0.053141</td>\n",
              "      <td>0.002824</td>\n",
              "      <td>0.029312</td>\n",
              "      <td>0.247523</td>\n",
              "      <td>0.205001</td>\n",
              "      <td>0.452770</td>\n",
              "      <td>0.971524</td>\n",
              "      <td>2.174858</td>\n",
              "      <td>1.474740</td>\n",
              "      <td>0.286924</td>\n",
              "      <td>0.187676</td>\n",
              "      <td>0.433216</td>\n",
              "      <td>0.648889</td>\n",
              "      <td>0</td>\n",
              "    </tr>\n",
              "  </tbody>\n",
              "</table>\n",
              "</div>"
            ],
            "text/plain": [
              "    a1_mean    a1_var    a1_std  ...  x_den_std     RRavg  Class\n",
              "0  0.671785  0.283216  0.532181  ...   0.323351  0.622396      0\n",
              "1  0.591014  0.287352  0.536052  ...   0.385637  0.613715      0\n",
              "2  0.584377  0.354287  0.595220  ...   0.420830  0.633333      0\n",
              "3  0.490090  0.351750  0.593085  ...   0.414148  0.631852      0\n",
              "4  0.622163  0.374982  0.612358  ...   0.433216  0.648889      0\n",
              "\n",
              "[5 rows x 26 columns]"
            ]
          },
          "metadata": {
            "tags": []
          },
          "execution_count": 3
        }
      ]
    },
    {
      "cell_type": "code",
      "metadata": {
        "colab": {
          "base_uri": "https://localhost:8080/"
        },
        "id": "KBkLiIt7fsmN",
        "outputId": "d9da6b94-8148-44c1-b577-50fcce0ee49c"
      },
      "source": [
        "dataframe_ab.count"
      ],
      "execution_count": null,
      "outputs": [
        {
          "output_type": "execute_result",
          "data": {
            "text/plain": [
              "<bound method DataFrame.count of        a1_mean    a1_var    a1_std  ...  x_den_std     RRavg  Class\n",
              "0     0.671785  0.283216  0.532181  ...   0.323351  0.622396      0\n",
              "1     0.591014  0.287352  0.536052  ...   0.385637  0.613715      0\n",
              "2     0.584377  0.354287  0.595220  ...   0.420830  0.633333      0\n",
              "3     0.490090  0.351750  0.593085  ...   0.414148  0.631852      0\n",
              "4     0.622163  0.374982  0.612358  ...   0.433216  0.648889      0\n",
              "...        ...       ...       ...  ...        ...       ...    ...\n",
              "3055  0.573564  0.487619  0.698297  ...   0.492588  0.549228      0\n",
              "3056  0.502731  0.411116  0.641183  ...   0.473646  0.588235      0\n",
              "3057  0.725524  0.917416  0.957818  ...   0.596510  0.554938      0\n",
              "3058  0.580742  0.487073  0.697906  ...   0.510368  0.556046      0\n",
              "3059  0.651249  0.603792  0.777041  ...   0.559146  0.557026      0\n",
              "\n",
              "[3060 rows x 26 columns]>"
            ]
          },
          "metadata": {
            "tags": []
          },
          "execution_count": 4
        }
      ]
    },
    {
      "cell_type": "code",
      "metadata": {
        "colab": {
          "base_uri": "https://localhost:8080/",
          "height": 226
        },
        "id": "oMtAt6iXggaT",
        "outputId": "8af1908b-ce8e-47c7-edfb-e1c16d2a334f"
      },
      "source": [
        "# Read csv normal\n",
        "dataframe_nor = pd.read_csv(DATA_FILENAME_nor)\n",
        "dataframe_nor.head()"
      ],
      "execution_count": null,
      "outputs": [
        {
          "output_type": "execute_result",
          "data": {
            "text/html": [
              "<div>\n",
              "<style scoped>\n",
              "    .dataframe tbody tr th:only-of-type {\n",
              "        vertical-align: middle;\n",
              "    }\n",
              "\n",
              "    .dataframe tbody tr th {\n",
              "        vertical-align: top;\n",
              "    }\n",
              "\n",
              "    .dataframe thead th {\n",
              "        text-align: right;\n",
              "    }\n",
              "</style>\n",
              "<table border=\"1\" class=\"dataframe\">\n",
              "  <thead>\n",
              "    <tr style=\"text-align: right;\">\n",
              "      <th></th>\n",
              "      <th>a1_mean</th>\n",
              "      <th>a1_var</th>\n",
              "      <th>a1_std</th>\n",
              "      <th>a2_mean</th>\n",
              "      <th>a2_var</th>\n",
              "      <th>a2_std</th>\n",
              "      <th>a3_mean</th>\n",
              "      <th>a3_var</th>\n",
              "      <th>a3_std</th>\n",
              "      <th>a4_mean</th>\n",
              "      <th>a4_var</th>\n",
              "      <th>a4_std</th>\n",
              "      <th>d3_mean</th>\n",
              "      <th>d3_var</th>\n",
              "      <th>d3_std</th>\n",
              "      <th>d4_mean</th>\n",
              "      <th>d4_var</th>\n",
              "      <th>d4_std</th>\n",
              "      <th>d5_mean</th>\n",
              "      <th>d5_var</th>\n",
              "      <th>d5_std</th>\n",
              "      <th>x_den_mean</th>\n",
              "      <th>x_den_var</th>\n",
              "      <th>x_den_std</th>\n",
              "      <th>RRavg</th>\n",
              "      <th>Class</th>\n",
              "    </tr>\n",
              "  </thead>\n",
              "  <tbody>\n",
              "    <tr>\n",
              "      <th>0</th>\n",
              "      <td>0.496333</td>\n",
              "      <td>0.057942</td>\n",
              "      <td>0.240712</td>\n",
              "      <td>0.696892</td>\n",
              "      <td>0.114536</td>\n",
              "      <td>0.338431</td>\n",
              "      <td>0.960112</td>\n",
              "      <td>0.180190</td>\n",
              "      <td>0.424488</td>\n",
              "      <td>1.280080</td>\n",
              "      <td>0.218380</td>\n",
              "      <td>0.467311</td>\n",
              "      <td>0.221602</td>\n",
              "      <td>0.049107</td>\n",
              "      <td>0.074602</td>\n",
              "      <td>0.169610</td>\n",
              "      <td>0.158507</td>\n",
              "      <td>0.398130</td>\n",
              "      <td>0.309862</td>\n",
              "      <td>0.242039</td>\n",
              "      <td>0.491975</td>\n",
              "      <td>0.080248</td>\n",
              "      <td>0.028684</td>\n",
              "      <td>0.169363</td>\n",
              "      <td>0.760897</td>\n",
              "      <td>1</td>\n",
              "    </tr>\n",
              "    <tr>\n",
              "      <th>1</th>\n",
              "      <td>0.493481</td>\n",
              "      <td>0.055499</td>\n",
              "      <td>0.235583</td>\n",
              "      <td>0.695676</td>\n",
              "      <td>0.109515</td>\n",
              "      <td>0.330930</td>\n",
              "      <td>0.972751</td>\n",
              "      <td>0.181975</td>\n",
              "      <td>0.426585</td>\n",
              "      <td>1.314298</td>\n",
              "      <td>0.199775</td>\n",
              "      <td>0.446962</td>\n",
              "      <td>0.188191</td>\n",
              "      <td>0.035416</td>\n",
              "      <td>0.061902</td>\n",
              "      <td>0.161193</td>\n",
              "      <td>0.158655</td>\n",
              "      <td>0.398316</td>\n",
              "      <td>0.302264</td>\n",
              "      <td>0.241258</td>\n",
              "      <td>0.491180</td>\n",
              "      <td>0.076618</td>\n",
              "      <td>0.027764</td>\n",
              "      <td>0.166625</td>\n",
              "      <td>0.811806</td>\n",
              "      <td>1</td>\n",
              "    </tr>\n",
              "    <tr>\n",
              "      <th>2</th>\n",
              "      <td>0.562665</td>\n",
              "      <td>0.064114</td>\n",
              "      <td>0.253208</td>\n",
              "      <td>0.794510</td>\n",
              "      <td>0.125810</td>\n",
              "      <td>0.354697</td>\n",
              "      <td>1.112134</td>\n",
              "      <td>0.219981</td>\n",
              "      <td>0.469021</td>\n",
              "      <td>1.497673</td>\n",
              "      <td>0.236369</td>\n",
              "      <td>0.486178</td>\n",
              "      <td>0.170943</td>\n",
              "      <td>0.029221</td>\n",
              "      <td>0.054653</td>\n",
              "      <td>0.178159</td>\n",
              "      <td>0.194435</td>\n",
              "      <td>0.440948</td>\n",
              "      <td>0.285753</td>\n",
              "      <td>0.225232</td>\n",
              "      <td>0.474586</td>\n",
              "      <td>0.081857</td>\n",
              "      <td>0.030558</td>\n",
              "      <td>0.174809</td>\n",
              "      <td>0.785185</td>\n",
              "      <td>1</td>\n",
              "    </tr>\n",
              "    <tr>\n",
              "      <th>3</th>\n",
              "      <td>0.561485</td>\n",
              "      <td>0.059060</td>\n",
              "      <td>0.243023</td>\n",
              "      <td>0.792288</td>\n",
              "      <td>0.115850</td>\n",
              "      <td>0.340367</td>\n",
              "      <td>1.099435</td>\n",
              "      <td>0.187675</td>\n",
              "      <td>0.433215</td>\n",
              "      <td>1.491555</td>\n",
              "      <td>0.215669</td>\n",
              "      <td>0.464402</td>\n",
              "      <td>0.204348</td>\n",
              "      <td>0.041758</td>\n",
              "      <td>0.065688</td>\n",
              "      <td>0.159914</td>\n",
              "      <td>0.151463</td>\n",
              "      <td>0.389183</td>\n",
              "      <td>0.266122</td>\n",
              "      <td>0.235398</td>\n",
              "      <td>0.485178</td>\n",
              "      <td>0.079103</td>\n",
              "      <td>0.028842</td>\n",
              "      <td>0.169829</td>\n",
              "      <td>0.771296</td>\n",
              "      <td>1</td>\n",
              "    </tr>\n",
              "    <tr>\n",
              "      <th>4</th>\n",
              "      <td>0.533408</td>\n",
              "      <td>0.063254</td>\n",
              "      <td>0.251503</td>\n",
              "      <td>0.750847</td>\n",
              "      <td>0.125129</td>\n",
              "      <td>0.353736</td>\n",
              "      <td>1.049855</td>\n",
              "      <td>0.209778</td>\n",
              "      <td>0.458015</td>\n",
              "      <td>1.409372</td>\n",
              "      <td>0.230862</td>\n",
              "      <td>0.480482</td>\n",
              "      <td>0.195499</td>\n",
              "      <td>0.038220</td>\n",
              "      <td>0.063987</td>\n",
              "      <td>0.178575</td>\n",
              "      <td>0.184014</td>\n",
              "      <td>0.428969</td>\n",
              "      <td>0.314236</td>\n",
              "      <td>0.242943</td>\n",
              "      <td>0.492892</td>\n",
              "      <td>0.082970</td>\n",
              "      <td>0.031648</td>\n",
              "      <td>0.177900</td>\n",
              "      <td>0.758120</td>\n",
              "      <td>1</td>\n",
              "    </tr>\n",
              "  </tbody>\n",
              "</table>\n",
              "</div>"
            ],
            "text/plain": [
              "    a1_mean    a1_var    a1_std  ...  x_den_std     RRavg  Class\n",
              "0  0.496333  0.057942  0.240712  ...   0.169363  0.760897      1\n",
              "1  0.493481  0.055499  0.235583  ...   0.166625  0.811806      1\n",
              "2  0.562665  0.064114  0.253208  ...   0.174809  0.785185      1\n",
              "3  0.561485  0.059060  0.243023  ...   0.169829  0.771296      1\n",
              "4  0.533408  0.063254  0.251503  ...   0.177900  0.758120      1\n",
              "\n",
              "[5 rows x 26 columns]"
            ]
          },
          "metadata": {
            "tags": []
          },
          "execution_count": 5
        }
      ]
    },
    {
      "cell_type": "code",
      "metadata": {
        "colab": {
          "base_uri": "https://localhost:8080/"
        },
        "id": "S6ttfiB_gr-v",
        "outputId": "de47a8f5-455d-409f-abfd-cf564429f978"
      },
      "source": [
        "dataframe_nor.count"
      ],
      "execution_count": null,
      "outputs": [
        {
          "output_type": "execute_result",
          "data": {
            "text/plain": [
              "<bound method DataFrame.count of        a1_mean    a1_var    a1_std  ...  x_den_std     RRavg  Class\n",
              "0     0.496333  0.057942  0.240712  ...   0.169363  0.760897      1\n",
              "1     0.493481  0.055499  0.235583  ...   0.166625  0.811806      1\n",
              "2     0.562665  0.064114  0.253208  ...   0.174809  0.785185      1\n",
              "3     0.561485  0.059060  0.243023  ...   0.169829  0.771296      1\n",
              "4     0.533408  0.063254  0.251503  ...   0.177900  0.758120      1\n",
              "...        ...       ...       ...  ...        ...       ...    ...\n",
              "3595  0.500215  0.377247  0.614204  ...   0.376848  0.609896      1\n",
              "3596  0.406149  0.239154  0.489034  ...   0.306734  0.650370      1\n",
              "3597  0.426845  0.176651  0.420299  ...   0.298270  0.664074      1\n",
              "3598  0.422790  0.172482  0.415310  ...   0.288301  0.674206      1\n",
              "3599  0.493952  0.197787  0.444733  ...   0.310831  0.634815      1\n",
              "\n",
              "[3600 rows x 26 columns]>"
            ]
          },
          "metadata": {
            "tags": []
          },
          "execution_count": 6
        }
      ]
    },
    {
      "cell_type": "code",
      "metadata": {
        "colab": {
          "base_uri": "https://localhost:8080/"
        },
        "id": "B1Obqrc6hVrT",
        "outputId": "6a5afd2c-4486-499a-9fd1-854ae27e4595"
      },
      "source": [
        "extra_normal_data = dataframe_nor[3060:].copy()\n",
        "dataframe_nor = dataframe_nor[:3060].copy()\n",
        "\n",
        "dataframe_nor.count"
      ],
      "execution_count": null,
      "outputs": [
        {
          "output_type": "execute_result",
          "data": {
            "text/plain": [
              "<bound method DataFrame.count of        a1_mean    a1_var    a1_std  ...  x_den_std     RRavg  Class\n",
              "0     0.496333  0.057942  0.240712  ...   0.169363  0.760897      1\n",
              "1     0.493481  0.055499  0.235583  ...   0.166625  0.811806      1\n",
              "2     0.562665  0.064114  0.253208  ...   0.174809  0.785185      1\n",
              "3     0.561485  0.059060  0.243023  ...   0.169829  0.771296      1\n",
              "4     0.533408  0.063254  0.251503  ...   0.177900  0.758120      1\n",
              "...        ...       ...       ...  ...        ...       ...    ...\n",
              "3055  0.366744  0.133120  0.364857  ...   0.257097  0.533951      1\n",
              "3056  0.348040  0.178243  0.422188  ...   0.296951  0.521930      1\n",
              "3057  0.378956  0.214903  0.463576  ...   0.325640  0.527623      1\n",
              "3058  0.371449  0.208434  0.456546  ...   0.324079  0.524415      1\n",
              "3059  0.411134  0.140770  0.375194  ...   0.256932  0.564706      1\n",
              "\n",
              "[3060 rows x 26 columns]>"
            ]
          },
          "metadata": {
            "tags": []
          },
          "execution_count": 7
        }
      ]
    },
    {
      "cell_type": "code",
      "metadata": {
        "id": "NM4Kp-VWfynJ"
      },
      "source": [
        "\n",
        "input_size= len(dataframe_ab.columns) - 1\n"
      ],
      "execution_count": null,
      "outputs": []
    },
    {
      "cell_type": "code",
      "metadata": {
        "colab": {
          "base_uri": "https://localhost:8080/"
        },
        "id": "RxX2CvpiiLRw",
        "outputId": "b432c8d9-2c79-41ff-e8a2-21598bd2fb5f"
      },
      "source": [
        "# Combining dataframe \n",
        "frame = [dataframe_nor , dataframe_ab]\n",
        "dataframe_combined = pd.concat(frame)\n",
        "dataframe_combined.count"
      ],
      "execution_count": null,
      "outputs": [
        {
          "output_type": "execute_result",
          "data": {
            "text/plain": [
              "<bound method DataFrame.count of        a1_mean    a1_var    a1_std  ...  x_den_std     RRavg  Class\n",
              "0     0.496333  0.057942  0.240712  ...   0.169363  0.760897      1\n",
              "1     0.493481  0.055499  0.235583  ...   0.166625  0.811806      1\n",
              "2     0.562665  0.064114  0.253208  ...   0.174809  0.785185      1\n",
              "3     0.561485  0.059060  0.243023  ...   0.169829  0.771296      1\n",
              "4     0.533408  0.063254  0.251503  ...   0.177900  0.758120      1\n",
              "...        ...       ...       ...  ...        ...       ...    ...\n",
              "3055  0.573564  0.487619  0.698297  ...   0.492588  0.549228      0\n",
              "3056  0.502731  0.411116  0.641183  ...   0.473646  0.588235      0\n",
              "3057  0.725524  0.917416  0.957818  ...   0.596510  0.554938      0\n",
              "3058  0.580742  0.487073  0.697906  ...   0.510368  0.556046      0\n",
              "3059  0.651249  0.603792  0.777041  ...   0.559146  0.557026      0\n",
              "\n",
              "[6120 rows x 26 columns]>"
            ]
          },
          "metadata": {
            "tags": []
          },
          "execution_count": 9
        }
      ]
    },
    {
      "cell_type": "code",
      "metadata": {
        "colab": {
          "base_uri": "https://localhost:8080/"
        },
        "id": "YqNN0kbXjG07",
        "outputId": "83a2e053-ba8d-4814-ae88-4506c3d75e33"
      },
      "source": [
        "# shuffle all the rows\n",
        "dataframe_combined = dataframe_combined.sample(frac=1).reset_index(drop=True)\n",
        "dataframe_combined.count"
      ],
      "execution_count": null,
      "outputs": [
        {
          "output_type": "execute_result",
          "data": {
            "text/plain": [
              "<bound method DataFrame.count of        a1_mean    a1_var    a1_std  ...  x_den_std     RRavg  Class\n",
              "0     0.266673  0.092384  0.303947  ...   0.215271  1.045679      1\n",
              "1     0.537247  0.656846  0.810460  ...   0.558964  0.559477      0\n",
              "2     1.418520  0.810018  0.900010  ...   0.636898  0.896465      0\n",
              "3     0.461480  0.049860  0.223293  ...   0.155661  0.680357      1\n",
              "4     0.477655  0.367650  0.606342  ...   0.451220  0.625000      0\n",
              "...        ...       ...       ...  ...        ...       ...    ...\n",
              "6115  0.476723  0.216170  0.464940  ...   0.367049  0.796065      1\n",
              "6116  1.270865  0.391017  0.625313  ...   0.444227  0.830093      0\n",
              "6117  0.309902  0.091421  0.302359  ...   0.190584  0.623611      0\n",
              "6118  1.336951  0.311333  0.557972  ...   0.391919  1.082099      0\n",
              "6119  0.495089  0.068347  0.261432  ...   0.182134  0.790741      1\n",
              "\n",
              "[6120 rows x 26 columns]>"
            ]
          },
          "metadata": {
            "tags": []
          },
          "execution_count": 10
        }
      ]
    },
    {
      "cell_type": "code",
      "metadata": {
        "colab": {
          "base_uri": "https://localhost:8080/"
        },
        "id": "jbE1lYUcifgg",
        "outputId": "385ece87-a6c8-45e7-ffd3-81584a7ceca2"
      },
      "source": [
        "inputs = dataframe_combined.drop('Class', axis=1).values\n",
        "targets = dataframe_combined[['Class']].values\n",
        "\n",
        "inputs.shape , targets.shape"
      ],
      "execution_count": null,
      "outputs": [
        {
          "output_type": "execute_result",
          "data": {
            "text/plain": [
              "((6120, 25), (6120, 1))"
            ]
          },
          "metadata": {
            "tags": []
          },
          "execution_count": 11
        }
      ]
    },
    {
      "cell_type": "code",
      "metadata": {
        "id": "jrCHo1sAjnZ9"
      },
      "source": [
        "# Convert to Pytorch dataset\n",
        "torch.manual_seed(64)\n",
        "\n",
        "train_size = int(inputs.shape[0] * 0.8)\n",
        "val_size = inputs.shape[0] - train_size\n",
        "\n",
        "dataset = TensorDataset(torch.tensor(inputs , dtype=torch.float32), torch.tensor(targets, dtype=torch.float32))\n",
        "train_ds , val_ds = random_split(dataset, [train_size, val_size])\n",
        "\n",
        "train_loader = DataLoader(train_ds, batch_size=batch_size, shuffle=True)\n",
        "val_loader = DataLoader(val_ds, batch_size=batch_size*2)"
      ],
      "execution_count": null,
      "outputs": []
    },
    {
      "cell_type": "markdown",
      "metadata": {
        "id": "1MciwboXmPHH"
      },
      "source": [
        "# Logistic regression Model"
      ]
    },
    {
      "cell_type": "code",
      "metadata": {
        "id": "imlcjxKbmNVR"
      },
      "source": [
        "class EcgModel(nn.Module):\n",
        "    def __init__(self):\n",
        "        super().__init__()\n",
        "        self.network = nn.Sequential( nn.Linear(input_size, 512),\n",
        "                                      nn.BatchNorm1d(512),\n",
        "                                      nn.ReLU(inplace=True),\n",
        "                                     \n",
        "                                      nn.Linear(512, 128),\n",
        "                                      nn.BatchNorm1d(128),\n",
        "                                      nn.ReLU(inplace=True),\n",
        "                                     \n",
        "                                      nn.Linear(128, 512),\n",
        "                                      nn.BatchNorm1d(512),\n",
        "                                      nn.ReLU(inplace=True),\n",
        "                                     \n",
        "                                      nn.Linear(512, 1))\n",
        "        \n",
        "    def forward(self, xb):\n",
        "        out = self.network(xb)\n",
        "        return torch.sigmoid(out)\n",
        "    \n",
        "    def training_step(self, batch):\n",
        "        inputs, targets = batch \n",
        "        out = self(inputs)                 # Generate predictions\n",
        "        loss = F.binary_cross_entropy(out, targets)    # Calculate loss\n",
        "        return loss\n",
        "    \n",
        "    def validation_step(self, batch):\n",
        "        inputs, targets = batch \n",
        "        out = self(inputs)                 # Generate predictions\n",
        "        # print(out.shape , targets.shape)\n",
        "        # print(out , targets)\n",
        "        loss = F.binary_cross_entropy(out, targets)    # Calculate loss\n",
        "        acc = accuracy(out , targets)                  # Calculating accuracy\n",
        "        return {'val_loss': loss.detach(), 'val_acc' : acc.detach()}\n",
        "        \n",
        "    def validation_epoch_end(self, outputs):\n",
        "        batch_losses = [x['val_loss'] for x in outputs]\n",
        "        epoch_loss = torch.stack(batch_losses).mean()   # Combine losses\n",
        "        batch_accs = [x['val_acc'] for x in outputs]\n",
        "        epoch_acc  = torch.stack(batch_accs).mean()     # Combine accuracy\n",
        "        return {'val_loss': epoch_loss.item(), 'val_acc': epoch_acc.item()}\n",
        "    \n",
        "    def epoch_end(self, epoch, result):\n",
        "        print(\"Epoch [{}], val_loss: {:.4f}, val_acc: {:.4f}\".format(epoch, result['val_loss'], result['val_acc']))\n",
        "    \n",
        "model = EcgModel()"
      ],
      "execution_count": null,
      "outputs": []
    },
    {
      "cell_type": "code",
      "metadata": {
        "id": "ZQm9Iu0GmuBp"
      },
      "source": [
        "def accuracy(outputs, targets):\n",
        "  pred = torch.round(outputs)\n",
        "  return torch.tensor(torch.sum(pred == targets).item() / len(pred))\n",
        "\n",
        "def evaluate(model, val_loader):\n",
        "    outputs = [model.validation_step(batch) for batch in val_loader]\n",
        "    return model.validation_epoch_end(outputs)\n",
        "\n",
        "def fit(epochs, lr, model, train_loader, val_loader, opt_func=torch.optim.SGD):\n",
        "    history = []\n",
        "    optimizer = opt_func(model.parameters(), lr)\n",
        "    for epoch in range(epochs):\n",
        "        # Training Phase \n",
        "        for batch in train_loader:\n",
        "            loss = model.training_step(batch)\n",
        "            loss.backward()\n",
        "            optimizer.step()\n",
        "            optimizer.zero_grad()\n",
        "        # Validation phase\n",
        "        result = evaluate(model, val_loader)\n",
        "        model.epoch_end(epoch, result)\n",
        "        history.append(result)\n",
        "    return history"
      ],
      "execution_count": null,
      "outputs": []
    },
    {
      "cell_type": "code",
      "metadata": {
        "colab": {
          "base_uri": "https://localhost:8080/"
        },
        "id": "6h3pjESQmzVi",
        "outputId": "192a7f97-b055-40fe-8b3d-2e9d8c937ed6"
      },
      "source": [
        " # Evaluate before training \n",
        "result = evaluate(model, val_loader)\n",
        "result"
      ],
      "execution_count": null,
      "outputs": [
        {
          "output_type": "execute_result",
          "data": {
            "text/plain": [
              "{'val_acc': 0.542100727558136, 'val_loss': 0.7107473611831665}"
            ]
          },
          "metadata": {
            "tags": []
          },
          "execution_count": 31
        }
      ]
    },
    {
      "cell_type": "code",
      "metadata": {
        "colab": {
          "base_uri": "https://localhost:8080/"
        },
        "id": "l_vPxd94m3N_",
        "outputId": "7460bc5f-e1d8-450e-9b30-572113f77745"
      },
      "source": [
        "learning_rate=1e-2\n",
        "\n",
        "history = fit(25, learning_rate, model, train_loader, val_loader , opt_func=torch.optim.Adam)"
      ],
      "execution_count": null,
      "outputs": [
        {
          "output_type": "stream",
          "text": [
            "Epoch [0], val_loss: 0.3317, val_acc: 0.8602\n",
            "Epoch [1], val_loss: 0.2181, val_acc: 0.9164\n",
            "Epoch [2], val_loss: 0.1993, val_acc: 0.9182\n",
            "Epoch [3], val_loss: 0.1768, val_acc: 0.9304\n",
            "Epoch [4], val_loss: 0.1585, val_acc: 0.9321\n",
            "Epoch [5], val_loss: 0.1507, val_acc: 0.9470\n",
            "Epoch [6], val_loss: 0.1290, val_acc: 0.9527\n",
            "Epoch [7], val_loss: 0.1204, val_acc: 0.9550\n",
            "Epoch [8], val_loss: 0.1106, val_acc: 0.9591\n",
            "Epoch [9], val_loss: 0.1086, val_acc: 0.9583\n",
            "Epoch [10], val_loss: 0.0868, val_acc: 0.9652\n",
            "Epoch [11], val_loss: 0.0994, val_acc: 0.9585\n",
            "Epoch [12], val_loss: 0.1072, val_acc: 0.9607\n",
            "Epoch [13], val_loss: 0.0838, val_acc: 0.9681\n",
            "Epoch [14], val_loss: 0.0709, val_acc: 0.9767\n",
            "Epoch [15], val_loss: 0.0885, val_acc: 0.9714\n",
            "Epoch [16], val_loss: 0.0789, val_acc: 0.9679\n",
            "Epoch [17], val_loss: 0.0842, val_acc: 0.9713\n",
            "Epoch [18], val_loss: 0.0727, val_acc: 0.9713\n",
            "Epoch [19], val_loss: 0.0858, val_acc: 0.9697\n",
            "Epoch [20], val_loss: 0.0682, val_acc: 0.9730\n",
            "Epoch [21], val_loss: 0.0934, val_acc: 0.9694\n",
            "Epoch [22], val_loss: 0.0979, val_acc: 0.9674\n",
            "Epoch [23], val_loss: 0.1064, val_acc: 0.9618\n",
            "Epoch [24], val_loss: 0.0823, val_acc: 0.9703\n"
          ],
          "name": "stdout"
        }
      ]
    },
    {
      "cell_type": "code",
      "metadata": {
        "id": "iZo5so0Pnt5Y",
        "colab": {
          "base_uri": "https://localhost:8080/"
        },
        "outputId": "5049f79b-25d1-405a-b5aa-cb9c306cb93c"
      },
      "source": [
        "learning_rate=1e-3\n",
        "\n",
        "history += fit(30, learning_rate, model, train_loader, val_loader , opt_func=torch.optim.Adam)"
      ],
      "execution_count": null,
      "outputs": [
        {
          "output_type": "stream",
          "text": [
            "Epoch [0], val_loss: 0.0545, val_acc: 0.9783\n",
            "Epoch [1], val_loss: 0.0494, val_acc: 0.9828\n",
            "Epoch [2], val_loss: 0.0440, val_acc: 0.9838\n",
            "Epoch [3], val_loss: 0.0453, val_acc: 0.9838\n",
            "Epoch [4], val_loss: 0.0486, val_acc: 0.9785\n",
            "Epoch [5], val_loss: 0.0437, val_acc: 0.9806\n",
            "Epoch [6], val_loss: 0.0459, val_acc: 0.9820\n",
            "Epoch [7], val_loss: 0.0436, val_acc: 0.9838\n",
            "Epoch [8], val_loss: 0.0453, val_acc: 0.9838\n",
            "Epoch [9], val_loss: 0.0420, val_acc: 0.9822\n",
            "Epoch [10], val_loss: 0.0421, val_acc: 0.9845\n",
            "Epoch [11], val_loss: 0.0457, val_acc: 0.9822\n",
            "Epoch [12], val_loss: 0.0393, val_acc: 0.9852\n",
            "Epoch [13], val_loss: 0.0396, val_acc: 0.9844\n",
            "Epoch [14], val_loss: 0.0344, val_acc: 0.9891\n",
            "Epoch [15], val_loss: 0.0362, val_acc: 0.9859\n",
            "Epoch [16], val_loss: 0.0415, val_acc: 0.9852\n",
            "Epoch [17], val_loss: 0.0376, val_acc: 0.9883\n",
            "Epoch [18], val_loss: 0.0377, val_acc: 0.9867\n",
            "Epoch [19], val_loss: 0.0366, val_acc: 0.9853\n",
            "Epoch [20], val_loss: 0.0341, val_acc: 0.9867\n",
            "Epoch [21], val_loss: 0.0342, val_acc: 0.9852\n",
            "Epoch [22], val_loss: 0.0372, val_acc: 0.9883\n",
            "Epoch [23], val_loss: 0.0421, val_acc: 0.9875\n",
            "Epoch [24], val_loss: 0.0360, val_acc: 0.9844\n",
            "Epoch [25], val_loss: 0.0346, val_acc: 0.9861\n",
            "Epoch [26], val_loss: 0.0391, val_acc: 0.9859\n",
            "Epoch [27], val_loss: 0.0376, val_acc: 0.9861\n",
            "Epoch [28], val_loss: 0.0368, val_acc: 0.9845\n",
            "Epoch [29], val_loss: 0.0378, val_acc: 0.9867\n"
          ],
          "name": "stdout"
        }
      ]
    },
    {
      "cell_type": "code",
      "metadata": {
        "colab": {
          "base_uri": "https://localhost:8080/"
        },
        "id": "rS_DyeglUqNM",
        "outputId": "eeaa6106-b41b-413f-c681-d31f34c43865"
      },
      "source": [
        "learning_rate=1e-4\n",
        "\n",
        "history += fit(4, learning_rate, model, train_loader, val_loader , opt_func=torch.optim.Adam)"
      ],
      "execution_count": null,
      "outputs": [
        {
          "output_type": "stream",
          "text": [
            "Epoch [0], val_loss: 0.0356, val_acc: 0.9883\n",
            "Epoch [1], val_loss: 0.0342, val_acc: 0.9875\n",
            "Epoch [2], val_loss: 0.0332, val_acc: 0.9867\n",
            "Epoch [3], val_loss: 0.0335, val_acc: 0.9875\n"
          ],
          "name": "stdout"
        }
      ]
    },
    {
      "cell_type": "code",
      "metadata": {
        "colab": {
          "base_uri": "https://localhost:8080/"
        },
        "id": "qKhqC2NDU_dG",
        "outputId": "4c55b17e-a078-45be-8748-9fda7c180478"
      },
      "source": [
        "learning_rate=8e-5\n",
        "\n",
        "history += fit(10, learning_rate, model, train_loader, val_loader , opt_func=torch.optim.Adam)"
      ],
      "execution_count": null,
      "outputs": [
        {
          "output_type": "stream",
          "text": [
            "Epoch [0], val_loss: 0.0329, val_acc: 0.9867\n",
            "Epoch [1], val_loss: 0.0323, val_acc: 0.9875\n",
            "Epoch [2], val_loss: 0.0324, val_acc: 0.9867\n",
            "Epoch [3], val_loss: 0.0325, val_acc: 0.9867\n",
            "Epoch [4], val_loss: 0.0321, val_acc: 0.9867\n",
            "Epoch [5], val_loss: 0.0326, val_acc: 0.9875\n",
            "Epoch [6], val_loss: 0.0326, val_acc: 0.9875\n",
            "Epoch [7], val_loss: 0.0320, val_acc: 0.9891\n",
            "Epoch [8], val_loss: 0.0319, val_acc: 0.9891\n",
            "Epoch [9], val_loss: 0.0318, val_acc: 0.9898\n"
          ],
          "name": "stdout"
        }
      ]
    },
    {
      "cell_type": "code",
      "metadata": {
        "colab": {
          "base_uri": "https://localhost:8080/",
          "height": 281
        },
        "id": "Yl6MQK9KVNDH",
        "outputId": "86bdd757-bfc3-4f16-808c-064a179367f9"
      },
      "source": [
        "acc = [x['val_acc'] for x in history]\n",
        "loss = [x['val_loss'] for x in history]\n",
        "plt.plot(acc)\n",
        "plt.title(\"Accuracy vs Epoch\")\n",
        "plt.show()"
      ],
      "execution_count": null,
      "outputs": [
        {
          "output_type": "display_data",
          "data": {
            "image/png": "[encoded data removed]",
            "text/plain": [
              "<Figure size 432x288 with 1 Axes>"
            ]
          },
          "metadata": {
            "tags": [],
            "needs_background": "light"
          }
        }
      ]
    },
    {
      "cell_type": "code",
      "metadata": {
        "colab": {
          "base_uri": "https://localhost:8080/",
          "height": 281
        },
        "id": "91tUMSI4WTOQ",
        "outputId": "c17c8823-04f4-4819-ac44-d95619685e1e"
      },
      "source": [
        "plt.plot(loss)\n",
        "plt.title(\"loss vs Epoch\")\n",
        "plt.show()"
      ],
      "execution_count": null,
      "outputs": [
        {
          "output_type": "display_data",
          "data": {
            "image/png": "[encoded data removed]",
            "text/plain": [
              "<Figure size 432x288 with 1 Axes>"
            ]
          },
          "metadata": {
            "tags": [],
            "needs_background": "light"
          }
        }
      ]
    },
    {
      "cell_type": "code",
      "metadata": {
        "colab": {
          "base_uri": "https://localhost:8080/"
        },
        "id": "UbW63-ZzYI0W",
        "outputId": "b45f74b3-8856-4941-8ba3-d802796c1e1a"
      },
      "source": [
        " # Evaluate after training on validation data\n",
        "result = evaluate(model, val_loader)\n",
        "result"
      ],
      "execution_count": null,
      "outputs": [
        {
          "output_type": "execute_result",
          "data": {
            "text/plain": [
              "{'val_acc': 0.9898437261581421, 'val_loss': 0.031839050352573395}"
            ]
          },
          "metadata": {
            "tags": []
          },
          "execution_count": 47
        }
      ]
    },
    {
      "cell_type": "code",
      "metadata": {
        "colab": {
          "base_uri": "https://localhost:8080/"
        },
        "id": "m_nZlSDpYrWk",
        "outputId": "3347c2d0-a1da-4319-aee8-c12d76109c02"
      },
      "source": [
        "# Evaluate after training on training data\n",
        "result = evaluate(model, train_loader)\n",
        "result"
      ],
      "execution_count": null,
      "outputs": [
        {
          "output_type": "execute_result",
          "data": {
            "text/plain": [
              "{'val_acc': 0.9951298832893372, 'val_loss': 0.015356208197772503}"
            ]
          },
          "metadata": {
            "tags": []
          },
          "execution_count": 48
        }
      ]
    },
    {
      "cell_type": "code",
      "metadata": {
        "id": "aZzDaduLYxXx"
      },
      "source": [
        "\n",
        "import tensorflow as tf\n",
        "\n",
        "import numpy as np\n",
        "from tensorflow.keras.callbacks import Callback\n",
        "import keras.backend as K\n",
        "import tensorflow as tf\n",
        "import gc\n",
        "import time\n",
        "import os\n",
        "import matplotlib\n",
        "import datetime\n",
        "import h5py\n",
        "from sklearn.model_selection import train_test_split\n",
        "from sklearn.metrics import balanced_accuracy_score,classification_report,plot_confusion_matrix\n",
        "from sklearn.model_selection import KFold # kfold cross validation\n",
        "from sklearn.model_selection import StratifiedKFold, train_test_split\n",
        "import matplotlib.pyplot as plt\n",
        "import matplotlib\n",
        "from glob import glob\n",
        "import datetime\n",
        "import gc\n",
        "import sklearn\n",
        "import sklearn.preprocessing as preprocessing\n",
        "\n",
        "import tensorflow.keras as keras \n",
        "\n",
        "tf.compat.v1.enable_eager_execution()\n",
        "K.clear_session()\n",
        "tf.compat.v1.reset_default_graph()\n",
        "\n",
        "def main(training: str, validation: str, splits: int = 10):\n",
        "    g = h5py.File(validation, 'r')\n",
        "    f = h5py.File(training, 'r')\n",
        "\n",
        "    enc = preprocessing.OneHotEncoder()\n",
        "\n",
        "    x_tmp = np.array(g[\"REALS\"])\n",
        "    y_tmp = np.array(g[\"REALS_ann\"])\n",
        "\n",
        "    val_dataset_x, val_dataset_y = x_tmp, enc.fit_transform(y_tmp.reshape(-1,1)).toarray()\n",
        "\n",
        "    x = g['REALS']\n",
        "    y = g['REALS_ann']\n",
        "\n",
        "    X, Y = f[\"X\"], f[\"Y\"]\n",
        "\n",
        "    # split into k folds\n",
        "    kfold = StratifiedKFold(n_splits=splits, shuffle=True)\n",
        "\n",
        "    # TRAIN\n",
        "    counter = 0\n",
        "    hists = []\n",
        "    for train_index, test_index in kfold.split(X, Y):\n",
        "        # model\n",
        "        model, callbacks = resnet(f\"raw_training_{counter}.log\", classes=8, init_lr=0.1, tensorboard_dir=\"logs/\")\n",
        "        # split\n",
        "        X_train, X_test = X[train_index], X[test_index]\n",
        "        y_train, y_test = Y[train_index], Y[test_index]\n",
        "\n",
        "        y_train = enc.transform(y_train).toarray()\n",
        "        y_test = enc.transform(y_test).toarray()\n",
        "        # fit\n",
        "        hist = model.fit(x=X_train, y=y_train, validation_data=(X_test, y_test), callbacks=callbacks,shuffle=True, batch_size=256, epochs=150)\n",
        "\n",
        "        counter += 1\n",
        "        hists.append(hist)\n",
        "\n",
        "    ## TEST DATA\n",
        "    model = resnet(f\"raw_training_final.log\", classes=8, init_lr=0.1, tensorboard_dir=\"logs/\")\n",
        "    preds = model.predict(val_dataset_x)\n",
        "\n",
        "    model.save(\"final_fold_model.hdf5\")\n",
        "\n",
        "\n",
        "    # WITHOUT KFOLD\n",
        "    \"\"\"y = enc.transform(np.array(y)).toarray()\n",
        "    x_train,x_test,y_train,y_test = sklearn.model_selection.train_test_split(np.array(x),np.array(y),test_size=0.2)\n",
        "    # save the split\n",
        "    np.save(\"raw_x_train.npy\", x_train)\n",
        "    np.save(\"raw_y_train.npy\", y_train)\n",
        "    np.save(\"raw_x_test.npy\", x_test)\n",
        "    np.save(\"raw_y_test.npy\", y_test)\n",
        "    model, callbacks = resnet(f\"raw_training.log\", classes=9, init_lr=0.1, tensorboard_dir=\"logs/\")\n",
        "    y_test = enc.transform(y_test).toarray()\n",
        "    y_train = enc.transform(y_train).toarray()\n",
        "    hist = model.fit(x=x_train, y=y_train, validation_data=(x_test, y_test), callbacks=callbacks,shuffle=True, batch_size=256, epochs=150)\"\"\"\n",
        "\n",
        "    \n",
        "\n",
        "def combine(d: h5py.File, enc: preprocessing.OneHotEncoder = None) -> (np.ndarray, np.ndarray):\n",
        "\n",
        "    if enc is not None:\n",
        "        out_X, out_Y = [], []\n",
        "        dfs = list(d.keys())\n",
        "        for df in dfs:\n",
        "            if '_ann' not in df:\n",
        "                anns = d[df+\"_ann\"]\n",
        "                for n,xx in enumerate(d[df]):\n",
        "                    out_X.append(xx)\n",
        "                    out_Y.append(enc.transform(anns[n].reshape((-1,1))).toarray())\n",
        "    else:\n",
        "        out_X, out_Y = [], []\n",
        "        dfs = list(d.keys())\n",
        "        for df in dfs:\n",
        "            if '_ann' not in df:\n",
        "                anns = d[df+\"_ann\"]\n",
        "                for n,xx in enumerate(d[df]):\n",
        "                    out_X.append(xx)\n",
        "                    out_Y.append(anns[n])\n",
        "    return (np.array(out_X), np.array(out_Y))\n",
        "\n",
        "\n",
        "def resnet(training_log_path: str, classes: int, init_lr: float, tensorboard_dir: str, n_feature_maps: int=64):\n",
        "    \n",
        "    class_names = [\"Normal\",\"RBBB\",\"PVC\", \"FUSION\", \"APC\", \"SVPB\", \"NESC\",\"UNKNOWN\", \"SVESC\"]\n",
        "    def single_class_accuracy(interesting_class_id):\n",
        "        # compute the accuracy of a single class\n",
        "        def fn(y_true, y_pred):\n",
        "            class_id_true = K.argmax(y_true, axis=-1)\n",
        "            class_id_preds = K.argmax(y_pred, axis=-1)\n",
        "            accuracy_mask = K.cast(K.equal(class_id_preds, interesting_class_id), 'int32')\n",
        "            class_acc_tensor = K.cast(K.equal(class_id_true, class_id_preds), 'int32') * accuracy_mask\n",
        "            class_acc = K.sum(class_acc_tensor) / K.maximum(K.sum(accuracy_mask), 1)\n",
        "            return class_acc\n",
        "        return fn\n",
        "\n",
        "    class CustomCallback(Callback):\n",
        "        def __init__(self):\n",
        "            self.dat = []\n",
        "            self.seen = 0\n",
        "            self.epoch = 1\n",
        "        def on_batch_end(self,batch,logs={}):\n",
        "            self.dat = logs\n",
        "\n",
        "        def on_epoch_end(self,batch,logs={}):\n",
        "            np.save(f\"epoch_dat_{self.epoch}.npy\", self.dat, allow_pickle=True)\n",
        "            self.epoch += 1\n",
        "            gc.collect() # try to clear up some memory??\n",
        "\n",
        "\n",
        "    METRICS = [\n",
        "        keras.metrics.BinaryAccuracy(name='accuracy'),\n",
        "        keras.metrics.Precision(name='precision'),\n",
        "        keras.metrics.Recall(name='recall'),\n",
        "        keras.metrics.AUC(name='auc')\n",
        "    ]\n",
        "\n",
        "    input_layer = keras.layers.Input((339,12),dtype='float32')\n",
        "\n",
        "    conv_x = keras.layers.Conv1D(filters=n_feature_maps, kernel_size=8, padding='same')(input_layer)\n",
        "    conv_x = keras.layers.BatchNormalization()(conv_x)\n",
        "    conv_x = keras.layers.Activation('relu')(conv_x)\n",
        "    conv_y = keras.layers.Conv1D(filters=n_feature_maps, kernel_size=5, padding='same')(conv_x)\n",
        "    conv_y = keras.layers.BatchNormalization()(conv_y)\n",
        "    conv_y = keras.layers.Activation('relu')(conv_y)\n",
        "    conv_z = keras.layers.Conv1D(filters=n_feature_maps, kernel_size=3, padding='same')(conv_y)\n",
        "    conv_z = keras.layers.BatchNormalization()(conv_z)\n",
        "    # expand channels for the sum\n",
        "    shortcut_y = keras.layers.Conv1D(filters=n_feature_maps, kernel_size=1, padding='same')(input_layer)\n",
        "    shortcut_y = keras.layers.BatchNormalization()(shortcut_y)\n",
        "    output_block_1 = keras.layers.add([shortcut_y, conv_z])\n",
        "    output_block_1 = keras.layers.Activation('relu')(output_block_1)\n",
        "    conv_x = keras.layers.Conv1D(filters=n_feature_maps * 2, kernel_size=8, padding='same')(output_block_1)\n",
        "    conv_x = keras.layers.BatchNormalization()(conv_x)\n",
        "    conv_x = keras.layers.Activation('relu')(conv_x)\n",
        "    conv_y = keras.layers.Conv1D(filters=n_feature_maps * 2, kernel_size=5, padding='same')(conv_x)\n",
        "    conv_y = keras.layers.BatchNormalization()(conv_y)\n",
        "    conv_y = keras.layers.Activation('relu')(conv_y)\n",
        "    conv_z = keras.layers.Conv1D(filters=n_feature_maps * 2, kernel_size=3, padding='same')(conv_y)\n",
        "    conv_z = keras.layers.BatchNormalization()(conv_z)\n",
        "    shortcut_y = keras.layers.Conv1D(filters=n_feature_maps * 2, kernel_size=1, padding='same')(output_block_1)\n",
        "    shortcut_y = keras.layers.BatchNormalization()(shortcut_y)\n",
        "    output_block_2 = keras.layers.add([shortcut_y, conv_z])\n",
        "    output_block_2 = keras.layers.Activation('relu')(output_block_2)\n",
        "    conv_x = keras.layers.Conv1D(filters=n_feature_maps * 2, kernel_size=8, padding='same')(output_block_2)\n",
        "    conv_x = keras.layers.BatchNormalization()(conv_x)\n",
        "    conv_x = keras.layers.Activation('relu')(conv_x)\n",
        "    conv_y = keras.layers.Conv1D(filters=n_feature_maps * 2, kernel_size=5, padding='same')(conv_x)\n",
        "    conv_y = keras.layers.BatchNormalization()(conv_y)\n",
        "    conv_y = keras.layers.Activation('relu')(conv_y)\n",
        "    conv_z = keras.layers.Conv1D(filters=n_feature_maps * 2, kernel_size=3, padding='same')(conv_y)\n",
        "    conv_z = keras.layers.BatchNormalization()(conv_z)\n",
        "    # no need to expand channels because they are equal\n",
        "    shortcut_y = keras.layers.BatchNormalization()(output_block_2)\n",
        "    output_block_3 = keras.layers.add([shortcut_y, conv_z])\n",
        "    output_block_3 = keras.layers.Activation('relu')(output_block_3)\n",
        "\n",
        "    gap_layer = keras.layers.GlobalAveragePooling1D()(output_block_3)\n",
        "\n",
        "    output_layer = keras.layers.Dense(classes, activation='softmax')(gap_layer)\n",
        "    model = keras.models.Model(inputs=input_layer, outputs=output_layer)\n",
        "\t\n",
        "    def my_sparse_categorical_crossentropy(y_true, y_pred): # need from logits TRUE override default\n",
        "        return K.categorical_crossentropy(y_true, y_pred, from_logits=False)\n",
        "\n",
        "    class spec(tf.keras.metrics.Metric):\n",
        "\n",
        "        def __init__(self,name, typea,**kwargs):\n",
        "            super(spec, self).__init__(name=name, **kwargs)\n",
        "            self.typea = typea\n",
        "\n",
        "        def update_state(self, y_true, y_pred,sample_weight=None):\n",
        "            class_id_true = K.argmax(y_true, axis=-1) # one-hot -> int\n",
        "            class_id_preds = K.argmax(y_pred, axis=-1)\n",
        "            recall_mask = K.cast(K.equal(class_id_true, self.typea), 'int32')\n",
        "            class_recall_tensor = K.cast(K.equal(class_id_true, class_id_preds), 'int32') * recall_mask\n",
        "            self.tmp = K.sum(class_recall_tensor) / K.maximum(K.sum(recall_mask), 1)\n",
        "            tf.cond(K.cast(K.equal(K.cast(self.tmp, tf.float64), tf.constant(0.0, dtype=tf.float64)),dtype=tf.bool),true_fn=self.if_true, false_fn=self.if_false)\n",
        "\n",
        "        def result(self):\n",
        "            return tf.math.subtract(tf.constant(1.0, dtype=tf.float64), self.recall)\n",
        "\n",
        "        def if_false(self):\n",
        "            self.recall = self.tmp\n",
        "\n",
        "    class sens(tf.keras.metrics.Metric):\n",
        "    # sensitivity metric\n",
        "        def __init__(self,name, typea,**kwargs):\n",
        "            super(sens, self).__init__(name=name, **kwargs)\n",
        "            self.typea = typea\n",
        "\n",
        "        def update_state(self, y_true, y_pred,sample_weight=None):\n",
        "            class_id_true = K.argmax(y_true, axis=-1) # one-hot -> int\n",
        "            class_id_preds = K.argmax(y_pred, axis=-1)\n",
        "            recall_mask = K.cast(K.equal(class_id_true, self.typea), 'int32')\n",
        "            class_recall_tensor = K.cast(K.equal(class_id_true, class_id_preds), 'int32') * recall_mask\n",
        "            self.tmp = K.sum(class_recall_tensor) / K.maximum(K.sum(recall_mask), 1)\n",
        "            tf.cond(K.cast(K.equal(K.cast(self.tmp, tf.float64), tf.constant(0.0, dtype=tf.float64)),dtype=tf.bool),true_fn=self.if_true, false_fn=self.if_false) # only update recall if not = 0, pesty that it resets if self.typea not in the current batch\n",
        "\n",
        "        def if_false(self):\n",
        "            self.recall = self.tmp\n",
        "\n",
        "\n",
        "    model.compile(loss=my_sparse_categorical_crossentropy, optimizer=keras.optimizers.SGD(lr=init_lr),metrics=[m for m in METRICS], weighted_metrics=[\"accuracy\"])\n",
        "\n",
        "    reduce_lr = keras.callbacks.ReduceLROnPlateau(monitor='loss', factor=0.5, patience=4, min_lr=0.0000001)\n",
        "\n",
        "    file_path = f'raw_train_aug_{str(datetime.datetime.now())}.hdf5'\n",
        "    cc = CustomCallback()\n",
        "\n",
        "    model_checkpoint = keras.callbacks.ModelCheckpoint(filepath=file_path, monitor='val_loss', save_best_only=True)\n",
        "\n",
        "    callback = tf.keras.callbacks.EarlyStopping(monitor='val_loss', patience=20, min_delta=1e-4)\n",
        "\n",
        "    csv = tf.keras.callbacks.CSVLogger(training_log_path, separator=\",\", append=False)\n",
        "\n",
        "    tensorboard_callback = tf.keras.callbacks.TensorBoard(f\"{tensorboard_dir}/model\"+str(datetime.datetime.now()), histogram_freq=1, update_freq=\"batch\")\n",
        "\n",
        "    callbacksa = [reduce_lr, model_checkpoint, callback, cc, csv, tensorboard_callback]\n",
        "\n",
        "    return (model, callbacksa)\n",
        "\n",
        "if __name__ == \"__main__\":\n",
        "\tmain(\"training\", \"reals\")\n",
        "\n",
        "    "
      ],
      "execution_count": null,
      "outputs": []
    }
  ]
}